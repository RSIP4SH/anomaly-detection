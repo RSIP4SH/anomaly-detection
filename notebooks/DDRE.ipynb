{
 "cells": [
  {
   "cell_type": "code",
   "execution_count": 13,
   "metadata": {
    "ExecuteTime": {
     "end_time": "2020-01-21T21:02:46.618051Z",
     "start_time": "2020-01-21T21:02:46.607200Z"
    }
   },
   "outputs": [
    {
     "data": {
      "text/plain": [
       "array([773, 887, 995])"
      ]
     },
     "execution_count": 13,
     "metadata": {},
     "output_type": "execute_result"
    }
   ],
   "source": [
    "np.load('peaks-20200121-235953.npy')"
   ]
  },
  {
   "cell_type": "code",
   "execution_count": 1,
   "metadata": {
    "ExecuteTime": {
     "end_time": "2020-01-21T17:23:48.245755Z",
     "start_time": "2020-01-21T17:23:48.234122Z"
    }
   },
   "outputs": [
    {
     "name": "stdout",
     "output_type": "stream",
     "text": [
      "/home/rosneft_user_2500/anomaly-detection\n"
     ]
    }
   ],
   "source": [
    "# Change directory to VSCode workspace root so that relative path loads work correctly. Turn this addition off with the DataScience.changeDirOnImportExport setting\n",
    "# ms-python.python added\n",
    "import os\n",
    "try:\n",
    "\tos.chdir(os.path.join(os.getcwd(), '..'))\n",
    "\tprint(os.getcwd())\n",
    "except:\n",
    "\tpass\n"
   ]
  },
  {
   "cell_type": "code",
   "execution_count": 2,
   "metadata": {
    "ExecuteTime": {
     "end_time": "2020-01-21T17:23:48.291579Z",
     "start_time": "2020-01-21T17:23:48.258940Z"
    }
   },
   "outputs": [],
   "source": [
    "import os.path\n",
    "import sys\n",
    "sys.path.insert(0, '/home/rosneft_user_2500/anomaly-detection')"
   ]
  },
  {
   "cell_type": "code",
   "execution_count": 3,
   "metadata": {
    "ExecuteTime": {
     "end_time": "2020-01-21T17:23:50.833483Z",
     "start_time": "2020-01-21T17:23:48.296417Z"
    }
   },
   "outputs": [
    {
     "data": {
      "text/html": [
       "\n",
       "    <div class=\"bk-root\">\n",
       "        <a href=\"https://bokeh.org\" target=\"_blank\" class=\"bk-logo bk-logo-small bk-logo-notebook\"></a>\n",
       "        <span id=\"1001\">Loading BokehJS ...</span>\n",
       "    </div>"
      ]
     },
     "metadata": {},
     "output_type": "display_data"
    },
    {
     "data": {
      "application/javascript": [
       "\n",
       "(function(root) {\n",
       "  function now() {\n",
       "    return new Date();\n",
       "  }\n",
       "\n",
       "  var force = true;\n",
       "\n",
       "  if (typeof root._bokeh_onload_callbacks === \"undefined\" || force === true) {\n",
       "    root._bokeh_onload_callbacks = [];\n",
       "    root._bokeh_is_loading = undefined;\n",
       "  }\n",
       "\n",
       "  var JS_MIME_TYPE = 'application/javascript';\n",
       "  var HTML_MIME_TYPE = 'text/html';\n",
       "  var EXEC_MIME_TYPE = 'application/vnd.bokehjs_exec.v0+json';\n",
       "  var CLASS_NAME = 'output_bokeh rendered_html';\n",
       "\n",
       "  /**\n",
       "   * Render data to the DOM node\n",
       "   */\n",
       "  function render(props, node) {\n",
       "    var script = document.createElement(\"script\");\n",
       "    node.appendChild(script);\n",
       "  }\n",
       "\n",
       "  /**\n",
       "   * Handle when an output is cleared or removed\n",
       "   */\n",
       "  function handleClearOutput(event, handle) {\n",
       "    var cell = handle.cell;\n",
       "\n",
       "    var id = cell.output_area._bokeh_element_id;\n",
       "    var server_id = cell.output_area._bokeh_server_id;\n",
       "    // Clean up Bokeh references\n",
       "    if (id != null && id in Bokeh.index) {\n",
       "      Bokeh.index[id].model.document.clear();\n",
       "      delete Bokeh.index[id];\n",
       "    }\n",
       "\n",
       "    if (server_id !== undefined) {\n",
       "      // Clean up Bokeh references\n",
       "      var cmd = \"from bokeh.io.state import curstate; print(curstate().uuid_to_server['\" + server_id + \"'].get_sessions()[0].document.roots[0]._id)\";\n",
       "      cell.notebook.kernel.execute(cmd, {\n",
       "        iopub: {\n",
       "          output: function(msg) {\n",
       "            var id = msg.content.text.trim();\n",
       "            if (id in Bokeh.index) {\n",
       "              Bokeh.index[id].model.document.clear();\n",
       "              delete Bokeh.index[id];\n",
       "            }\n",
       "          }\n",
       "        }\n",
       "      });\n",
       "      // Destroy server and session\n",
       "      var cmd = \"import bokeh.io.notebook as ion; ion.destroy_server('\" + server_id + \"')\";\n",
       "      cell.notebook.kernel.execute(cmd);\n",
       "    }\n",
       "  }\n",
       "\n",
       "  /**\n",
       "   * Handle when a new output is added\n",
       "   */\n",
       "  function handleAddOutput(event, handle) {\n",
       "    var output_area = handle.output_area;\n",
       "    var output = handle.output;\n",
       "\n",
       "    // limit handleAddOutput to display_data with EXEC_MIME_TYPE content only\n",
       "    if ((output.output_type != \"display_data\") || (!output.data.hasOwnProperty(EXEC_MIME_TYPE))) {\n",
       "      return\n",
       "    }\n",
       "\n",
       "    var toinsert = output_area.element.find(\".\" + CLASS_NAME.split(' ')[0]);\n",
       "\n",
       "    if (output.metadata[EXEC_MIME_TYPE][\"id\"] !== undefined) {\n",
       "      toinsert[toinsert.length - 1].firstChild.textContent = output.data[JS_MIME_TYPE];\n",
       "      // store reference to embed id on output_area\n",
       "      output_area._bokeh_element_id = output.metadata[EXEC_MIME_TYPE][\"id\"];\n",
       "    }\n",
       "    if (output.metadata[EXEC_MIME_TYPE][\"server_id\"] !== undefined) {\n",
       "      var bk_div = document.createElement(\"div\");\n",
       "      bk_div.innerHTML = output.data[HTML_MIME_TYPE];\n",
       "      var script_attrs = bk_div.children[0].attributes;\n",
       "      for (var i = 0; i < script_attrs.length; i++) {\n",
       "        toinsert[toinsert.length - 1].firstChild.setAttribute(script_attrs[i].name, script_attrs[i].value);\n",
       "      }\n",
       "      // store reference to server id on output_area\n",
       "      output_area._bokeh_server_id = output.metadata[EXEC_MIME_TYPE][\"server_id\"];\n",
       "    }\n",
       "  }\n",
       "\n",
       "  function register_renderer(events, OutputArea) {\n",
       "\n",
       "    function append_mime(data, metadata, element) {\n",
       "      // create a DOM node to render to\n",
       "      var toinsert = this.create_output_subarea(\n",
       "        metadata,\n",
       "        CLASS_NAME,\n",
       "        EXEC_MIME_TYPE\n",
       "      );\n",
       "      this.keyboard_manager.register_events(toinsert);\n",
       "      // Render to node\n",
       "      var props = {data: data, metadata: metadata[EXEC_MIME_TYPE]};\n",
       "      render(props, toinsert[toinsert.length - 1]);\n",
       "      element.append(toinsert);\n",
       "      return toinsert\n",
       "    }\n",
       "\n",
       "    /* Handle when an output is cleared or removed */\n",
       "    events.on('clear_output.CodeCell', handleClearOutput);\n",
       "    events.on('delete.Cell', handleClearOutput);\n",
       "\n",
       "    /* Handle when a new output is added */\n",
       "    events.on('output_added.OutputArea', handleAddOutput);\n",
       "\n",
       "    /**\n",
       "     * Register the mime type and append_mime function with output_area\n",
       "     */\n",
       "    OutputArea.prototype.register_mime_type(EXEC_MIME_TYPE, append_mime, {\n",
       "      /* Is output safe? */\n",
       "      safe: true,\n",
       "      /* Index of renderer in `output_area.display_order` */\n",
       "      index: 0\n",
       "    });\n",
       "  }\n",
       "\n",
       "  // register the mime type if in Jupyter Notebook environment and previously unregistered\n",
       "  if (root.Jupyter !== undefined) {\n",
       "    var events = require('base/js/events');\n",
       "    var OutputArea = require('notebook/js/outputarea').OutputArea;\n",
       "\n",
       "    if (OutputArea.prototype.mime_types().indexOf(EXEC_MIME_TYPE) == -1) {\n",
       "      register_renderer(events, OutputArea);\n",
       "    }\n",
       "  }\n",
       "\n",
       "  \n",
       "  if (typeof (root._bokeh_timeout) === \"undefined\" || force === true) {\n",
       "    root._bokeh_timeout = Date.now() + 5000;\n",
       "    root._bokeh_failed_load = false;\n",
       "  }\n",
       "\n",
       "  var NB_LOAD_WARNING = {'data': {'text/html':\n",
       "     \"<div style='background-color: #fdd'>\\n\"+\n",
       "     \"<p>\\n\"+\n",
       "     \"BokehJS does not appear to have successfully loaded. If loading BokehJS from CDN, this \\n\"+\n",
       "     \"may be due to a slow or bad network connection. Possible fixes:\\n\"+\n",
       "     \"</p>\\n\"+\n",
       "     \"<ul>\\n\"+\n",
       "     \"<li>re-rerun `output_notebook()` to attempt to load from CDN again, or</li>\\n\"+\n",
       "     \"<li>use INLINE resources instead, as so:</li>\\n\"+\n",
       "     \"</ul>\\n\"+\n",
       "     \"<code>\\n\"+\n",
       "     \"from bokeh.resources import INLINE\\n\"+\n",
       "     \"output_notebook(resources=INLINE)\\n\"+\n",
       "     \"</code>\\n\"+\n",
       "     \"</div>\"}};\n",
       "\n",
       "  function display_loaded() {\n",
       "    var el = document.getElementById(\"1001\");\n",
       "    if (el != null) {\n",
       "      el.textContent = \"BokehJS is loading...\";\n",
       "    }\n",
       "    if (root.Bokeh !== undefined) {\n",
       "      if (el != null) {\n",
       "        el.textContent = \"BokehJS \" + root.Bokeh.version + \" successfully loaded.\";\n",
       "      }\n",
       "    } else if (Date.now() < root._bokeh_timeout) {\n",
       "      setTimeout(display_loaded, 100)\n",
       "    }\n",
       "  }\n",
       "\n",
       "\n",
       "  function run_callbacks() {\n",
       "    try {\n",
       "      root._bokeh_onload_callbacks.forEach(function(callback) {\n",
       "        if (callback != null)\n",
       "          callback();\n",
       "      });\n",
       "    } finally {\n",
       "      delete root._bokeh_onload_callbacks\n",
       "    }\n",
       "    console.debug(\"Bokeh: all callbacks have finished\");\n",
       "  }\n",
       "\n",
       "  function load_libs(css_urls, js_urls, callback) {\n",
       "    if (css_urls == null) css_urls = [];\n",
       "    if (js_urls == null) js_urls = [];\n",
       "\n",
       "    root._bokeh_onload_callbacks.push(callback);\n",
       "    if (root._bokeh_is_loading > 0) {\n",
       "      console.debug(\"Bokeh: BokehJS is being loaded, scheduling callback at\", now());\n",
       "      return null;\n",
       "    }\n",
       "    if (js_urls == null || js_urls.length === 0) {\n",
       "      run_callbacks();\n",
       "      return null;\n",
       "    }\n",
       "    console.debug(\"Bokeh: BokehJS not loaded, scheduling load and callback at\", now());\n",
       "    root._bokeh_is_loading = css_urls.length + js_urls.length;\n",
       "\n",
       "    function on_load() {\n",
       "      root._bokeh_is_loading--;\n",
       "      if (root._bokeh_is_loading === 0) {\n",
       "        console.debug(\"Bokeh: all BokehJS libraries/stylesheets loaded\");\n",
       "        run_callbacks()\n",
       "      }\n",
       "    }\n",
       "\n",
       "    function on_error() {\n",
       "      console.error(\"failed to load \" + url);\n",
       "    }\n",
       "\n",
       "    for (var i = 0; i < css_urls.length; i++) {\n",
       "      var url = css_urls[i];\n",
       "      const element = document.createElement(\"link\");\n",
       "      element.onload = on_load;\n",
       "      element.onerror = on_error;\n",
       "      element.rel = \"stylesheet\";\n",
       "      element.type = \"text/css\";\n",
       "      element.href = url;\n",
       "      console.debug(\"Bokeh: injecting link tag for BokehJS stylesheet: \", url);\n",
       "      document.body.appendChild(element);\n",
       "    }\n",
       "\n",
       "    for (var i = 0; i < js_urls.length; i++) {\n",
       "      var url = js_urls[i];\n",
       "      var element = document.createElement('script');\n",
       "      element.onload = on_load;\n",
       "      element.onerror = on_error;\n",
       "      element.async = false;\n",
       "      element.src = url;\n",
       "      console.debug(\"Bokeh: injecting script tag for BokehJS library: \", url);\n",
       "      document.head.appendChild(element);\n",
       "    }\n",
       "  };var element = document.getElementById(\"1001\");\n",
       "  if (element == null) {\n",
       "    console.error(\"Bokeh: ERROR: autoload.js configured with elementid '1001' but no matching script tag was found. \")\n",
       "    return false;\n",
       "  }\n",
       "\n",
       "  function inject_raw_css(css) {\n",
       "    const element = document.createElement(\"style\");\n",
       "    element.appendChild(document.createTextNode(css));\n",
       "    document.body.appendChild(element);\n",
       "  }\n",
       "\n",
       "  \n",
       "  var js_urls = [\"https://cdn.pydata.org/bokeh/release/bokeh-1.4.0.min.js\", \"https://cdn.pydata.org/bokeh/release/bokeh-widgets-1.4.0.min.js\", \"https://cdn.pydata.org/bokeh/release/bokeh-tables-1.4.0.min.js\", \"https://cdn.pydata.org/bokeh/release/bokeh-gl-1.4.0.min.js\"];\n",
       "  var css_urls = [];\n",
       "  \n",
       "\n",
       "  var inline_js = [\n",
       "    function(Bokeh) {\n",
       "      Bokeh.set_log_level(\"info\");\n",
       "    },\n",
       "    function(Bokeh) {\n",
       "    \n",
       "    \n",
       "    }\n",
       "  ];\n",
       "\n",
       "  function run_inline_js() {\n",
       "    \n",
       "    if (root.Bokeh !== undefined || force === true) {\n",
       "      \n",
       "    for (var i = 0; i < inline_js.length; i++) {\n",
       "      inline_js[i].call(root, root.Bokeh);\n",
       "    }\n",
       "    if (force === true) {\n",
       "        display_loaded();\n",
       "      }} else if (Date.now() < root._bokeh_timeout) {\n",
       "      setTimeout(run_inline_js, 100);\n",
       "    } else if (!root._bokeh_failed_load) {\n",
       "      console.log(\"Bokeh: BokehJS failed to load within specified timeout.\");\n",
       "      root._bokeh_failed_load = true;\n",
       "    } else if (force !== true) {\n",
       "      var cell = $(document.getElementById(\"1001\")).parents('.cell').data().cell;\n",
       "      cell.output_area.append_execute_result(NB_LOAD_WARNING)\n",
       "    }\n",
       "\n",
       "  }\n",
       "\n",
       "  if (root._bokeh_is_loading === 0) {\n",
       "    console.debug(\"Bokeh: BokehJS loaded, going straight to plotting\");\n",
       "    run_inline_js();\n",
       "  } else {\n",
       "    load_libs(css_urls, js_urls, function() {\n",
       "      console.debug(\"Bokeh: BokehJS plotting callback run at\", now());\n",
       "      run_inline_js();\n",
       "    });\n",
       "  }\n",
       "}(window));"
      ],
      "application/vnd.bokehjs_load.v0+json": "\n(function(root) {\n  function now() {\n    return new Date();\n  }\n\n  var force = true;\n\n  if (typeof root._bokeh_onload_callbacks === \"undefined\" || force === true) {\n    root._bokeh_onload_callbacks = [];\n    root._bokeh_is_loading = undefined;\n  }\n\n  \n\n  \n  if (typeof (root._bokeh_timeout) === \"undefined\" || force === true) {\n    root._bokeh_timeout = Date.now() + 5000;\n    root._bokeh_failed_load = false;\n  }\n\n  var NB_LOAD_WARNING = {'data': {'text/html':\n     \"<div style='background-color: #fdd'>\\n\"+\n     \"<p>\\n\"+\n     \"BokehJS does not appear to have successfully loaded. If loading BokehJS from CDN, this \\n\"+\n     \"may be due to a slow or bad network connection. Possible fixes:\\n\"+\n     \"</p>\\n\"+\n     \"<ul>\\n\"+\n     \"<li>re-rerun `output_notebook()` to attempt to load from CDN again, or</li>\\n\"+\n     \"<li>use INLINE resources instead, as so:</li>\\n\"+\n     \"</ul>\\n\"+\n     \"<code>\\n\"+\n     \"from bokeh.resources import INLINE\\n\"+\n     \"output_notebook(resources=INLINE)\\n\"+\n     \"</code>\\n\"+\n     \"</div>\"}};\n\n  function display_loaded() {\n    var el = document.getElementById(\"1001\");\n    if (el != null) {\n      el.textContent = \"BokehJS is loading...\";\n    }\n    if (root.Bokeh !== undefined) {\n      if (el != null) {\n        el.textContent = \"BokehJS \" + root.Bokeh.version + \" successfully loaded.\";\n      }\n    } else if (Date.now() < root._bokeh_timeout) {\n      setTimeout(display_loaded, 100)\n    }\n  }\n\n\n  function run_callbacks() {\n    try {\n      root._bokeh_onload_callbacks.forEach(function(callback) {\n        if (callback != null)\n          callback();\n      });\n    } finally {\n      delete root._bokeh_onload_callbacks\n    }\n    console.debug(\"Bokeh: all callbacks have finished\");\n  }\n\n  function load_libs(css_urls, js_urls, callback) {\n    if (css_urls == null) css_urls = [];\n    if (js_urls == null) js_urls = [];\n\n    root._bokeh_onload_callbacks.push(callback);\n    if (root._bokeh_is_loading > 0) {\n      console.debug(\"Bokeh: BokehJS is being loaded, scheduling callback at\", now());\n      return null;\n    }\n    if (js_urls == null || js_urls.length === 0) {\n      run_callbacks();\n      return null;\n    }\n    console.debug(\"Bokeh: BokehJS not loaded, scheduling load and callback at\", now());\n    root._bokeh_is_loading = css_urls.length + js_urls.length;\n\n    function on_load() {\n      root._bokeh_is_loading--;\n      if (root._bokeh_is_loading === 0) {\n        console.debug(\"Bokeh: all BokehJS libraries/stylesheets loaded\");\n        run_callbacks()\n      }\n    }\n\n    function on_error() {\n      console.error(\"failed to load \" + url);\n    }\n\n    for (var i = 0; i < css_urls.length; i++) {\n      var url = css_urls[i];\n      const element = document.createElement(\"link\");\n      element.onload = on_load;\n      element.onerror = on_error;\n      element.rel = \"stylesheet\";\n      element.type = \"text/css\";\n      element.href = url;\n      console.debug(\"Bokeh: injecting link tag for BokehJS stylesheet: \", url);\n      document.body.appendChild(element);\n    }\n\n    for (var i = 0; i < js_urls.length; i++) {\n      var url = js_urls[i];\n      var element = document.createElement('script');\n      element.onload = on_load;\n      element.onerror = on_error;\n      element.async = false;\n      element.src = url;\n      console.debug(\"Bokeh: injecting script tag for BokehJS library: \", url);\n      document.head.appendChild(element);\n    }\n  };var element = document.getElementById(\"1001\");\n  if (element == null) {\n    console.error(\"Bokeh: ERROR: autoload.js configured with elementid '1001' but no matching script tag was found. \")\n    return false;\n  }\n\n  function inject_raw_css(css) {\n    const element = document.createElement(\"style\");\n    element.appendChild(document.createTextNode(css));\n    document.body.appendChild(element);\n  }\n\n  \n  var js_urls = [\"https://cdn.pydata.org/bokeh/release/bokeh-1.4.0.min.js\", \"https://cdn.pydata.org/bokeh/release/bokeh-widgets-1.4.0.min.js\", \"https://cdn.pydata.org/bokeh/release/bokeh-tables-1.4.0.min.js\", \"https://cdn.pydata.org/bokeh/release/bokeh-gl-1.4.0.min.js\"];\n  var css_urls = [];\n  \n\n  var inline_js = [\n    function(Bokeh) {\n      Bokeh.set_log_level(\"info\");\n    },\n    function(Bokeh) {\n    \n    \n    }\n  ];\n\n  function run_inline_js() {\n    \n    if (root.Bokeh !== undefined || force === true) {\n      \n    for (var i = 0; i < inline_js.length; i++) {\n      inline_js[i].call(root, root.Bokeh);\n    }\n    if (force === true) {\n        display_loaded();\n      }} else if (Date.now() < root._bokeh_timeout) {\n      setTimeout(run_inline_js, 100);\n    } else if (!root._bokeh_failed_load) {\n      console.log(\"Bokeh: BokehJS failed to load within specified timeout.\");\n      root._bokeh_failed_load = true;\n    } else if (force !== true) {\n      var cell = $(document.getElementById(\"1001\")).parents('.cell').data().cell;\n      cell.output_area.append_execute_result(NB_LOAD_WARNING)\n    }\n\n  }\n\n  if (root._bokeh_is_loading === 0) {\n    console.debug(\"Bokeh: BokehJS loaded, going straight to plotting\");\n    run_inline_js();\n  } else {\n    load_libs(css_urls, js_urls, function() {\n      console.debug(\"Bokeh: BokehJS plotting callback run at\", now());\n      run_inline_js();\n    });\n  }\n}(window));"
     },
     "metadata": {},
     "output_type": "display_data"
    }
   ],
   "source": [
    "import numpy as np\n",
    "import pandas as pd\n",
    "import matplotlib.pyplot as plt\n",
    "import cufflinks as cf\n",
    "from src.features.build_features import rolling_window\n",
    "from src.models.DDRE import *\n",
    "from src.visualization.visualize import ratios_plot\n",
    "\n",
    "from bokeh.io import output_notebook\n",
    "output_notebook()"
   ]
  },
  {
   "cell_type": "markdown",
   "metadata": {},
   "source": [
    "# Artificial dataset"
   ]
  },
  {
   "cell_type": "code",
   "execution_count": 4,
   "metadata": {
    "ExecuteTime": {
     "end_time": "2020-01-21T17:23:50.842382Z",
     "start_time": "2020-01-21T17:23:50.836333Z"
    }
   },
   "outputs": [],
   "source": [
    "search_params = dict(\n",
    "    sigma_candidates=np.array([0.1, 1, 5, 10, 20, 50, 100, 1000], dtype=np.float32),\n",
    "    chunk_size=50,\n",
    "    R=3,\n",
    ")\n",
    "\n",
    "params = dict(\n",
    "    n_rf_te=32,\n",
    "    verbose=False,\n",
    "    # build args\n",
    "    eps=0.001, min_delta=0.01, iterations=100,\n",
    "    # update args\n",
    "    learning_rate=1, reg_parameter=0.01,\n",
    "    chunks=1\n",
    ")"
   ]
  },
  {
   "cell_type": "markdown",
   "metadata": {},
   "source": [
    "## Example 1"
   ]
  },
  {
   "cell_type": "code",
   "execution_count": 5,
   "metadata": {
    "ExecuteTime": {
     "end_time": "2020-01-21T17:23:51.118934Z",
     "start_time": "2020-01-21T17:23:50.844532Z"
    },
    "scrolled": true,
    "slideshow": {
     "slide_type": "notes"
    }
   },
   "outputs": [
    {
     "data": {
      "text/plain": [
       "<matplotlib.collections.LineCollection at 0x7f1731cfb410>"
      ]
     },
     "execution_count": 5,
     "metadata": {},
     "output_type": "execute_result"
    },
    {
     "data": {
      "image/png": "[encoded data removed]",
      "text/plain": [
       "<Figure size 432x288 with 1 Axes>"
      ]
     },
     "metadata": {
      "needs_background": "light"
     },
     "output_type": "display_data"
    }
   ],
   "source": [
    "# Lets check algorithm on synthetic dataset\n",
    "n = 1000\n",
    "mean = 0\n",
    "step = 100\n",
    "y = np.zeros(n, dtype=float)\n",
    "for i in range(2, n):\n",
    "    if i % step == 0:\n",
    "        mean = mean + i // step\n",
    "    y[i] = y[i-1]*0.6 - y[i-2]*0.5 + mean + np.random.randn()\n",
    "\n",
    "plt.plot(y)\n",
    "plt.vlines(list(range(0, n, step)), np.min(y), np.max(y), linestyle='--', colors='r')"
   ]
  },
  {
   "cell_type": "code",
   "execution_count": 9,
   "metadata": {
    "ExecuteTime": {
     "end_time": "2020-01-21T20:54:32.639551Z",
     "start_time": "2020-01-21T20:54:32.619595Z"
    }
   },
   "outputs": [],
   "source": [
    "pd.DataFrame(data=dict(first_component=y)).to_csv('data/processed/example.csv', index_label='Index')"
   ]
  },
  {
   "cell_type": "code",
   "execution_count": 6,
   "metadata": {
    "ExecuteTime": {
     "end_time": "2020-01-21T17:24:30.680909Z",
     "start_time": "2020-01-21T17:23:51.121178Z"
    },
    "scrolled": false
   },
   "outputs": [
    {
     "name": "stdout",
     "output_type": "stream",
     "text": [
      "Finding hyperparams...\n",
      "Candidate 50\n"
     ]
    },
    {
     "name": "stderr",
     "output_type": "stream",
     "text": [
      "/home/rosneft_user_2500/anomaly-detection/src/models/DDRE.py:171: NumbaPerformanceWarning:\n",
      "\n",
      "\u001b[1m\u001b[1m\u001b[1m\u001b[1mnp.dot() is faster on contiguous arrays, called on (array(float64, 1d, A), array(float64, 1d, A))\u001b[0m\u001b[0m\u001b[0m\u001b[0m\n",
      "\n",
      "/home/rosneft_user_2500/anomaly-detection/src/models/DDRE.py:171: NumbaPerformanceWarning:\n",
      "\n",
      "\u001b[1m\u001b[1m\u001b[1mnp.dot() is faster on contiguous arrays, called on (array(float64, 2d, C), array(float64, 1d, A))\u001b[0m\u001b[0m\u001b[0m\n",
      "\n"
     ]
    },
    {
     "name": "stdout",
     "output_type": "stream",
     "text": [
      "Optimal sigma is: 10.0\n"
     ]
    },
    {
     "name": "stderr",
     "output_type": "stream",
     "text": [
      "/home/rosneft_user_2500/anomaly-detection/src/models/DDRE.py:245: NumbaPerformanceWarning:\n",
      "\n",
      "\u001b[1m\u001b[1m\u001b[1mnp.dot() is faster on contiguous arrays, called on (array(float64, 2d, C), array(float64, 1d, A))\u001b[0m\u001b[0m\u001b[0m\n",
      "\n"
     ]
    },
    {
     "name": "stdout",
     "output_type": "stream",
     "text": [
      "Computing ratios in parrallel with 1 chunks\n",
      "Candidate 60\n",
      "Optimal sigma is: 10.0\n",
      "Computing ratios in parrallel with 1 chunks\n",
      "Candidate 70\n",
      "Optimal sigma is: 5.0\n",
      "Computing ratios in parrallel with 1 chunks\n",
      "Candidate 80\n",
      "Optimal sigma is: 5.0\n",
      "Computing ratios in parrallel with 1 chunks\n",
      "\n",
      "Optimal width is 80\n",
      "\n",
      "Starting compute ratios...\n",
      "Computing ratios in parrallel with 1 chunks\n"
     ]
    }
   ],
   "source": [
    "search_params['width_candidates'] = [50, 60, 70, 80]\n",
    "ratios, _, peaks = compute_ratios(y.reshape(-1, 1), search_params, params)"
   ]
  },
  {
   "cell_type": "code",
   "execution_count": 7,
   "metadata": {
    "ExecuteTime": {
     "end_time": "2020-01-21T16:25:09.374913Z",
     "start_time": "2020-01-21T16:25:09.269070Z"
    },
    "scrolled": false
   },
   "outputs": [
    {
     "data": {
      "text/html": [
       "\n",
       "\n",
       "\n",
       "\n",
       "\n",
       "\n",
       "  <div class=\"bk-root\" id=\"6ef882bc-71b7-411e-9fe9-9364e46dc28b\" data-root-id=\"1002\"></div>\n"
      ]
     },
     "metadata": {},
     "output_type": "display_data"
    },
    {
     "data": {
      "application/javascript": [
       "(function(root) {\n",
       "  function embed_document(root) {\n",
       "    \n",
       "  var docs_json = {\"75ab10e8-59ee-4748-b8e6-ae5a09b3d95d\":{\"roots\":{\"references\":[{\"attributes\":{\"below\":[{\"id\":\"1011\",\"type\":\"LinearAxis\"}],\"center\":[{\"id\":\"1015\",\"type\":\"Grid\"},{\"id\":\"1020\",\"type\":\"Grid\"}],\"left\":[{\"id\":\"1016\",\"type\":\"LinearAxis\"}],\"plot_width\":800,\"renderers\":[{\"id\":\"1033\",\"type\":\"GlyphRenderer\"},{\"id\":\"1038\",\"type\":\"GlyphRenderer\"}],\"title\":{\"id\":\"1041\",\"type\":\"Title\"},\"toolbar\":{\"id\":\"1025\",\"type\":\"Toolbar\"},\"x_range\":{\"id\":\"1003\",\"type\":\"DataRange1d\"},\"x_scale\":{\"id\":\"1007\",\"type\":\"LinearScale\"},\"y_range\":{\"id\":\"1005\",\"type\":\"DataRange1d\"},\"y_scale\":{\"id\":\"1009\",\"type\":\"LinearScale\"}},\"id\":\"1002\",\"subtype\":\"Figure\",\"type\":\"Plot\"},{\"attributes\":{\"overlay\":{\"id\":\"1050\",\"type\":\"BoxAnnotation\"}},\"id\":\"1023\",\"type\":\"BoxZoomTool\"},{\"attributes\":{\"dimension\":1,\"ticker\":{\"id\":\"1017\",\"type\":\"BasicTicker\"}},\"id\":\"1020\",\"type\":\"Grid\"},{\"attributes\":{\"source\":{\"id\":\"1035\",\"type\":\"ColumnDataSource\"}},\"id\":\"1039\",\"type\":\"CDSView\"},{\"attributes\":{},\"id\":\"1007\",\"type\":\"LinearScale\"},{\"attributes\":{\"active_drag\":\"auto\",\"active_inspect\":\"auto\",\"active_multi\":null,\"active_scroll\":\"auto\",\"active_tap\":\"auto\",\"tools\":[{\"id\":\"1021\",\"type\":\"WheelZoomTool\"},{\"id\":\"1022\",\"type\":\"PanTool\"},{\"id\":\"1023\",\"type\":\"BoxZoomTool\"},{\"id\":\"1024\",\"type\":\"ResetTool\"}]},\"id\":\"1025\",\"type\":\"Toolbar\"},{\"attributes\":{\"callback\":null},\"id\":\"1003\",\"type\":\"DataRange1d\"},{\"attributes\":{\"dimensions\":\"width\"},\"id\":\"1021\",\"type\":\"WheelZoomTool\"},{\"attributes\":{\"line_alpha\":0.1,\"line_color\":\"#1f77b4\",\"line_width\":2,\"x\":{\"field\":\"x\"},\"y\":{\"field\":\"y\"}},\"id\":\"1032\",\"type\":\"Line\"},{\"attributes\":{\"fill_color\":{\"value\":\"red\"},\"line_color\":{\"value\":\"#1f77b4\"},\"size\":{\"units\":\"screen\",\"value\":15},\"x\":{\"field\":\"x\"},\"y\":{\"field\":\"y\"}},\"id\":\"1036\",\"type\":\"Scatter\"},{\"attributes\":{},\"id\":\"1009\",\"type\":\"LinearScale\"},{\"attributes\":{},\"id\":\"1046\",\"type\":\"UnionRenderers\"},{\"attributes\":{\"bottom_units\":\"screen\",\"fill_alpha\":{\"value\":0.5},\"fill_color\":{\"value\":\"lightgrey\"},\"left_units\":\"screen\",\"level\":\"overlay\",\"line_alpha\":{\"value\":1.0},\"line_color\":{\"value\":\"black\"},\"line_dash\":[4,4],\"line_width\":{\"value\":2},\"render_mode\":\"css\",\"right_units\":\"screen\",\"top_units\":\"screen\"},\"id\":\"1050\",\"type\":\"BoxAnnotation\"},{\"attributes\":{},\"id\":\"1017\",\"type\":\"BasicTicker\"},{\"attributes\":{\"fill_alpha\":{\"value\":0.1},\"fill_color\":{\"value\":\"#1f77b4\"},\"line_alpha\":{\"value\":0.1},\"line_color\":{\"value\":\"#1f77b4\"},\"size\":{\"units\":\"screen\",\"value\":15},\"x\":{\"field\":\"x\"},\"y\":{\"field\":\"y\"}},\"id\":\"1037\",\"type\":\"Scatter\"},{\"attributes\":{},\"id\":\"1022\",\"type\":\"PanTool\"},{\"attributes\":{\"text\":\"\"},\"id\":\"1041\",\"type\":\"Title\"},{\"attributes\":{\"formatter\":{\"id\":\"1043\",\"type\":\"BasicTickFormatter\"},\"ticker\":{\"id\":\"1012\",\"type\":\"BasicTicker\"}},\"id\":\"1011\",\"type\":\"LinearAxis\"},{\"attributes\":{},\"id\":\"1045\",\"type\":\"BasicTickFormatter\"},{\"attributes\":{},\"id\":\"1047\",\"type\":\"Selection\"},{\"attributes\":{\"callback\":null},\"id\":\"1005\",\"type\":\"DataRange1d\"},{\"attributes\":{\"formatter\":{\"id\":\"1045\",\"type\":\"BasicTickFormatter\"},\"ticker\":{\"id\":\"1017\",\"type\":\"BasicTicker\"}},\"id\":\"1016\",\"type\":\"LinearAxis\"},{\"attributes\":{\"callback\":null,\"data\":{\"x\":[0,1,2,3,4,5,6,7,8,9,10,11,12,13,14,15,16,17,18,19,20,21,22,23,24,25,26,27,28,29,30,31,32,33,34,35,36,37,38,39,40,41,42,43,44,45,46,47,48,49,50,51,52,53,54,55,56,57,58,59,60,61,62,63,64,65,66,67,68,69,70,71,72,73,74,75,76,77,78,79,80,81,82,83,84,85,86,87,88,89,90,91,92,93,94,95,96,97,98,99,100,101,102,103,104,105,106,107,108,109,110,111,112,113,114,115,116,117,118,119,120,121,122,123,124,125,126,127,128,129,130,131,132,133,134,135,136,137,138,139,140,141,142,143,144,145,146,147,148,149,150,151,152,153,154,155,156,157,158,159,160,161,162,163,164,165,166,167,168,169,170,171,172,173,174,175,176,177,178,179,180,181,182,183,184,185,186,187,188,189,190,191,192,193,194,195,196,197,198,199,200,201,202,203,204,205,206,207,208,209,210,211,212,213,214,215,216,217,218,219,220,221,222,223,224,225,226,227,228,229,230,231,232,233,234,235,236,237,238,239,240,241,242,243,244,245,246,247,248,249,250,251,252,253,254,255,256,257,258,259,260,261,262,263,264,265,266,267,268,269,270,271,272,273,274,275,276,277,278,279,280,281,282,283,284,285,286,287,288,289,290,291,292,293,294,295,296,297,298,299,300,301,302,303,304,305,306,307,308,309,310,311,312,313,314,315,316,317,318,319,320,321,322,323,324,325,326,327,328,329,330,331,332,333,334,335,336,337,338,339,340,341,342,343,344,345,346,347,348,349,350,351,352,353,354,355,356,357,358,359,360,361,362,363,364,365,366,367,368,369,370,371,372,373,374,375,376,377,378,379,380,381,382,383,384,385,386,387,388,389,390,391,392,393,394,395,396,397,398,399,400,401,402,403,404,405,406,407,408,409,410,411,412,413,414,415,416,417,418,419,420,421,422,423,424,425,426,427,428,429,430,431,432,433,434,435,436,437,438,439,440,441,442,443,444,445,446,447,448,449,450,451,452,453,454,455,456,457,458,459,460,461,462,463,464,465,466,467,468,469,470,471,472,473,474,475,476,477,478,479,480,481,482,483,484,485,486,487,488,489,490,491,492,493,494,495,496,497,498,499,500,501,502,503,504,505,506,507,508,509,510,511,512,513,514,515,516,517,518,519,520,521,522,523,524,525,526,527,528,529,530,531,532,533,534,535,536,537,538,539,540,541,542,543,544,545,546,547,548,549,550,551,552,553,554,555,556,557,558,559,560,561,562,563,564,565,566,567,568,569,570,571,572,573,574,575,576,577,578,579,580,581,582,583,584,585,586,587,588,589,590,591,592,593,594,595,596,597,598,599,600,601,602,603,604,605,606,607,608,609,610,611,612,613,614,615,616,617,618,619,620,621,622,623,624,625,626,627,628,629,630,631,632,633,634,635,636,637,638,639,640,641,642,643,644,645,646,647,648,649,650,651,652,653,654,655,656,657,658,659,660,661,662,663,664,665,666,667,668,669,670,671,672,673,674,675,676,677,678,679,680,681,682,683,684,685,686,687,688,689,690,691,692,693,694,695,696,697,698,699,700,701,702,703,704,705,706,707,708,709,710,711,712,713,714,715,716,717,718,719,720,721,722,723,724,725,726,727,728,729,730,731,732,733,734,735,736,737,738,739,740,741,742,743,744,745,746,747,748,749,750,751,752,753,754,755,756,757,758,759,760,761,762,763,764,765,766,767,768,769,770,771,772,773,774,775,776,777,778,779,780,781,782,783,784,785,786,787,788,789,790,791,792,793,794,795,796,797,798,799,800,801,802,803,804,805,806,807,808,809,810,811,812,813,814,815,816,817,818,819,820,821,822,823,824,825,826,827,828,829,830,831,832,833,834,835,836,837,838,839,840,841,842,843,844,845,846,847,848,849,850,851,852,853,854,855,856,857,858,859,860,861,862,863,864,865,866,867,868,869,870,871,872,873,874,875,876,877,878,879,880,881,882,883,884,885,886,887,888,889,890,891,892,893,894,895,896,897,898,899,900,901,902,903,904,905,906,907,908,909,910,911,912,913,914,915,916,917,918,919,920,921,922,923,924,925,926,927,928,929,930,931,932,933,934,935,936,937,938,939,940,941,942,943,944,945,946,947,948,949,950,951,952,953,954,955,956,957,958,959,960,961,962,963,964,965,966,967,968,969,970,971,972,973,974,975,976,977,978,979,980,981,982,983,984,985,986,987,988,989,990,991,992,993,994,995,996,997,998,999],\"y\":{\"__ndarray__\":\"uHgdfdOrYUC4eB1906thQLh4HX3Tq2FAuHgdfdOrYUC4eB1906thQLh4HX3Tq2FAuHgdfdOrYUC4eB1906thQLh4HX3Tq2FAuHgdfdOrYUC4eB1906thQLh4HX3Tq2FAuHgdfdOrYUC4eB1906thQLh4HX3Tq2FAuHgdfdOrYUC4eB1906thQLh4HX3Tq2FAuHgdfdOrYUC4eB1906thQLh4HX3Tq2FAuHgdfdOrYUC4eB1906thQLh4HX3Tq2FAuHgdfdOrYUC4eB1906thQLh4HX3Tq2FAuHgdfdOrYUC4eB1906thQLh4HX3Tq2FAuHgdfdOrYUC4eB1906thQLh4HX3Tq2FAuHgdfdOrYUC4eB1906thQLh4HX3Tq2FAuHgdfdOrYUC4eB1906thQLh4HX3Tq2FAuHgdfdOrYUC4eB1906thQLh4HX3Tq2FAuHgdfdOrYUC4eB1906thQLh4HX3Tq2FAuHgdfdOrYUC4eB1906thQLh4HX3Tq2FAuHgdfdOrYUC4eB1906thQLh4HX3Tq2FAuHgdfdOrYUC4eB1906thQLh4HX3Tq2FAuHgdfdOrYUC4eB1906thQLh4HX3Tq2FAuHgdfdOrYUC4eB1906thQLh4HX3Tq2FAuHgdfdOrYUC4eB1906thQLh4HX3Tq2FAuHgdfdOrYUC4eB1906thQLh4HX3Tq2FAuHgdfdOrYUC4eB1906thQLh4HX3Tq2FAuHgdfdOrYUC4eB1906thQLh4HX3Tq2FAuHgdfdOrYUC4eB1906thQLh4HX3Tq2FAuHgdfdOrYUC4eB1906thQLh4HX3Tq2FAuHgdfdOrYUC4eB1906thQLh4HX3Tq2FAuHgdfdOrYUC4eB1906thQLh4HX3Tq2FAuHgdfdOrYUC4eB1906thQLh4HX3Tq2FAuHgdfdOrYUC4eB1906thQLh4HX3Tq2FAuHgdfdOrYUC4eB1906thQLh4HX3Tq2FAuHgdfdOrYUC4eB1906thQLh4HX3Tq2FAuHgdfdOrYUC4eB1906thQLh4HX3Tq2FAuHgdfdOrYUC4eB1906thQLh4HX3Tq2FAuHgdfdOrYUC4eB1906thQLh4HX3Tq2FAuHgdfdOrYUC4eB1906thQLh4HX3Tq2FAuHgdfdOrYUC4eB1906thQLh4HX3Tq2FAuHgdfdOrYUC4eB1906thQLh4HX3Tq2FAuHgdfdOrYUC4eB1906thQLh4HX3Tq2FAuHgdfdOrYUC4eB1906thQLh4HX3Tq2FAuHgdfdOrYUC4eB1906thQLh4HX3Tq2FAuHgdfdOrYUC4eB1906thQLh4HX3Tq2FAuHgdfdOrYUC4eB1906thQLh4HX3Tq2FAuHgdfdOrYUC4eB1906thQLh4HX3Tq2FAuHgdfdOrYUC4eB1906thQLh4HX3Tq2FAuHgdfdOrYUC4eB1906thQLh4HX3Tq2FAuHgdfdOrYUC4eB1906thQLh4HX3Tq2FAuHgdfdOrYUC4eB1906thQLh4HX3Tq2FAuHgdfdOrYUC4eB1906thQLh4HX3Tq2FAuHgdfdOrYUC4eB1906thQLh4HX3Tq2FAuHgdfdOrYUC4eB1906thQLh4HX3Tq2FAuHgdfdOrYUC4eB1906thQLh4HX3Tq2FAuHgdfdOrYUC4eB1906thQLh4HX3Tq2FAuHgdfdOrYUC4eB1906thQLh4HX3Tq2FAuHgdfdOrYUC4eB1906thQLh4HX3Tq2FAuHgdfdOrYUC4eB1906thQLh4HX3Tq2FAuHgdfdOrYUC4eB1906thQLh4HX3Tq2FAuHgdfdOrYUC4eB1906thQLh4HX3Tq2FAuHgdfdOrYUC4eB1906thQLh4HX3Tq2FAuHgdfdOrYUC4eB1906thQLh4HX3Tq2FAuHgdfdOrYUC4eB1906thQLh4HX3Tq2FAuHgdfdOrYUC4eB1906thQLh4HX3Tq2FAuHgdfdOrYUC4eB1906thQLh4HX3Tq2FAuHgdfdOrYUC4eB1906thQLh4HX3Tq2FAuHgdfdOrYUC4eB1906thQLh4HX3Tq2FAuHgdfdOrYUC4eB1906thQLh4HX3Tq2FAuHgdfdOrYUC4eB1906thQLh4HX3Tq2FAuHgdfdOrYUC4eB1906thQLh4HX3Tq2FAuHgdfdOrYUC4eB1906thQLh4HX3Tq2FAuHgdfdOrYUC4eB1906thQLh4HX3Tq2FAuHgdfdOrYUC4eB1906thQLh4HX3Tq2FAuHgdfdOrYUC4eB1906thQLh4HX3Tq2FAuHgdfdOrYUC4eB1906thQLh4HX3Tq2FAuHgdfdOrYUC4eB1906thQLh4HX3Tq2FAuHgdfdOrYUC4eB1906thQBCAC+BebmFAuHgdfdOrYUCadrX3naVhQCZeHNDQkWFAKXbBcud9YUB8el+Cyl5hQFRjOHzNNmFAKnSYfIYPYUCat9CLHeNgQJbAjjKow2BA/vQD+Z2bYEBT+pyR+25gQI9a4kkWPWBAGBtJzLjVX0AZabsGZx9fQDsTTGazUV5A9lQ7C9GBXUB8joel7dZcQOg4WLjem1xAT7PGWsy3XED1ynI6uAJdQP8cEXZoT11A71mmeWrfXUDpimq8qLxeQMjfAheHpV9AW5Wbl5mgYEDoCvVAk6RhQEjG+gXGcGJABXj2CinJYkD6VfrK/BFjQEtCkq48c2NAuSQ1tem7Y0C5iArkXKFjQO44uCXnZWNAob70UdY2Y0AOwl2oMmNjQCjKnffR6WNAZugAaLxQZECs1YXEx7tkQLc5UU5CP2VADWb2xXq9ZUD0dxzPamhmQFh1o3mVhGZAxpxYSM2hZkBEnbpQx+JmQPsoK4pfdWdASHGH5ajBZ0A7ELtBioZnQFY+ApLtP2dAMtfcJ1buZkAIfzOYJ81mQHb5I9v612ZALAUBwybDZkCk+n2kVbtmQD50uU/ot2ZA4xHsJ4OWZkCfOMgCQYxmQCL2lbQdrGZApOx8QVLuZkCJiPl1YXVnQI/KiAglS2hA9b/s0D5/aUApxV3zj+5qQEI9NYwkgmtAwug0X4x+bEBiEVnMJ+VsQALdWTSEU21AnYthpNkLbkCJqRBTlO5uQAa4NERgqW9AkyrB7Uvtb0BRX2IJtTJwQEtcnicHonBAE3zJdM0hcUDPScHhlGZxQKztr/xwcnFAHR43ZLp+cUD3ima1uLlxQPs5Y+VuMXJA+/64FAXAckBgOfjJ4h5zQM81XqzfCHNA6vkttQLPckA5z9yq9oRyQGgw9JvTMXJAgrFCUJnZcUBNrleMtn1xQMEA6pRoFXFACpCJdEKqcECE9Drw+zpwQDICXy1WlG9AMdIZNK+2bkAPliW/pthtQLuLfjkDD21AIN4LvJFEbEAYy/VMHrVrQFFNR1EAKmtAt8lHQWR2akAsmz0pKrVpQM9walUWv2hA43QGFL2gZ0CS0C4TDG5mQJF0XGKI8mRANZnz1ZfhY0D3SDMpJhhkQL7d4vI8H2RAQz0AM7oSZEBNCfXudOJkQAJkqOfezGZAUNwM51fFaEAYhAWGxZ1pQGh8yrosQWlAjdti6yVVaUCBc3ydWWxqQGx7sCn022tA8n0zlhXWbUAwt+1PUNdtQLqiufZlX21A7x9JVlnKbEA7wj3EFHFsQHQzJTfSXmxAsfZ+WMxObEDHlI8sEUptQEuwK47obm5AmdKemYcMcED2YIYZynlwQEcyOVbox3BAxFjIEJOtcUC8eKb4ORxyQMjPlDhbdnJAvok0T2GWckD8BHs/dcRyQJS4rhAJPXNAUxZWvZSDc0APhGM1MplzQLKHnCPT23NAt7Wr/ltjdEBfUE8J8fF0QCKCNefVDXVAEv8om73odEDwdcKSTNZ0QD6dIshGtHRAb/HAIC6CdECkgWRz1OB0QHAelaIOA3VAzGTxJ4YmdUD+ODsklDx1QLlM9cVZd3VAQXDHSW71dUCAd8PC/t52QDrPItqG8HZAB0kPMwyTdkBUXoahbDN2QEOj0Fz06HVAkRVCqvP3dUB6OHb2R0p2QGlllYGyzXZAJ5BwotZtd0Cy7ZUlIyp4QAtIwUI9CHhAnbOmoa2rd0D3wjfs/ap3QCx6Eu1zOnhAaF0YS0JHeUA/SAJEs7J5QCIp0BUP3XlAmxFqm8IsekDqmkjoADZ7QGZt9L7pOXxAn+xytZZrfUBw2AQmka9+QEHP2Sdqg39ADFJrZ9EUgEDpgEJ3qXCAQMv3rq/S9oBAsuawMZKFgUBML+FtbvyBQGtAmc1jfYJADcArT6LUgkDM8uLTZOyCQKa6Dvoz+YJA6QzEkrIIg0DcW0YiA/aCQFJeEkyA0oJAy/mF4UekgkBnDvP4inKCQJxeN2KeQIJASuX5U6EPgkBhEMSLu9uBQH0gwzNCooFA0/CG6H5hgUAJW+7E7RiBQA9DyexVyIBA7dKP87RugECcuNAY7xOAQJRr5F2hdH9AcQRMxNu5fkCq3eqSROZ9QEs9aWAnJ31AAM6htiB+fEAxIhuftSt8QD4l4bxm7XtA2o1KdPSie0D0uYsez656QHFZXnz2dHhAKD6Sf7DHdkDai7MFHSV1QG1BfDO3eHVAsr2wESkOeEAQCPli67J5QF5oWzNbLnxADGeI1h5EfUB11NZKnxt9QF7BTmZpxHxAtkL4lB/8fUBNLNpMknR/QF3O6AnaKH9ATgouRqkmfkAEC/O5j2p9QKqWhrOrFH5Ar+MOvmCUfkAB4nCoNEl/QMI9WW0ksX9A7gzADl6qf0AWnkkyW8x/QALWLE6pLoBAspkX6wPBgEBPC/KQb16BQI9koFVoboFActl/FYw7gUD3tFOxozuBQEzwZmeF74FAdOyiSiKegkB4wePf6KiCQAW6jgdVp4JAnXsM8NIjg0DHnUEZAwGEQP/EKpWLE4RAk0XU43Kpg0CvNRSy+qKDQCrhDEISS4RAWpfkuD5FhUCFqr2hLqGFQA3HPLRXm4VAnNlQ44zPhUBoD0im1EuGQGznechyroZAwmWnCYgUh0DvH5kjQLaHQO5Ij+hZ54dAjPydpiTFh0BZs33DRsaHQK9RWr0B0odAd+UkVvbTh0DmrzmPEp6HQHC/0e/IJIdANSANq5+vhkDq/EPXn2mGQKy09v+LY4ZAh/GqFFnohkCrXIJ1gmuHQD1lUr7DVIdAGlai7ppch0BlXLgxiniHQJehkfUUqYdAC5WkJz/th0C4zrQ1FReIQM5waHqlhohAHjjcQRfpiEBTEExh3z+JQJWusVpDjolA67yWwendiUDxtaz9PimKQAEgU86fj4pAXpeRNgQei0BqdMz8XOeLQFVKQxWdKo1AWd9uG1f+jUChQk8cbG+OQKosEeIIfI5AMePGh+GAjkBwTh/IVcqOQJNOcVrNW49ALP3FhA8MkED+QPVEaFyQQDOJm11NkpBAYrylTRbIkEBeSZH4YDSRQB5DRPU7dJFAx3kRHD5ckUCIxdASPzqRQNHVhRNRFpFAblSA1zT1kEAKeIpxfdaQQJ6z4nOjo5BAAXgN0CtnkEAxOj5vCSmQQIXCQLE32Y9A4/I/AqQ/j0Cmn33FmG+OQP4JEbYNcY1AZ6Pfwxs6jEC0BWi/ZgiLQMUhEjCwPIpAy+x9JhE/iUCbBLgx/A2IQAYbROOL7YZAMBLjEgUBhkD5rQcMRe+EQOptB6fCAodA+j40TeC+iEAZVAuQDLeIQCOnLoOL0IdAhJH/RQstiEALZQ3Zv+SIQLUeUSUU0IhAp/QLJ9toiEAJss7YyKuHQG4PJzuzJohA1c8Vbl42iECbnnqY3WKIQLz//us114hAB8hWTE2FiUC/7fuOJceJQFq7twSJy4lA66ZhntftiUDVW5w2C9+KQPHPyMQuy4tAPUG7wdmCi0A5Jfi0lv2KQOFXtI8D+IpA1LTrcnkei0At5tfSy6CLQDNEPapv+otAzcVwcw9mjEAaBiNVmdyMQKJjd9z7fI1AslyfmQ6IjUA3hDuZ/HaNQObULdgVv41AVBRMaBefjUDZ8ikl9J+NQOSZsoEXYY1AC1/e7OqbjUAqbeQhF+iNQHDDOg5MwY1AlkJxeDDtjUD9vH2OtaGOQH7i202Xoo9A48msf4zej0C0QX1ZFfGPQI8TIDzC649AY48PgQ9hkEBpjIo2K9WQQKl5T0Ik85BAlruq2SmjkEDyS+IjojqQQEdRZORxFJBAAR95qDx3kECO+Id+ybyQQEbY5XNz7JBA+a2qoc8YkUBzJIuDTlWRQMAYWbXbYJFAoYavGpWEkUD5ofUpmZmRQICV5w4WopFAQB4nCROVkUBUTPBYPZiRQPvKmfc9MpJAjt+/DCmVkkB1w7Ck9qySQHGC6AQv25JA0Gh3NFhPk0BYYHjLz/GTQJKOmlPYZZRAgpAfu5eulECSNLUmAgOVQAC2OY9uiZVACB1CZ039lUDJVnx0/X2WQKjP/65QzZZAKSvSKDn4lkCtGqM38vCWQMiYWgInzZZA4sS9DuSglkCSYkxpM3OWQPIDtn7KRJZA4pR0DCoTlkAWQNN3yNWVQBhmwsl3h5VAMAoGN2w6lUArW4pCXPCUQOGfKBphkpRAjk4qisPyk0B4MK7HVGqTQHzbHy9SBJNAW2thkaulkkAEofA7wiOSQGQ++oxoZpFAxrcTN6CbkED/H0CPpACQQBMzBbDR145AcJw3Il8wjUAzt2NdowCLQHZ9Me87UIlAktImviEeiEBUt+pQ1NWJQHXfTXxBCYlAxdA/2PFWiUCtaOB2FNGLQLAKVh70II1AziD5wu38jEA2wWeV3N6MQMmEvwTUxIxAMoQhvhpfjUCVS8ZChmmNQA7In7zBNI1AOlgvpRRdjUBOP9PUQX+NQIFpQnH+WI1AG1NmEiRdjUDK0HIabE2OQKoCucySlo9AQZYRCLy8j0CXQvUgX4qPQGJ/c58IzY9AOEwRRleJj0B5Y2p+/B+PQCd4cqq6eo9AZj1uKusNkEBTcEvR2iaQQIBqMEiOVZBAZf3ZHJ+ikEA+TTL1ZGqQQJfpBL1nXZBA+jvjDeJUkEBOxXCQnj2QQIpxNHOLJ5BAunzJllGvkEA7RA4Cao6RQKYZLWaIvZFAtVqczveakUC64bBFTAuSQHG8mrsVVJJANCHv9zcFk0Bh7JwKdR6TQIuI2CAZy5JAFUPQkACHkkCO1NbvvI+SQBWSYhtKypJA4DC4KfA2k0BLzju5I2WTQPnw4M3x6ZJA89pFR9N9kkCdYIpCDkiSQNJhFsg3OZJABPQlxLGokkAwEiLm9QyTQHJ/Z/CqDZNAkHDQgzLbkkAGUNJrmAmTQIuqev0jgZNAzPAJdU5SlECtfXTD1eaUQM+mNX6fAJVAQRKfQVhKlUC8y2EG94qVQL+gR1fk6pVAJAuw8UlVlkCAufj6MTaXQHR80haqBZhAR6h8RheTmEAtsTP8WP6YQKA9ae3yu5lAzds4IM+XmkCtCyqn8lKbQANkK24BM5xAP4VlQck0nUDpN65bc62dQI6kvC7Pyp1AcXx2+8gWnkBWZtL0X66eQLc+v99sfJ9A71mADA8FoEBIQk4hyCagQABjZsyzP6BA+6NSYXJcoEAYNV0jBU6gQAvI6jd3KqBADUqleoYDoEDjoHUulq+fQImvHpJ1W59A6ymw8Kgnn0BI2lZ0CxqfQJ8itx8FgZ5AByRm1p26nUCMNinOFtKcQMyVL/myw5tAunoukw7WmkDYSSDfccqZQAJ2KQtOKJlAV4oSQ0lumEA29I3mZnGXQGrx6XWUQJZA6l7YAOmAl0BURw6L/nSWQL+ODDGvaJVA4pC6QM80lEAYxxDrVvSUQMzq/GO0OJZA39sz5iBvl0Cy/ZszPheXQIYIOqWFYJZAG0ZpLepJlkCgIGA/ZxqWQLECK6kLHpZAIE4I0b/plkC7PUgVZ/aXQOzX1ySCUphAgQ4ksjStl0DKz7TYDjyXQCbFI1ituJdApeaTyBqBl0AVNMfW9faWQBUPJhOhC5ZA6uV68T65lUDC1T5XWM+WQFMlNU5XyJdAHEckyuoWmEDoea6QbYmXQKHAo6A1spZAhRQgqADqlUBj+tzWFJCXQJrS+l95l5hAIvtJggkwmUDYVFx6OwKZQDhqBDSTwphABUyx5FKhmEAM0ihaiXmZQO6ItppkFptAHq6cbaPCm0BjkU4yns2bQEPa1E5nMJtARTIyU/WgmkAoZD8TgtaaQCnSyZX/apxA0mfm7XbnnUBTEmHZosaeQE+8bjVbZp5AZk4GiSXDnUDJF7KMY6GdQLbRyJBf8J5AqU7H9bbEn0AH2CzhTVufQPCsjC4ZiJ5ALj9+gDBPnkAlrmctMNqeQMd+y79AA59Ai23E+B3ankDLHlc+g2efQJWattLJ+p9AjoJTSFEwoEAbETILVR+gQC99BWeV6p9A5eBttGyJn0DO3sUB21KfQE+yXB3EHp9AOQa1Ns8CoEBd/AYrCIygQOB3VLUI+aBAZcm3TT5HoUBa31yUt8ShQEVVrPwkeKJABxzIq0T4okBmMRVAPh2jQNjVrIt0NKNATUhpFN5Jo0CM6Bm3i3GjQC1Zj+oS+KNAytQXm2q/pECAQMU23jWlQARE0fhzh6VAI22lb+o4pkCa6SfXYLSmQARugPdsFadAMP7B1kJpp0Cv01KoL6OnQOC/ML/GrKdAnmK9TFx/p0CRwY3p/zinQDI/sQhA6aZA++qFdM6npkAC0NiNo2KmQHghsjo1B6ZAYtYzCjCdpUBCEolp6z2lQAFx+pB8nqRAWnCcFYXNo0D/EHatESijQGaXv8zIlKJAkLiEOiECokBEKAlS1GGhQLsR3Fqw0KBAAyg9+TKFoEA+B3OJBdOfQO9c1bKAap5AtOmrCsRcnEBeeNWxmDeaQIcQQdc5aJpAFsFEzJUmnEDNwNzpf9WdQJl0P2l7N55As52zNYgvnUDaZuwPySudQHF41/w9aJ1AK0pD4JnYnUBNwDRYf6idQL792/5wm51ANGwX846MnUD/d+ATtBSdQAGg4SADtpxAk1ITqF1jnEAxXMiCLnOdQOJlH7biqp5AppU8m2vinkCkj/iPz8GdQKyCDgVfpJxAG9k+KKC8m0Dhc1tZRUKdQKxlsIP0H59AzRYAWg5zn0A7LVHv1nSeQJLldHWnhJ1ALjVqYFuUnUArK9DuqGOfQEKDujwPM6BAvsF5cqn1n0AdEp7yNg2gQJ0J4ll/O6BA1gltOHA5oEBhTA0GyhSgQI4kT+6sIKBAblAMEzp/oECO6GPMdU2hQOF4GiV/EKJAMRNWyRaxokD6Dku7KE+jQCZXiUUbAaNAevbFlW26okDNJJBrn42iQIVlL9mcfKJAiFaKYAJIokBWUGiQgT6iQEyWbXVBh6JAhTd7YynkokDXWWmgQDWjQCqOG7hpuaNA/94eo6mJpECx7NX4rRWlQGEz5PwSSKVApOJHG3InpUA0FQ2sVuakQMsUwm84VaRAhppgtCgApEC5sKj7N1ikQH7S2gAVGaVAtLulzg4EpkAA/x2Y7VGmQDiSigjoL6ZAWTHLwBcypkBOFjLdU4ymQIVcHuKcN6dARWW/Q2Dop0D+H1klz0moQOMaiEnltqhAQfREi+FzqUAefrKwwB6qQCsl1cnuuqpAFxZVGGwyq0CH3Q8t4XWrQD2/49eIj6tA8jz7WF3yq0BYjHgGYhGtQKkqxvn5T65Al+rx+970rkBnvqu/soGvQCSxTlkgFrBAyiLlUj0JsEC2h7iScbqvQHWWVdV3Lq9AzImQFI5TrkBAWpiVGKWtQEoSKhjLGa1Ai4SIQQc9rEBLKwU8bFSrQA/JmAMylapAOZDhgIz+qUDyQb4TKjqpQM/2vJSFi6hAAKrqJ0dGqEBigddXYKCnQNaPaslFD6dA9uLJ2ug2pkAS+dVfbFilQGD/JplXaqRAMWxwEen1o0BvDs3YS36jQOORCBjE0aJAcLHqf7sBokBWfFblkz6jQEYzwC0zOKRAPzavp/h+pEByK4ztL2ukQNjfmzGmHaRAIXaeaBFRo0AAg9Cc41qjQIAHb67aW6NAgMzQ0AJxo0CCIHXEpOyjQHnjJ8AiR6RAW91/Ru2xpEBsKZ3ZeMGkQOWladg0cqRAdV5vMeGmo0B4HNPTXV+jQHjmhLpYwqJAw0UVKGujokDFjUnmHXyjQKQ65ThP2KNAmD8F48Pqo0DIz4E9JNqjQJgVwgAgYqNAGS+Q1+Mpo0B5+O4330qjQG3fOiWj0KNAfV2gHZLno0AKSM8B8dejQGeV7+StbKNAXYgwGEAPo0CbMu6KPdaiQIA93VWRTqNA10qCAVvlo0B2hVzmaT+kQGc5bO81oaRAu6wS5DEGpUAKyN96KqikQJVJfhe15aNA5zFZNGX3o0BpwkOMitCkQII1gFsllaVA81HC/bHCpUD/W/7SiaWlQLAxfkx2VaVAIIBDSd58pUBdWLaf/dalQKTvT0FPy6VAroSIKToJpkAeylwDs42mQCrCKJ0S16ZAMZH/BwK+pkDfYrUKfjSnQMXXG8BR5adAnwwTMY1Ip0BNi/KGnEmnQPp9BV0yb6dATDPErwe4p0BNY8IJsLunQLM/le3BO6hALuoX2rWzqEDontI12SmpQLqw5F7ZoqlAUKTT168bqkDC+4X4YPmqQAAAAAAAAAAAAAAAAAAAAAA=\",\"dtype\":\"float64\",\"shape\":[1000]}},\"selected\":{\"id\":\"1047\",\"type\":\"Selection\"},\"selection_policy\":{\"id\":\"1046\",\"type\":\"UnionRenderers\"}},\"id\":\"1030\",\"type\":\"ColumnDataSource\"},{\"attributes\":{},\"id\":\"1048\",\"type\":\"UnionRenderers\"},{\"attributes\":{\"data_source\":{\"id\":\"1035\",\"type\":\"ColumnDataSource\"},\"glyph\":{\"id\":\"1036\",\"type\":\"Scatter\"},\"hover_glyph\":null,\"muted_glyph\":null,\"nonselection_glyph\":{\"id\":\"1037\",\"type\":\"Scatter\"},\"selection_glyph\":null,\"view\":{\"id\":\"1039\",\"type\":\"CDSView\"}},\"id\":\"1038\",\"type\":\"GlyphRenderer\"},{\"attributes\":{\"callback\":null,\"data\":{\"x\":[304,405,512,606,711,812,911,997],\"y\":{\"__ndarray__\":\"YDn4yeIec0DpDMSSsgiDQB5DRPU7dJFAKSvSKDn4lkD7o1JhclygQOC/ML/GrKdAJLFOWSAWsEDC+4X4YPmqQA==\",\"dtype\":\"float64\",\"shape\":[8]}},\"selected\":{\"id\":\"1049\",\"type\":\"Selection\"},\"selection_policy\":{\"id\":\"1048\",\"type\":\"UnionRenderers\"}},\"id\":\"1035\",\"type\":\"ColumnDataSource\"},{\"attributes\":{},\"id\":\"1049\",\"type\":\"Selection\"},{\"attributes\":{},\"id\":\"1024\",\"type\":\"ResetTool\"},{\"attributes\":{},\"id\":\"1043\",\"type\":\"BasicTickFormatter\"},{\"attributes\":{\"source\":{\"id\":\"1030\",\"type\":\"ColumnDataSource\"}},\"id\":\"1034\",\"type\":\"CDSView\"},{\"attributes\":{},\"id\":\"1012\",\"type\":\"BasicTicker\"},{\"attributes\":{\"line_color\":\"#1f77b4\",\"line_width\":2,\"x\":{\"field\":\"x\"},\"y\":{\"field\":\"y\"}},\"id\":\"1031\",\"type\":\"Line\"},{\"attributes\":{\"ticker\":{\"id\":\"1012\",\"type\":\"BasicTicker\"}},\"id\":\"1015\",\"type\":\"Grid\"},{\"attributes\":{\"data_source\":{\"id\":\"1030\",\"type\":\"ColumnDataSource\"},\"glyph\":{\"id\":\"1031\",\"type\":\"Line\"},\"hover_glyph\":null,\"muted_glyph\":null,\"nonselection_glyph\":{\"id\":\"1032\",\"type\":\"Line\"},\"selection_glyph\":null,\"view\":{\"id\":\"1034\",\"type\":\"CDSView\"}},\"id\":\"1033\",\"type\":\"GlyphRenderer\"}],\"root_ids\":[\"1002\"]},\"title\":\"Bokeh Application\",\"version\":\"1.4.0\"}};\n",
       "  var render_items = [{\"docid\":\"75ab10e8-59ee-4748-b8e6-ae5a09b3d95d\",\"roots\":{\"1002\":\"6ef882bc-71b7-411e-9fe9-9364e46dc28b\"}}];\n",
       "  root.Bokeh.embed.embed_items_notebook(docs_json, render_items);\n",
       "\n",
       "  }\n",
       "  if (root.Bokeh !== undefined) {\n",
       "    embed_document(root);\n",
       "  } else {\n",
       "    var attempts = 0;\n",
       "    var timer = setInterval(function(root) {\n",
       "      if (root.Bokeh !== undefined) {\n",
       "        clearInterval(timer);\n",
       "        embed_document(root);\n",
       "      } else {\n",
       "        attempts++;\n",
       "        if (attempts > 100) {\n",
       "          clearInterval(timer);\n",
       "          console.log(\"Bokeh: ERROR: Unable to run BokehJS code because BokehJS library is missing\");\n",
       "        }\n",
       "      }\n",
       "    }, 10, root)\n",
       "  }\n",
       "})(window);"
      ],
      "application/vnd.bokehjs_exec.v0+json": ""
     },
     "metadata": {
      "application/vnd.bokehjs_exec.v0+json": {
       "id": "1002"
      }
     },
     "output_type": "display_data"
    }
   ],
   "source": [
    "ratios_plot(ratios, peaks)"
   ]
  },
  {
   "cell_type": "code",
   "execution_count": null,
   "metadata": {
    "ExecuteTime": {
     "end_time": "2020-01-21T16:16:57.837825Z",
     "start_time": "2020-01-21T16:16:57.524Z"
    }
   },
   "outputs": [],
   "source": [
    "# print(f'In given to the model dataset, point from ratios graphic correspond \\\n",
    "# to point in [x-{params[\"n_rf_te\"]}, x+{\n",
    "# }]')"
   ]
  },
  {
   "cell_type": "markdown",
   "metadata": {},
   "source": [
    "## Example 2"
   ]
  },
  {
   "cell_type": "code",
   "execution_count": 8,
   "metadata": {
    "ExecuteTime": {
     "end_time": "2020-01-21T16:26:23.823059Z",
     "start_time": "2020-01-21T16:26:23.539225Z"
    }
   },
   "outputs": [
    {
     "data": {
      "text/plain": [
       "[<matplotlib.lines.Line2D at 0x7f8dbd148d50>]"
      ]
     },
     "execution_count": 8,
     "metadata": {},
     "output_type": "execute_result"
    },
    {
     "data": {
      "image/png": "[encoded data removed]",
      "text/plain": [
       "<Figure size 432x288 with 1 Axes>"
      ]
     },
     "metadata": {
      "needs_background": "light"
     },
     "output_type": "display_data"
    }
   ],
   "source": [
    "y = [0, 8, 6, 4]\n",
    "\n",
    "for i in range(4, 1000):\n",
    "    y.append(0.97 * y[i-1] + 0.4 * y[i - 2] - 0.5 * y[i-3] + 0.2 * np.random.randn())\n",
    "for i in range(1000, 1500):\n",
    "    y.append(0.97 * y[i-1] + 0.4 * y[i - 2] - 0.8 * y[i-3] + 0.2 * np.random.randn())\n",
    "\n",
    "true_change_points = [1000]\n",
    "y = np.array(y).reshape(-1,1)\n",
    "\n",
    "plt.plot(y)"
   ]
  },
  {
   "cell_type": "code",
   "execution_count": 9,
   "metadata": {
    "ExecuteTime": {
     "end_time": "2020-01-21T16:26:36.754217Z",
     "start_time": "2020-01-21T16:26:24.539633Z"
    },
    "scrolled": true
   },
   "outputs": [
    {
     "name": "stdout",
     "output_type": "stream",
     "text": [
      "Finding hyperparams...\n",
      "Candidate 300\n",
      "Optimal sigma is: 1.0\n",
      "Computing ratios in parrallel with 1 chunks\n",
      "Candidate 400\n",
      "Optimal sigma is: 1.0\n",
      "Computing ratios in parrallel with 1 chunks\n",
      "Candidate 500\n",
      "Optimal sigma is: 5.0\n",
      "Computing ratios in parrallel with 1 chunks\n",
      "\n",
      "Optimal width is 500\n",
      "\n",
      "Starting compute ratios...\n",
      "Computing ratios in parrallel with 1 chunks\n"
     ]
    }
   ],
   "source": [
    "search_params['width_candidates'] = [300, 400, 500]\n",
    "ratios, _, peaks = compute_ratios(y, search_params, params)"
   ]
  },
  {
   "cell_type": "code",
   "execution_count": 10,
   "metadata": {
    "ExecuteTime": {
     "end_time": "2020-01-21T16:26:38.014657Z",
     "start_time": "2020-01-21T16:26:37.917824Z"
    }
   },
   "outputs": [
    {
     "data": {
      "text/html": [
       "\n",
       "\n",
       "\n",
       "\n",
       "\n",
       "\n",
       "  <div class=\"bk-root\" id=\"425e5f7e-17c2-4428-a199-bea5cc01b5c4\" data-root-id=\"1117\"></div>\n"
      ]
     },
     "metadata": {},
     "output_type": "display_data"
    },
    {
     "data": {
      "application/javascript": [
       "(function(root) {\n",
       "  function embed_document(root) {\n",
       "    \n",
       "  var docs_json = {\"181e5542-ca12-4724-92b9-45f82749d2ed\":{\"roots\":{\"references\":[{\"attributes\":{\"below\":[{\"id\":\"1126\",\"type\":\"LinearAxis\"}],\"center\":[{\"id\":\"1130\",\"type\":\"Grid\"},{\"id\":\"1135\",\"type\":\"Grid\"}],\"left\":[{\"id\":\"1131\",\"type\":\"LinearAxis\"}],\"plot_width\":800,\"renderers\":[{\"id\":\"1148\",\"type\":\"GlyphRenderer\"},{\"id\":\"1153\",\"type\":\"GlyphRenderer\"}],\"title\":{\"id\":\"1167\",\"type\":\"Title\"},\"toolbar\":{\"id\":\"1140\",\"type\":\"Toolbar\"},\"x_range\":{\"id\":\"1118\",\"type\":\"DataRange1d\"},\"x_scale\":{\"id\":\"1122\",\"type\":\"LinearScale\"},\"y_range\":{\"id\":\"1120\",\"type\":\"DataRange1d\"},\"y_scale\":{\"id\":\"1124\",\"type\":\"LinearScale\"}},\"id\":\"1117\",\"subtype\":\"Figure\",\"type\":\"Plot\"},{\"attributes\":{\"callback\":null},\"id\":\"1120\",\"type\":\"DataRange1d\"},{\"attributes\":{},\"id\":\"1174\",\"type\":\"UnionRenderers\"},{\"attributes\":{\"data_source\":{\"id\":\"1145\",\"type\":\"ColumnDataSource\"},\"glyph\":{\"id\":\"1146\",\"type\":\"Line\"},\"hover_glyph\":null,\"muted_glyph\":null,\"nonselection_glyph\":{\"id\":\"1147\",\"type\":\"Line\"},\"selection_glyph\":null,\"view\":{\"id\":\"1149\",\"type\":\"CDSView\"}},\"id\":\"1148\",\"type\":\"GlyphRenderer\"},{\"attributes\":{},\"id\":\"1172\",\"type\":\"UnionRenderers\"},{\"attributes\":{},\"id\":\"1169\",\"type\":\"BasicTickFormatter\"},{\"attributes\":{\"callback\":null,\"data\":{\"x\":[1497],\"y\":{\"__ndarray__\":\"RgvzqdiVs0A=\",\"dtype\":\"float64\",\"shape\":[1]}},\"selected\":{\"id\":\"1175\",\"type\":\"Selection\"},\"selection_policy\":{\"id\":\"1174\",\"type\":\"UnionRenderers\"}},\"id\":\"1150\",\"type\":\"ColumnDataSource\"},{\"attributes\":{},\"id\":\"1139\",\"type\":\"ResetTool\"},{\"attributes\":{},\"id\":\"1124\",\"type\":\"LinearScale\"},{\"attributes\":{\"bottom_units\":\"screen\",\"fill_alpha\":{\"value\":0.5},\"fill_color\":{\"value\":\"lightgrey\"},\"left_units\":\"screen\",\"level\":\"overlay\",\"line_alpha\":{\"value\":1.0},\"line_color\":{\"value\":\"black\"},\"line_dash\":[4,4],\"line_width\":{\"value\":2},\"render_mode\":\"css\",\"right_units\":\"screen\",\"top_units\":\"screen\"},\"id\":\"1176\",\"type\":\"BoxAnnotation\"},{\"attributes\":{\"overlay\":{\"id\":\"1176\",\"type\":\"BoxAnnotation\"}},\"id\":\"1138\",\"type\":\"BoxZoomTool\"},{\"attributes\":{\"data_source\":{\"id\":\"1150\",\"type\":\"ColumnDataSource\"},\"glyph\":{\"id\":\"1151\",\"type\":\"Scatter\"},\"hover_glyph\":null,\"muted_glyph\":null,\"nonselection_glyph\":{\"id\":\"1152\",\"type\":\"Scatter\"},\"selection_glyph\":null,\"view\":{\"id\":\"1154\",\"type\":\"CDSView\"}},\"id\":\"1153\",\"type\":\"GlyphRenderer\"},{\"attributes\":{\"callback\":null,\"data\":{\"x\":[0,1,2,3,4,5,6,7,8,9,10,11,12,13,14,15,16,17,18,19,20,21,22,23,24,25,26,27,28,29,30,31,32,33,34,35,36,37,38,39,40,41,42,43,44,45,46,47,48,49,50,51,52,53,54,55,56,57,58,59,60,61,62,63,64,65,66,67,68,69,70,71,72,73,74,75,76,77,78,79,80,81,82,83,84,85,86,87,88,89,90,91,92,93,94,95,96,97,98,99,100,101,102,103,104,105,106,107,108,109,110,111,112,113,114,115,116,117,118,119,120,121,122,123,124,125,126,127,128,129,130,131,132,133,134,135,136,137,138,139,140,141,142,143,144,145,146,147,148,149,150,151,152,153,154,155,156,157,158,159,160,161,162,163,164,165,166,167,168,169,170,171,172,173,174,175,176,177,178,179,180,181,182,183,184,185,186,187,188,189,190,191,192,193,194,195,196,197,198,199,200,201,202,203,204,205,206,207,208,209,210,211,212,213,214,215,216,217,218,219,220,221,222,223,224,225,226,227,228,229,230,231,232,233,234,235,236,237,238,239,240,241,242,243,244,245,246,247,248,249,250,251,252,253,254,255,256,257,258,259,260,261,262,263,264,265,266,267,268,269,270,271,272,273,274,275,276,277,278,279,280,281,282,283,284,285,286,287,288,289,290,291,292,293,294,295,296,297,298,299,300,301,302,303,304,305,306,307,308,309,310,311,312,313,314,315,316,317,318,319,320,321,322,323,324,325,326,327,328,329,330,331,332,333,334,335,336,337,338,339,340,341,342,343,344,345,346,347,348,349,350,351,352,353,354,355,356,357,358,359,360,361,362,363,364,365,366,367,368,369,370,371,372,373,374,375,376,377,378,379,380,381,382,383,384,385,386,387,388,389,390,391,392,393,394,395,396,397,398,399,400,401,402,403,404,405,406,407,408,409,410,411,412,413,414,415,416,417,418,419,420,421,422,423,424,425,426,427,428,429,430,431,432,433,434,435,436,437,438,439,440,441,442,443,444,445,446,447,448,449,450,451,452,453,454,455,456,457,458,459,460,461,462,463,464,465,466,467,468,469,470,471,472,473,474,475,476,477,478,479,480,481,482,483,484,485,486,487,488,489,490,491,492,493,494,495,496,497,498,499,500,501,502,503,504,505,506,507,508,509,510,511,512,513,514,515,516,517,518,519,520,521,522,523,524,525,526,527,528,529,530,531,532,533,534,535,536,537,538,539,540,541,542,543,544,545,546,547,548,549,550,551,552,553,554,555,556,557,558,559,560,561,562,563,564,565,566,567,568,569,570,571,572,573,574,575,576,577,578,579,580,581,582,583,584,585,586,587,588,589,590,591,592,593,594,595,596,597,598,599,600,601,602,603,604,605,606,607,608,609,610,611,612,613,614,615,616,617,618,619,620,621,622,623,624,625,626,627,628,629,630,631,632,633,634,635,636,637,638,639,640,641,642,643,644,645,646,647,648,649,650,651,652,653,654,655,656,657,658,659,660,661,662,663,664,665,666,667,668,669,670,671,672,673,674,675,676,677,678,679,680,681,682,683,684,685,686,687,688,689,690,691,692,693,694,695,696,697,698,699,700,701,702,703,704,705,706,707,708,709,710,711,712,713,714,715,716,717,718,719,720,721,722,723,724,725,726,727,728,729,730,731,732,733,734,735,736,737,738,739,740,741,742,743,744,745,746,747,748,749,750,751,752,753,754,755,756,757,758,759,760,761,762,763,764,765,766,767,768,769,770,771,772,773,774,775,776,777,778,779,780,781,782,783,784,785,786,787,788,789,790,791,792,793,794,795,796,797,798,799,800,801,802,803,804,805,806,807,808,809,810,811,812,813,814,815,816,817,818,819,820,821,822,823,824,825,826,827,828,829,830,831,832,833,834,835,836,837,838,839,840,841,842,843,844,845,846,847,848,849,850,851,852,853,854,855,856,857,858,859,860,861,862,863,864,865,866,867,868,869,870,871,872,873,874,875,876,877,878,879,880,881,882,883,884,885,886,887,888,889,890,891,892,893,894,895,896,897,898,899,900,901,902,903,904,905,906,907,908,909,910,911,912,913,914,915,916,917,918,919,920,921,922,923,924,925,926,927,928,929,930,931,932,933,934,935,936,937,938,939,940,941,942,943,944,945,946,947,948,949,950,951,952,953,954,955,956,957,958,959,960,961,962,963,964,965,966,967,968,969,970,971,972,973,974,975,976,977,978,979,980,981,982,983,984,985,986,987,988,989,990,991,992,993,994,995,996,997,998,999,1000,1001,1002,1003,1004,1005,1006,1007,1008,1009,1010,1011,1012,1013,1014,1015,1016,1017,1018,1019,1020,1021,1022,1023,1024,1025,1026,1027,1028,1029,1030,1031,1032,1033,1034,1035,1036,1037,1038,1039,1040,1041,1042,1043,1044,1045,1046,1047,1048,1049,1050,1051,1052,1053,1054,1055,1056,1057,1058,1059,1060,1061,1062,1063,1064,1065,1066,1067,1068,1069,1070,1071,1072,1073,1074,1075,1076,1077,1078,1079,1080,1081,1082,1083,1084,1085,1086,1087,1088,1089,1090,1091,1092,1093,1094,1095,1096,1097,1098,1099,1100,1101,1102,1103,1104,1105,1106,1107,1108,1109,1110,1111,1112,1113,1114,1115,1116,1117,1118,1119,1120,1121,1122,1123,1124,1125,1126,1127,1128,1129,1130,1131,1132,1133,1134,1135,1136,1137,1138,1139,1140,1141,1142,1143,1144,1145,1146,1147,1148,1149,1150,1151,1152,1153,1154,1155,1156,1157,1158,1159,1160,1161,1162,1163,1164,1165,1166,1167,1168,1169,1170,1171,1172,1173,1174,1175,1176,1177,1178,1179,1180,1181,1182,1183,1184,1185,1186,1187,1188,1189,1190,1191,1192,1193,1194,1195,1196,1197,1198,1199,1200,1201,1202,1203,1204,1205,1206,1207,1208,1209,1210,1211,1212,1213,1214,1215,1216,1217,1218,1219,1220,1221,1222,1223,1224,1225,1226,1227,1228,1229,1230,1231,1232,1233,1234,1235,1236,1237,1238,1239,1240,1241,1242,1243,1244,1245,1246,1247,1248,1249,1250,1251,1252,1253,1254,1255,1256,1257,1258,1259,1260,1261,1262,1263,1264,1265,1266,1267,1268,1269,1270,1271,1272,1273,1274,1275,1276,1277,1278,1279,1280,1281,1282,1283,1284,1285,1286,1287,1288,1289,1290,1291,1292,1293,1294,1295,1296,1297,1298,1299,1300,1301,1302,1303,1304,1305,1306,1307,1308,1309,1310,1311,1312,1313,1314,1315,1316,1317,1318,1319,1320,1321,1322,1323,1324,1325,1326,1327,1328,1329,1330,1331,1332,1333,1334,1335,1336,1337,1338,1339,1340,1341,1342,1343,1344,1345,1346,1347,1348,1349,1350,1351,1352,1353,1354,1355,1356,1357,1358,1359,1360,1361,1362,1363,1364,1365,1366,1367,1368,1369,1370,1371,1372,1373,1374,1375,1376,1377,1378,1379,1380,1381,1382,1383,1384,1385,1386,1387,1388,1389,1390,1391,1392,1393,1394,1395,1396,1397,1398,1399,1400,1401,1402,1403,1404,1405,1406,1407,1408,1409,1410,1411,1412,1413,1414,1415,1416,1417,1418,1419,1420,1421,1422,1423,1424,1425,1426,1427,1428,1429,1430,1431,1432,1433,1434,1435,1436,1437,1438,1439,1440,1441,1442,1443,1444,1445,1446,1447,1448,1449,1450,1451,1452,1453,1454,1455,1456,1457,1458,1459,1460,1461,1462,1463,1464,1465,1466,1467,1468,1469,1470,1471,1472,1473,1474,1475,1476,1477,1478,1479,1480,1481,1482,1483,1484,1485,1486,1487,1488,1489,1490,1491,1492,1493,1494,1495,1496,1497,1498,1499],\"y\":{\"__ndarray__\":\"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\",\"dtype\":\"float64\",\"shape\":[1500]}},\"selected\":{\"id\":\"1173\",\"type\":\"Selection\"},\"selection_policy\":{\"id\":\"1172\",\"type\":\"UnionRenderers\"}},\"id\":\"1145\",\"type\":\"ColumnDataSource\"},{\"attributes\":{},\"id\":\"1171\",\"type\":\"BasicTickFormatter\"},{\"attributes\":{},\"id\":\"1175\",\"type\":\"Selection\"},{\"attributes\":{\"source\":{\"id\":\"1145\",\"type\":\"ColumnDataSource\"}},\"id\":\"1149\",\"type\":\"CDSView\"},{\"attributes\":{\"dimensions\":\"width\"},\"id\":\"1136\",\"type\":\"WheelZoomTool\"},{\"attributes\":{\"text\":\"\"},\"id\":\"1167\",\"type\":\"Title\"},{\"attributes\":{},\"id\":\"1122\",\"type\":\"LinearScale\"},{\"attributes\":{\"active_drag\":\"auto\",\"active_inspect\":\"auto\",\"active_multi\":null,\"active_scroll\":\"auto\",\"active_tap\":\"auto\",\"tools\":[{\"id\":\"1136\",\"type\":\"WheelZoomTool\"},{\"id\":\"1137\",\"type\":\"PanTool\"},{\"id\":\"1138\",\"type\":\"BoxZoomTool\"},{\"id\":\"1139\",\"type\":\"ResetTool\"}]},\"id\":\"1140\",\"type\":\"Toolbar\"},{\"attributes\":{\"source\":{\"id\":\"1150\",\"type\":\"ColumnDataSource\"}},\"id\":\"1154\",\"type\":\"CDSView\"},{\"attributes\":{},\"id\":\"1137\",\"type\":\"PanTool\"},{\"attributes\":{},\"id\":\"1173\",\"type\":\"Selection\"},{\"attributes\":{},\"id\":\"1127\",\"type\":\"BasicTicker\"},{\"attributes\":{\"ticker\":{\"id\":\"1127\",\"type\":\"BasicTicker\"}},\"id\":\"1130\",\"type\":\"Grid\"},{\"attributes\":{\"dimension\":1,\"ticker\":{\"id\":\"1132\",\"type\":\"BasicTicker\"}},\"id\":\"1135\",\"type\":\"Grid\"},{\"attributes\":{\"callback\":null},\"id\":\"1118\",\"type\":\"DataRange1d\"},{\"attributes\":{\"formatter\":{\"id\":\"1169\",\"type\":\"BasicTickFormatter\"},\"ticker\":{\"id\":\"1127\",\"type\":\"BasicTicker\"}},\"id\":\"1126\",\"type\":\"LinearAxis\"},{\"attributes\":{},\"id\":\"1132\",\"type\":\"BasicTicker\"},{\"attributes\":{\"fill_alpha\":{\"value\":0.1},\"fill_color\":{\"value\":\"#1f77b4\"},\"line_alpha\":{\"value\":0.1},\"line_color\":{\"value\":\"#1f77b4\"},\"size\":{\"units\":\"screen\",\"value\":15},\"x\":{\"field\":\"x\"},\"y\":{\"field\":\"y\"}},\"id\":\"1152\",\"type\":\"Scatter\"},{\"attributes\":{\"line_alpha\":0.1,\"line_color\":\"#1f77b4\",\"line_width\":2,\"x\":{\"field\":\"x\"},\"y\":{\"field\":\"y\"}},\"id\":\"1147\",\"type\":\"Line\"},{\"attributes\":{\"line_color\":\"#1f77b4\",\"line_width\":2,\"x\":{\"field\":\"x\"},\"y\":{\"field\":\"y\"}},\"id\":\"1146\",\"type\":\"Line\"},{\"attributes\":{\"fill_color\":{\"value\":\"red\"},\"line_color\":{\"value\":\"#1f77b4\"},\"size\":{\"units\":\"screen\",\"value\":15},\"x\":{\"field\":\"x\"},\"y\":{\"field\":\"y\"}},\"id\":\"1151\",\"type\":\"Scatter\"},{\"attributes\":{\"formatter\":{\"id\":\"1171\",\"type\":\"BasicTickFormatter\"},\"ticker\":{\"id\":\"1132\",\"type\":\"BasicTicker\"}},\"id\":\"1131\",\"type\":\"LinearAxis\"}],\"root_ids\":[\"1117\"]},\"title\":\"Bokeh Application\",\"version\":\"1.4.0\"}};\n",
       "  var render_items = [{\"docid\":\"181e5542-ca12-4724-92b9-45f82749d2ed\",\"roots\":{\"1117\":\"425e5f7e-17c2-4428-a199-bea5cc01b5c4\"}}];\n",
       "  root.Bokeh.embed.embed_items_notebook(docs_json, render_items);\n",
       "\n",
       "  }\n",
       "  if (root.Bokeh !== undefined) {\n",
       "    embed_document(root);\n",
       "  } else {\n",
       "    var attempts = 0;\n",
       "    var timer = setInterval(function(root) {\n",
       "      if (root.Bokeh !== undefined) {\n",
       "        clearInterval(timer);\n",
       "        embed_document(root);\n",
       "      } else {\n",
       "        attempts++;\n",
       "        if (attempts > 100) {\n",
       "          clearInterval(timer);\n",
       "          console.log(\"Bokeh: ERROR: Unable to run BokehJS code because BokehJS library is missing\");\n",
       "        }\n",
       "      }\n",
       "    }, 10, root)\n",
       "  }\n",
       "})(window);"
      ],
      "application/vnd.bokehjs_exec.v0+json": ""
     },
     "metadata": {
      "application/vnd.bokehjs_exec.v0+json": {
       "id": "1117"
      }
     },
     "output_type": "display_data"
    }
   ],
   "source": [
    "ratios_plot(ratios, peaks)"
   ]
  },
  {
   "cell_type": "markdown",
   "metadata": {},
   "source": [
    "## Example 3. Blending"
   ]
  },
  {
   "cell_type": "code",
   "execution_count": 12,
   "metadata": {
    "ExecuteTime": {
     "end_time": "2020-01-21T16:27:52.740001Z",
     "start_time": "2020-01-21T16:27:52.722387Z"
    }
   },
   "outputs": [],
   "source": [
    "x = np.linspace(0, 2, num=200)\n",
    "y1 = np.sin(2 * np.pi * x)\n",
    "y2 = np.sin(4 * np.pi * x)\n",
    "y3 = np.sinh((x - 1) * 2)\n",
    "y4 = np.cosh((x - 1) * 2)\n",
    "y5 = np.exp((x - 1) * 2)"
   ]
  },
  {
   "cell_type": "code",
   "execution_count": 13,
   "metadata": {
    "ExecuteTime": {
     "end_time": "2020-01-21T16:27:53.739862Z",
     "start_time": "2020-01-21T16:27:53.290842Z"
    },
    "scrolled": true
   },
   "outputs": [
    {
     "data": {
      "text/plain": [
       "[<matplotlib.lines.Line2D at 0x7f8dbc7047d0>]"
      ]
     },
     "execution_count": 13,
     "metadata": {},
     "output_type": "execute_result"
    },
    {
     "data": {
      "image/png": "[encoded data removed]",
      "text/plain": [
       "<Figure size 432x288 with 1 Axes>"
      ]
     },
     "metadata": {
      "needs_background": "light"
     },
     "output_type": "display_data"
    }
   ],
   "source": [
    "y = np.hstack((y1, y2, y3, y4, y5)).reshape(-1, 1)\n",
    "plt.plot(y)"
   ]
  },
  {
   "cell_type": "code",
   "execution_count": 15,
   "metadata": {
    "ExecuteTime": {
     "end_time": "2020-01-21T16:28:28.273807Z",
     "start_time": "2020-01-21T16:28:19.835952Z"
    },
    "scrolled": false
   },
   "outputs": [
    {
     "name": "stdout",
     "output_type": "stream",
     "text": [
      "Finding hyperparams...\n",
      "Candidate 100\n",
      "Optimal sigma is: 1000.0\n",
      "Computing ratios in parrallel with 1 chunks\n",
      "Candidate 150\n",
      "Optimal sigma is: 1000.0\n",
      "Computing ratios in parrallel with 1 chunks\n",
      "Candidate 200\n",
      "Optimal sigma is: 5.0\n",
      "Computing ratios in parrallel with 1 chunks\n",
      "\n",
      "Optimal width is 200\n",
      "\n",
      "Starting compute ratios...\n",
      "Computing ratios in parrallel with 1 chunks\n"
     ]
    }
   ],
   "source": [
    "search_params['width_candidates'] = [100, 150, 200]\n",
    "ratios, _, peaks = compute_ratios(y.reshape(-1, 1), search_params, params)"
   ]
  },
  {
   "cell_type": "code",
   "execution_count": 16,
   "metadata": {
    "ExecuteTime": {
     "end_time": "2020-01-21T16:28:31.194828Z",
     "start_time": "2020-01-21T16:28:31.092058Z"
    }
   },
   "outputs": [
    {
     "data": {
      "text/html": [
       "\n",
       "\n",
       "\n",
       "\n",
       "\n",
       "\n",
       "  <div class=\"bk-root\" id=\"8c61416e-9ea3-42d9-9e77-c59c991852e7\" data-root-id=\"1243\"></div>\n"
      ]
     },
     "metadata": {},
     "output_type": "display_data"
    },
    {
     "data": {
      "application/javascript": [
       "(function(root) {\n",
       "  function embed_document(root) {\n",
       "    \n",
       "  var docs_json = {\"c7ccd30e-5a1b-41cd-87bf-6b5277c92d1a\":{\"roots\":{\"references\":[{\"attributes\":{\"below\":[{\"id\":\"1252\",\"type\":\"LinearAxis\"}],\"center\":[{\"id\":\"1256\",\"type\":\"Grid\"},{\"id\":\"1261\",\"type\":\"Grid\"}],\"left\":[{\"id\":\"1257\",\"type\":\"LinearAxis\"}],\"plot_width\":800,\"renderers\":[{\"id\":\"1274\",\"type\":\"GlyphRenderer\"},{\"id\":\"1279\",\"type\":\"GlyphRenderer\"}],\"title\":{\"id\":\"1304\",\"type\":\"Title\"},\"toolbar\":{\"id\":\"1266\",\"type\":\"Toolbar\"},\"x_range\":{\"id\":\"1244\",\"type\":\"DataRange1d\"},\"x_scale\":{\"id\":\"1248\",\"type\":\"LinearScale\"},\"y_range\":{\"id\":\"1246\",\"type\":\"DataRange1d\"},\"y_scale\":{\"id\":\"1250\",\"type\":\"LinearScale\"}},\"id\":\"1243\",\"subtype\":\"Figure\",\"type\":\"Plot\"},{\"attributes\":{},\"id\":\"1248\",\"type\":\"LinearScale\"},{\"attributes\":{\"dimension\":1,\"ticker\":{\"id\":\"1258\",\"type\":\"BasicTicker\"}},\"id\":\"1261\",\"type\":\"Grid\"},{\"attributes\":{},\"id\":\"1311\",\"type\":\"UnionRenderers\"},{\"attributes\":{},\"id\":\"1310\",\"type\":\"Selection\"},{\"attributes\":{\"callback\":null},\"id\":\"1244\",\"type\":\"DataRange1d\"},{\"attributes\":{\"callback\":null,\"data\":{\"x\":[0,1,2,3,4,5,6,7,8,9,10,11,12,13,14,15,16,17,18,19,20,21,22,23,24,25,26,27,28,29,30,31,32,33,34,35,36,37,38,39,40,41,42,43,44,45,46,47,48,49,50,51,52,53,54,55,56,57,58,59,60,61,62,63,64,65,66,67,68,69,70,71,72,73,74,75,76,77,78,79,80,81,82,83,84,85,86,87,88,89,90,91,92,93,94,95,96,97,98,99,100,101,102,103,104,105,106,107,108,109,110,111,112,113,114,115,116,117,118,119,120,121,122,123,124,125,126,127,128,129,130,131,132,133,134,135,136,137,138,139,140,141,142,143,144,145,146,147,148,149,150,151,152,153,154,155,156,157,158,159,160,161,162,163,164,165,166,167,168,169,170,171,172,173,174,175,176,177,178,179,180,181,182,183,184,185,186,187,188,189,190,191,192,193,194,195,196,197,198,199,200,201,202,203,204,205,206,207,208,209,210,211,212,213,214,215,216,217,218,219,220,221,222,223,224,225,226,227,228,229,230,231,232,233,234,235,236,237,238,239,240,241,242,243,244,245,246,247,248,249,250,251,252,253,254,255,256,257,258,259,260,261,262,263,264,265,266,267,268,269,270,271,272,273,274,275,276,277,278,279,280,281,282,283,284,285,286,287,288,289,290,291,292,293,294,295,296,297,298,299,300,301,302,303,304,305,306,307,308,309,310,311,312,313,314,315,316,317,318,319,320,321,322,323,324,325,326,327,328,329,330,331,332,333,334,335,336,337,338,339,340,341,342,343,344,345,346,347,348,349,350,351,352,353,354,355,356,357,358,359,360,361,362,363,364,365,366,367,368,369,370,371,372,373,374,375,376,377,378,379,380,381,382,383,384,385,386,387,388,389,390,391,392,393,394,395,396,397,398,399,400,401,402,403,404,405,406,407,408,409,410,411,412,413,414,415,416,417,418,419,420,421,422,423,424,425,426,427,428,429,430,431,432,433,434,435,436,437,438,439,440,441,442,443,444,445,446,447,448,449,450,451,452,453,454,455,456,457,458,459,460,461,462,463,464,465,466,467,468,469,470,471,472,473,474,475,476,477,478,479,480,481,482,483,484,485,486,487,488,489,490,491,492,493,494,495,496,497,498,499,500,501,502,503,504,505,506,507,508,509,510,511,512,513,514,515,516,517,518,519,520,521,522,523,524,525,526,527,528,529,530,531,532,533,534,535,536,537,538,539,540,541,542,543,544,545,546,547,548,549,550,551,552,553,554,555,556,557,558,559,560,561,562,563,564,565,566,567,568,569,570,571,572,573,574,575,576,577,578,579,580,581,582,583,584,585,586,587,588,589,590,591,592,593,594,595,596,597,598,599,600,601,602,603,604,605,606,607,608,609,610,611,612,613,614,615,616,617,618,619,620,621,622,623,624,625,626,627,628,629,630,631,632,633,634,635,636,637,638,639,640,641,642,643,644,645,646,647,648,649,650,651,652,653,654,655,656,657,658,659,660,661,662,663,664,665,666,667,668,669,670,671,672,673,674,675,676,677,678,679,680,681,682,683,684,685,686,687,688,689,690,691,692,693,694,695,696,697,698,699,700,701,702,703,704,705,706,707,708,709,710,711,712,713,714,715,716,717,718,719,720,721,722,723,724,725,726,727,728,729,730,731,732,733,734,735,736,737,738,739,740,741,742,743,744,745,746,747,748,749,750,751,752,753,754,755,756,757,758,759,760,761,762,763,764,765,766,767,768,769,770,771,772,773,774,775,776,777,778,779,780,781,782,783,784,785,786,787,788,789,790,791,792,793,794,795,796,797,798,799,800,801,802,803,804,805,806,807,808,809,810,811,812,813,814,815,816,817,818,819,820,821,822,823,824,825,826,827,828,829,830,831,832,833,834,835,836,837,838,839,840,841,842,843,844,845,846,847,848,849,850,851,852,853,854,855,856,857,858,859,860,861,862,863,864,865,866,867,868,869,870,871,872,873,874,875,876,877,878,879,880,881,882,883,884,885,886,887,888,889,890,891,892,893,894,895,896,897,898,899,900,901,902,903,904,905,906,907,908,909,910,911,912,913,914,915,916,917,918,919,920,921,922,923,924,925,926,927,928,929,930,931,932,933,934,935,936,937,938,939,940,941,942,943,944,945,946,947,948,949,950,951,952,953,954,955,956,957,958,959,960,961,962,963,964,965,966,967,968,969,970,971,972,973,974,975,976,977,978,979,980,981,982,983,984,985,986,987,988,989,990,991,992,993,994,995,996,997,998,999],\"y\":{\"__ndarray__\":\"XPId9jw7YkBc8h32PDtiQFzyHfY8O2JAXPId9jw7YkBc8h32PDtiQFzyHfY8O2JAXPId9jw7YkBc8h32PDtiQFzyHfY8O2JAXPId9jw7YkBc8h32PDtiQFzyHfY8O2JAXPId9jw7YkBc8h32PDtiQFzyHfY8O2JAXPId9jw7YkBc8h32PDtiQFzyHfY8O2JAXPId9jw7YkBc8h32PDtiQFzyHfY8O2JAXPId9jw7YkBc8h32PDtiQFzyHfY8O2JAXPId9jw7YkBc8h32PDtiQFzyHfY8O2JAXPId9jw7YkBc8h32PDtiQFzyHfY8O2JAXPId9jw7YkBc8h32PDtiQFzyHfY8O2JAXPId9jw7YkBc8h32PDtiQFzyHfY8O2JAXPId9jw7YkBc8h32PDtiQFzyHfY8O2JAXPId9jw7YkBc8h32PDtiQFzyHfY8O2JAXPId9jw7YkBc8h32PDtiQFzyHfY8O2JAXPId9jw7YkBc8h32PDtiQFzyHfY8O2JAXPId9jw7YkBc8h32PDtiQFzyHfY8O2JAXPId9jw7YkBc8h32PDtiQFzyHfY8O2JAXPId9jw7YkBc8h32PDtiQFzyHfY8O2JAXPId9jw7YkBc8h32PDtiQFzyHfY8O2JAXPId9jw7YkBc8h32PDtiQFzyHfY8O2JAXPId9jw7YkBc8h32PDtiQFzyHfY8O2JAXPId9jw7YkBc8h32PDtiQFzyHfY8O2JAXPId9jw7YkBc8h32PDtiQFzyHfY8O2JAXPId9jw7YkBc8h32PDtiQFzyHfY8O2JAXPId9jw7YkBc8h32PDtiQFzyHfY8O2JAXPId9jw7YkBc8h32PDtiQFzyHfY8O2JAXPId9jw7YkBc8h32PDtiQFzyHfY8O2JAXPId9jw7YkBc8h32PDtiQFzyHfY8O2JAXPId9jw7YkBc8h32PDtiQFzyHfY8O2JAXPId9jw7YkBc8h32PDtiQFzyHfY8O2JAXPId9jw7YkBc8h32PDtiQFzyHfY8O2JAXPId9jw7YkBc8h32PDtiQFzyHfY8O2JAXPId9jw7YkBc8h32PDtiQFzyHfY8O2JAXPId9jw7YkBc8h32PDtiQFzyHfY8O2JAXPId9jw7YkBc8h32PDtiQFzyHfY8O2JAXPId9jw7YkBc8h32PDtiQFzyHfY8O2JAXPId9jw7YkBc8h32PDtiQFzyHfY8O2JAXPId9jw7YkBc8h32PDtiQFzyHfY8O2JAXPId9jw7YkBc8h32PDtiQFzyHfY8O2JAXPId9jw7YkBc8h32PDtiQFzyHfY8O2JAXPId9jw7YkBc8h32PDtiQFzyHfY8O2JAXPId9jw7YkBc8h32PDtiQFzyHfY8O2JAXPId9jw7YkBc8h32PDtiQFzyHfY8O2JAXPId9jw7YkBc8h32PDtiQFzyHfY8O2JAXPId9jw7YkBc8h32PDtiQFzyHfY8O2JAXPId9jw7YkBc8h32PDtiQFzyHfY8O2JAXPId9jw7YkBc8h32PDtiQFzyHfY8O2JAXPId9jw7YkBc8h32PDtiQFzyHfY8O2JAXPId9jw7YkBc8h32PDtiQFzyHfY8O2JAXPId9jw7YkBc8h32PDtiQFzyHfY8O2JAXPId9jw7YkBc8h32PDtiQFzyHfY8O2JAXPId9jw7YkBc8h32PDtiQFzyHfY8O2JAXPId9jw7YkBc8h32PDtiQFzyHfY8O2JAXPId9jw7YkBc8h32PDtiQFzyHfY8O2JAXPId9jw7YkBc8h32PDtiQFzyHfY8O2JAXPId9jw7YkBc8h32PDtiQFzyHfY8O2JAXPId9jw7YkBc8h32PDtiQFzyHfY8O2JAXPId9jw7YkBc8h32PDtiQFzyHfY8O2JAXPId9jw7YkBc8h32PDtiQFzyHfY8O2JAXPId9jw7YkBc8h32PDtiQFzyHfY8O2JAXPId9jw7YkBc8h32PDtiQFzyHfY8O2JAXPId9jw7YkBc8h32PDtiQFzyHfY8O2JAXPId9jw7YkBc8h32PDtiQFzyHfY8O2JAXPId9jw7YkBc8h32PDtiQFzyHfY8O2JAXPId9jw7YkBc8h32PDtiQFzyHfY8O2JAXPId9jw7YkBc8h32PDtiQFzyHfY8O2JAXPId9jw7YkBc8h32PDtiQFzyHfY8O2JAXPId9jw7YkBc8h32PDtiQFzyHfY8O2JAXPId9jw7YkBc8h32PDtiQFzyHfY8O2JAXPId9jw7YkBc8h32PDtiQFzyHfY8O2JAXPId9jw7YkBc8h32PDtiQFzyHfY8O2JAXPId9jw7YkBc8h32PDtiQFzyHfY8O2JAXPId9jw7YkBc8h32PDtiQFzyHfY8O2JAXPId9jw7YkBc8h32PDtiQFzyHfY8O2JAXPId9jw7YkBc8h32PDtiQFzyHfY8O2JAXPId9jw7YkBc8h32PDtiQFzyHfY8O2JAXPId9jw7YkBc8h32PDtiQFzyHfY8O2JAXPId9jw7YkBc8h32PDtiQFzyHfY8O2JAXPId9jw7YkBc8h32PDtiQFzyHfY8O2JAXPId9jw7YkBc8h32PDtiQFzyHfY8O2JAXPId9jw7YkBc8h32PDtiQFzyHfY8O2JAXPId9jw7YkBc8h32PDtiQFzyHfY8O2JAXPId9jw7YkBc8h32PDtiQFzyHfY8O2JAXPId9jw7YkBc8h32PDtiQFzyHfY8O2JAXPId9jw7YkBc8h32PDtiQFzyHfY8O2JAXPId9jw7YkBc8h32PDtiQFzyHfY8O2JAXPId9jw7YkBc8h32PDtiQFzyHfY8O2JAXPId9jw7YkBc8h32PDtiQFzyHfY8O2JAXPId9jw7YkBc8h32PDtiQFzyHfY8O2JAXPId9jw7YkBc8h32PDtiQFzyHfY8O2JAXPId9jw7YkBc8h32PDtiQFzyHfY8O2JAXPId9jw7YkBc8h32PDtiQFzyHfY8O2JAXPId9jw7YkBc8h32PDtiQFzyHfY8O2JAXPId9jw7YkBc8h32PDtiQFzyHfY8O2JAXPId9jw7YkBc8h32PDtiQFzyHfY8O2JAXPId9jw7YkBc8h32PDtiQFzyHfY8O2JAXPId9jw7YkBc8h32PDtiQFzyHfY8O2JAXPId9jw7YkBc8h32PDtiQFzyHfY8O2JAXPId9jw7YkBc8h32PDtiQFzyHfY8O2JAXPId9jw7YkBc8h32PDtiQFzyHfY8O2JAXPId9jw7YkBc8h32PDtiQFzyHfY8O2JAXPId9jw7YkBc8h32PDtiQFzyHfY8O2JAXPId9jw7YkBc8h32PDtiQFzyHfY8O2JAXPId9jw7YkBc8h32PDtiQFzyHfY8O2JAXPId9jw7YkBc8h32PDtiQFzyHfY8O2JAXPId9jw7YkBc8h32PDtiQFzyHfY8O2JAXPId9jw7YkBc8h32PDtiQFzyHfY8O2JAXPId9jw7YkBc8h32PDtiQFzyHfY8O2JAXPId9jw7YkBc8h32PDtiQFzyHfY8O2JAXPId9jw7YkBc8h32PDtiQFzyHfY8O2JAXPId9jw7YkBc8h32PDtiQFzyHfY8O2JAXPId9jw7YkBc8h32PDtiQFzyHfY8O2JAXPId9jw7YkBc8h32PDtiQFzyHfY8O2JAXPId9jw7YkBc8h32PDtiQFzyHfY8O2JAXPId9jw7YkBc8h32PDtiQFzyHfY8O2JAXPId9jw7YkBc8h32PDtiQFzyHfY8O2JAXPId9jw7YkBc8h32PDtiQFzyHfY8O2JAXPId9jw7YkBc8h32PDtiQFzyHfY8O2JAXPId9jw7YkBc8h32PDtiQFzyHfY8O2JAXPId9jw7YkBc8h32PDtiQFzyHfY8O2JAXPId9jw7YkBc8h32PDtiQFzyHfY8O2JAXPId9jw7YkBc8h32PDtiQFzyHfY8O2JAXPId9jw7YkBc8h32PDtiQFzyHfY8O2JAXPId9jw7YkBc8h32PDtiQFzyHfY8O2JAXPId9jw7YkBc8h32PDtiQFzyHfY8O2JAXPId9jw7YkBc8h32PDtiQFzyHfY8O2JAXPId9jw7YkBc8h32PDtiQFzyHfY8O2JAXPId9jw7YkBc8h32PDtiQFzyHfY8O2JAXPId9jw7YkBc8h32PDtiQFzyHfY8O2JAXPId9jw7YkBc8h32PDtiQFzyHfY8O2JAXPId9jw7YkBc8h32PDtiQFzyHfY8O2JAXPId9jw7YkBc8h32PDtiQFzyHfY8O2JAXPId9jw7YkBc8h32PDtiQFzyHfY8O2JAXPId9jw7YkBc8h32PDtiQFzyHfY8O2JAXPId9jw7YkBc8h32PDtiQFzyHfY8O2JAXPId9jw7YkBc8h32PDtiQFzyHfY8O2JAXPId9jw7YkBc8h32PDtiQFzyHfY8O2JAXPId9jw7YkBc8h32PDtiQFzyHfY8O2JAXPId9jw7YkBc8h32PDtiQFzyHfY8O2JAXPId9jw7YkBc8h32PDtiQFzyHfY8O2JAXPId9jw7YkBc8h32PDtiQFzyHfY8O2JAXPId9jw7YkBc8h32PDtiQFzyHfY8O2JAXPId9jw7YkBc8h32PDtiQFzyHfY8O2JAXPId9jw7YkBc8h32PDtiQFzyHfY8O2JAXPId9jw7YkBc8h32PDtiQFzyHfY8O2JAXPId9jw7YkBc8h32PDtiQFzyHfY8O2JAXPId9jw7YkBc8h32PDtiQFzyHfY8O2JAXPId9jw7YkBc8h32PDtiQFzyHfY8O2JAXPId9jw7YkBc8h32PDtiQFzyHfY8O2JAXPId9jw7YkBc8h32PDtiQFzyHfY8O2JAXPId9jw7YkBc8h32PDtiQFzyHfY8O2JAXPId9jw7YkBc8h32PDtiQFzyHfY8O2JAXPId9jw7YkBc8h32PDtiQFzyHfY8O2JAXPId9jw7YkBc8h32PDtiQP2pED1p2WBAXPId9jw7YkAf36N7E/1iQF81wlUNdmNAgj1HSgnGY0CGLD+89P1jQE2O6POqKGRASny89JFNZEAlSerTNXFkQHECw5BIlWRALjb5ZP+4ZEDyKTZOTdtkQF3o0GO1+2RA1esYg6sZZUBKdaAIuzRlQGGzphmYTGVALU/rBiJhZUDKzBmqXXJlQCEYGqFsgGVAtldBPISLZUDIXyN+5ZNlQPbne6zWmWVAMWytfZ6dZUBBjU67gJ9lQAECKSG8n2VAULxzPYmeZUB+luwYGpxlQJ/XB3CamGVAII81SDCUZUAhzZWo/I5lQJqMhyIciWVACGC4Y6aCZUDZmW8gvnxlQPFGC9BmdmVAVD3vBkxwZUB6zWOFpGplQP0WjdudZWVAG77ZU11hZUCwiuq1AF5lQF6r5JSeW2VAJ9Mk6kVaZUAgWsnT/FllQDOGO3C+WmVA9QBtAnhcZUBvtdkiBV9lQGFnwTMrYmVA8gyLvZZlZUAbMTIW22hlQCP2m2p1a2VABF/xs9NsZUBlwzMxX2xlQC12FOaIaWVAa1Hr2dVjZUBWs0HK6FplQMM7E9CHTmVA6CHNtZ0+ZUA2COLXNytlQEg/sPeBFGVAb99AXMH6ZED7FEExUN5kQJdvkZSZv2RAJzrCXhafZEDWhLJ6Sn1kQJqxx47CWmRAk1p9whE4ZEDAgCez1hVkQDYcWhqb9GNAngL74PLUY0A9+zlMbrdjQEGPnUOXnGNABsQDae6EY0D3DY3853BjQLrAd37oYGNAkExs/UBVY0Dhht8EK05jQMwNyDDES2NAQL6gjAlOY0D40cUF01RjQHfHrLnPX2NAjh1sz4NuY0DlYOzbSIBjQPwle8pRlGNAfsdy8LKpY0BJ8wJIbr9jQNNLXOaC1GNA8sZc4P3nY0Co6RNNCvljQL4dkCz+BmRA0YlUqWIRZEDxk7Iv9xdkQInWFtCvGmRAwkdGBrAZZED+hEU4QxVkQGOpeCLUDWRAZpQHHuQDZEAg+ungAvhjQDE2xhnH6mNASnYQIsjcY0AC8PfkmM5jQPknVCnEwGNAJE2ED8qzY0BYo2DfHqhjQP6HHfsqnmNAfIJvw0uWY0BOfkwp1ZBjQIwEQqATjmNAoZR9I06OY0C0rEoIyJFjQLr+9mrCmGNAJhSKHX2jY0A1uFEfN7JjQA3TSsMuxWNAuXWewaHcY0D5VBB1zfhjQCZrinLvGWRA1oiif0ZAZEDHNkG2E2xkQFEbmW+bnWRAqFoccSXVZEAQ6DLX+xJlQImOP1xoV2VAK8G+1K+iZUCr2Yj6C/VlQEY/mtqjTmZAzLWIYoOvZkDQEXWlkhdnQC/3XYGNhmdAv4qmW/z7Z0BFxL+6LndoQAS8ApQ492hAbbY9NPN6aUA4gCWtAgFqQIWPQ5fgh2pAOnf6ouwNa0CnSfHHgpFrQDDw+NMVEWxA8YY1ykuLbEDLZtY5GP9sQHchraVacW1AQtByGezhbUAq03E441BuQJ5+GnSZvm5AT+u6aaQrb0BKgOuxx5hvQI0HTtpxA3BAnGwfsXI7cED83bms3HRwQLq76L8hsHBA2gp7aK3tcEA+Bo4o5C1xQHcgE9UjcXFAqgiT9cO3cUBDbC+FFQJyQJ1rqoVhUHJAdGAg+OWickB+Donu0PlyQBNrHYU5VXNAVu1dsha1c0Ch4AcPNBl0QKjrYxUlgXRA5zdq/zfsdEAZn7tyall1QKPEQHljx3VAptSSYXc0dkBotwYGup52QASnIGkhBHdAS0DROrVid0DmpVVlwbh3QG5Y6z39BHhAtF0r7OJGeEB/Y1UdaY14QMaT+2V72HhALZJaDfIneUAGvtGfjXt5QGMr4q/00nlAHLpk+bItekB8ma3POYt6QG+8Bxni6npAVieWPPBLe0BW7/BZmq17QHzeNuMQD3xAyJxnSIlvfEDyJs7iSc58QJAW+d+1Kn1AqiATvFeEfUAW9wYN6dp9QJk34vFWLn5Aoc9ERMN+fkD3nAFwg8x+QFAcL2ceGH9AZMmfe0tif0BTSOsZ9Kt/QLc0f7o69n9A/7NtI0UhgEC61la1WUmAQKBJjTmRdIBALVOmW6KkgECseXpaKtyAQORALBySH4FAnJUCHW13gUCrggNyrfiBQDOObBDvcIJA/nHF7SPhgkCDC/qrBEqDQDYf1H81rINAUWMMIFQIhECa1KcH/F6EQGFdY2HGsIRA0+tMFEj+hEDVMqgzD0iFQLmof3mgjoVAseNuG3XShUBMRs0V+ROGQFCnA+6JU4ZAqnQq4nWRhkB/VRp8+82GQCp2wYNJCYdAmaGuU39Dh0DDu0GYrXyHQCCRtoPXtIdAVi0bfvTrh0AbDepP8iGIQO7pH7m3VohA3wwCVyeKiEDEq0KrIryIQNl0ZwuN7IhAfFLpOk4biUAcDOV3VEiJQLVdiNGVc4lAuE8LthCdiUC19yK/y8SJQA8e+NnU6olABwal9j8PikC4oYhyJTKKQPanYl6gU4pAdRHy3MxzikCJJiemxpKKQHI/f8SnsIpAd51GlofNikCMCCMXeumKQC+pBXOPBItAQlmI4dMei0CIgtHGTziLQFmbqRQIUYtAvvwu4/5oi0AlAME0NICLQEWJ+dSmlotACsTAP1Wsi0AXmIp8PsGLQBCGIdti1YtAVnv9gsToi0CgWGvLZ/uLQL1Ju1hTDYxAWOYyAJAejEDT48N4KC+MQCgxJeEoP4xAF6T/JJ5OjEA1pelKlV2MQObBnbQabIxARuTSWjl6jEAq7MsO+oeMQAMtKM1ilYxAK1dhL3aijED+O/4KM6+MQMkh1U2Uu4xAOdewJJHHjEAYtnV0HdOMQCj6VaUq3oxAV8yStKjojEACv7l1h/KMQE6eDeO3+4xA+vWlWC0EjUCaDX+Y3guNQG5I+H7GEo1A8GXQXOQYjUB6LgP6Ox6NQKIsiFDVIo1ANFCdFLwmjUDzfI8h/ymNQEyE5N6vLI1AiT05rOEujUALEehbqTCNQOv/+b4cMo1AsHm4QFIzjUA9aaaNYDSNQCIilEBeNY1Al0qmkGE2jUDP9zH8fzeNQLGb7u3NOI1AbX/iW146jUDC7UxhQjyNQFycZNaIPo1AEXLQ6T1BjUC7mSfAakSNQDbPeB0VSI1AxUroGz9MjUDQvwjx5lCNQL+368EGVo1AVdxMhJRbjUA6xwvqgWGNQNyrxFO8Z41AxxYuyCxujUAMCGDwt3SNQOnbsB0+e41AIKGUZJuBjUC7U4ngp4eNQJdSID44jY1AkPRSrh6SjUDeN+JjLJaNQNy0cKkzmY1AwQFpeAqbjUDKVI5BjZuNQGeNO2Ohmo1AIZgAtjaYjUAQAAPAR5SNQA1XvX3Yjo1Avwv/GfSHjUBMgTEyqn+NQGrP90MMdo1ARtCOrCtrjUC6ggNeGF+NQNSoojngUY1AUrpK5Y5DjUBeDuXtLTSNQNO47xHFI41AArEHm1oSjUChCAm48/+MQC3iDNGU7IxAHhVw00HYjEBBauZ2/sKMQNyLO37OrIxA6Jhl97WVjEAKMGB/uX2MQArZH4/eZIxAnizM1ytLjECehAq1qTCMQMajybtiFYxA9DFraWT5i0CPy/GKtNuLQM77FGA2vItAVaK+SOKai0AhJC0sw3eLQJVSS7fyUotAtK0zZZYsi0DzohBM3QSLQE0QCwT+24pA6VBMODSyikDOM3PkvYeKQEGl4IfYXIpAizYclb4xikBWxJwwpQaKQCQaeSe624lA6jWGDiKxiUASPbuz9oaJQGDvRkxGXYlAmH2E3xM0iUAYpaxDWQuJQCo0WacK44hAu2rjRRu7iEA/uTKrgpOIQNuxeOVBbIhApAkAKWhFiECLXWSoFh+IQG8/6KiD+YdAlPeNIf3Uh0BSDcCH67GHQFKlp/DVkIdAcJsYtGlyh0CQ4DAnileHQBMdyRD7PodAaFNd6tkih0Bge55kmACHQK+Cpd6A04ZAYrK8K3aWhkB53RnrekWGQKSwaRZf4IVA2tm+TS9phUArnBBWL+WEQA7MZp/6WIRAcBiZdo7Ig0BDCKaTPzeDQPalKmIRqIJAWOT2d8IagkD75HeNM5GBQOEMyON+DIFAd3prGayLgEBMvgCe+meAQJhObX+BqYBAjhC49xHOgEBvKhIOktCAQBmQAtoqqYBAwz4taeZYgED2q77OnAyAQNo2kPCEiX9AmRDbSEgAf0Bpwm2HcXx+QHBBbY/i/H1AAZryhn+AfUAW3dlONQZ9QOpACT/6jHxA1gXBlAMNfECUENax2YN7QEXc+3zS9HpAz4x0OL1fekDwHBp+nMV5QOPFFO9KJ3lAmiHjd2iFeEB2TN6NW+B3QEd6hmhcOHdAvEPk74SNdkCR09AK5N91QHPA4eWVL3VAVJt/yIp1dEBJHe5fq7BzQEyicqpe53JARE7xNAwhckA7j3nupmZxQExg7k7TI3JAURhCiV1uc0BRf4mrq9hzQOgw+wZ+pXNAWhZisrNxc0AcfPpfiz1zQFyygpU6CXNA0p20++/UckAxzBoB1aByQPcLWwIPbXJASUgxG8A5ckAQs225BwdyQEtkqQQD1XFAaQXxKM2jcUC8qaWPf3NxQCrS0g8yRHFAicLsHfsVcUCgLSkC8OhwQMY3WBwlvXBADdhFPK6ScEAJkz4Wn2lwQKN9X9wLQnBADObrBgoccEC6mAewYu9vQH15h1M6qm9AUhvuMdxob0DtzKRDmCtvQEXGJo7S8m5A2SrCugm/bkAJeL4m35BuQNQY8pEgaW5AagXOfNNIbkDuGwxSQjFuQG6ZS7uCHG5A9LkKfeX+bUBbva4749ltQNwgObVytW1AgWLCoauRbUBmurZLn25tQH5eCQhaTG1A175sUeQqbUAad7OfQwptQAWHeQ176mxADEcT2YvLbEBvhhXKda1sQAu6MYI3kGxARV1Jvs5zbECzrEmLOFhsQH/tanFxPWxAofu2l3UjbECesCzhQApsQHsaYQTP8WtAHfQXnhvaa0Byduc+IsNrQP7BjXPerGtApPgbx0uXa0A+RXa9ZYJrQOm0zcMnbmtA0kSPE41aa0CDz6aCkEdrQDbLsDksNWtA9SR/RVkja0C6Kbr0DhJrQByitutBAWtAiJa6zuLwakD5VM5T3OBqQAXZiVMf0WpA8ep+3LDBakBh4L3al7JqQBQpU5nQo2pAAfR0aVeVakDlDaSkKIdqQGxLKK5AeWpAJNcr9JtrakA926jwNl5qQJK8USoOUWpA5oqUNR5EakASY9W1YzdqQONt+F7bKmpAClJS94EeakAU7hRaVBJqQNm5TXpPBmpA6RKLZnD6aUCc1j1NtO5pQFjw7IEY42lA9OFQg5rXaUCAwm0COMxpQLzEwuruwGlA5Rana721aUAf+OwCoqppQIxd5Yibn2lAzrfgPamUaUA+ukzZyolpQLkAlJoAf2lAEefrW0t0aUBiAUinrGlpQPkWu80mX2lAAb+lAb1UaUC5kjZ0c0ppQIb36WtPQGlAYt7kUVc2aUB8kx3LkixpQNC7Q9oKI2lA9GHj/MkZaUDpg0tJ3BBpQOEfI41PCGlAIzqhbDMAaUDeHGaCmfhoQDuJ+H+V8WhArwPeTj3raEAAexcyqeVoQEhoXufz4GhARN2oxjrdaEC+hgjdndpoQAartP0/2WhAruTfwEbZaEDD0Bdk2tpoQAAAAAAAAAAAAAAAAAAAAAA=\",\"dtype\":\"float64\",\"shape\":[1000]}},\"selected\":{\"id\":\"1310\",\"type\":\"Selection\"},\"selection_policy\":{\"id\":\"1309\",\"type\":\"UnionRenderers\"}},\"id\":\"1271\",\"type\":\"ColumnDataSource\"},{\"attributes\":{\"formatter\":{\"id\":\"1306\",\"type\":\"BasicTickFormatter\"},\"ticker\":{\"id\":\"1253\",\"type\":\"BasicTicker\"}},\"id\":\"1252\",\"type\":\"LinearAxis\"},{\"attributes\":{},\"id\":\"1263\",\"type\":\"PanTool\"},{\"attributes\":{},\"id\":\"1308\",\"type\":\"BasicTickFormatter\"},{\"attributes\":{\"data_source\":{\"id\":\"1271\",\"type\":\"ColumnDataSource\"},\"glyph\":{\"id\":\"1272\",\"type\":\"Line\"},\"hover_glyph\":null,\"muted_glyph\":null,\"nonselection_glyph\":{\"id\":\"1273\",\"type\":\"Line\"},\"selection_glyph\":null,\"view\":{\"id\":\"1275\",\"type\":\"CDSView\"}},\"id\":\"1274\",\"type\":\"GlyphRenderer\"},{\"attributes\":{},\"id\":\"1306\",\"type\":\"BasicTickFormatter\"},{\"attributes\":{},\"id\":\"1250\",\"type\":\"LinearScale\"},{\"attributes\":{\"callback\":null,\"data\":{\"x\":[488,775,997],\"y\":{\"__ndarray__\":\"AQIpIbyfZUDKVI5BjZuNQMPQF2Ta2mhA\",\"dtype\":\"float64\",\"shape\":[3]}},\"selected\":{\"id\":\"1312\",\"type\":\"Selection\"},\"selection_policy\":{\"id\":\"1311\",\"type\":\"UnionRenderers\"}},\"id\":\"1276\",\"type\":\"ColumnDataSource\"},{\"attributes\":{\"overlay\":{\"id\":\"1313\",\"type\":\"BoxAnnotation\"}},\"id\":\"1264\",\"type\":\"BoxZoomTool\"},{\"attributes\":{\"active_drag\":\"auto\",\"active_inspect\":\"auto\",\"active_multi\":null,\"active_scroll\":\"auto\",\"active_tap\":\"auto\",\"tools\":[{\"id\":\"1262\",\"type\":\"WheelZoomTool\"},{\"id\":\"1263\",\"type\":\"PanTool\"},{\"id\":\"1264\",\"type\":\"BoxZoomTool\"},{\"id\":\"1265\",\"type\":\"ResetTool\"}]},\"id\":\"1266\",\"type\":\"Toolbar\"},{\"attributes\":{\"ticker\":{\"id\":\"1253\",\"type\":\"BasicTicker\"}},\"id\":\"1256\",\"type\":\"Grid\"},{\"attributes\":{\"source\":{\"id\":\"1271\",\"type\":\"ColumnDataSource\"}},\"id\":\"1275\",\"type\":\"CDSView\"},{\"attributes\":{\"dimensions\":\"width\"},\"id\":\"1262\",\"type\":\"WheelZoomTool\"},{\"attributes\":{},\"id\":\"1312\",\"type\":\"Selection\"},{\"attributes\":{},\"id\":\"1258\",\"type\":\"BasicTicker\"},{\"attributes\":{\"callback\":null},\"id\":\"1246\",\"type\":\"DataRange1d\"},{\"attributes\":{},\"id\":\"1253\",\"type\":\"BasicTicker\"},{\"attributes\":{\"line_alpha\":0.1,\"line_color\":\"#1f77b4\",\"line_width\":2,\"x\":{\"field\":\"x\"},\"y\":{\"field\":\"y\"}},\"id\":\"1273\",\"type\":\"Line\"},{\"attributes\":{\"text\":\"\"},\"id\":\"1304\",\"type\":\"Title\"},{\"attributes\":{\"line_color\":\"#1f77b4\",\"line_width\":2,\"x\":{\"field\":\"x\"},\"y\":{\"field\":\"y\"}},\"id\":\"1272\",\"type\":\"Line\"},{\"attributes\":{},\"id\":\"1309\",\"type\":\"UnionRenderers\"},{\"attributes\":{\"formatter\":{\"id\":\"1308\",\"type\":\"BasicTickFormatter\"},\"ticker\":{\"id\":\"1258\",\"type\":\"BasicTicker\"}},\"id\":\"1257\",\"type\":\"LinearAxis\"},{\"attributes\":{\"fill_alpha\":{\"value\":0.1},\"fill_color\":{\"value\":\"#1f77b4\"},\"line_alpha\":{\"value\":0.1},\"line_color\":{\"value\":\"#1f77b4\"},\"size\":{\"units\":\"screen\",\"value\":15},\"x\":{\"field\":\"x\"},\"y\":{\"field\":\"y\"}},\"id\":\"1278\",\"type\":\"Scatter\"},{\"attributes\":{\"source\":{\"id\":\"1276\",\"type\":\"ColumnDataSource\"}},\"id\":\"1280\",\"type\":\"CDSView\"},{\"attributes\":{\"fill_color\":{\"value\":\"red\"},\"line_color\":{\"value\":\"#1f77b4\"},\"size\":{\"units\":\"screen\",\"value\":15},\"x\":{\"field\":\"x\"},\"y\":{\"field\":\"y\"}},\"id\":\"1277\",\"type\":\"Scatter\"},{\"attributes\":{},\"id\":\"1265\",\"type\":\"ResetTool\"},{\"attributes\":{\"bottom_units\":\"screen\",\"fill_alpha\":{\"value\":0.5},\"fill_color\":{\"value\":\"lightgrey\"},\"left_units\":\"screen\",\"level\":\"overlay\",\"line_alpha\":{\"value\":1.0},\"line_color\":{\"value\":\"black\"},\"line_dash\":[4,4],\"line_width\":{\"value\":2},\"render_mode\":\"css\",\"right_units\":\"screen\",\"top_units\":\"screen\"},\"id\":\"1313\",\"type\":\"BoxAnnotation\"},{\"attributes\":{\"data_source\":{\"id\":\"1276\",\"type\":\"ColumnDataSource\"},\"glyph\":{\"id\":\"1277\",\"type\":\"Scatter\"},\"hover_glyph\":null,\"muted_glyph\":null,\"nonselection_glyph\":{\"id\":\"1278\",\"type\":\"Scatter\"},\"selection_glyph\":null,\"view\":{\"id\":\"1280\",\"type\":\"CDSView\"}},\"id\":\"1279\",\"type\":\"GlyphRenderer\"}],\"root_ids\":[\"1243\"]},\"title\":\"Bokeh Application\",\"version\":\"1.4.0\"}};\n",
       "  var render_items = [{\"docid\":\"c7ccd30e-5a1b-41cd-87bf-6b5277c92d1a\",\"roots\":{\"1243\":\"8c61416e-9ea3-42d9-9e77-c59c991852e7\"}}];\n",
       "  root.Bokeh.embed.embed_items_notebook(docs_json, render_items);\n",
       "\n",
       "  }\n",
       "  if (root.Bokeh !== undefined) {\n",
       "    embed_document(root);\n",
       "  } else {\n",
       "    var attempts = 0;\n",
       "    var timer = setInterval(function(root) {\n",
       "      if (root.Bokeh !== undefined) {\n",
       "        clearInterval(timer);\n",
       "        embed_document(root);\n",
       "      } else {\n",
       "        attempts++;\n",
       "        if (attempts > 100) {\n",
       "          clearInterval(timer);\n",
       "          console.log(\"Bokeh: ERROR: Unable to run BokehJS code because BokehJS library is missing\");\n",
       "        }\n",
       "      }\n",
       "    }, 10, root)\n",
       "  }\n",
       "})(window);"
      ],
      "application/vnd.bokehjs_exec.v0+json": ""
     },
     "metadata": {
      "application/vnd.bokehjs_exec.v0+json": {
       "id": "1243"
      }
     },
     "output_type": "display_data"
    }
   ],
   "source": [
    "ratios_plot(ratios, peaks)"
   ]
  },
  {
   "cell_type": "markdown",
   "metadata": {
    "ExecuteTime": {
     "end_time": "2019-11-01T15:55:50.372178Z",
     "start_time": "2019-11-01T15:55:50.369179Z"
    }
   },
   "source": [
    "# Real data"
   ]
  },
  {
   "cell_type": "code",
   "execution_count": 5,
   "metadata": {
    "ExecuteTime": {
     "end_time": "2020-01-21T16:51:41.472550Z",
     "start_time": "2020-01-21T16:51:41.266296Z"
    }
   },
   "outputs": [
    {
     "name": "stdout",
     "output_type": "stream",
     "text": [
      "Len of dataset: 12801\n"
     ]
    }
   ],
   "source": [
    "data = pd.read_csv('data/processed/tep_data.csv', index_col='Index')\n",
    "print(f'Len of dataset: {data.shape[0]}')"
   ]
  },
  {
   "cell_type": "code",
   "execution_count": 6,
   "metadata": {
    "ExecuteTime": {
     "end_time": "2020-01-21T16:51:41.977620Z",
     "start_time": "2020-01-21T16:51:41.970398Z"
    }
   },
   "outputs": [],
   "source": [
    "search_params = dict(\n",
    "    width_candidates=[200, 500, 750, 1000],\n",
    "    sigma_candidates=np.array([5, 10, 20, 50, 100], dtype=np.float32),\n",
    "    chunk_size=500,\n",
    "    R=3,\n",
    ")\n",
    "\n",
    "params = dict(\n",
    "    n_rf_te=50,\n",
    "    verbose=True,\n",
    "    # build args\n",
    "    eps=0.001, min_delta=0.01, iterations=100,\n",
    "    # update args\n",
    "    learning_rate=1, reg_parameter=0.01,\n",
    ")"
   ]
  },
  {
   "cell_type": "markdown",
   "metadata": {
    "heading_collapsed": true
   },
   "source": [
    "## Вставка change-point"
   ]
  },
  {
   "cell_type": "markdown",
   "metadata": {
    "hidden": true
   },
   "source": [
    "### Все компоненты"
   ]
  },
  {
   "cell_type": "code",
   "execution_count": null,
   "metadata": {
    "ExecuteTime": {
     "end_time": "2020-01-21T16:16:57.856786Z",
     "start_time": "2020-01-21T16:16:57.562Z"
    },
    "hidden": true
   },
   "outputs": [],
   "source": [
    "from src.data.generate import insert_anomalies\n",
    "\n",
    "anomalies_kwargs = dict(\n",
    "    amount=30,\n",
    "    axis=0,\n",
    "    anomaly_length=50\n",
    ")"
   ]
  },
  {
   "cell_type": "code",
   "execution_count": null,
   "metadata": {
    "ExecuteTime": {
     "end_time": "2020-01-21T16:16:57.858496Z",
     "start_time": "2020-01-21T16:16:57.564Z"
    },
    "hidden": true
   },
   "outputs": [],
   "source": [
    "changed_df, anom_start_idxs = insert_anomalies(data, **anomalies_kwargs)"
   ]
  },
  {
   "cell_type": "code",
   "execution_count": null,
   "metadata": {
    "ExecuteTime": {
     "end_time": "2020-01-21T16:16:57.860185Z",
     "start_time": "2020-01-21T16:16:57.567Z"
    },
    "hidden": true,
    "scrolled": true
   },
   "outputs": [],
   "source": [
    "ratios, _, peaks = compute_ratios(changed_df, [100, 200, 500], params, ratio=0.1)"
   ]
  },
  {
   "cell_type": "code",
   "execution_count": null,
   "metadata": {
    "ExecuteTime": {
     "end_time": "2020-01-21T16:16:57.861849Z",
     "start_time": "2020-01-21T16:16:57.570Z"
    },
    "hidden": true
   },
   "outputs": [],
   "source": [
    "ratios_plot(ratios, peaks, anom_start_idxs, anomalies_kwargs['anomaly_length'], params['window_width'])"
   ]
  },
  {
   "cell_type": "code",
   "execution_count": null,
   "metadata": {
    "ExecuteTime": {
     "end_time": "2020-01-21T16:16:57.863325Z",
     "start_time": "2020-01-21T16:16:57.572Z"
    },
    "hidden": true,
    "scrolled": true
   },
   "outputs": [],
   "source": [
    "width, height = 8, 4\n",
    "ncols = 2\n",
    "nrows = 21\n",
    "\n",
    "plt.figure(figsize=(width * ncols, height * nrows))\n",
    "for i in range(changed_df.shape[1]):\n",
    "    plt.subplot(nrows, ncols, i+1)\n",
    "    plt.title(f'Component {i+1}')\n",
    "    plt.plot(changed_df[:, i])\n",
    "\n",
    "for start_idx in anom_start_idxs:\n",
    "    i, j = start_idx\n",
    "    plt.subplot(nrows, ncols, j+1)\n",
    "    right = i+anomalies_kwargs['anomaly_length']\n",
    "    plt.plot(np.arange(i,right),changed_df[i:right, j], c='r')"
   ]
  },
  {
   "cell_type": "markdown",
   "metadata": {
    "hidden": true
   },
   "source": [
    "### Одна компонента"
   ]
  },
  {
   "cell_type": "code",
   "execution_count": null,
   "metadata": {
    "ExecuteTime": {
     "end_time": "2020-01-21T16:16:57.865273Z",
     "start_time": "2020-01-21T16:16:57.575Z"
    },
    "hidden": true
   },
   "outputs": [],
   "source": [
    "component = 7\n",
    "\n",
    "rat = data[str(component)]"
   ]
  },
  {
   "cell_type": "code",
   "execution_count": null,
   "metadata": {
    "ExecuteTime": {
     "end_time": "2020-01-21T16:16:57.866918Z",
     "start_time": "2020-01-21T16:16:57.577Z"
    },
    "hidden": true
   },
   "outputs": [],
   "source": [
    "from src.data.generate import insert_anomalies\n",
    "\n",
    "anomalies_kwargs = dict(\n",
    "    amount=10,\n",
    "    axis=0,\n",
    "    anomaly_length=50\n",
    ")\n",
    "\n",
    "changed_rat, anom_start_idxs = insert_anomalies(rat.to_numpy().reshape(-1, 1), **anomalies_kwargs)"
   ]
  },
  {
   "cell_type": "code",
   "execution_count": null,
   "metadata": {
    "ExecuteTime": {
     "end_time": "2020-01-21T16:16:57.868594Z",
     "start_time": "2020-01-21T16:16:57.581Z"
    },
    "hidden": true,
    "scrolled": true
   },
   "outputs": [],
   "source": [
    "ratios, _, peaks = compute_ratios(changed_rat, [100, 150, 200, 500], params, ratio=0.3)"
   ]
  },
  {
   "cell_type": "code",
   "execution_count": null,
   "metadata": {
    "ExecuteTime": {
     "end_time": "2020-01-21T16:16:57.870085Z",
     "start_time": "2020-01-21T16:16:57.583Z"
    },
    "hidden": true
   },
   "outputs": [],
   "source": [
    "ratios_plot(ratios, peaks, anom_start_idxs, anomalies_kwargs['anomaly_length'], params['window_width'])"
   ]
  },
  {
   "cell_type": "code",
   "execution_count": null,
   "metadata": {
    "ExecuteTime": {
     "end_time": "2020-01-21T16:16:57.871581Z",
     "start_time": "2020-01-21T16:16:57.585Z"
    },
    "hidden": true,
    "scrolled": false
   },
   "outputs": [],
   "source": [
    "width, height = 14, 8\n",
    "\n",
    "plt.figure(figsize=(width, height))\n",
    "\n",
    "plt.plot(changed_rat)\n",
    "for start_idx in anom_start_idxs:\n",
    "    i, j = start_idx\n",
    "    right = i+anomalies_kwargs['anomaly_length']\n",
    "    plt.plot(np.arange(i,right),changed_rat[i:right, j], c='r')"
   ]
  },
  {
   "cell_type": "markdown",
   "metadata": {},
   "source": [
    "## Без вставки change-point'ов"
   ]
  },
  {
   "cell_type": "code",
   "execution_count": null,
   "metadata": {
    "ExecuteTime": {
     "start_time": "2020-01-21T16:53:40.911Z"
    },
    "scrolled": false
   },
   "outputs": [
    {
     "name": "stdout",
     "output_type": "stream",
     "text": [
      "Finding hyperparams...\n",
      "Candidate 200\n"
     ]
    },
    {
     "name": "stderr",
     "output_type": "stream",
     "text": [
      "/home/rosneft_user_2500/anomaly-detection/src/models/DDRE.py:171: NumbaPerformanceWarning:\n",
      "\n",
      "\u001b[1m\u001b[1m\u001b[1m\u001b[1mnp.dot() is faster on contiguous arrays, called on (array(float64, 1d, A), array(float64, 1d, A))\u001b[0m\u001b[0m\u001b[0m\u001b[0m\n",
      "\n",
      "/home/rosneft_user_2500/anomaly-detection/src/models/DDRE.py:171: NumbaPerformanceWarning:\n",
      "\n",
      "\u001b[1m\u001b[1m\u001b[1mnp.dot() is faster on contiguous arrays, called on (array(float64, 2d, C), array(float64, 1d, A))\u001b[0m\u001b[0m\u001b[0m\n",
      "\n"
     ]
    },
    {
     "name": "stdout",
     "output_type": "stream",
     "text": [
      "Optimal sigma is: 100.0\n"
     ]
    },
    {
     "name": "stderr",
     "output_type": "stream",
     "text": [
      "/home/rosneft_user_2500/anomaly-detection/src/models/DDRE.py:245: NumbaPerformanceWarning:\n",
      "\n",
      "\u001b[1m\u001b[1m\u001b[1mnp.dot() is faster on contiguous arrays, called on (array(float64, 2d, C), array(float64, 1d, A))\u001b[0m\u001b[0m\u001b[0m\n",
      "\n"
     ]
    },
    {
     "name": "stdout",
     "output_type": "stream",
     "text": [
      "Computing ratios in parrallel with 2 chunks\n",
      "0 35 %\n",
      "1 35 %\n",
      "0 40 %\n",
      "1 40 %\n",
      "0 45 %\n",
      "1 45 %\n",
      "0 50 %\n",
      "1 50 %\n",
      "0 55 %\n",
      "1 55 %\n",
      "0 60 %\n",
      "1 60 %\n"
     ]
    }
   ],
   "source": [
    "ratios, _, peaks = compute_ratios(data.to_numpy(), search_params, params)"
   ]
  },
  {
   "cell_type": "code",
   "execution_count": null,
   "metadata": {
    "ExecuteTime": {
     "end_time": "2020-01-21T16:16:57.874877Z",
     "start_time": "2020-01-21T16:16:57.591Z"
    }
   },
   "outputs": [],
   "source": [
    "peaks_, _ = find_peaks(ratios, distance=params['window_width'], height=21)"
   ]
  },
  {
   "cell_type": "code",
   "execution_count": null,
   "metadata": {
    "ExecuteTime": {
     "end_time": "2020-01-21T16:16:57.876941Z",
     "start_time": "2020-01-21T16:16:57.593Z"
    }
   },
   "outputs": [],
   "source": [
    "# Было\n",
    "ratios_plot(ratios, peaks_)"
   ]
  },
  {
   "cell_type": "code",
   "execution_count": null,
   "metadata": {
    "ExecuteTime": {
     "end_time": "2020-01-21T16:16:57.880405Z",
     "start_time": "2020-01-21T16:16:57.597Z"
    }
   },
   "outputs": [],
   "source": [
    "np.save('ddre-ratios.npy', ratios)\n",
    "np.save('ddre-peaks.npy', peaks)"
   ]
  },
  {
   "cell_type": "code",
   "execution_count": null,
   "metadata": {},
   "outputs": [],
   "source": []
  },
  {
   "cell_type": "code",
   "execution_count": null,
   "metadata": {},
   "outputs": [],
   "source": []
  },
  {
   "cell_type": "code",
   "execution_count": null,
   "metadata": {},
   "outputs": [],
   "source": []
  },
  {
   "cell_type": "code",
   "execution_count": null,
   "metadata": {},
   "outputs": [],
   "source": []
  }
 ],
 "metadata": {
  "celltoolbar": "Slideshow",
  "file_extension": ".py",
  "kernelspec": {
   "display_name": "Python 3",
   "language": "python",
   "name": "python3"
  },
  "language_info": {
   "codemirror_mode": {
    "name": "ipython",
    "version": 3
   },
   "file_extension": ".py",
   "mimetype": "text/x-python",
   "name": "python",
   "nbconvert_exporter": "python",
   "pygments_lexer": "ipython3",
   "version": "3.7.6"
  },
  "mimetype": "text/x-python",
  "name": "python",
  "npconvert_exporter": "python",
  "pygments_lexer": "ipython3",
  "toc": {
   "base_numbering": 1,
   "nav_menu": {},
   "number_sections": true,
   "sideBar": true,
   "skip_h1_title": false,
   "title_cell": "Table of Contents",
   "title_sidebar": "Contents",
   "toc_cell": false,
   "toc_position": {
    "height": "calc(100% - 180px)",
    "left": "10px",
    "top": "150px",
    "width": "384px"
   },
   "toc_section_display": true,
   "toc_window_display": true
  },
  "varInspector": {
   "cols": {
    "lenName": 16,
    "lenType": 16,
    "lenVar": 40
   },
   "kernels_config": {
    "python": {
     "delete_cmd_postfix": "",
     "delete_cmd_prefix": "del ",
     "library": "var_list.py",
     "varRefreshCmd": "print(var_dic_list())"
    },
    "r": {
     "delete_cmd_postfix": ") ",
     "delete_cmd_prefix": "rm(",
     "library": "var_list.r",
     "varRefreshCmd": "cat(var_dic_list()) "
    }
   },
   "types_to_exclude": [
    "module",
    "function",
    "builtin_function_or_method",
    "instance",
    "_Feature"
   ],
   "window_display": false
  },
  "version": 3
 },
 "nbformat": 4,
 "nbformat_minor": 2
}
