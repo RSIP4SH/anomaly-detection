{
 "cells": [
  {
   "cell_type": "code",
   "execution_count": 1,
   "metadata": {
    "ExecuteTime": {
     "end_time": "2019-09-09T17:49:40.197161Z",
     "start_time": "2019-09-09T17:49:39.564398Z"
    }
   },
   "outputs": [],
   "source": [
    "import numpy as np\n",
    "import pandas as pd\n",
    "import matplotlib.pyplot as plt"
   ]
  },
  {
   "cell_type": "code",
   "execution_count": 2,
   "metadata": {
    "ExecuteTime": {
     "end_time": "2019-09-09T17:49:40.203568Z",
     "start_time": "2019-09-09T17:49:40.199026Z"
    }
   },
   "outputs": [
    {
     "name": "stdout",
     "output_type": "stream",
     "text": [
      "/mnt/d/anomaly-detection\n"
     ]
    }
   ],
   "source": [
    "%cd .."
   ]
  },
  {
   "cell_type": "code",
   "execution_count": 3,
   "metadata": {
    "ExecuteTime": {
     "end_time": "2019-09-09T17:49:40.434236Z",
     "start_time": "2019-09-09T17:49:40.205574Z"
    }
   },
   "outputs": [
    {
     "name": "stdout",
     "output_type": "stream",
     "text": [
      "Len of dataset: 12801\n"
     ]
    }
   ],
   "source": [
    "data = pd.read_csv('data/processed/tep_data.csv', index_col='Index')\n",
    "print(f'Len of dataset: {data.shape[0]}')"
   ]
  },
  {
   "cell_type": "code",
   "execution_count": 4,
   "metadata": {
    "ExecuteTime": {
     "end_time": "2019-09-09T17:49:42.911665Z",
     "start_time": "2019-09-09T17:49:40.435868Z"
    }
   },
   "outputs": [],
   "source": [
    "window_length = 64\n",
    "stride = 0\n",
    "\n",
    "X = np.array([\n",
    "    data.iloc[i - window_length:i].to_numpy().flatten()\n",
    "    for i in range(window_length, data.shape[0] - window_length - stride)\n",
    "]).reshape(-1, window_length, data.shape[1])"
   ]
  },
  {
   "cell_type": "code",
   "execution_count": 5,
   "metadata": {
    "ExecuteTime": {
     "end_time": "2019-09-09T17:49:44.837822Z",
     "start_time": "2019-09-09T17:49:42.914097Z"
    }
   },
   "outputs": [
    {
     "name": "stderr",
     "output_type": "stream",
     "text": [
      "Using TensorFlow backend.\n"
     ]
    }
   ],
   "source": [
    "from src.models.autoencoder import build_autoencoder\n",
    "import keras\n",
    "\n",
    "build_params = dict(\n",
    "    input_shape=window_length,\n",
    "    layers_size=[16, window_length],\n",
    "    optimizer=keras.optimizers.Adam(lr=0.01),\n",
    "    reg_strength=0.005,\n",
    ")\n",
    "\n",
    "fit_params = dict(\n",
    "    batch_size=64,\n",
    "    epochs=10,\n",
    "    verbose=1,\n",
    "    callbacks=[keras.callbacks.ReduceLROnPlateau()]\n",
    ")\n",
    "\n",
    "model_fn = lambda: build_autoencoder(**build_params)"
   ]
  },
  {
   "cell_type": "code",
   "execution_count": 6,
   "metadata": {
    "ExecuteTime": {
     "end_time": "2019-09-09T17:49:50.775045Z",
     "start_time": "2019-09-09T17:49:44.839793Z"
    },
    "scrolled": true
   },
   "outputs": [
    {
     "name": "stderr",
     "output_type": "stream",
     "text": [
      "WARNING: Logging before flag parsing goes to stderr.\n",
      "W0909 20:49:45.375897 140288693962560 deprecation_wrapper.py:119] From /home/elch10/miniconda3/lib/python3.7/site-packages/keras/backend/tensorflow_backend.py:74: The name tf.get_default_graph is deprecated. Please use tf.compat.v1.get_default_graph instead.\n",
      "\n",
      "W0909 20:49:45.378879 140288693962560 deprecation_wrapper.py:119] From /home/elch10/miniconda3/lib/python3.7/site-packages/keras/backend/tensorflow_backend.py:517: The name tf.placeholder is deprecated. Please use tf.compat.v1.placeholder instead.\n",
      "\n",
      "W0909 20:49:45.384018 140288693962560 deprecation_wrapper.py:119] From /home/elch10/miniconda3/lib/python3.7/site-packages/keras/backend/tensorflow_backend.py:4138: The name tf.random_uniform is deprecated. Please use tf.random.uniform instead.\n",
      "\n",
      "W0909 20:49:45.430367 140288693962560 deprecation_wrapper.py:119] From /home/elch10/miniconda3/lib/python3.7/site-packages/keras/optimizers.py:790: The name tf.train.Optimizer is deprecated. Please use tf.compat.v1.train.Optimizer instead.\n",
      "\n"
     ]
    },
    {
     "name": "stdout",
     "output_type": "stream",
     "text": [
      "Fold 0...\n"
     ]
    },
    {
     "name": "stderr",
     "output_type": "stream",
     "text": [
      "W0909 20:49:45.668324 140288693962560 deprecation_wrapper.py:119] From /home/elch10/miniconda3/lib/python3.7/site-packages/keras/backend/tensorflow_backend.py:986: The name tf.assign_add is deprecated. Please use tf.compat.v1.assign_add instead.\n",
      "\n",
      "W0909 20:49:45.744755 140288693962560 deprecation_wrapper.py:119] From /home/elch10/miniconda3/lib/python3.7/site-packages/keras/backend/tensorflow_backend.py:973: The name tf.assign is deprecated. Please use tf.compat.v1.assign instead.\n",
      "\n"
     ]
    },
    {
     "name": "stdout",
     "output_type": "stream",
     "text": [
      "Train on 3169 samples, validate on 3168 samples\n",
      "Epoch 1/10\n",
      "3169/3169 [==============================] - 0s 103us/step - loss: 0.3918 - val_loss: 0.2029\n",
      "Epoch 2/10\n",
      "3169/3169 [==============================] - 0s 24us/step - loss: 0.1286 - val_loss: 0.0929\n",
      "Epoch 3/10\n",
      "3169/3169 [==============================] - 0s 21us/step - loss: 0.0802 - val_loss: 0.0712\n",
      "Epoch 4/10\n",
      "3169/3169 [==============================] - 0s 20us/step - loss: 0.0665 - val_loss: 0.0713\n",
      "Epoch 5/10\n",
      "3169/3169 [==============================] - 0s 19us/step - loss: 0.0580 - val_loss: 0.0548\n",
      "Epoch 6/10\n",
      "3169/3169 [==============================] - 0s 19us/step - loss: 0.0558 - val_loss: 0.0553\n",
      "Epoch 7/10\n",
      "3169/3169 [==============================] - 0s 19us/step - loss: 0.0520 - val_loss: 0.0554\n",
      "Epoch 8/10\n",
      "3169/3169 [==============================] - 0s 18us/step - loss: 0.0515 - val_loss: 0.0491\n",
      "Epoch 9/10\n",
      "3169/3169 [==============================] - 0s 18us/step - loss: 0.0498 - val_loss: 0.0546\n",
      "Epoch 10/10\n",
      "3169/3169 [==============================] - 0s 19us/step - loss: 0.0495 - val_loss: 0.0672\n",
      "Fold 1...\n",
      "Train on 6337 samples, validate on 3168 samples\n",
      "Epoch 1/10\n",
      "6337/6337 [==============================] - 0s 62us/step - loss: 0.2650 - val_loss: 0.1004\n",
      "Epoch 2/10\n",
      "6337/6337 [==============================] - 0s 20us/step - loss: 0.0714 - val_loss: 0.0687\n",
      "Epoch 3/10\n",
      "6337/6337 [==============================] - 0s 19us/step - loss: 0.0565 - val_loss: 0.0599\n",
      "Epoch 4/10\n",
      "6337/6337 [==============================] - 0s 20us/step - loss: 0.0526 - val_loss: 0.0580\n",
      "Epoch 5/10\n",
      "6337/6337 [==============================] - 0s 20us/step - loss: 0.0519 - val_loss: 0.0530\n",
      "Epoch 6/10\n",
      "6337/6337 [==============================] - 0s 19us/step - loss: 0.0505 - val_loss: 0.0559\n",
      "Epoch 7/10\n",
      "6337/6337 [==============================] - 0s 23us/step - loss: 0.0497 - val_loss: 0.0664\n",
      "Epoch 8/10\n",
      "6337/6337 [==============================] - 0s 24us/step - loss: 0.0511 - val_loss: 0.0644\n",
      "Epoch 9/10\n",
      "6337/6337 [==============================] - 0s 23us/step - loss: 0.0513 - val_loss: 0.0541\n",
      "Epoch 10/10\n",
      "6337/6337 [==============================] - 0s 19us/step - loss: 0.0497 - val_loss: 0.0458\n",
      "Fold 2...\n",
      "Train on 9505 samples, validate on 3168 samples\n",
      "Epoch 1/10\n",
      "9505/9505 [==============================] - 0s 49us/step - loss: 0.1642 - val_loss: 0.0678\n",
      "Epoch 2/10\n",
      "9505/9505 [==============================] - 0s 21us/step - loss: 0.0555 - val_loss: 0.0568\n",
      "Epoch 3/10\n",
      "9505/9505 [==============================] - 0s 18us/step - loss: 0.0506 - val_loss: 0.0515\n",
      "Epoch 4/10\n",
      "9505/9505 [==============================] - 0s 18us/step - loss: 0.0496 - val_loss: 0.0523\n",
      "Epoch 5/10\n",
      "9505/9505 [==============================] - 0s 17us/step - loss: 0.0466 - val_loss: 0.0459\n",
      "Epoch 6/10\n",
      "9505/9505 [==============================] - 0s 17us/step - loss: 0.0469 - val_loss: 0.0454\n",
      "Epoch 7/10\n",
      "9505/9505 [==============================] - 0s 17us/step - loss: 0.0474 - val_loss: 0.0464\n",
      "Epoch 8/10\n",
      "9505/9505 [==============================] - 0s 16us/step - loss: 0.0471 - val_loss: 0.0503\n",
      "Epoch 9/10\n",
      "9505/9505 [==============================] - 0s 15us/step - loss: 0.0456 - val_loss: 0.0469\n",
      "Epoch 10/10\n",
      "9505/9505 [==============================] - 0s 15us/step - loss: 0.0457 - val_loss: 0.0501\n"
     ]
    }
   ],
   "source": [
    "from sklearn.model_selection import TimeSeriesSplit\n",
    "\n",
    "tssplit = TimeSeriesSplit(n_splits=3)\n",
    "results = []\n",
    "\n",
    "for i, (train_idx, test_idx) in enumerate(tssplit.split(X, X)):\n",
    "    print(f'Fold {i}...')\n",
    "    model = model_fn()\n",
    "    \n",
    "    history = model.fit(X[train_idx, :, 0],\n",
    "                        X[train_idx, :, 0],\n",
    "                        validation_data=(X[test_idx, :, 0], X[test_idx, :, 0]),\n",
    "                        **fit_params)\n",
    "    results.append(history.history)"
   ]
  },
  {
   "cell_type": "code",
   "execution_count": 7,
   "metadata": {
    "ExecuteTime": {
     "end_time": "2019-09-09T17:49:51.241496Z",
     "start_time": "2019-09-09T17:49:50.776778Z"
    }
   },
   "outputs": [
    {
     "data": {
      "image/png": "[encoded data removed]",
      "text/plain": [
       "<Figure size 1080x360 with 3 Axes>"
      ]
     },
     "metadata": {
      "needs_background": "light"
     },
     "output_type": "display_data"
    }
   ],
   "source": [
    "from src.visualization.visualize import visualize_result\n",
    "visualize_result(results, f'Autoencoder loss')"
   ]
  },
  {
   "cell_type": "markdown",
   "metadata": {
    "ExecuteTime": {
     "end_time": "2019-09-09T17:42:41.911576Z",
     "start_time": "2019-09-09T17:42:41.907356Z"
    }
   },
   "source": [
    "It works, so lets train on all data."
   ]
  },
  {
   "cell_type": "code",
   "execution_count": 8,
   "metadata": {
    "ExecuteTime": {
     "end_time": "2019-09-09T17:49:53.752775Z",
     "start_time": "2019-09-09T17:49:51.247256Z"
    },
    "scrolled": true
   },
   "outputs": [
    {
     "name": "stdout",
     "output_type": "stream",
     "text": [
      "Epoch 1/10\n",
      "12673/12673 [==============================] - 0s 35us/step - loss: 0.1631\n",
      "Epoch 2/10\n",
      " 8896/12673 [====================>.........] - ETA: 0s - loss: 0.0626"
     ]
    },
    {
     "name": "stderr",
     "output_type": "stream",
     "text": [
      "/home/elch10/miniconda3/lib/python3.7/site-packages/keras/callbacks.py:1109: RuntimeWarning: Reduce LR on plateau conditioned on metric `val_loss` which is not available. Available metrics are: loss,lr\n",
      "  (self.monitor, ','.join(list(logs.keys()))), RuntimeWarning\n"
     ]
    },
    {
     "name": "stdout",
     "output_type": "stream",
     "text": [
      "12673/12673 [==============================] - 0s 17us/step - loss: 0.0581\n",
      "Epoch 3/10\n",
      "12673/12673 [==============================] - 0s 15us/step - loss: 0.0490\n",
      "Epoch 4/10\n",
      "12673/12673 [==============================] - 0s 14us/step - loss: 0.0495\n",
      "Epoch 5/10\n",
      "12673/12673 [==============================] - 0s 15us/step - loss: 0.0458\n",
      "Epoch 6/10\n",
      "12673/12673 [==============================] - 0s 14us/step - loss: 0.0460\n",
      "Epoch 7/10\n",
      "12673/12673 [==============================] - 0s 14us/step - loss: 0.0456\n",
      "Epoch 8/10\n",
      "12673/12673 [==============================] - 0s 14us/step - loss: 0.0472\n",
      "Epoch 9/10\n",
      "12673/12673 [==============================] - 0s 14us/step - loss: 0.0448\n",
      "Epoch 10/10\n",
      "12673/12673 [==============================] - 0s 14us/step - loss: 0.0493\n"
     ]
    },
    {
     "data": {
      "text/plain": [
       "<keras.callbacks.History at 0x7f975247f710>"
      ]
     },
     "execution_count": 8,
     "metadata": {},
     "output_type": "execute_result"
    }
   ],
   "source": [
    "model = model_fn()\n",
    "model.fit(X[:, :, 0], X[:, :, 0], **fit_params)"
   ]
  },
  {
   "cell_type": "code",
   "execution_count": 9,
   "metadata": {
    "ExecuteTime": {
     "end_time": "2019-09-09T17:49:54.040378Z",
     "start_time": "2019-09-09T17:49:53.754693Z"
    }
   },
   "outputs": [],
   "source": [
    "model.save('models/onedimensional_autoencoder.h5')"
   ]
  },
  {
   "cell_type": "code",
   "execution_count": 14,
   "metadata": {
    "ExecuteTime": {
     "end_time": "2019-09-09T17:58:23.643120Z",
     "start_time": "2019-09-09T17:58:23.637131Z"
    }
   },
   "outputs": [
    {
     "name": "stdout",
     "output_type": "stream",
     "text": [
      "_________________________________________________________________\n",
      "Layer (type)                 Output Shape              Param #   \n",
      "=================================================================\n",
      "dense_7 (Dense)              (None, 16)                1040      \n",
      "_________________________________________________________________\n",
      "dense_8 (Dense)              (None, 64)                1088      \n",
      "=================================================================\n",
      "Total params: 2,128\n",
      "Trainable params: 2,128\n",
      "Non-trainable params: 0\n",
      "_________________________________________________________________\n"
     ]
    }
   ],
   "source": [
    "model.summary()"
   ]
  },
  {
   "cell_type": "markdown",
   "metadata": {
    "ExecuteTime": {
     "end_time": "2019-09-09T17:50:09.383845Z",
     "start_time": "2019-09-09T17:50:09.379472Z"
    }
   },
   "source": [
    "## Extract first layer that can embedes data"
   ]
  },
  {
   "cell_type": "code",
   "execution_count": 13,
   "metadata": {
    "ExecuteTime": {
     "end_time": "2019-09-09T17:51:47.078871Z",
     "start_time": "2019-09-09T17:51:47.075651Z"
    }
   },
   "outputs": [],
   "source": [
    "import keras\n",
    "from keras.layers import Input\n",
    "from keras.models import Model"
   ]
  },
  {
   "cell_type": "code",
   "execution_count": 16,
   "metadata": {
    "ExecuteTime": {
     "end_time": "2019-09-09T17:59:24.435386Z",
     "start_time": "2019-09-09T17:59:24.428158Z"
    }
   },
   "outputs": [],
   "source": [
    "inp = Input(shape=(window_length,))\n",
    "encoder_layer = model.layers[0]\n",
    "encoded = encoder_layer(inp)\n",
    "\n",
    "encoder = Model(inputs=inp, outputs=encoded)"
   ]
  },
  {
   "cell_type": "code",
   "execution_count": 20,
   "metadata": {
    "ExecuteTime": {
     "end_time": "2019-09-09T17:59:58.611268Z",
     "start_time": "2019-09-09T17:59:58.491771Z"
    }
   },
   "outputs": [],
   "source": [
    "predictions = encoder.predict(X[:, :, 0])"
   ]
  },
  {
   "cell_type": "code",
   "execution_count": null,
   "metadata": {
    "ExecuteTime": {
     "end_time": "2019-09-09T18:10:43.438220Z",
     "start_time": "2019-09-09T18:09:28.574118Z"
    }
   },
   "outputs": [],
   "source": [
    "from sklearn.manifold import TSNE\n",
    "\n",
    "X_embedded = TSNE(n_components=2).fit_transform(X[:, :, 0])\n",
    "vis_x = X_embedded[:, 0]\n",
    "vis_y = X_embedded[:, 1]"
   ]
  },
  {
   "cell_type": "code",
   "execution_count": 23,
   "metadata": {
    "ExecuteTime": {
     "end_time": "2019-09-09T18:11:00.685561Z",
     "start_time": "2019-09-09T18:11:00.451783Z"
    }
   },
   "outputs": [
    {
     "data": {
      "text/plain": [
       "<matplotlib.collections.PathCollection at 0x7f9644991390>"
      ]
     },
     "execution_count": 23,
     "metadata": {},
     "output_type": "execute_result"
    },
    {
     "data": {
      "image/png": "[encoded data removed]",
      "text/plain": [
       "<Figure size 432x288 with 1 Axes>"
      ]
     },
     "metadata": {
      "needs_background": "light"
     },
     "output_type": "display_data"
    }
   ],
   "source": [
    "plt.scatter(vis_x, vis_y, marker='.')"
   ]
  },
  {
   "cell_type": "code",
   "execution_count": 24,
   "metadata": {
    "ExecuteTime": {
     "end_time": "2019-09-09T18:13:19.787885Z",
     "start_time": "2019-09-09T18:13:19.268468Z"
    }
   },
   "outputs": [
    {
     "data": {
      "text/plain": [
       "<matplotlib.collections.PathCollection at 0x7f9644225cf8>"
      ]
     },
     "execution_count": 24,
     "metadata": {},
     "output_type": "execute_result"
    },
    {
     "data": {
      "image/png": "[encoded data removed]",
      "text/plain": [
       "<Figure size 432x288 with 1 Axes>"
      ]
     },
     "metadata": {
      "needs_background": "light"
     },
     "output_type": "display_data"
    }
   ],
   "source": [
    "from sklearn.decomposition import PCA\n",
    "\n",
    "X_embedded = PCA(n_components=2).fit_transform(X[:, :, 0])\n",
    "vis_x = X_embedded[:, 0]\n",
    "vis_y = X_embedded[:, 1]\n",
    "plt.scatter(vis_x, vis_y)"
   ]
  },
  {
   "cell_type": "code",
   "execution_count": null,
   "metadata": {},
   "outputs": [],
   "source": [
    "# from MulticoreTSNE import MulticoreTSNE as TSNE\n",
    "\n",
    "# embeddings = TSNE(n_jobs=4).fit_transform(predictions)\n",
    "# vis_x = embeddings[:, 0]\n",
    "# vis_y = embeddings[:, 1]\n",
    "# plt.scatter(vis_x, vis_y, c=digits.target, cmap=plt.cm.get_cmap(\"jet\", 10), marker='.')\n",
    "# plt.colorbar(ticks=range(10))\n",
    "# plt.clim(-0.5, 9.5)"
   ]
  }
 ],
 "metadata": {
  "kernelspec": {
   "display_name": "Python 3",
   "language": "python",
   "name": "python3"
  },
  "language_info": {
   "codemirror_mode": {
    "name": "ipython",
    "version": 3
   },
   "file_extension": ".py",
   "mimetype": "text/x-python",
   "name": "python",
   "nbconvert_exporter": "python",
   "pygments_lexer": "ipython3",
   "version": "3.7.3"
  },
  "toc": {
   "base_numbering": 1,
   "nav_menu": {},
   "number_sections": true,
   "sideBar": true,
   "skip_h1_title": false,
   "title_cell": "Table of Contents",
   "title_sidebar": "Contents",
   "toc_cell": false,
   "toc_position": {},
   "toc_section_display": true,
   "toc_window_display": false
  },
  "varInspector": {
   "cols": {
    "lenName": 16,
    "lenType": 16,
    "lenVar": 40
   },
   "kernels_config": {
    "python": {
     "delete_cmd_postfix": "",
     "delete_cmd_prefix": "del ",
     "library": "var_list.py",
     "varRefreshCmd": "print(var_dic_list())"
    },
    "r": {
     "delete_cmd_postfix": ") ",
     "delete_cmd_prefix": "rm(",
     "library": "var_list.r",
     "varRefreshCmd": "cat(var_dic_list()) "
    }
   },
   "types_to_exclude": [
    "module",
    "function",
    "builtin_function_or_method",
    "instance",
    "_Feature"
   ],
   "window_display": false
  }
 },
 "nbformat": 4,
 "nbformat_minor": 2
}
