{
 "cells": [
  {
   "cell_type": "code",
   "execution_count": 1,
   "metadata": {
    "ExecuteTime": {
     "end_time": "2020-04-11T10:51:11.138109Z",
     "start_time": "2020-04-11T10:51:11.128163Z"
    },
    "scrolled": true
   },
   "outputs": [
    {
     "name": "stdout",
     "output_type": "stream",
     "text": [
      "/home/rosneft_user_2500/anomaly-detection\n"
     ]
    }
   ],
   "source": [
    "%cd /home/rosneft_user_2500/anomaly-detection/\n",
    "# %cd .."
   ]
  },
  {
   "cell_type": "code",
   "execution_count": 2,
   "metadata": {
    "ExecuteTime": {
     "end_time": "2020-04-11T10:51:14.028202Z",
     "start_time": "2020-04-11T10:51:12.365121Z"
    }
   },
   "outputs": [
    {
     "data": {
      "text/html": [
       "        <script type=\"text/javascript\">\n",
       "        window.PlotlyConfig = {MathJaxConfig: 'local'};\n",
       "        if (window.MathJax) {MathJax.Hub.Config({SVG: {font: \"STIX-Web\"}});}\n",
       "        if (typeof require !== 'undefined') {\n",
       "        require.undef(\"plotly\");\n",
       "        requirejs.config({\n",
       "            paths: {\n",
       "                'plotly': ['https://cdn.plot.ly/plotly-latest.min']\n",
       "            }\n",
       "        });\n",
       "        require(['plotly'], function(Plotly) {\n",
       "            window._Plotly = Plotly;\n",
       "        });\n",
       "        }\n",
       "        </script>\n",
       "        "
      ]
     },
     "metadata": {},
     "output_type": "display_data"
    },
    {
     "data": {
      "text/html": [
       "\n",
       "    <div class=\"bk-root\">\n",
       "        <a href=\"https://bokeh.org\" target=\"_blank\" class=\"bk-logo bk-logo-small bk-logo-notebook\"></a>\n",
       "        <span id=\"1001\">Loading BokehJS ...</span>\n",
       "    </div>"
      ]
     },
     "metadata": {},
     "output_type": "display_data"
    },
    {
     "data": {
      "application/javascript": [
       "\n",
       "(function(root) {\n",
       "  function now() {\n",
       "    return new Date();\n",
       "  }\n",
       "\n",
       "  var force = true;\n",
       "\n",
       "  if (typeof root._bokeh_onload_callbacks === \"undefined\" || force === true) {\n",
       "    root._bokeh_onload_callbacks = [];\n",
       "    root._bokeh_is_loading = undefined;\n",
       "  }\n",
       "\n",
       "  var JS_MIME_TYPE = 'application/javascript';\n",
       "  var HTML_MIME_TYPE = 'text/html';\n",
       "  var EXEC_MIME_TYPE = 'application/vnd.bokehjs_exec.v0+json';\n",
       "  var CLASS_NAME = 'output_bokeh rendered_html';\n",
       "\n",
       "  /**\n",
       "   * Render data to the DOM node\n",
       "   */\n",
       "  function render(props, node) {\n",
       "    var script = document.createElement(\"script\");\n",
       "    node.appendChild(script);\n",
       "  }\n",
       "\n",
       "  /**\n",
       "   * Handle when an output is cleared or removed\n",
       "   */\n",
       "  function handleClearOutput(event, handle) {\n",
       "    var cell = handle.cell;\n",
       "\n",
       "    var id = cell.output_area._bokeh_element_id;\n",
       "    var server_id = cell.output_area._bokeh_server_id;\n",
       "    // Clean up Bokeh references\n",
       "    if (id != null && id in Bokeh.index) {\n",
       "      Bokeh.index[id].model.document.clear();\n",
       "      delete Bokeh.index[id];\n",
       "    }\n",
       "\n",
       "    if (server_id !== undefined) {\n",
       "      // Clean up Bokeh references\n",
       "      var cmd = \"from bokeh.io.state import curstate; print(curstate().uuid_to_server['\" + server_id + \"'].get_sessions()[0].document.roots[0]._id)\";\n",
       "      cell.notebook.kernel.execute(cmd, {\n",
       "        iopub: {\n",
       "          output: function(msg) {\n",
       "            var id = msg.content.text.trim();\n",
       "            if (id in Bokeh.index) {\n",
       "              Bokeh.index[id].model.document.clear();\n",
       "              delete Bokeh.index[id];\n",
       "            }\n",
       "          }\n",
       "        }\n",
       "      });\n",
       "      // Destroy server and session\n",
       "      var cmd = \"import bokeh.io.notebook as ion; ion.destroy_server('\" + server_id + \"')\";\n",
       "      cell.notebook.kernel.execute(cmd);\n",
       "    }\n",
       "  }\n",
       "\n",
       "  /**\n",
       "   * Handle when a new output is added\n",
       "   */\n",
       "  function handleAddOutput(event, handle) {\n",
       "    var output_area = handle.output_area;\n",
       "    var output = handle.output;\n",
       "\n",
       "    // limit handleAddOutput to display_data with EXEC_MIME_TYPE content only\n",
       "    if ((output.output_type != \"display_data\") || (!output.data.hasOwnProperty(EXEC_MIME_TYPE))) {\n",
       "      return\n",
       "    }\n",
       "\n",
       "    var toinsert = output_area.element.find(\".\" + CLASS_NAME.split(' ')[0]);\n",
       "\n",
       "    if (output.metadata[EXEC_MIME_TYPE][\"id\"] !== undefined) {\n",
       "      toinsert[toinsert.length - 1].firstChild.textContent = output.data[JS_MIME_TYPE];\n",
       "      // store reference to embed id on output_area\n",
       "      output_area._bokeh_element_id = output.metadata[EXEC_MIME_TYPE][\"id\"];\n",
       "    }\n",
       "    if (output.metadata[EXEC_MIME_TYPE][\"server_id\"] !== undefined) {\n",
       "      var bk_div = document.createElement(\"div\");\n",
       "      bk_div.innerHTML = output.data[HTML_MIME_TYPE];\n",
       "      var script_attrs = bk_div.children[0].attributes;\n",
       "      for (var i = 0; i < script_attrs.length; i++) {\n",
       "        toinsert[toinsert.length - 1].firstChild.setAttribute(script_attrs[i].name, script_attrs[i].value);\n",
       "        toinsert[toinsert.length - 1].firstChild.textContent = bk_div.children[0].textContent\n",
       "      }\n",
       "      // store reference to server id on output_area\n",
       "      output_area._bokeh_server_id = output.metadata[EXEC_MIME_TYPE][\"server_id\"];\n",
       "    }\n",
       "  }\n",
       "\n",
       "  function register_renderer(events, OutputArea) {\n",
       "\n",
       "    function append_mime(data, metadata, element) {\n",
       "      // create a DOM node to render to\n",
       "      var toinsert = this.create_output_subarea(\n",
       "        metadata,\n",
       "        CLASS_NAME,\n",
       "        EXEC_MIME_TYPE\n",
       "      );\n",
       "      this.keyboard_manager.register_events(toinsert);\n",
       "      // Render to node\n",
       "      var props = {data: data, metadata: metadata[EXEC_MIME_TYPE]};\n",
       "      render(props, toinsert[toinsert.length - 1]);\n",
       "      element.append(toinsert);\n",
       "      return toinsert\n",
       "    }\n",
       "\n",
       "    /* Handle when an output is cleared or removed */\n",
       "    events.on('clear_output.CodeCell', handleClearOutput);\n",
       "    events.on('delete.Cell', handleClearOutput);\n",
       "\n",
       "    /* Handle when a new output is added */\n",
       "    events.on('output_added.OutputArea', handleAddOutput);\n",
       "\n",
       "    /**\n",
       "     * Register the mime type and append_mime function with output_area\n",
       "     */\n",
       "    OutputArea.prototype.register_mime_type(EXEC_MIME_TYPE, append_mime, {\n",
       "      /* Is output safe? */\n",
       "      safe: true,\n",
       "      /* Index of renderer in `output_area.display_order` */\n",
       "      index: 0\n",
       "    });\n",
       "  }\n",
       "\n",
       "  // register the mime type if in Jupyter Notebook environment and previously unregistered\n",
       "  if (root.Jupyter !== undefined) {\n",
       "    var events = require('base/js/events');\n",
       "    var OutputArea = require('notebook/js/outputarea').OutputArea;\n",
       "\n",
       "    if (OutputArea.prototype.mime_types().indexOf(EXEC_MIME_TYPE) == -1) {\n",
       "      register_renderer(events, OutputArea);\n",
       "    }\n",
       "  }\n",
       "\n",
       "  \n",
       "  if (typeof (root._bokeh_timeout) === \"undefined\" || force === true) {\n",
       "    root._bokeh_timeout = Date.now() + 5000;\n",
       "    root._bokeh_failed_load = false;\n",
       "  }\n",
       "\n",
       "  var NB_LOAD_WARNING = {'data': {'text/html':\n",
       "     \"<div style='background-color: #fdd'>\\n\"+\n",
       "     \"<p>\\n\"+\n",
       "     \"BokehJS does not appear to have successfully loaded. If loading BokehJS from CDN, this \\n\"+\n",
       "     \"may be due to a slow or bad network connection. Possible fixes:\\n\"+\n",
       "     \"</p>\\n\"+\n",
       "     \"<ul>\\n\"+\n",
       "     \"<li>re-rerun `output_notebook()` to attempt to load from CDN again, or</li>\\n\"+\n",
       "     \"<li>use INLINE resources instead, as so:</li>\\n\"+\n",
       "     \"</ul>\\n\"+\n",
       "     \"<code>\\n\"+\n",
       "     \"from bokeh.resources import INLINE\\n\"+\n",
       "     \"output_notebook(resources=INLINE)\\n\"+\n",
       "     \"</code>\\n\"+\n",
       "     \"</div>\"}};\n",
       "\n",
       "  function display_loaded() {\n",
       "    var el = document.getElementById(\"1001\");\n",
       "    if (el != null) {\n",
       "      el.textContent = \"BokehJS is loading...\";\n",
       "    }\n",
       "    if (root.Bokeh !== undefined) {\n",
       "      if (el != null) {\n",
       "        el.textContent = \"BokehJS \" + root.Bokeh.version + \" successfully loaded.\";\n",
       "      }\n",
       "    } else if (Date.now() < root._bokeh_timeout) {\n",
       "      setTimeout(display_loaded, 100)\n",
       "    }\n",
       "  }\n",
       "\n",
       "\n",
       "  function run_callbacks() {\n",
       "    try {\n",
       "      root._bokeh_onload_callbacks.forEach(function(callback) {\n",
       "        if (callback != null)\n",
       "          callback();\n",
       "      });\n",
       "    } finally {\n",
       "      delete root._bokeh_onload_callbacks\n",
       "    }\n",
       "    console.debug(\"Bokeh: all callbacks have finished\");\n",
       "  }\n",
       "\n",
       "  function load_libs(css_urls, js_urls, callback) {\n",
       "    if (css_urls == null) css_urls = [];\n",
       "    if (js_urls == null) js_urls = [];\n",
       "\n",
       "    root._bokeh_onload_callbacks.push(callback);\n",
       "    if (root._bokeh_is_loading > 0) {\n",
       "      console.debug(\"Bokeh: BokehJS is being loaded, scheduling callback at\", now());\n",
       "      return null;\n",
       "    }\n",
       "    if (js_urls == null || js_urls.length === 0) {\n",
       "      run_callbacks();\n",
       "      return null;\n",
       "    }\n",
       "    console.debug(\"Bokeh: BokehJS not loaded, scheduling load and callback at\", now());\n",
       "    root._bokeh_is_loading = css_urls.length + js_urls.length;\n",
       "\n",
       "    function on_load() {\n",
       "      root._bokeh_is_loading--;\n",
       "      if (root._bokeh_is_loading === 0) {\n",
       "        console.debug(\"Bokeh: all BokehJS libraries/stylesheets loaded\");\n",
       "        run_callbacks()\n",
       "      }\n",
       "    }\n",
       "\n",
       "    function on_error() {\n",
       "      console.error(\"failed to load \" + url);\n",
       "    }\n",
       "\n",
       "    for (var i = 0; i < css_urls.length; i++) {\n",
       "      var url = css_urls[i];\n",
       "      const element = document.createElement(\"link\");\n",
       "      element.onload = on_load;\n",
       "      element.onerror = on_error;\n",
       "      element.rel = \"stylesheet\";\n",
       "      element.type = \"text/css\";\n",
       "      element.href = url;\n",
       "      console.debug(\"Bokeh: injecting link tag for BokehJS stylesheet: \", url);\n",
       "      document.body.appendChild(element);\n",
       "    }\n",
       "\n",
       "    for (var i = 0; i < js_urls.length; i++) {\n",
       "      var url = js_urls[i];\n",
       "      var element = document.createElement('script');\n",
       "      element.onload = on_load;\n",
       "      element.onerror = on_error;\n",
       "      element.async = false;\n",
       "      element.src = url;\n",
       "      \n",
       "      console.debug(\"Bokeh: injecting script tag for BokehJS library: \", url);\n",
       "      document.head.appendChild(element);\n",
       "    }\n",
       "  };var element = document.getElementById(\"1001\");\n",
       "  if (element == null) {\n",
       "    console.error(\"Bokeh: ERROR: autoload.js configured with elementid '1001' but no matching script tag was found. \")\n",
       "    return false;\n",
       "  }\n",
       "\n",
       "  function inject_raw_css(css) {\n",
       "    const element = document.createElement(\"style\");\n",
       "    element.appendChild(document.createTextNode(css));\n",
       "    document.body.appendChild(element);\n",
       "  }\n",
       "\n",
       "  \n",
       "  var js_urls = [\"https://cdn.bokeh.org/bokeh/release/bokeh-2.0.0.min.js\", \"https://cdn.bokeh.org/bokeh/release/bokeh-widgets-2.0.0.min.js\", \"https://cdn.bokeh.org/bokeh/release/bokeh-tables-2.0.0.min.js\", \"https://cdn.bokeh.org/bokeh/release/bokeh-gl-2.0.0.min.js\"];\n",
       "  var css_urls = [];\n",
       "  \n",
       "\n",
       "  var inline_js = [\n",
       "    function(Bokeh) {\n",
       "      Bokeh.set_log_level(\"info\");\n",
       "    },\n",
       "    function(Bokeh) {\n",
       "    \n",
       "    \n",
       "    }\n",
       "  ];\n",
       "\n",
       "  function run_inline_js() {\n",
       "    \n",
       "    if (root.Bokeh !== undefined || force === true) {\n",
       "      \n",
       "    for (var i = 0; i < inline_js.length; i++) {\n",
       "      inline_js[i].call(root, root.Bokeh);\n",
       "    }\n",
       "    if (force === true) {\n",
       "        display_loaded();\n",
       "      }} else if (Date.now() < root._bokeh_timeout) {\n",
       "      setTimeout(run_inline_js, 100);\n",
       "    } else if (!root._bokeh_failed_load) {\n",
       "      console.log(\"Bokeh: BokehJS failed to load within specified timeout.\");\n",
       "      root._bokeh_failed_load = true;\n",
       "    } else if (force !== true) {\n",
       "      var cell = $(document.getElementById(\"1001\")).parents('.cell').data().cell;\n",
       "      cell.output_area.append_execute_result(NB_LOAD_WARNING)\n",
       "    }\n",
       "\n",
       "  }\n",
       "\n",
       "  if (root._bokeh_is_loading === 0) {\n",
       "    console.debug(\"Bokeh: BokehJS loaded, going straight to plotting\");\n",
       "    run_inline_js();\n",
       "  } else {\n",
       "    load_libs(css_urls, js_urls, function() {\n",
       "      console.debug(\"Bokeh: BokehJS plotting callback run at\", now());\n",
       "      run_inline_js();\n",
       "    });\n",
       "  }\n",
       "}(window));"
      ],
      "application/vnd.bokehjs_load.v0+json": "\n(function(root) {\n  function now() {\n    return new Date();\n  }\n\n  var force = true;\n\n  if (typeof root._bokeh_onload_callbacks === \"undefined\" || force === true) {\n    root._bokeh_onload_callbacks = [];\n    root._bokeh_is_loading = undefined;\n  }\n\n  \n\n  \n  if (typeof (root._bokeh_timeout) === \"undefined\" || force === true) {\n    root._bokeh_timeout = Date.now() + 5000;\n    root._bokeh_failed_load = false;\n  }\n\n  var NB_LOAD_WARNING = {'data': {'text/html':\n     \"<div style='background-color: #fdd'>\\n\"+\n     \"<p>\\n\"+\n     \"BokehJS does not appear to have successfully loaded. If loading BokehJS from CDN, this \\n\"+\n     \"may be due to a slow or bad network connection. Possible fixes:\\n\"+\n     \"</p>\\n\"+\n     \"<ul>\\n\"+\n     \"<li>re-rerun `output_notebook()` to attempt to load from CDN again, or</li>\\n\"+\n     \"<li>use INLINE resources instead, as so:</li>\\n\"+\n     \"</ul>\\n\"+\n     \"<code>\\n\"+\n     \"from bokeh.resources import INLINE\\n\"+\n     \"output_notebook(resources=INLINE)\\n\"+\n     \"</code>\\n\"+\n     \"</div>\"}};\n\n  function display_loaded() {\n    var el = document.getElementById(\"1001\");\n    if (el != null) {\n      el.textContent = \"BokehJS is loading...\";\n    }\n    if (root.Bokeh !== undefined) {\n      if (el != null) {\n        el.textContent = \"BokehJS \" + root.Bokeh.version + \" successfully loaded.\";\n      }\n    } else if (Date.now() < root._bokeh_timeout) {\n      setTimeout(display_loaded, 100)\n    }\n  }\n\n\n  function run_callbacks() {\n    try {\n      root._bokeh_onload_callbacks.forEach(function(callback) {\n        if (callback != null)\n          callback();\n      });\n    } finally {\n      delete root._bokeh_onload_callbacks\n    }\n    console.debug(\"Bokeh: all callbacks have finished\");\n  }\n\n  function load_libs(css_urls, js_urls, callback) {\n    if (css_urls == null) css_urls = [];\n    if (js_urls == null) js_urls = [];\n\n    root._bokeh_onload_callbacks.push(callback);\n    if (root._bokeh_is_loading > 0) {\n      console.debug(\"Bokeh: BokehJS is being loaded, scheduling callback at\", now());\n      return null;\n    }\n    if (js_urls == null || js_urls.length === 0) {\n      run_callbacks();\n      return null;\n    }\n    console.debug(\"Bokeh: BokehJS not loaded, scheduling load and callback at\", now());\n    root._bokeh_is_loading = css_urls.length + js_urls.length;\n\n    function on_load() {\n      root._bokeh_is_loading--;\n      if (root._bokeh_is_loading === 0) {\n        console.debug(\"Bokeh: all BokehJS libraries/stylesheets loaded\");\n        run_callbacks()\n      }\n    }\n\n    function on_error() {\n      console.error(\"failed to load \" + url);\n    }\n\n    for (var i = 0; i < css_urls.length; i++) {\n      var url = css_urls[i];\n      const element = document.createElement(\"link\");\n      element.onload = on_load;\n      element.onerror = on_error;\n      element.rel = \"stylesheet\";\n      element.type = \"text/css\";\n      element.href = url;\n      console.debug(\"Bokeh: injecting link tag for BokehJS stylesheet: \", url);\n      document.body.appendChild(element);\n    }\n\n    for (var i = 0; i < js_urls.length; i++) {\n      var url = js_urls[i];\n      var element = document.createElement('script');\n      element.onload = on_load;\n      element.onerror = on_error;\n      element.async = false;\n      element.src = url;\n      \n      console.debug(\"Bokeh: injecting script tag for BokehJS library: \", url);\n      document.head.appendChild(element);\n    }\n  };var element = document.getElementById(\"1001\");\n  if (element == null) {\n    console.error(\"Bokeh: ERROR: autoload.js configured with elementid '1001' but no matching script tag was found. \")\n    return false;\n  }\n\n  function inject_raw_css(css) {\n    const element = document.createElement(\"style\");\n    element.appendChild(document.createTextNode(css));\n    document.body.appendChild(element);\n  }\n\n  \n  var js_urls = [\"https://cdn.bokeh.org/bokeh/release/bokeh-2.0.0.min.js\", \"https://cdn.bokeh.org/bokeh/release/bokeh-widgets-2.0.0.min.js\", \"https://cdn.bokeh.org/bokeh/release/bokeh-tables-2.0.0.min.js\", \"https://cdn.bokeh.org/bokeh/release/bokeh-gl-2.0.0.min.js\"];\n  var css_urls = [];\n  \n\n  var inline_js = [\n    function(Bokeh) {\n      Bokeh.set_log_level(\"info\");\n    },\n    function(Bokeh) {\n    \n    \n    }\n  ];\n\n  function run_inline_js() {\n    \n    if (root.Bokeh !== undefined || force === true) {\n      \n    for (var i = 0; i < inline_js.length; i++) {\n      inline_js[i].call(root, root.Bokeh);\n    }\n    if (force === true) {\n        display_loaded();\n      }} else if (Date.now() < root._bokeh_timeout) {\n      setTimeout(run_inline_js, 100);\n    } else if (!root._bokeh_failed_load) {\n      console.log(\"Bokeh: BokehJS failed to load within specified timeout.\");\n      root._bokeh_failed_load = true;\n    } else if (force !== true) {\n      var cell = $(document.getElementById(\"1001\")).parents('.cell').data().cell;\n      cell.output_area.append_execute_result(NB_LOAD_WARNING)\n    }\n\n  }\n\n  if (root._bokeh_is_loading === 0) {\n    console.debug(\"Bokeh: BokehJS loaded, going straight to plotting\");\n    run_inline_js();\n  } else {\n    load_libs(css_urls, js_urls, function() {\n      console.debug(\"Bokeh: BokehJS plotting callback run at\", now());\n      run_inline_js();\n    });\n  }\n}(window));"
     },
     "metadata": {},
     "output_type": "display_data"
    }
   ],
   "source": [
    "import numpy as np\n",
    "import pandas as pd\n",
    "from matplotlib import pyplot as plt\n",
    "from ipywidgets import interact\n",
    "\n",
    "import cufflinks as cf\n",
    "cf.go_offline(connected=True)\n",
    "\n",
    "import bokeh.io\n",
    "bokeh.io.output_notebook()\n",
    "\n",
    "np.random.seed(42)"
   ]
  },
  {
   "cell_type": "code",
   "execution_count": 3,
   "metadata": {
    "ExecuteTime": {
     "end_time": "2020-04-11T10:51:14.034366Z",
     "start_time": "2020-04-11T10:51:14.030246Z"
    }
   },
   "outputs": [],
   "source": [
    "root_folder = %pwd\n",
    "import sys\n",
    "sys.path = [root_folder] + sys.path"
   ]
  },
  {
   "cell_type": "code",
   "execution_count": 4,
   "metadata": {
    "ExecuteTime": {
     "end_time": "2020-04-11T10:51:14.074238Z",
     "start_time": "2020-04-11T10:51:14.036395Z"
    }
   },
   "outputs": [],
   "source": [
    "import matplotlib.pyplot as plt\n",
    "\n",
    "def compare_plot_1d(real, real_lbl, pred, pred_lbl, shift_pred=0):\n",
    "    plt.plot(real, label=real_lbl, alpha=0.7)\n",
    "    plt.plot(list(range(shift_pred, real.shape[0])), pred, label=pred_lbl, alpha=0.8)\n",
    "    plt.legend()\n",
    "\n",
    "def compare_plot_from_2d(real, real_lbl, pred, pred_lbl, component, shift_pred=0):\n",
    "    real_comp = real[:, component]\n",
    "    pred_comp = pred[:, component]\n",
    "    compare_plot_1d(real_comp,real_lbl, pred_comp, pred_lbl, shift_pred)\n",
    "    \n",
    "def compare_plot_from_2d_wrapper(*args, **kwargs):\n",
    "    def f(**inner_kwargs):\n",
    "        return compare_plot_from_2d(*args, **kwargs, **inner_kwargs)\n",
    "    return f\n",
    "\n",
    "def interactive_plotter_by_component(funcs, titles, suptitle):\n",
    "    @interact(component=(0, data.shape[1]-1))\n",
    "    def __inner__(component):\n",
    "        plt.figure(figsize=(18, 8))\n",
    "        plt.suptitle(suptitle)\n",
    "        for i, (func, title) in enumerate(zip(funcs, titles), 1):\n",
    "            plt.subplot(1, len(funcs), i)\n",
    "            plt.title(title)\n",
    "            func(component=component)"
   ]
  },
  {
   "cell_type": "markdown",
   "metadata": {},
   "source": [
    "# Загрузка и обработка данных"
   ]
  },
  {
   "cell_type": "code",
   "execution_count": 60,
   "metadata": {
    "ExecuteTime": {
     "end_time": "2020-04-11T11:31:06.013957Z",
     "start_time": "2020-04-11T11:31:05.790411Z"
    }
   },
   "outputs": [
    {
     "name": "stdout",
     "output_type": "stream",
     "text": [
      "Len of dataset: 12801\n"
     ]
    }
   ],
   "source": [
    "from sklearn.model_selection import train_test_split\n",
    "from src.features.build_features import rolling_window\n",
    "\n",
    "prediction_len = 1\n",
    "window_len = 64\n",
    "\n",
    "# batch size need to be equal with window len\n",
    "# due fact, that i-th example in current batch need to get states\n",
    "# of i-th example of previous batch\n",
    "batch_size = window_len\n",
    "\n",
    "data = pd.read_csv('data/processed/tep_data.csv', index_col='Index')\n",
    "print(f'Len of dataset: {data.shape[0]}')"
   ]
  },
  {
   "cell_type": "markdown",
   "metadata": {
    "heading_collapsed": true
   },
   "source": [
    "## Разложение в тренд и сезонную компоненту"
   ]
  },
  {
   "cell_type": "code",
   "execution_count": 6,
   "metadata": {
    "ExecuteTime": {
     "end_time": "2020-04-11T10:51:15.351781Z",
     "start_time": "2020-04-11T10:51:14.503657Z"
    },
    "hidden": true
   },
   "outputs": [
    {
     "data": {
      "application/vnd.jupyter.widget-view+json": {
       "model_id": "d9d95e3ae5f1426eb4c460e9c2ef2b30",
       "version_major": 2,
       "version_minor": 0
      },
      "text/plain": [
       "interactive(children=(IntSlider(value=20, description='component', max=40), Output()), _dom_classes=('widget-i…"
      ]
     },
     "metadata": {},
     "output_type": "display_data"
    },
    {
     "data": {
      "text/plain": [
       "<function __main__.<lambda>(component)>"
      ]
     },
     "execution_count": 6,
     "metadata": {},
     "output_type": "execute_result"
    }
   ],
   "source": [
    "from statsmodels.graphics.tsaplots import plot_pacf, plot_acf\n",
    "from statsmodels.tsa.stattools import acf, pacf\n",
    "\n",
    "interact(lambda component: plot_acf(data.values[:, component], lags=np.arange(0, 2000)),\n",
    "         component=(0, 40))"
   ]
  },
  {
   "cell_type": "code",
   "execution_count": 7,
   "metadata": {
    "ExecuteTime": {
     "end_time": "2020-04-11T10:51:16.095911Z",
     "start_time": "2020-04-11T10:51:15.354747Z"
    },
    "hidden": true,
    "scrolled": true
   },
   "outputs": [
    {
     "data": {
      "application/vnd.jupyter.widget-view+json": {
       "model_id": "0280e9e6fc0f419599fcfedef8af91d0",
       "version_major": 2,
       "version_minor": 0
      },
      "text/plain": [
       "interactive(children=(IntSlider(value=20, description='comp', max=40), Output()), _dom_classes=('widget-intera…"
      ]
     },
     "metadata": {},
     "output_type": "display_data"
    }
   ],
   "source": [
    "import statsmodels.tsa.seasonal as seasonal\n",
    "period = 750\n",
    "decomposed = seasonal.seasonal_decompose(data.values,\n",
    "                                         period=period,\n",
    "                                         extrapolate_trend='freq')\n",
    "\n",
    "\n",
    "@interact(comp=(0, 40))\n",
    "def f(comp):\n",
    "    plt.figure(figsize=(20, 10))\n",
    "    plt.subplot(1, 2, 1)\n",
    "    plt.title('Trend')\n",
    "    plt.plot(decomposed.trend[:, comp])\n",
    "    plt.subplot(1, 2, 2)\n",
    "    plt.title('Seasonal')\n",
    "    plt.plot(decomposed.seasonal[:, comp])"
   ]
  },
  {
   "cell_type": "markdown",
   "metadata": {
    "heading_collapsed": true
   },
   "source": [
    "## Интерполяция"
   ]
  },
  {
   "cell_type": "code",
   "execution_count": 8,
   "metadata": {
    "ExecuteTime": {
     "end_time": "2020-04-11T10:51:16.499978Z",
     "start_time": "2020-04-11T10:51:16.101538Z"
    },
    "hidden": true,
    "scrolled": false
   },
   "outputs": [
    {
     "data": {
      "application/vnd.jupyter.widget-view+json": {
       "model_id": "93818d23f1ca42688904b9a840fd80c4",
       "version_major": 2,
       "version_minor": 0
      },
      "text/plain": [
       "interactive(children=(IntSlider(value=20, description='component', max=40), Output()), _dom_classes=('widget-i…"
      ]
     },
     "metadata": {},
     "output_type": "display_data"
    }
   ],
   "source": [
    "from scipy.interpolate import interp1d\n",
    "\n",
    "n = 5000\n",
    "step = 50\n",
    "\n",
    "def interp(component):\n",
    "    f = interp1d(np.arange(0, decomposed.trend.shape[0], step),\n",
    "                 decomposed.trend[::step, component], kind='cubic')\n",
    "    plt.plot(f(np.arange(n)))\n",
    "\n",
    "interactive_plotter_by_component([\n",
    "    lambda component: plt.plot(decomposed.trend[:n, component], label='x'),\n",
    "    interp,\n",
    "], ['Original', 'Interpolated'], None)"
   ]
  },
  {
   "cell_type": "code",
   "execution_count": 9,
   "metadata": {
    "ExecuteTime": {
     "end_time": "2020-04-11T10:51:16.514431Z",
     "start_time": "2020-04-11T10:51:16.502568Z"
    },
    "hidden": true
   },
   "outputs": [],
   "source": [
    "f = interp1d(np.arange(0, data.shape[0], step),\n",
    "             decomposed.trend[::step],\n",
    "             axis=0,\n",
    "             kind='cubic')\n",
    "trend_data = f(np.arange(data.shape[0]))"
   ]
  },
  {
   "cell_type": "markdown",
   "metadata": {},
   "source": [
    "# LSTM"
   ]
  },
  {
   "cell_type": "code",
   "execution_count": 10,
   "metadata": {
    "ExecuteTime": {
     "end_time": "2020-04-11T10:51:18.374962Z",
     "start_time": "2020-04-11T10:51:17.715387Z"
    }
   },
   "outputs": [],
   "source": [
    "from datetime import datetime\n",
    "import torch\n",
    "from src.models.prediction import LSTM, Trainer\n",
    "\n",
    "def get_log_path(name):\n",
    "    return name + '_' + datetime.now().strftime('%Y-%m-%d-%H-%M')"
   ]
  },
  {
   "cell_type": "code",
   "execution_count": 14,
   "metadata": {
    "ExecuteTime": {
     "end_time": "2020-04-11T10:51:31.475380Z",
     "start_time": "2020-04-11T10:51:31.460978Z"
    },
    "code_folding": []
   },
   "outputs": [],
   "source": [
    "def forecast_tr_te(model, X_tr, X_te, batch_size):\n",
    "    \"\"\"\n",
    "    If len(X) is not divideble to batch_size, then first len(X) % batch_size will\n",
    "    not propagate states. It is as if we start forecasting from len(X) % batch_size\n",
    "    element from X\n",
    "    \"\"\"\n",
    "    model.reset_states()\n",
    "    reminder = len(X_tr) % batch_size\n",
    "    tmp_pred = torch.zeros((reminder, model.linear.out_features))\n",
    "    if reminder:\n",
    "        tmp_pred = model.forecast(X_tr[:reminder], reminder)\n",
    "        model.reset_states()\n",
    "    train_pred = model.forecast(X_tr[reminder:], batch_size)\n",
    "    train_pred = torch.cat([tmp_pred, train_pred], dim=0)\n",
    "    test_pred = model.forecast(X_te, batch_size)\n",
    "    return train_pred, test_pred"
   ]
  },
  {
   "cell_type": "markdown",
   "metadata": {
    "heading_collapsed": true
   },
   "source": [
    "## Тренд"
   ]
  },
  {
   "cell_type": "code",
   "execution_count": 11,
   "metadata": {
    "ExecuteTime": {
     "end_time": "2020-04-11T10:51:19.634522Z",
     "start_time": "2020-04-11T10:51:19.619419Z"
    },
    "hidden": true
   },
   "outputs": [],
   "source": [
    "from src.utils import to_torch_dataloader\n",
    "\n",
    "def get_dataloader(data, window_len):\n",
    "    \"\"\"\n",
    "    Batch size must be equal with window len\n",
    "    due fact, that i-th example in current batch need to get states\n",
    "    of i-th example of previous batch\n",
    "    \"\"\"\n",
    "    X = rolling_window(data, window_len)[:-prediction_len]\n",
    "    y = rolling_window(data, prediction_len, window_len)\n",
    "\n",
    "    X_tr, X_te, y_tr, y_te = train_test_split(X, y, train_size=0.7, shuffle=False)\n",
    "    \n",
    "    train_set = to_torch_dataloader(X_tr, y_tr, dict(batch_size=window_len))\n",
    "    test_set = to_torch_dataloader(X_te, y_te, dict(batch_size=window_len))\n",
    "    return train_set, test_set"
   ]
  },
  {
   "cell_type": "code",
   "execution_count": 12,
   "metadata": {
    "ExecuteTime": {
     "end_time": "2020-04-11T10:51:26.077535Z",
     "start_time": "2020-04-11T10:51:20.207800Z"
    },
    "hidden": true
   },
   "outputs": [],
   "source": [
    "train_set, test_set = get_dataloader(trend_data, window_len)"
   ]
  },
  {
   "cell_type": "markdown",
   "metadata": {
    "heading_collapsed": true,
    "hidden": true
   },
   "source": [
    "### HP search"
   ]
  },
  {
   "cell_type": "code",
   "execution_count": null,
   "metadata": {
    "ExecuteTime": {
     "end_time": "2020-04-10T14:48:37.051966Z",
     "start_time": "2020-04-10T14:48:31.840751Z"
    },
    "code_folding": [],
    "hidden": true
   },
   "outputs": [],
   "source": [
    "# # HP search\n",
    "# !pip install tabulate\n",
    "# !pip install ray\n",
    "# !pip install ray[tune]"
   ]
  },
  {
   "cell_type": "code",
   "execution_count": 14,
   "metadata": {
    "ExecuteTime": {
     "end_time": "2020-04-10T14:48:58.670030Z",
     "start_time": "2020-04-10T14:48:58.227515Z"
    },
    "hidden": true
   },
   "outputs": [],
   "source": [
    "from ray import tune\n",
    "from ray.tune import track"
   ]
  },
  {
   "cell_type": "code",
   "execution_count": 18,
   "metadata": {
    "ExecuteTime": {
     "end_time": "2020-04-10T14:52:01.681945Z",
     "start_time": "2020-04-10T14:52:01.660480Z"
    },
    "hidden": true
   },
   "outputs": [],
   "source": [
    "device = torch.device('cpu')\n",
    "criterion = torch.nn.MSELoss()\n",
    "\n",
    "import copy\n",
    "def evaluate(config):\n",
    "    config = copy.deepcopy(config)\n",
    "    train_set, test_set = get_dataloader(trend_data, int(config['window_len']))\n",
    "    del config['window_len']\n",
    "    \n",
    "    weight_decay = float(config['weight_decay'])\n",
    "    del config['weight_decay']\n",
    "    config['input_size'] = data.shape[1]\n",
    "    config['batch_first'] = True\n",
    "\n",
    "    # see: https://discuss.pytorch.org/t/error-with-lstm-when-switching-from-0-4-to-1-0-invalid-combination-of-arguments/35629/5\n",
    "    config['hidden_size'] = int(config['hidden_size'])\n",
    "    config['num_layers'] = int(config['num_layers'])\n",
    "    config['bidirectional'] = bool(config['bidirectional'])\n",
    "    \n",
    "    model = LSTM(**config).to(device)\n",
    "    optim = torch.optim.Adam(model.parameters(), weight_decay=float(weight_decay))\n",
    "    scheduler = torch.optim.lr_scheduler.ReduceLROnPlateau(optim,\n",
    "                                                           patience=3,\n",
    "                                                           threshold=0.01)\n",
    "\n",
    "    trainer = Trainer(\n",
    "        model,\n",
    "        criterion,\n",
    "        optim,\n",
    "        scheduler,\n",
    "        device,\n",
    "        get_log_path(\n",
    "            f'logs/trend'\n",
    "        ),\n",
    "        stateful=True,\n",
    "        hparams=config)\n",
    "    \n",
    "    trainer.train(train_set, test_set, 15)\n",
    "    track.log(loss=trainer.best_loss)"
   ]
  },
  {
   "cell_type": "code",
   "execution_count": null,
   "metadata": {
    "ExecuteTime": {
     "end_time": "2020-04-10T16:59:33.717545Z",
     "start_time": "2020-04-10T16:36:40.636530Z"
    },
    "hidden": true,
    "scrolled": true
   },
   "outputs": [],
   "source": [
    "config = dict(\n",
    "    window_len=tune.choice([32, 48, 64]),\n",
    "    hidden_size=tune.choice([8, 12]),\n",
    "    num_layers=tune.choice([2, 3]),\n",
    "    bidirectional=tune.choice([False, True]),\n",
    "    weight_decay=tune.uniform(0.0005, 0.01),\n",
    ")\n",
    "\n",
    "analysis = tune.run(evaluate, config=config, num_samples=20)"
   ]
  },
  {
   "cell_type": "code",
   "execution_count": 57,
   "metadata": {
    "ExecuteTime": {
     "end_time": "2020-04-10T16:59:46.540410Z",
     "start_time": "2020-04-10T16:59:46.461232Z"
    },
    "hidden": true,
    "scrolled": false
   },
   "outputs": [
    {
     "data": {
      "text/html": [
       "<div>\n",
       "<style scoped>\n",
       "    .dataframe tbody tr th:only-of-type {\n",
       "        vertical-align: middle;\n",
       "    }\n",
       "\n",
       "    .dataframe tbody tr th {\n",
       "        vertical-align: top;\n",
       "    }\n",
       "\n",
       "    .dataframe thead th {\n",
       "        text-align: right;\n",
       "    }\n",
       "</style>\n",
       "<table border=\"1\" class=\"dataframe\">\n",
       "  <thead>\n",
       "    <tr style=\"text-align: right;\">\n",
       "      <th></th>\n",
       "      <th>loss</th>\n",
       "      <th>trial_id</th>\n",
       "      <th>training_iteration</th>\n",
       "      <th>time_this_iter_s</th>\n",
       "      <th>done</th>\n",
       "      <th>timesteps_total</th>\n",
       "      <th>episodes_total</th>\n",
       "      <th>experiment_id</th>\n",
       "      <th>date</th>\n",
       "      <th>timestamp</th>\n",
       "      <th>...</th>\n",
       "      <th>time_since_restore</th>\n",
       "      <th>timesteps_since_restore</th>\n",
       "      <th>iterations_since_restore</th>\n",
       "      <th>experiment_tag</th>\n",
       "      <th>config/bidirectional</th>\n",
       "      <th>config/hidden_size</th>\n",
       "      <th>config/num_layers</th>\n",
       "      <th>config/weight_decay</th>\n",
       "      <th>config/window_len</th>\n",
       "      <th>logdir</th>\n",
       "    </tr>\n",
       "  </thead>\n",
       "  <tbody>\n",
       "    <tr>\n",
       "      <th>12</th>\n",
       "      <td>0.039795</td>\n",
       "      <td>12</td>\n",
       "      <td>0</td>\n",
       "      <td>573.908032</td>\n",
       "      <td>False</td>\n",
       "      <td>NaN</td>\n",
       "      <td>NaN</td>\n",
       "      <td>7f3d4f40d0284eb7ba95745b05173567</td>\n",
       "      <td>2020-04-10_19-46-21</td>\n",
       "      <td>1586537181</td>\n",
       "      <td>...</td>\n",
       "      <td>573.908032</td>\n",
       "      <td>0</td>\n",
       "      <td>1</td>\n",
       "      <td>12_bidirectional=True,hidden_size=12,num_layer...</td>\n",
       "      <td>True</td>\n",
       "      <td>12</td>\n",
       "      <td>2</td>\n",
       "      <td>0.000647</td>\n",
       "      <td>32</td>\n",
       "      <td>/home/rosneft_user_2500/ray_results/evaluate/e...</td>\n",
       "    </tr>\n",
       "    <tr>\n",
       "      <th>1</th>\n",
       "      <td>0.048548</td>\n",
       "      <td>1</td>\n",
       "      <td>0</td>\n",
       "      <td>308.478910</td>\n",
       "      <td>False</td>\n",
       "      <td>NaN</td>\n",
       "      <td>NaN</td>\n",
       "      <td>589d45124f9f4ce2a4d6da6a68537290</td>\n",
       "      <td>2020-04-10_19-41-52</td>\n",
       "      <td>1586536912</td>\n",
       "      <td>...</td>\n",
       "      <td>308.478910</td>\n",
       "      <td>0</td>\n",
       "      <td>1</td>\n",
       "      <td>1_bidirectional=False,hidden_size=8,num_layers...</td>\n",
       "      <td>False</td>\n",
       "      <td>8</td>\n",
       "      <td>2</td>\n",
       "      <td>0.000548</td>\n",
       "      <td>48</td>\n",
       "      <td>/home/rosneft_user_2500/ray_results/evaluate/e...</td>\n",
       "    </tr>\n",
       "    <tr>\n",
       "      <th>0</th>\n",
       "      <td>0.060433</td>\n",
       "      <td>0</td>\n",
       "      <td>0</td>\n",
       "      <td>811.679555</td>\n",
       "      <td>False</td>\n",
       "      <td>NaN</td>\n",
       "      <td>NaN</td>\n",
       "      <td>ca6f8d204374415fab5c3f373b04454c</td>\n",
       "      <td>2020-04-10_19-50-15</td>\n",
       "      <td>1586537415</td>\n",
       "      <td>...</td>\n",
       "      <td>811.679555</td>\n",
       "      <td>0</td>\n",
       "      <td>1</td>\n",
       "      <td>0_bidirectional=True,hidden_size=12,num_layers...</td>\n",
       "      <td>True</td>\n",
       "      <td>12</td>\n",
       "      <td>3</td>\n",
       "      <td>0.000587</td>\n",
       "      <td>48</td>\n",
       "      <td>/home/rosneft_user_2500/ray_results/evaluate/e...</td>\n",
       "    </tr>\n",
       "    <tr>\n",
       "      <th>3</th>\n",
       "      <td>0.066465</td>\n",
       "      <td>3</td>\n",
       "      <td>0</td>\n",
       "      <td>423.922788</td>\n",
       "      <td>False</td>\n",
       "      <td>NaN</td>\n",
       "      <td>NaN</td>\n",
       "      <td>6472a2e6817f4b9e9c9959bfc8681915</td>\n",
       "      <td>2020-04-10_19-43-48</td>\n",
       "      <td>1586537028</td>\n",
       "      <td>...</td>\n",
       "      <td>423.922788</td>\n",
       "      <td>0</td>\n",
       "      <td>1</td>\n",
       "      <td>3_bidirectional=False,hidden_size=8,num_layers...</td>\n",
       "      <td>False</td>\n",
       "      <td>8</td>\n",
       "      <td>3</td>\n",
       "      <td>0.000672</td>\n",
       "      <td>32</td>\n",
       "      <td>/home/rosneft_user_2500/ray_results/evaluate/e...</td>\n",
       "    </tr>\n",
       "    <tr>\n",
       "      <th>9</th>\n",
       "      <td>0.074381</td>\n",
       "      <td>9</td>\n",
       "      <td>0</td>\n",
       "      <td>349.287980</td>\n",
       "      <td>False</td>\n",
       "      <td>NaN</td>\n",
       "      <td>NaN</td>\n",
       "      <td>c8a26bbd5ae64789afd6807dc2721796</td>\n",
       "      <td>2020-04-10_19-42-35</td>\n",
       "      <td>1586536955</td>\n",
       "      <td>...</td>\n",
       "      <td>349.287980</td>\n",
       "      <td>0</td>\n",
       "      <td>1</td>\n",
       "      <td>9_bidirectional=False,hidden_size=12,num_layer...</td>\n",
       "      <td>False</td>\n",
       "      <td>12</td>\n",
       "      <td>2</td>\n",
       "      <td>0.002687</td>\n",
       "      <td>64</td>\n",
       "      <td>/home/rosneft_user_2500/ray_results/evaluate/e...</td>\n",
       "    </tr>\n",
       "  </tbody>\n",
       "</table>\n",
       "<p>5 rows × 24 columns</p>\n",
       "</div>"
      ],
      "text/plain": [
       "        loss  trial_id  training_iteration  time_this_iter_s   done  \\\n",
       "12  0.039795        12                   0        573.908032  False   \n",
       "1   0.048548         1                   0        308.478910  False   \n",
       "0   0.060433         0                   0        811.679555  False   \n",
       "3   0.066465         3                   0        423.922788  False   \n",
       "9   0.074381         9                   0        349.287980  False   \n",
       "\n",
       "    timesteps_total  episodes_total                     experiment_id  \\\n",
       "12              NaN             NaN  7f3d4f40d0284eb7ba95745b05173567   \n",
       "1               NaN             NaN  589d45124f9f4ce2a4d6da6a68537290   \n",
       "0               NaN             NaN  ca6f8d204374415fab5c3f373b04454c   \n",
       "3               NaN             NaN  6472a2e6817f4b9e9c9959bfc8681915   \n",
       "9               NaN             NaN  c8a26bbd5ae64789afd6807dc2721796   \n",
       "\n",
       "                   date   timestamp  ...  time_since_restore  \\\n",
       "12  2020-04-10_19-46-21  1586537181  ...          573.908032   \n",
       "1   2020-04-10_19-41-52  1586536912  ...          308.478910   \n",
       "0   2020-04-10_19-50-15  1586537415  ...          811.679555   \n",
       "3   2020-04-10_19-43-48  1586537028  ...          423.922788   \n",
       "9   2020-04-10_19-42-35  1586536955  ...          349.287980   \n",
       "\n",
       "    timesteps_since_restore iterations_since_restore  \\\n",
       "12                        0                        1   \n",
       "1                         0                        1   \n",
       "0                         0                        1   \n",
       "3                         0                        1   \n",
       "9                         0                        1   \n",
       "\n",
       "                                       experiment_tag  config/bidirectional  \\\n",
       "12  12_bidirectional=True,hidden_size=12,num_layer...                  True   \n",
       "1   1_bidirectional=False,hidden_size=8,num_layers...                 False   \n",
       "0   0_bidirectional=True,hidden_size=12,num_layers...                  True   \n",
       "3   3_bidirectional=False,hidden_size=8,num_layers...                 False   \n",
       "9   9_bidirectional=False,hidden_size=12,num_layer...                 False   \n",
       "\n",
       "    config/hidden_size  config/num_layers config/weight_decay  \\\n",
       "12                  12                  2            0.000647   \n",
       "1                    8                  2            0.000548   \n",
       "0                   12                  3            0.000587   \n",
       "3                    8                  3            0.000672   \n",
       "9                   12                  2            0.002687   \n",
       "\n",
       "   config/window_len                                             logdir  \n",
       "12                32  /home/rosneft_user_2500/ray_results/evaluate/e...  \n",
       "1                 48  /home/rosneft_user_2500/ray_results/evaluate/e...  \n",
       "0                 48  /home/rosneft_user_2500/ray_results/evaluate/e...  \n",
       "3                 32  /home/rosneft_user_2500/ray_results/evaluate/e...  \n",
       "9                 64  /home/rosneft_user_2500/ray_results/evaluate/e...  \n",
       "\n",
       "[5 rows x 24 columns]"
      ]
     },
     "execution_count": 57,
     "metadata": {},
     "output_type": "execute_result"
    }
   ],
   "source": [
    "resdf = analysis.dataframe()\n",
    "resdf.sort_values('loss').head()"
   ]
  },
  {
   "cell_type": "code",
   "execution_count": 58,
   "metadata": {
    "ExecuteTime": {
     "end_time": "2020-04-10T17:00:37.540041Z",
     "start_time": "2020-04-10T17:00:37.520093Z"
    },
    "hidden": true
   },
   "outputs": [
    {
     "data": {
      "text/plain": [
       "0.03979526917201923"
      ]
     },
     "execution_count": 58,
     "metadata": {},
     "output_type": "execute_result"
    }
   ],
   "source": [
    "resdf['loss'].min()"
   ]
  },
  {
   "cell_type": "markdown",
   "metadata": {
    "heading_collapsed": true,
    "hidden": true
   },
   "source": [
    "### Обучение"
   ]
  },
  {
   "cell_type": "code",
   "execution_count": 63,
   "metadata": {
    "ExecuteTime": {
     "end_time": "2020-04-10T17:27:07.336896Z",
     "start_time": "2020-04-10T17:27:07.314044Z"
    },
    "hidden": true,
    "scrolled": true
   },
   "outputs": [],
   "source": [
    "config = dict(\n",
    "    input_size=data.shape[1],\n",
    "    hidden_size=16,\n",
    "    num_layers=1,\n",
    "    batch_first=True,\n",
    "    bidirectional=True,\n",
    ")\n",
    "\n",
    "device = torch.device('cpu')\n",
    "model = LSTM(**config).to(device)\n",
    "criterion = torch.nn.MSELoss()\n",
    "optim = torch.optim.Adam(model.parameters(), weight_decay=0.001)\n",
    "scheduler = torch.optim.lr_scheduler.ReduceLROnPlateau(optim,\n",
    "                                                       patience=3,\n",
    "                                                       threshold=0.01)\n",
    "\n",
    "trainer = Trainer(\n",
    "    model,\n",
    "    criterion,\n",
    "    optim,\n",
    "    scheduler,\n",
    "    device,\n",
    "    get_log_path(\n",
    "        f'logs/trend-interpolated'\n",
    "    ),\n",
    "    stateful=True,\n",
    "    hparams=config)"
   ]
  },
  {
   "cell_type": "code",
   "execution_count": null,
   "metadata": {
    "ExecuteTime": {
     "start_time": "2020-04-10T17:27:01.434Z"
    },
    "hidden": true,
    "scrolled": true
   },
   "outputs": [
    {
     "name": "stderr",
     "output_type": "stream",
     "text": [
      "Epoch 0 of train: :   0%|          | 0/140 [00:00<?, ?it/s, loss=0.582]"
     ]
    },
    {
     "name": "stdout",
     "output_type": "stream",
     "text": [
      "Epoch 0/19\n",
      "----------\n"
     ]
    },
    {
     "name": "stderr",
     "output_type": "stream",
     "text": [
      "Epoch 0 of train: : 100%|██████████| 140/140 [00:34<00:00,  4.02it/s, loss=0.0303]\n",
      "Epoch 0 of val: : 100%|██████████| 60/60 [00:14<00:00,  4.03it/s, loss=0.607] \n",
      "Epoch 1 of train: :   0%|          | 0/140 [00:00<?, ?it/s, loss=0.437]"
     ]
    },
    {
     "name": "stdout",
     "output_type": "stream",
     "text": [
      "Loss: 0.1295\n",
      "\n",
      "Epoch 1/19\n",
      "----------\n"
     ]
    },
    {
     "name": "stderr",
     "output_type": "stream",
     "text": [
      "Epoch 3 of train: : 100%|██████████| 140/140 [00:34<00:00,  4.07it/s, loss=0.0214]\n",
      "Epoch 3 of val: : 100%|██████████| 60/60 [00:14<00:00,  4.10it/s, loss=0.258] \n",
      "Epoch 4 of train: :   0%|          | 0/140 [00:00<?, ?it/s, loss=0.247]"
     ]
    },
    {
     "name": "stdout",
     "output_type": "stream",
     "text": [
      "Loss: 0.0580\n",
      "\n",
      "Epoch 4/19\n",
      "----------\n"
     ]
    },
    {
     "name": "stderr",
     "output_type": "stream",
     "text": [
      "Epoch 4 of train: : 100%|██████████| 140/140 [00:33<00:00,  4.18it/s, loss=0.025] \n",
      "Epoch 4 of val: : 100%|██████████| 60/60 [00:14<00:00,  4.07it/s, loss=0.277] \n",
      "Epoch 5 of train: :   0%|          | 0/140 [00:00<?, ?it/s, loss=0.241]"
     ]
    },
    {
     "name": "stdout",
     "output_type": "stream",
     "text": [
      "Loss: 0.0569\n",
      "\n",
      "Epoch 5/19\n",
      "----------\n"
     ]
    },
    {
     "name": "stderr",
     "output_type": "stream",
     "text": [
      "Epoch 5 of train: : 100%|██████████| 140/140 [00:33<00:00,  4.14it/s, loss=0.023] \n",
      "Epoch 5 of val: : 100%|██████████| 60/60 [00:15<00:00,  3.97it/s, loss=0.314] \n",
      "Epoch 6 of train: :   0%|          | 0/140 [00:00<?, ?it/s, loss=0.263]"
     ]
    },
    {
     "name": "stdout",
     "output_type": "stream",
     "text": [
      "Loss: 0.0583\n",
      "\n",
      "Epoch 6/19\n",
      "----------\n"
     ]
    },
    {
     "name": "stderr",
     "output_type": "stream",
     "text": [
      "Epoch 6 of train: : 100%|██████████| 140/140 [00:34<00:00,  4.07it/s, loss=0.0236]\n",
      "Epoch 6 of val: : 100%|██████████| 60/60 [00:15<00:00,  3.97it/s, loss=0.258] \n",
      "Epoch 7 of train: :   0%|          | 0/140 [00:00<?, ?it/s, loss=0.202]"
     ]
    },
    {
     "name": "stdout",
     "output_type": "stream",
     "text": [
      "Loss: 0.0527\n",
      "\n",
      "Epoch 7/19\n",
      "----------\n"
     ]
    },
    {
     "name": "stderr",
     "output_type": "stream",
     "text": [
      "Epoch 7 of train: : 100%|██████████| 140/140 [00:35<00:00,  4.00it/s, loss=0.0232]\n",
      "Epoch 7 of val: : 100%|██████████| 60/60 [00:14<00:00,  4.11it/s, loss=0.363] \n",
      "Epoch 8 of train: :   0%|          | 0/140 [00:00<?, ?it/s, loss=0.224]"
     ]
    },
    {
     "name": "stdout",
     "output_type": "stream",
     "text": [
      "Loss: 0.0592\n",
      "\n",
      "Epoch 8/19\n",
      "----------\n"
     ]
    },
    {
     "name": "stderr",
     "output_type": "stream",
     "text": [
      "Epoch 8 of train: : 100%|██████████| 140/140 [00:34<00:00,  4.04it/s, loss=0.0236]\n",
      "Epoch 8 of val: : 100%|██████████| 60/60 [00:15<00:00,  3.99it/s, loss=0.254] \n",
      "Epoch 9 of train: :   0%|          | 0/140 [00:00<?, ?it/s, loss=0.189]"
     ]
    },
    {
     "name": "stdout",
     "output_type": "stream",
     "text": [
      "Loss: 0.0492\n",
      "\n",
      "Epoch 9/19\n",
      "----------\n"
     ]
    },
    {
     "name": "stderr",
     "output_type": "stream",
     "text": [
      "Epoch 9 of train: : 100%|██████████| 140/140 [00:34<00:00,  4.05it/s, loss=0.0213]\n",
      "Epoch 9 of val: : 100%|██████████| 60/60 [00:14<00:00,  4.00it/s, loss=0.272] \n",
      "Epoch 10 of train: :   0%|          | 0/140 [00:00<?, ?it/s, loss=0.184]"
     ]
    },
    {
     "name": "stdout",
     "output_type": "stream",
     "text": [
      "Loss: 0.0495\n",
      "\n",
      "Epoch 10/19\n",
      "----------\n"
     ]
    },
    {
     "name": "stderr",
     "output_type": "stream",
     "text": [
      "Epoch 10 of train: : 100%|██████████| 140/140 [00:34<00:00,  4.03it/s, loss=0.0215]\n",
      "Epoch 10 of val: : 100%|██████████| 60/60 [00:14<00:00,  4.08it/s, loss=0.249] \n",
      "Epoch 11 of train: :   0%|          | 0/140 [00:00<?, ?it/s, loss=0.168]"
     ]
    },
    {
     "name": "stdout",
     "output_type": "stream",
     "text": [
      "Loss: 0.0466\n",
      "\n",
      "Epoch 11/19\n",
      "----------\n"
     ]
    },
    {
     "name": "stderr",
     "output_type": "stream",
     "text": [
      "Epoch 11 of train: : 100%|██████████| 140/140 [00:34<00:00,  4.05it/s, loss=0.0181]\n",
      "Epoch 11 of val: : 100%|██████████| 60/60 [00:14<00:00,  4.08it/s, loss=0.219] \n",
      "Epoch 12 of train: :   0%|          | 0/140 [00:00<?, ?it/s, loss=0.155]"
     ]
    },
    {
     "name": "stdout",
     "output_type": "stream",
     "text": [
      "Loss: 0.0454\n",
      "\n",
      "Epoch 12/19\n",
      "----------\n"
     ]
    },
    {
     "name": "stderr",
     "output_type": "stream",
     "text": [
      "Epoch 12 of train: : 100%|██████████| 140/140 [00:35<00:00,  3.96it/s, loss=0.0206]\n",
      "Epoch 12 of val: : 100%|██████████| 60/60 [00:14<00:00,  4.08it/s, loss=0.22]  \n",
      "Epoch 13 of train: :   0%|          | 0/140 [00:00<?, ?it/s, loss=0.143]"
     ]
    },
    {
     "name": "stdout",
     "output_type": "stream",
     "text": [
      "Loss: 0.0440\n",
      "\n",
      "Epoch 13/19\n",
      "----------\n"
     ]
    },
    {
     "name": "stderr",
     "output_type": "stream",
     "text": [
      "Epoch 13 of train: : 100%|██████████| 140/140 [00:34<00:00,  4.02it/s, loss=0.0198] \n",
      "Epoch 13 of val: : 100%|██████████| 60/60 [00:14<00:00,  4.09it/s, loss=0.282] \n",
      "Epoch 14 of train: :   0%|          | 0/140 [00:00<?, ?it/s, loss=0.168]"
     ]
    },
    {
     "name": "stdout",
     "output_type": "stream",
     "text": [
      "Loss: 0.0480\n",
      "\n",
      "Epoch 14/19\n",
      "----------\n"
     ]
    },
    {
     "name": "stderr",
     "output_type": "stream",
     "text": [
      "Epoch 14 of train: : 100%|██████████| 140/140 [00:34<00:00,  4.01it/s, loss=0.0181] \n",
      "Epoch 14 of val: : 100%|██████████| 60/60 [00:14<00:00,  4.08it/s, loss=0.193] \n",
      "Epoch 15 of train: :   0%|          | 0/140 [00:00<?, ?it/s, loss=0.13]"
     ]
    },
    {
     "name": "stdout",
     "output_type": "stream",
     "text": [
      "Loss: 0.0469\n",
      "\n",
      "Epoch 15/19\n",
      "----------\n"
     ]
    },
    {
     "name": "stderr",
     "output_type": "stream",
     "text": [
      "Epoch 15 of train: : 100%|██████████| 140/140 [00:34<00:00,  4.09it/s, loss=0.0169] \n",
      "Epoch 15 of val: : 100%|██████████| 60/60 [00:14<00:00,  4.01it/s, loss=0.349] \n",
      "Epoch 16 of train: :   0%|          | 0/140 [00:00<?, ?it/s, loss=0.17]"
     ]
    },
    {
     "name": "stdout",
     "output_type": "stream",
     "text": [
      "Loss: 0.0551\n",
      "\n",
      "Epoch 16/19\n",
      "----------\n"
     ]
    },
    {
     "name": "stderr",
     "output_type": "stream",
     "text": [
      "Epoch 16 of train: :  50%|█████     | 70/140 [00:17<00:17,  3.99it/s, loss=0.0354] IOPub message rate exceeded.\n",
      "The notebook server will temporarily stop sending output\n",
      "to the client in order to avoid crashing it.\n",
      "To change this limit, set the config variable\n",
      "`--NotebookApp.iopub_msg_rate_limit`.\n",
      "\n",
      "Current values:\n",
      "NotebookApp.iopub_msg_rate_limit=1000.0 (msgs/sec)\n",
      "NotebookApp.rate_limit_window=3.0 (secs)\n",
      "\n",
      "Epoch 18 of train: : 100%|██████████| 140/140 [00:36<00:00,  3.88it/s, loss=0.0159] \n",
      "Epoch 18 of val: : 100%|██████████| 60/60 [00:15<00:00,  3.88it/s, loss=0.286] \n",
      "Epoch 19 of train: :   0%|          | 0/140 [00:00<?, ?it/s, loss=0.116]"
     ]
    },
    {
     "name": "stdout",
     "output_type": "stream",
     "text": [
      "Loss: 0.0433\n",
      "\n",
      "Epoch 19/19\n",
      "----------\n"
     ]
    },
    {
     "name": "stderr",
     "output_type": "stream",
     "text": [
      "Epoch 19 of train: : 100%|██████████| 140/140 [00:34<00:00,  4.02it/s, loss=0.0153] \n",
      "Epoch 19 of val: :  75%|███████▌  | 45/60 [00:11<00:04,  3.64it/s, loss=0.0242]"
     ]
    }
   ],
   "source": [
    "train_set, test_set = get_data(window_len)\n",
    "trainer.train(train_set, test_set, 20)"
   ]
  },
  {
   "cell_type": "code",
   "execution_count": 21,
   "metadata": {
    "ExecuteTime": {
     "end_time": "2020-04-10T14:41:46.347416Z",
     "start_time": "2020-04-10T14:41:46.309538Z"
    },
    "hidden": true
   },
   "outputs": [],
   "source": [
    "torch.save(model, 'models/trend.pth')"
   ]
  },
  {
   "cell_type": "markdown",
   "metadata": {
    "heading_collapsed": true,
    "hidden": true
   },
   "source": [
    "### Предсказание"
   ]
  },
  {
   "cell_type": "code",
   "execution_count": 13,
   "metadata": {
    "ExecuteTime": {
     "end_time": "2020-04-11T10:51:28.912496Z",
     "start_time": "2020-04-11T10:51:28.872352Z"
    },
    "hidden": true
   },
   "outputs": [
    {
     "name": "stderr",
     "output_type": "stream",
     "text": [
      "/home/rosneft_user_2500/anaconda3/envs/anom-det/lib/python3.7/site-packages/torch/serialization.py:593: SourceChangeWarning:\n",
      "\n",
      "source code of class 'src.models.prediction.models.LSTM' has changed. you can retrieve the original source code by accessing the object's source attribute or set `torch.nn.Module.dump_patches = True` and use the patch tool to revert the changes.\n",
      "\n"
     ]
    }
   ],
   "source": [
    "import torch\n",
    "model = torch.load('models/trend.pth')"
   ]
  },
  {
   "cell_type": "code",
   "execution_count": 15,
   "metadata": {
    "ExecuteTime": {
     "end_time": "2020-04-11T10:51:31.943887Z",
     "start_time": "2020-04-11T10:51:31.937807Z"
    },
    "hidden": true
   },
   "outputs": [],
   "source": [
    "X_tr, y_tr = train_set.dataset.tensors\n",
    "X_te, y_te = test_set.dataset.tensors"
   ]
  },
  {
   "cell_type": "code",
   "execution_count": 16,
   "metadata": {
    "ExecuteTime": {
     "end_time": "2020-04-11T10:51:41.322537Z",
     "start_time": "2020-04-11T10:51:34.011728Z"
    },
    "hidden": true,
    "scrolled": true
   },
   "outputs": [
    {
     "name": "stderr",
     "output_type": "stream",
     "text": [
      "  0%|          | 0/1 [00:00<?, ?it/s]/home/rosneft_user_2500/anomaly-detection/src/models/prediction/models.py:61: UserWarning:\n",
      "\n",
      "To copy construct from a tensor, it is recommended to use sourceTensor.clone().detach() or sourceTensor.clone().detach().requires_grad_(True), rather than torch.tensor(sourceTensor).\n",
      "\n",
      "100%|██████████| 1/1 [00:00<00:00, 23.17it/s]\n",
      "  0%|          | 0/139 [00:00<?, ?it/s]/home/rosneft_user_2500/anomaly-detection/src/models/prediction/models.py:47: UserWarning:\n",
      "\n",
      "To copy construct from a tensor, it is recommended to use sourceTensor.clone().detach() or sourceTensor.clone().detach().requires_grad_(True), rather than torch.tensor(sourceTensor).\n",
      "\n",
      "100%|██████████| 139/139 [00:04<00:00, 28.70it/s]\n",
      "100%|██████████| 60/60 [00:02<00:00, 29.55it/s]\n"
     ]
    }
   ],
   "source": [
    "train_pred, test_pred = forecast_tr_te(model, X_tr, X_te, window_len)\n",
    "\n",
    "train_pred = train_pred.detach().numpy()\n",
    "test_pred = test_pred.detach().numpy()"
   ]
  },
  {
   "cell_type": "code",
   "execution_count": 17,
   "metadata": {
    "ExecuteTime": {
     "end_time": "2020-04-11T10:51:41.893626Z",
     "start_time": "2020-04-11T10:51:41.325526Z"
    },
    "hidden": true
   },
   "outputs": [
    {
     "data": {
      "application/vnd.jupyter.widget-view+json": {
       "model_id": "a2e93d24bbef4b1d9ceae571d9c56b46",
       "version_major": 2,
       "version_minor": 0
      },
      "text/plain": [
       "interactive(children=(IntSlider(value=20, description='component', max=40), Output()), _dom_classes=('widget-i…"
      ]
     },
     "metadata": {},
     "output_type": "display_data"
    }
   ],
   "source": [
    "split_point = len(X_tr) + window_len\n",
    "\n",
    "interactive_plotter_by_component([\n",
    "    compare_plot_from_2d_wrapper(trend_data[:split_point],\n",
    "                                 'real',\n",
    "                                 train_pred,\n",
    "                                 'pred',\n",
    "                                 shift_pred=window_len),\n",
    "    compare_plot_from_2d_wrapper(trend_data[split_point:], 'real',\n",
    "                                 test_pred, 'pred')\n",
    "], ['Train', 'Test'], 'Next value prediction of trend')"
   ]
  },
  {
   "cell_type": "markdown",
   "metadata": {
    "heading_collapsed": true,
    "hidden": true
   },
   "source": [
    "#### Weighted MSE - Optional"
   ]
  },
  {
   "cell_type": "markdown",
   "metadata": {
    "ExecuteTime": {
     "end_time": "2020-03-12T13:32:19.685055Z",
     "start_time": "2020-03-12T13:32:19.680078Z"
    },
    "hidden": true
   },
   "source": [
    "На некоторых компонентах плохое предсказание, поэтому им нужно получить больше веса"
   ]
  },
  {
   "cell_type": "code",
   "execution_count": 18,
   "metadata": {
    "ExecuteTime": {
     "end_time": "2020-03-12T14:16:53.367878Z",
     "start_time": "2020-03-12T14:16:53.294876Z"
    },
    "hidden": true
   },
   "outputs": [],
   "source": [
    "# from sklearn.metrics import mean_squared_error\n",
    "\n",
    "# width = 3000\n",
    "# err = mean_squared_error(test_pred[:width], decomposed.trend[split_point:split_point+width], multioutput='raw_values')\n",
    "# plt.bar(np.arange(len(err)), err)\n",
    "\n",
    "# def weighted_mse_loss(weights):\n",
    "#     weights = torch.tensor(weights)\n",
    "#     criterion = torch.nn.MSELoss(reduction='none')\n",
    "#     def mse(input, target):\n",
    "#         nonlocal weights, criterion\n",
    "#         loss = criterion(input, target)\n",
    "#         loss = loss * weights.expand_as(loss)\n",
    "#         return loss.mean()\n",
    "#     return mse\n",
    "\n",
    "# criterion = weighted_mse_loss(err / err.sum())\n",
    "# optim = torch.optim.Adam(model.parameters(), lr=0.001, weight_decay=0.001)\n",
    "# scheduler = torch.optim.lr_scheduler.ReduceLROnPlateau(optim,\n",
    "#                                                        patience=3,\n",
    "#                                                        threshold=0.01)\n",
    "\n",
    "# trainer = Trainer(\n",
    "#     model,\n",
    "#     criterion,\n",
    "#     optim,\n",
    "#     scheduler,\n",
    "#     device,\n",
    "#     get_log_path(\n",
    "#         f'logs/trend-retraining-{config[\"num_layers\"]}-layers-{config[\"hidden_size\"]}-hidden-{window_len}-len'\n",
    "#     ),\n",
    "#     stateful=True)\n",
    "\n",
    "\n",
    "\n",
    "# model.reset_states()\n",
    "# trainer.train(train_set, test_set, 10)\n",
    "\n",
    "# model.reset_states()\n",
    "# split_point = len(X_tr) + window_len\n",
    "# train_pred = next_value_prediction(model, decomposed.trend[:split_point],\n",
    "#                                    window_len)\n",
    "# test_pred = next_value_prediction(model, decomposed.trend[split_point:],\n",
    "#                                   window_len)\n",
    "\n",
    "# train_pred = train_pred.detach().numpy()\n",
    "# test_pred = test_pred.detach().numpy()"
   ]
  },
  {
   "cell_type": "markdown",
   "metadata": {
    "heading_collapsed": true
   },
   "source": [
    "## Предсказание остатков"
   ]
  },
  {
   "cell_type": "markdown",
   "metadata": {
    "heading_collapsed": true,
    "hidden": true
   },
   "source": [
    "### Подоготвка данных "
   ]
  },
  {
   "cell_type": "code",
   "execution_count": 18,
   "metadata": {
    "ExecuteTime": {
     "end_time": "2020-04-11T10:51:50.658806Z",
     "start_time": "2020-04-11T10:51:50.640711Z"
    },
    "hidden": true
   },
   "outputs": [],
   "source": [
    "train_resid = np.array(y_tr).squeeze() - train_pred\n",
    "test_resid = np.array(y_te).squeeze() - test_pred\n",
    "\n",
    "trend_pred = np.r_[train_pred, test_pred]\n",
    "residuals = np.r_[train_resid, test_resid]"
   ]
  },
  {
   "cell_type": "code",
   "execution_count": 19,
   "metadata": {
    "ExecuteTime": {
     "end_time": "2020-04-11T10:51:51.604969Z",
     "start_time": "2020-04-11T10:51:50.945682Z"
    },
    "hidden": true
   },
   "outputs": [
    {
     "data": {
      "application/vnd.jupyter.widget-view+json": {
       "model_id": "c06aeab43c9e46838e12432243b63d7a",
       "version_major": 2,
       "version_minor": 0
      },
      "text/plain": [
       "interactive(children=(IntSlider(value=20, description='component', max=40), Output()), _dom_classes=('widget-i…"
      ]
     },
     "metadata": {},
     "output_type": "display_data"
    }
   ],
   "source": [
    "interactive_plotter_by_component([\n",
    "    compare_plot_from_2d_wrapper(decomposed.trend,\n",
    "                                 'real',\n",
    "                                 trend_pred,\n",
    "                                 'Next value prediction (LSTM)',\n",
    "                                 shift_pred=window_len),\n",
    "    lambda component: plt.plot(residuals[:, component], label='Residuals (data - trend_pred)')\n",
    "],\n",
    "['Trend', 'Resid'], None)"
   ]
  },
  {
   "cell_type": "code",
   "execution_count": 20,
   "metadata": {
    "ExecuteTime": {
     "end_time": "2020-04-11T10:51:53.128136Z",
     "start_time": "2020-04-11T10:51:51.607436Z"
    },
    "hidden": true,
    "scrolled": true
   },
   "outputs": [
    {
     "data": {
      "application/vnd.jupyter.widget-view+json": {
       "model_id": "f366c68824604de2a8651d0582a04e0f",
       "version_major": 2,
       "version_minor": 0
      },
      "text/plain": [
       "interactive(children=(IntSlider(value=20, description='component', max=40), Dropdown(description='sigma', opti…"
      ]
     },
     "metadata": {},
     "output_type": "display_data"
    }
   ],
   "source": [
    "from scipy.ndimage import gaussian_filter1d\n",
    "@interact(component=(0, 40), sigma=np.arange(1, 11))\n",
    "def plot(component, sigma):\n",
    "    smoothed = gaussian_filter1d(train_resid, sigma, axis=0)\n",
    "    pd.DataFrame(dict(component=smoothed[:, component])).iplot()"
   ]
  },
  {
   "cell_type": "code",
   "execution_count": 21,
   "metadata": {
    "ExecuteTime": {
     "end_time": "2020-04-11T10:51:53.164977Z",
     "start_time": "2020-04-11T10:51:53.130327Z"
    },
    "hidden": true
   },
   "outputs": [],
   "source": [
    "sigma = 10\n",
    "smoothed_train = gaussian_filter1d(train_resid, sigma, axis=0)\n",
    "smoothed_test = gaussian_filter1d(test_resid, sigma, axis=0)"
   ]
  },
  {
   "cell_type": "code",
   "execution_count": 22,
   "metadata": {
    "ExecuteTime": {
     "end_time": "2020-04-11T10:51:53.172706Z",
     "start_time": "2020-04-11T10:51:53.166724Z"
    },
    "hidden": true
   },
   "outputs": [],
   "source": [
    "# from sklearn.preprocessing import StandardScaler\n",
    "# ss = StandardScaler().fit(train_resid)\n",
    "# train_resid_scaled = ss.transform(smoothed_train)\n",
    "# test_resid_scaled = ss.transform(smoothed_test)"
   ]
  },
  {
   "cell_type": "markdown",
   "metadata": {
    "heading_collapsed": true,
    "hidden": true
   },
   "source": [
    "### Обучение"
   ]
  },
  {
   "cell_type": "code",
   "execution_count": 28,
   "metadata": {
    "ExecuteTime": {
     "end_time": "2020-04-11T10:53:55.855351Z",
     "start_time": "2020-04-11T10:53:55.818511Z"
    },
    "hidden": true
   },
   "outputs": [
    {
     "name": "stderr",
     "output_type": "stream",
     "text": [
      "/home/rosneft_user_2500/anomaly-detection/src/utils.py:32: UserWarning:\n",
      "\n",
      "To copy construct from a tensor, it is recommended to use sourceTensor.clone().detach() or sourceTensor.clone().detach().requires_grad_(True), rather than torch.tensor(sourceTensor).\n",
      "\n"
     ]
    }
   ],
   "source": [
    "# def get_data_with_states(data, residuals, window_len):\n",
    "#     \"\"\"\n",
    "#     Data must be a shape (n, d)\n",
    "#     Residuals must be a shape (n-window_len, d)\n",
    "#     \"\"\"\n",
    "#     additional_dim_data = torch.tensor(data[None, ...]).float()\n",
    "#     out, _ = model.lstm(additional_dim_data)\n",
    "#     out = out.permute(1, 0, 2).view(out.size(1), -1).detach().numpy()\n",
    "#     data = np.c_[data, out]\n",
    "#     X = rolling_window(data, window_len)[:-prediction_len]\n",
    "    \n",
    "#     X_tr, X_te, y_tr, y_te = train_test_split(X, residuals, train_size=0.7, shuffle=False)\n",
    "    \n",
    "#     train_set = to_torch_dataloader(X_tr, y_tr, dict(batch_size=window_len))\n",
    "#     test_set = to_torch_dataloader(X_te, y_te, dict(batch_size=window_len))\n",
    "#     return train_set, test_set\n",
    "\n",
    "# train_set, test_set = get_data_with_states(data.values, residuals, window_len)\n",
    "\n",
    "train_set = to_torch_dataloader(X_tr, smoothed_train, dict(batch_size=batch_size))\n",
    "test_set = to_torch_dataloader(X_te, smoothed_test, dict(batch_size=batch_size))"
   ]
  },
  {
   "cell_type": "code",
   "execution_count": 29,
   "metadata": {
    "ExecuteTime": {
     "end_time": "2020-04-11T10:54:07.095232Z",
     "start_time": "2020-04-11T10:54:05.620826Z"
    },
    "hidden": true
   },
   "outputs": [],
   "source": [
    "import torch\n",
    "from src.models.prediction import LSTM, Trainer\n",
    "\n",
    "config = dict(\n",
    "    input_size=train_set.dataset.tensors[0].shape[-1],\n",
    "    output_size=train_set.dataset.tensors[1].shape[-1],\n",
    "    hidden_size=16,\n",
    "    num_layers=1,\n",
    "    batch_first=True,\n",
    "    bidirectional=True,\n",
    ")\n",
    "\n",
    "device = torch.device('cpu')\n",
    "resid_model = LSTM(**config).to(device)\n",
    "criterion = torch.nn.MSELoss()\n",
    "optim = torch.optim.Adam(resid_model.parameters(), lr=0.001, weight_decay=0.001)\n",
    "scheduler = torch.optim.lr_scheduler.ReduceLROnPlateau(optim,\n",
    "                                                       patience=3,\n",
    "                                                       threshold=0.01)\n",
    "\n",
    "trainer = Trainer(\n",
    "    resid_model,\n",
    "    criterion,\n",
    "    optim,\n",
    "    scheduler,\n",
    "    device,\n",
    "    get_log_path(\n",
    "        f'logs/resid-smoothed'\n",
    "    ),\n",
    "    config,\n",
    "    stateful=True,\n",
    ")"
   ]
  },
  {
   "cell_type": "code",
   "execution_count": 30,
   "metadata": {
    "ExecuteTime": {
     "end_time": "2020-04-11T11:02:02.883728Z",
     "start_time": "2020-04-11T10:54:12.214507Z"
    },
    "hidden": true,
    "scrolled": true
   },
   "outputs": [
    {
     "name": "stderr",
     "output_type": "stream",
     "text": [
      "Epoch 0 of train: :   1%|          | 1/140 [00:00<00:18,  7.62it/s, loss=0.0968]"
     ]
    },
    {
     "name": "stdout",
     "output_type": "stream",
     "text": [
      "Epoch 0/19\n",
      "----------\n"
     ]
    },
    {
     "name": "stderr",
     "output_type": "stream",
     "text": [
      "/home/rosneft_user_2500/anomaly-detection/src/models/prediction/models.py:47: UserWarning:\n",
      "\n",
      "To copy construct from a tensor, it is recommended to use sourceTensor.clone().detach() or sourceTensor.clone().detach().requires_grad_(True), rather than torch.tensor(sourceTensor).\n",
      "\n",
      "Epoch 0 of train: : 100%|██████████| 140/140 [00:16<00:00,  8.58it/s, loss=0.0114] \n",
      "Epoch 0 of val: : 100%|██████████| 60/60 [00:06<00:00,  8.83it/s, loss=0.141]  \n",
      "Epoch 1 of train: :   0%|          | 0/140 [00:00<?, ?it/s, loss=0.0244]"
     ]
    },
    {
     "name": "stdout",
     "output_type": "stream",
     "text": [
      "Loss: 0.0229\n",
      "\n",
      "Epoch 1/19\n",
      "----------\n"
     ]
    },
    {
     "name": "stderr",
     "output_type": "stream",
     "text": [
      "Epoch 1 of train: : 100%|██████████| 140/140 [00:15<00:00,  8.83it/s, loss=0.0105] \n",
      "Epoch 1 of val: : 100%|██████████| 60/60 [00:06<00:00,  8.82it/s, loss=0.135]  \n",
      "Epoch 2 of train: :   1%|          | 1/140 [00:00<00:14,  9.54it/s, loss=0.0183]"
     ]
    },
    {
     "name": "stdout",
     "output_type": "stream",
     "text": [
      "Loss: 0.0210\n",
      "\n",
      "Epoch 2/19\n",
      "----------\n"
     ]
    },
    {
     "name": "stderr",
     "output_type": "stream",
     "text": [
      "Epoch 2 of train: : 100%|██████████| 140/140 [00:16<00:00,  8.59it/s, loss=0.0101] \n",
      "Epoch 2 of val: : 100%|██████████| 60/60 [00:07<00:00,  7.92it/s, loss=0.122]  \n",
      "Epoch 3 of train: :   1%|          | 1/140 [00:00<00:14,  9.51it/s, loss=0.0151]"
     ]
    },
    {
     "name": "stdout",
     "output_type": "stream",
     "text": [
      "Loss: 0.0201\n",
      "\n",
      "Epoch 3/19\n",
      "----------\n"
     ]
    },
    {
     "name": "stderr",
     "output_type": "stream",
     "text": [
      "Epoch 3 of train: : 100%|██████████| 140/140 [00:16<00:00,  8.62it/s, loss=0.0101] \n",
      "Epoch 3 of val: : 100%|██████████| 60/60 [00:06<00:00,  8.80it/s, loss=0.111]  \n",
      "Epoch 4 of train: :   1%|          | 1/140 [00:00<00:15,  8.98it/s, loss=0.0138]"
     ]
    },
    {
     "name": "stdout",
     "output_type": "stream",
     "text": [
      "Loss: 0.0195\n",
      "\n",
      "Epoch 4/19\n",
      "----------\n"
     ]
    },
    {
     "name": "stderr",
     "output_type": "stream",
     "text": [
      "Epoch 4 of train: : 100%|██████████| 140/140 [00:16<00:00,  8.49it/s, loss=0.0101] \n",
      "Epoch 4 of val: : 100%|██████████| 60/60 [00:07<00:00,  8.34it/s, loss=0.106]  \n",
      "Epoch 5 of train: :   1%|          | 1/140 [00:00<00:16,  8.20it/s, loss=0.0131]"
     ]
    },
    {
     "name": "stdout",
     "output_type": "stream",
     "text": [
      "Loss: 0.0193\n",
      "\n",
      "Epoch 5/19\n",
      "----------\n"
     ]
    },
    {
     "name": "stderr",
     "output_type": "stream",
     "text": [
      "Epoch 5 of train: : 100%|██████████| 140/140 [00:16<00:00,  8.56it/s, loss=0.01]   \n",
      "Epoch 5 of val: : 100%|██████████| 60/60 [00:07<00:00,  8.47it/s, loss=0.103]  \n",
      "Epoch 6 of train: :   1%|          | 1/140 [00:00<00:13,  9.95it/s, loss=0.0127]"
     ]
    },
    {
     "name": "stdout",
     "output_type": "stream",
     "text": [
      "Loss: 0.0191\n",
      "\n",
      "Epoch 6/19\n",
      "----------\n"
     ]
    },
    {
     "name": "stderr",
     "output_type": "stream",
     "text": [
      "Epoch 6 of train: : 100%|██████████| 140/140 [00:16<00:00,  8.49it/s, loss=0.0099] \n",
      "Epoch 6 of val: : 100%|██████████| 60/60 [00:06<00:00,  8.70it/s, loss=0.102]  \n",
      "Epoch 7 of train: :   1%|          | 1/140 [00:00<00:15,  9.21it/s, loss=0.0125]"
     ]
    },
    {
     "name": "stdout",
     "output_type": "stream",
     "text": [
      "Loss: 0.0190\n",
      "\n",
      "Epoch 7/19\n",
      "----------\n"
     ]
    },
    {
     "name": "stderr",
     "output_type": "stream",
     "text": [
      "Epoch 7 of train: : 100%|██████████| 140/140 [00:16<00:00,  8.63it/s, loss=0.00979]\n",
      "Epoch 7 of val: : 100%|██████████| 60/60 [00:06<00:00,  8.79it/s, loss=0.103]  \n",
      "Epoch 8 of train: :   1%|          | 1/140 [00:00<00:14,  9.81it/s, loss=0.0123]"
     ]
    },
    {
     "name": "stdout",
     "output_type": "stream",
     "text": [
      "Loss: 0.0190\n",
      "\n",
      "Epoch 8/19\n",
      "----------\n"
     ]
    },
    {
     "name": "stderr",
     "output_type": "stream",
     "text": [
      "Epoch 8 of train: : 100%|██████████| 140/140 [00:16<00:00,  8.73it/s, loss=0.00969]\n",
      "Epoch 8 of val: : 100%|██████████| 60/60 [00:06<00:00,  8.86it/s, loss=0.104]  \n",
      "Epoch 9 of train: :   0%|          | 0/140 [00:00<?, ?it/s, loss=0.0123]"
     ]
    },
    {
     "name": "stdout",
     "output_type": "stream",
     "text": [
      "Loss: 0.0191\n",
      "\n",
      "Epoch 9/19\n",
      "----------\n"
     ]
    },
    {
     "name": "stderr",
     "output_type": "stream",
     "text": [
      "Epoch 9 of train: : 100%|██████████| 140/140 [00:15<00:00,  8.85it/s, loss=0.0096] \n",
      "Epoch 9 of val: : 100%|██████████| 60/60 [00:06<00:00,  9.00it/s, loss=0.106]  \n",
      "Epoch 10 of train: :   1%|          | 1/140 [00:00<00:13,  9.95it/s, loss=0.0122]"
     ]
    },
    {
     "name": "stdout",
     "output_type": "stream",
     "text": [
      "Loss: 0.0192\n",
      "\n",
      "Epoch 10/19\n",
      "----------\n"
     ]
    },
    {
     "name": "stderr",
     "output_type": "stream",
     "text": [
      "Epoch 10 of train: : 100%|██████████| 140/140 [00:16<00:00,  8.42it/s, loss=0.00954]\n",
      "Epoch 10 of val: : 100%|██████████| 60/60 [00:07<00:00,  8.19it/s, loss=0.109]  \n",
      "Epoch 11 of train: :   1%|          | 1/140 [00:00<00:18,  7.54it/s, loss=0.0127]"
     ]
    },
    {
     "name": "stdout",
     "output_type": "stream",
     "text": [
      "Loss: 0.0193\n",
      "\n",
      "Epoch 11/19\n",
      "----------\n"
     ]
    },
    {
     "name": "stderr",
     "output_type": "stream",
     "text": [
      "Epoch 11 of train: : 100%|██████████| 140/140 [00:16<00:00,  8.34it/s, loss=0.00932]\n",
      "Epoch 11 of val: : 100%|██████████| 60/60 [00:07<00:00,  8.36it/s, loss=0.12]   \n",
      "Epoch 12 of train: :   1%|          | 1/140 [00:00<00:13,  9.94it/s, loss=0.0128]"
     ]
    },
    {
     "name": "stdout",
     "output_type": "stream",
     "text": [
      "Loss: 0.0200\n",
      "\n",
      "Epoch 12/19\n",
      "----------\n"
     ]
    },
    {
     "name": "stderr",
     "output_type": "stream",
     "text": [
      "Epoch 12 of train: : 100%|██████████| 140/140 [00:15<00:00,  8.77it/s, loss=0.00927]\n",
      "Epoch 12 of val: : 100%|██████████| 60/60 [00:06<00:00,  8.67it/s, loss=0.125]  \n",
      "Epoch 13 of train: :   1%|          | 1/140 [00:00<00:14,  9.29it/s, loss=0.012] "
     ]
    },
    {
     "name": "stdout",
     "output_type": "stream",
     "text": [
      "Loss: 0.0201\n",
      "\n",
      "Epoch 13/19\n",
      "----------\n"
     ]
    },
    {
     "name": "stderr",
     "output_type": "stream",
     "text": [
      "Epoch 13 of train: : 100%|██████████| 140/140 [00:16<00:00,  8.47it/s, loss=0.00924]\n",
      "Epoch 13 of val: : 100%|██████████| 60/60 [00:07<00:00,  8.29it/s, loss=0.127]  \n",
      "Epoch 14 of train: :   1%|          | 1/140 [00:00<00:15,  9.02it/s, loss=0.0112]"
     ]
    },
    {
     "name": "stdout",
     "output_type": "stream",
     "text": [
      "Loss: 0.0202\n",
      "\n",
      "Epoch 14/19\n",
      "----------\n"
     ]
    },
    {
     "name": "stderr",
     "output_type": "stream",
     "text": [
      "Epoch 14 of train: : 100%|██████████| 140/140 [00:16<00:00,  8.63it/s, loss=0.00921]\n",
      "Epoch 14 of val: : 100%|██████████| 60/60 [00:06<00:00,  8.68it/s, loss=0.13]   \n",
      "Epoch 15 of train: :   1%|          | 1/140 [00:00<00:14,  9.62it/s, loss=0.0107]"
     ]
    },
    {
     "name": "stdout",
     "output_type": "stream",
     "text": [
      "Loss: 0.0203\n",
      "\n",
      "Epoch 15/19\n",
      "----------\n"
     ]
    },
    {
     "name": "stderr",
     "output_type": "stream",
     "text": [
      "Epoch 15 of train: : 100%|██████████| 140/140 [00:16<00:00,  8.72it/s, loss=0.0092] \n",
      "Epoch 15 of val: : 100%|██████████| 60/60 [00:06<00:00,  8.71it/s, loss=0.13]   \n",
      "Epoch 16 of train: :   0%|          | 0/140 [00:00<?, ?it/s, loss=0.0106]"
     ]
    },
    {
     "name": "stdout",
     "output_type": "stream",
     "text": [
      "Loss: 0.0203\n",
      "\n",
      "Epoch 16/19\n",
      "----------\n"
     ]
    },
    {
     "name": "stderr",
     "output_type": "stream",
     "text": [
      "Epoch 16 of train: : 100%|██████████| 140/140 [00:16<00:00,  8.75it/s, loss=0.00919]\n",
      "Epoch 16 of val: : 100%|██████████| 60/60 [00:06<00:00,  8.74it/s, loss=0.13]   \n",
      "Epoch 17 of train: :   1%|          | 1/140 [00:00<00:16,  8.56it/s, loss=0.0106]"
     ]
    },
    {
     "name": "stdout",
     "output_type": "stream",
     "text": [
      "Loss: 0.0203\n",
      "\n",
      "Epoch 17/19\n",
      "----------\n"
     ]
    },
    {
     "name": "stderr",
     "output_type": "stream",
     "text": [
      "Epoch 17 of train: : 100%|██████████| 140/140 [00:15<00:00,  8.88it/s, loss=0.00919]\n",
      "Epoch 17 of val: : 100%|██████████| 60/60 [00:06<00:00,  8.87it/s, loss=0.13]   \n",
      "Epoch 18 of train: :   1%|▏         | 2/140 [00:00<00:13, 10.08it/s, loss=0.0105]"
     ]
    },
    {
     "name": "stdout",
     "output_type": "stream",
     "text": [
      "Loss: 0.0203\n",
      "\n",
      "Epoch 18/19\n",
      "----------\n"
     ]
    },
    {
     "name": "stderr",
     "output_type": "stream",
     "text": [
      "Epoch 18 of train: : 100%|██████████| 140/140 [00:15<00:00,  8.76it/s, loss=0.00919]\n",
      "Epoch 18 of val: : 100%|██████████| 60/60 [00:06<00:00,  8.81it/s, loss=0.131]  \n",
      "Epoch 19 of train: :   0%|          | 0/140 [00:00<?, ?it/s, loss=0.0105]"
     ]
    },
    {
     "name": "stdout",
     "output_type": "stream",
     "text": [
      "Loss: 0.0203\n",
      "\n",
      "Epoch 19/19\n",
      "----------\n"
     ]
    },
    {
     "name": "stderr",
     "output_type": "stream",
     "text": [
      "Epoch 19 of train: : 100%|██████████| 140/140 [00:15<00:00,  8.84it/s, loss=0.00919]\n",
      "Epoch 19 of val: : 100%|██████████| 60/60 [00:06<00:00,  8.77it/s, loss=0.131]  \n"
     ]
    },
    {
     "name": "stdout",
     "output_type": "stream",
     "text": [
      "Loss: 0.0203\n",
      "\n"
     ]
    }
   ],
   "source": [
    "trainer.train(train_set, test_set, 20)"
   ]
  },
  {
   "cell_type": "code",
   "execution_count": 31,
   "metadata": {
    "ExecuteTime": {
     "end_time": "2020-04-11T11:02:02.907700Z",
     "start_time": "2020-04-11T11:02:02.886504Z"
    },
    "hidden": true
   },
   "outputs": [],
   "source": [
    "torch.save(resid_model, 'models/resid.pth')"
   ]
  },
  {
   "cell_type": "markdown",
   "metadata": {
    "heading_collapsed": true,
    "hidden": true
   },
   "source": [
    "### Prediction"
   ]
  },
  {
   "cell_type": "code",
   "execution_count": 32,
   "metadata": {
    "ExecuteTime": {
     "end_time": "2020-04-11T11:02:09.411203Z",
     "start_time": "2020-04-11T11:02:02.910213Z"
    },
    "hidden": true,
    "scrolled": false
   },
   "outputs": [
    {
     "name": "stderr",
     "output_type": "stream",
     "text": [
      "  0%|          | 0/1 [00:00<?, ?it/s]/home/rosneft_user_2500/anomaly-detection/src/models/prediction/models.py:61: UserWarning:\n",
      "\n",
      "To copy construct from a tensor, it is recommended to use sourceTensor.clone().detach() or sourceTensor.clone().detach().requires_grad_(True), rather than torch.tensor(sourceTensor).\n",
      "\n",
      "100%|██████████| 1/1 [00:00<00:00, 40.20it/s]\n",
      "100%|██████████| 139/139 [00:04<00:00, 31.04it/s]\n",
      "100%|██████████| 60/60 [00:01<00:00, 30.93it/s]\n"
     ]
    }
   ],
   "source": [
    "resid_model = torch.load('models/resid.pth')\n",
    "resid_model.reset_states()\n",
    "\n",
    "train_resid_pred, test_resid_pred = forecast_tr_te(\n",
    "    resid_model, train_set.dataset.tensors[0], test_set.dataset.tensors[0],\n",
    "    batch_size)"
   ]
  },
  {
   "cell_type": "code",
   "execution_count": 33,
   "metadata": {
    "ExecuteTime": {
     "end_time": "2020-04-11T11:02:09.751949Z",
     "start_time": "2020-04-11T11:02:09.413483Z"
    },
    "hidden": true
   },
   "outputs": [],
   "source": [
    "train_resid_pred = train_resid_pred.detach().numpy()\n",
    "test_resid_pred = test_resid_pred.detach().numpy()"
   ]
  },
  {
   "cell_type": "code",
   "execution_count": 34,
   "metadata": {
    "ExecuteTime": {
     "end_time": "2020-04-11T11:02:10.149910Z",
     "start_time": "2020-04-11T11:02:09.754262Z"
    },
    "hidden": true
   },
   "outputs": [
    {
     "data": {
      "application/vnd.jupyter.widget-view+json": {
       "model_id": "2125f3e1ce9d45f1bae4bc6606810935",
       "version_major": 2,
       "version_minor": 0
      },
      "text/plain": [
       "interactive(children=(IntSlider(value=20, description='component', max=40), Output()), _dom_classes=('widget-i…"
      ]
     },
     "metadata": {},
     "output_type": "display_data"
    }
   ],
   "source": [
    "interactive_plotter_by_component([\n",
    "    compare_plot_from_2d_wrapper(np.r_[train_resid_pred, test_resid_pred],\n",
    "                                 'Next value prediction (LSTM)',\n",
    "                                 np.r_[smoothed_train, smoothed_test],\n",
    "                                 'Residuals (data - trend_pred)')\n",
    "], ['Residuals'], None)"
   ]
  },
  {
   "cell_type": "markdown",
   "metadata": {
    "heading_collapsed": true,
    "hidden": true
   },
   "source": [
    "#### Optional - Weighted MSE by component. Refitting"
   ]
  },
  {
   "cell_type": "code",
   "execution_count": 35,
   "metadata": {
    "ExecuteTime": {
     "end_time": "2020-04-11T11:08:40.915658Z",
     "start_time": "2020-04-11T11:08:40.495945Z"
    },
    "hidden": true
   },
   "outputs": [
    {
     "data": {
      "text/plain": [
       "<BarContainer object of 41 artists>"
      ]
     },
     "execution_count": 35,
     "metadata": {},
     "output_type": "execute_result"
    },
    {
     "data": {
      "image/png": "[encoded data removed]",
      "text/plain": [
       "<Figure size 432x288 with 1 Axes>"
      ]
     },
     "metadata": {
      "needs_background": "light"
     },
     "output_type": "display_data"
    }
   ],
   "source": [
    "from sklearn.metrics import mean_squared_error\n",
    "\n",
    "err = mean_squared_error(test_resid_pred, smoothed_test, multioutput='raw_values')\n",
    "plt.bar(np.arange(len(err)), err)"
   ]
  },
  {
   "cell_type": "code",
   "execution_count": 36,
   "metadata": {
    "ExecuteTime": {
     "end_time": "2020-04-11T11:10:55.360885Z",
     "start_time": "2020-04-11T11:10:55.350047Z"
    },
    "hidden": true
   },
   "outputs": [],
   "source": [
    "def weighted_mse_loss(weights):\n",
    "    weights = torch.tensor(weights)\n",
    "    criterion = torch.nn.MSELoss(reduction='none')\n",
    "    def mse(input, target):\n",
    "        nonlocal weights, criterion\n",
    "        loss = criterion(input, target)\n",
    "        loss = loss * weights.expand_as(loss)\n",
    "        return loss.mean()\n",
    "    return mse"
   ]
  },
  {
   "cell_type": "code",
   "execution_count": 44,
   "metadata": {
    "ExecuteTime": {
     "end_time": "2020-04-11T11:16:09.654274Z",
     "start_time": "2020-04-11T11:16:09.635952Z"
    },
    "hidden": true
   },
   "outputs": [],
   "source": [
    "criterion = weighted_mse_loss(err / err.sum() * len(err))\n",
    "optim = torch.optim.Adam(resid_model.parameters(), lr=0.001, weight_decay=0.001)\n",
    "scheduler = torch.optim.lr_scheduler.ReduceLROnPlateau(optim,\n",
    "                                                       patience=3,\n",
    "                                                       threshold=0.01)\n",
    "\n",
    "trainer = Trainer(\n",
    "    resid_model,\n",
    "    criterion,\n",
    "    optim,\n",
    "    scheduler,\n",
    "    device,\n",
    "    get_log_path(\n",
    "        f'logs/resid-refit'\n",
    "    ),\n",
    "    config,\n",
    "    stateful=True)"
   ]
  },
  {
   "cell_type": "code",
   "execution_count": 45,
   "metadata": {
    "ExecuteTime": {
     "end_time": "2020-04-11T11:19:17.939962Z",
     "start_time": "2020-04-11T11:16:32.828524Z"
    },
    "hidden": true,
    "scrolled": true
   },
   "outputs": [
    {
     "name": "stderr",
     "output_type": "stream",
     "text": [
      "Epoch 0 of train: :   1%|          | 1/140 [00:00<00:24,  5.57it/s, loss=0.0903]"
     ]
    },
    {
     "name": "stdout",
     "output_type": "stream",
     "text": [
      "Epoch 0/9\n",
      "----------\n"
     ]
    },
    {
     "name": "stderr",
     "output_type": "stream",
     "text": [
      "Epoch 0 of train: : 100%|██████████| 140/140 [00:17<00:00,  7.95it/s, loss=0.0162] \n",
      "Epoch 0 of val: : 100%|██████████| 60/60 [00:07<00:00,  8.00it/s, loss=0.148] \n",
      "Epoch 1 of train: :   1%|          | 1/140 [00:00<00:19,  7.11it/s, loss=0.0292]"
     ]
    },
    {
     "name": "stdout",
     "output_type": "stream",
     "text": [
      "Loss: 0.0340\n",
      "\n",
      "Epoch 1/9\n",
      "----------\n"
     ]
    },
    {
     "name": "stderr",
     "output_type": "stream",
     "text": [
      "Epoch 1 of train: : 100%|██████████| 140/140 [00:18<00:00,  7.50it/s, loss=0.0157] \n",
      "Epoch 1 of val: : 100%|██████████| 60/60 [00:07<00:00,  7.86it/s, loss=0.147] \n",
      "Epoch 2 of train: :   1%|          | 1/140 [00:00<00:21,  6.60it/s, loss=0.0774]"
     ]
    },
    {
     "name": "stdout",
     "output_type": "stream",
     "text": [
      "Loss: 0.0347\n",
      "\n",
      "Epoch 2/9\n",
      "----------\n"
     ]
    },
    {
     "name": "stderr",
     "output_type": "stream",
     "text": [
      "Epoch 2 of train: : 100%|██████████| 140/140 [00:17<00:00,  7.99it/s, loss=0.0158] \n",
      "Epoch 2 of val: : 100%|██████████| 60/60 [00:07<00:00,  8.01it/s, loss=0.147] \n",
      "Epoch 3 of train: :   1%|          | 1/140 [00:00<00:16,  8.48it/s, loss=0.0256]"
     ]
    },
    {
     "name": "stdout",
     "output_type": "stream",
     "text": [
      "Loss: 0.0347\n",
      "\n",
      "Epoch 3/9\n",
      "----------\n"
     ]
    },
    {
     "name": "stderr",
     "output_type": "stream",
     "text": [
      "Epoch 3 of train: : 100%|██████████| 140/140 [00:16<00:00,  8.43it/s, loss=0.016]  \n",
      "Epoch 3 of val: : 100%|██████████| 60/60 [00:07<00:00,  8.32it/s, loss=0.146] \n",
      "Epoch 4 of train: :   1%|          | 1/140 [00:00<00:15,  8.80it/s, loss=0.025] "
     ]
    },
    {
     "name": "stdout",
     "output_type": "stream",
     "text": [
      "Loss: 0.0347\n",
      "\n",
      "Epoch 4/9\n",
      "----------\n"
     ]
    },
    {
     "name": "stderr",
     "output_type": "stream",
     "text": [
      "Epoch 4 of train: : 100%|██████████| 140/140 [00:16<00:00,  8.41it/s, loss=0.016]  \n",
      "Epoch 4 of val: : 100%|██████████| 60/60 [00:07<00:00,  8.45it/s, loss=0.148] \n",
      "Epoch 5 of train: :   1%|          | 1/140 [00:00<00:17,  8.06it/s, loss=0.0264]"
     ]
    },
    {
     "name": "stdout",
     "output_type": "stream",
     "text": [
      "Loss: 0.0348\n",
      "\n",
      "Epoch 5/9\n",
      "----------\n"
     ]
    },
    {
     "name": "stderr",
     "output_type": "stream",
     "text": [
      "Epoch 6 of train: :  91%|█████████▏| 128/140 [00:14<00:01,  8.57it/s, loss=0.00767]\n"
     ]
    },
    {
     "ename": "KeyboardInterrupt",
     "evalue": "",
     "output_type": "error",
     "traceback": [
      "\u001b[0;31m---------------------------------------------------------------------------\u001b[0m",
      "\u001b[0;31mKeyboardInterrupt\u001b[0m                         Traceback (most recent call last)",
      "\u001b[0;32m<ipython-input-45-d3eb827bb917>\u001b[0m in \u001b[0;36m<module>\u001b[0;34m\u001b[0m\n\u001b[1;32m      1\u001b[0m \u001b[0mresid_model\u001b[0m\u001b[0;34m.\u001b[0m\u001b[0mreset_states\u001b[0m\u001b[0;34m(\u001b[0m\u001b[0;34m)\u001b[0m\u001b[0;34m\u001b[0m\u001b[0;34m\u001b[0m\u001b[0m\n\u001b[0;32m----> 2\u001b[0;31m \u001b[0mtrainer\u001b[0m\u001b[0;34m.\u001b[0m\u001b[0mtrain\u001b[0m\u001b[0;34m(\u001b[0m\u001b[0mtrain_set\u001b[0m\u001b[0;34m,\u001b[0m \u001b[0mtest_set\u001b[0m\u001b[0;34m,\u001b[0m \u001b[0;36m10\u001b[0m\u001b[0;34m)\u001b[0m\u001b[0;34m\u001b[0m\u001b[0;34m\u001b[0m\u001b[0m\n\u001b[0m",
      "\u001b[0;32m~/anomaly-detection/src/models/prediction/models.py\u001b[0m in \u001b[0;36mtrain\u001b[0;34m(self, data, val_data, num_epochs)\u001b[0m\n\u001b[1;32m    157\u001b[0m             \u001b[0mprint\u001b[0m\u001b[0;34m(\u001b[0m\u001b[0;34m'-'\u001b[0m \u001b[0;34m*\u001b[0m \u001b[0;36m10\u001b[0m\u001b[0;34m)\u001b[0m\u001b[0;34m\u001b[0m\u001b[0;34m\u001b[0m\u001b[0m\n\u001b[1;32m    158\u001b[0m \u001b[0;34m\u001b[0m\u001b[0m\n\u001b[0;32m--> 159\u001b[0;31m             \u001b[0mself\u001b[0m\u001b[0;34m.\u001b[0m\u001b[0mpass_one_epoch\u001b[0m\u001b[0;34m(\u001b[0m\u001b[0mdata\u001b[0m\u001b[0;34m,\u001b[0m \u001b[0mepoch\u001b[0m\u001b[0;34m,\u001b[0m \u001b[0mis_train\u001b[0m\u001b[0;34m=\u001b[0m\u001b[0;32mTrue\u001b[0m\u001b[0;34m)\u001b[0m\u001b[0;34m\u001b[0m\u001b[0;34m\u001b[0m\u001b[0m\n\u001b[0m\u001b[1;32m    160\u001b[0m             \u001b[0mself\u001b[0m\u001b[0;34m.\u001b[0m\u001b[0mmodel\u001b[0m\u001b[0;34m.\u001b[0m\u001b[0mreset_states\u001b[0m\u001b[0;34m(\u001b[0m\u001b[0;34m)\u001b[0m\u001b[0;34m\u001b[0m\u001b[0;34m\u001b[0m\u001b[0m\n\u001b[1;32m    161\u001b[0m             \u001b[0mself\u001b[0m\u001b[0;34m.\u001b[0m\u001b[0mpass_one_epoch\u001b[0m\u001b[0;34m(\u001b[0m\u001b[0mval_data\u001b[0m\u001b[0;34m,\u001b[0m \u001b[0mepoch\u001b[0m\u001b[0;34m,\u001b[0m \u001b[0mis_train\u001b[0m\u001b[0;34m=\u001b[0m\u001b[0;32mFalse\u001b[0m\u001b[0;34m)\u001b[0m\u001b[0;34m\u001b[0m\u001b[0;34m\u001b[0m\u001b[0m\n",
      "\u001b[0;32m~/anomaly-detection/src/models/prediction/models.py\u001b[0m in \u001b[0;36mpass_one_epoch\u001b[0;34m(self, data, epoch, is_train)\u001b[0m\n\u001b[1;32m    118\u001b[0m                     \u001b[0moptimizer\u001b[0m\u001b[0;34m.\u001b[0m\u001b[0mzero_grad\u001b[0m\u001b[0;34m(\u001b[0m\u001b[0;34m)\u001b[0m\u001b[0;34m\u001b[0m\u001b[0;34m\u001b[0m\u001b[0m\n\u001b[1;32m    119\u001b[0m \u001b[0;34m\u001b[0m\u001b[0m\n\u001b[0;32m--> 120\u001b[0;31m                 \u001b[0moutput\u001b[0m \u001b[0;34m=\u001b[0m \u001b[0mself\u001b[0m\u001b[0;34m.\u001b[0m\u001b[0mforward\u001b[0m\u001b[0;34m(\u001b[0m\u001b[0minputs\u001b[0m\u001b[0;34m)\u001b[0m\u001b[0;34m\u001b[0m\u001b[0;34m\u001b[0m\u001b[0m\n\u001b[0m\u001b[1;32m    121\u001b[0m                 \u001b[0mloss\u001b[0m \u001b[0;34m=\u001b[0m \u001b[0mself\u001b[0m\u001b[0;34m.\u001b[0m\u001b[0mcriterion\u001b[0m\u001b[0;34m(\u001b[0m\u001b[0moutput\u001b[0m\u001b[0;34m,\u001b[0m \u001b[0mtrue\u001b[0m\u001b[0;34m)\u001b[0m\u001b[0;34m\u001b[0m\u001b[0;34m\u001b[0m\u001b[0m\n\u001b[1;32m    122\u001b[0m \u001b[0;34m\u001b[0m\u001b[0m\n",
      "\u001b[0;32m~/anomaly-detection/src/models/prediction/models.py\u001b[0m in \u001b[0;36mforward\u001b[0;34m(self, inputs)\u001b[0m\n\u001b[1;32m     94\u001b[0m \u001b[0;34m\u001b[0m\u001b[0m\n\u001b[1;32m     95\u001b[0m         \u001b[0mprev\u001b[0m \u001b[0;34m=\u001b[0m \u001b[0mself\u001b[0m\u001b[0;34m.\u001b[0m\u001b[0mmodel\u001b[0m\u001b[0;34m.\u001b[0m\u001b[0mget_prev_states\u001b[0m\u001b[0;34m(\u001b[0m\u001b[0minputs\u001b[0m\u001b[0;34m.\u001b[0m\u001b[0msize\u001b[0m\u001b[0;34m(\u001b[0m\u001b[0;36m0\u001b[0m\u001b[0;34m)\u001b[0m\u001b[0;34m)\u001b[0m\u001b[0;34m\u001b[0m\u001b[0;34m\u001b[0m\u001b[0m\n\u001b[0;32m---> 96\u001b[0;31m         \u001b[0;32mreturn\u001b[0m \u001b[0mself\u001b[0m\u001b[0;34m.\u001b[0m\u001b[0mmodel\u001b[0m\u001b[0;34m(\u001b[0m\u001b[0minputs\u001b[0m\u001b[0;34m,\u001b[0m \u001b[0mprev\u001b[0m\u001b[0;34m)\u001b[0m\u001b[0;34m\u001b[0m\u001b[0;34m\u001b[0m\u001b[0m\n\u001b[0m\u001b[1;32m     97\u001b[0m \u001b[0;34m\u001b[0m\u001b[0m\n\u001b[1;32m     98\u001b[0m     \u001b[0;32mdef\u001b[0m \u001b[0mpass_one_epoch\u001b[0m\u001b[0;34m(\u001b[0m\u001b[0mself\u001b[0m\u001b[0;34m,\u001b[0m \u001b[0mdata\u001b[0m\u001b[0;34m,\u001b[0m \u001b[0mepoch\u001b[0m\u001b[0;34m,\u001b[0m \u001b[0mis_train\u001b[0m\u001b[0;34m)\u001b[0m\u001b[0;34m:\u001b[0m\u001b[0;34m\u001b[0m\u001b[0;34m\u001b[0m\u001b[0m\n",
      "\u001b[0;32m~/anaconda3/envs/anom-det/lib/python3.7/site-packages/torch/nn/modules/module.py\u001b[0m in \u001b[0;36m__call__\u001b[0;34m(self, *input, **kwargs)\u001b[0m\n\u001b[1;32m    530\u001b[0m             \u001b[0mresult\u001b[0m \u001b[0;34m=\u001b[0m \u001b[0mself\u001b[0m\u001b[0;34m.\u001b[0m\u001b[0m_slow_forward\u001b[0m\u001b[0;34m(\u001b[0m\u001b[0;34m*\u001b[0m\u001b[0minput\u001b[0m\u001b[0;34m,\u001b[0m \u001b[0;34m**\u001b[0m\u001b[0mkwargs\u001b[0m\u001b[0;34m)\u001b[0m\u001b[0;34m\u001b[0m\u001b[0;34m\u001b[0m\u001b[0m\n\u001b[1;32m    531\u001b[0m         \u001b[0;32melse\u001b[0m\u001b[0;34m:\u001b[0m\u001b[0;34m\u001b[0m\u001b[0;34m\u001b[0m\u001b[0m\n\u001b[0;32m--> 532\u001b[0;31m             \u001b[0mresult\u001b[0m \u001b[0;34m=\u001b[0m \u001b[0mself\u001b[0m\u001b[0;34m.\u001b[0m\u001b[0mforward\u001b[0m\u001b[0;34m(\u001b[0m\u001b[0;34m*\u001b[0m\u001b[0minput\u001b[0m\u001b[0;34m,\u001b[0m \u001b[0;34m**\u001b[0m\u001b[0mkwargs\u001b[0m\u001b[0;34m)\u001b[0m\u001b[0;34m\u001b[0m\u001b[0;34m\u001b[0m\u001b[0m\n\u001b[0m\u001b[1;32m    533\u001b[0m         \u001b[0;32mfor\u001b[0m \u001b[0mhook\u001b[0m \u001b[0;32min\u001b[0m \u001b[0mself\u001b[0m\u001b[0;34m.\u001b[0m\u001b[0m_forward_hooks\u001b[0m\u001b[0;34m.\u001b[0m\u001b[0mvalues\u001b[0m\u001b[0;34m(\u001b[0m\u001b[0;34m)\u001b[0m\u001b[0;34m:\u001b[0m\u001b[0;34m\u001b[0m\u001b[0;34m\u001b[0m\u001b[0m\n\u001b[1;32m    534\u001b[0m             \u001b[0mhook_result\u001b[0m \u001b[0;34m=\u001b[0m \u001b[0mhook\u001b[0m\u001b[0;34m(\u001b[0m\u001b[0mself\u001b[0m\u001b[0;34m,\u001b[0m \u001b[0minput\u001b[0m\u001b[0;34m,\u001b[0m \u001b[0mresult\u001b[0m\u001b[0;34m)\u001b[0m\u001b[0;34m\u001b[0m\u001b[0;34m\u001b[0m\u001b[0m\n",
      "\u001b[0;32m~/anomaly-detection/src/models/prediction/models.py\u001b[0m in \u001b[0;36mforward\u001b[0;34m(self, input, initial)\u001b[0m\n\u001b[1;32m     24\u001b[0m             \u001b[0mout\u001b[0m\u001b[0;34m,\u001b[0m \u001b[0;34m(\u001b[0m\u001b[0mhn\u001b[0m\u001b[0;34m,\u001b[0m \u001b[0mcn\u001b[0m\u001b[0;34m)\u001b[0m \u001b[0;34m=\u001b[0m \u001b[0mself\u001b[0m\u001b[0;34m.\u001b[0m\u001b[0mlstm\u001b[0m\u001b[0;34m(\u001b[0m\u001b[0minput\u001b[0m\u001b[0;34m)\u001b[0m\u001b[0;34m\u001b[0m\u001b[0;34m\u001b[0m\u001b[0m\n\u001b[1;32m     25\u001b[0m         \u001b[0;32melse\u001b[0m\u001b[0;34m:\u001b[0m\u001b[0;34m\u001b[0m\u001b[0;34m\u001b[0m\u001b[0m\n\u001b[0;32m---> 26\u001b[0;31m             \u001b[0mout\u001b[0m\u001b[0;34m,\u001b[0m \u001b[0;34m(\u001b[0m\u001b[0mhn\u001b[0m\u001b[0;34m,\u001b[0m \u001b[0mcn\u001b[0m\u001b[0;34m)\u001b[0m \u001b[0;34m=\u001b[0m \u001b[0mself\u001b[0m\u001b[0;34m.\u001b[0m\u001b[0mlstm\u001b[0m\u001b[0;34m(\u001b[0m\u001b[0minput\u001b[0m\u001b[0;34m,\u001b[0m \u001b[0minitial\u001b[0m\u001b[0;34m)\u001b[0m\u001b[0;34m\u001b[0m\u001b[0;34m\u001b[0m\u001b[0m\n\u001b[0m\u001b[1;32m     27\u001b[0m         \u001b[0mlin_out\u001b[0m \u001b[0;34m=\u001b[0m \u001b[0mself\u001b[0m\u001b[0;34m.\u001b[0m\u001b[0mlinear\u001b[0m\u001b[0;34m(\u001b[0m\u001b[0mout\u001b[0m\u001b[0;34m[\u001b[0m\u001b[0;34m:\u001b[0m\u001b[0;34m,\u001b[0m \u001b[0;34m-\u001b[0m\u001b[0;36m1\u001b[0m\u001b[0;34m]\u001b[0m\u001b[0;34m)\u001b[0m\u001b[0;34m\u001b[0m\u001b[0;34m\u001b[0m\u001b[0m\n\u001b[1;32m     28\u001b[0m         \u001b[0mself\u001b[0m\u001b[0;34m.\u001b[0m\u001b[0mouts\u001b[0m \u001b[0;34m=\u001b[0m \u001b[0mOrderedDict\u001b[0m\u001b[0;34m(\u001b[0m\u001b[0;34m[\u001b[0m\u001b[0;34m(\u001b[0m\u001b[0;34m'lstm_'\u001b[0m \u001b[0;34m+\u001b[0m \u001b[0mstr\u001b[0m\u001b[0;34m(\u001b[0m\u001b[0mn\u001b[0m\u001b[0;34m)\u001b[0m\u001b[0;34m,\u001b[0m \u001b[0mh\u001b[0m\u001b[0;34m)\u001b[0m \u001b[0;32mfor\u001b[0m \u001b[0mn\u001b[0m\u001b[0;34m,\u001b[0m \u001b[0mh\u001b[0m \u001b[0;32min\u001b[0m \u001b[0menumerate\u001b[0m\u001b[0;34m(\u001b[0m\u001b[0mhn\u001b[0m\u001b[0;34m)\u001b[0m\u001b[0;34m]\u001b[0m\u001b[0;34m)\u001b[0m\u001b[0;34m\u001b[0m\u001b[0;34m\u001b[0m\u001b[0m\n",
      "\u001b[0;32m~/anaconda3/envs/anom-det/lib/python3.7/site-packages/torch/nn/modules/module.py\u001b[0m in \u001b[0;36m__call__\u001b[0;34m(self, *input, **kwargs)\u001b[0m\n\u001b[1;32m    530\u001b[0m             \u001b[0mresult\u001b[0m \u001b[0;34m=\u001b[0m \u001b[0mself\u001b[0m\u001b[0;34m.\u001b[0m\u001b[0m_slow_forward\u001b[0m\u001b[0;34m(\u001b[0m\u001b[0;34m*\u001b[0m\u001b[0minput\u001b[0m\u001b[0;34m,\u001b[0m \u001b[0;34m**\u001b[0m\u001b[0mkwargs\u001b[0m\u001b[0;34m)\u001b[0m\u001b[0;34m\u001b[0m\u001b[0;34m\u001b[0m\u001b[0m\n\u001b[1;32m    531\u001b[0m         \u001b[0;32melse\u001b[0m\u001b[0;34m:\u001b[0m\u001b[0;34m\u001b[0m\u001b[0;34m\u001b[0m\u001b[0m\n\u001b[0;32m--> 532\u001b[0;31m             \u001b[0mresult\u001b[0m \u001b[0;34m=\u001b[0m \u001b[0mself\u001b[0m\u001b[0;34m.\u001b[0m\u001b[0mforward\u001b[0m\u001b[0;34m(\u001b[0m\u001b[0;34m*\u001b[0m\u001b[0minput\u001b[0m\u001b[0;34m,\u001b[0m \u001b[0;34m**\u001b[0m\u001b[0mkwargs\u001b[0m\u001b[0;34m)\u001b[0m\u001b[0;34m\u001b[0m\u001b[0;34m\u001b[0m\u001b[0m\n\u001b[0m\u001b[1;32m    533\u001b[0m         \u001b[0;32mfor\u001b[0m \u001b[0mhook\u001b[0m \u001b[0;32min\u001b[0m \u001b[0mself\u001b[0m\u001b[0;34m.\u001b[0m\u001b[0m_forward_hooks\u001b[0m\u001b[0;34m.\u001b[0m\u001b[0mvalues\u001b[0m\u001b[0;34m(\u001b[0m\u001b[0;34m)\u001b[0m\u001b[0;34m:\u001b[0m\u001b[0;34m\u001b[0m\u001b[0;34m\u001b[0m\u001b[0m\n\u001b[1;32m    534\u001b[0m             \u001b[0mhook_result\u001b[0m \u001b[0;34m=\u001b[0m \u001b[0mhook\u001b[0m\u001b[0;34m(\u001b[0m\u001b[0mself\u001b[0m\u001b[0;34m,\u001b[0m \u001b[0minput\u001b[0m\u001b[0;34m,\u001b[0m \u001b[0mresult\u001b[0m\u001b[0;34m)\u001b[0m\u001b[0;34m\u001b[0m\u001b[0;34m\u001b[0m\u001b[0m\n",
      "\u001b[0;32m~/anaconda3/envs/anom-det/lib/python3.7/site-packages/torch/nn/modules/rnn.py\u001b[0m in \u001b[0;36mforward\u001b[0;34m(self, input, hx)\u001b[0m\n\u001b[1;32m    557\u001b[0m         \u001b[0;32mif\u001b[0m \u001b[0mbatch_sizes\u001b[0m \u001b[0;32mis\u001b[0m \u001b[0;32mNone\u001b[0m\u001b[0;34m:\u001b[0m\u001b[0;34m\u001b[0m\u001b[0;34m\u001b[0m\u001b[0m\n\u001b[1;32m    558\u001b[0m             result = _VF.lstm(input, hx, self._flat_weights, self.bias, self.num_layers,\n\u001b[0;32m--> 559\u001b[0;31m                               self.dropout, self.training, self.bidirectional, self.batch_first)\n\u001b[0m\u001b[1;32m    560\u001b[0m         \u001b[0;32melse\u001b[0m\u001b[0;34m:\u001b[0m\u001b[0;34m\u001b[0m\u001b[0;34m\u001b[0m\u001b[0m\n\u001b[1;32m    561\u001b[0m             result = _VF.lstm(input, batch_sizes, hx, self._flat_weights, self.bias,\n",
      "\u001b[0;31mKeyboardInterrupt\u001b[0m: "
     ]
    }
   ],
   "source": [
    "resid_model.reset_states()\n",
    "trainer.train(train_set, test_set, 10)"
   ]
  },
  {
   "cell_type": "code",
   "execution_count": null,
   "metadata": {
    "ExecuteTime": {
     "end_time": "2020-04-11T11:19:17.945734Z",
     "start_time": "2020-04-11T11:17:24.813Z"
    },
    "hidden": true
   },
   "outputs": [],
   "source": [
    "# torch.save(resid_model, 'models/resid_refit.pth')"
   ]
  },
  {
   "cell_type": "code",
   "execution_count": null,
   "metadata": {
    "hidden": true
   },
   "outputs": [],
   "source": [
    "# model.reset_states()\n",
    "# split_point = len(X_tr) + window_len\n",
    "# train_pred = next_value_prediction(model, decomposed.trend[:split_point],\n",
    "#                                    window_len)\n",
    "# test_pred = next_value_prediction(model, decomposed.trend[split_point:],\n",
    "#                                   window_len)\n",
    "\n",
    "# train_pred = train_pred.detach().numpy()\n",
    "# test_pred = test_pred.detach().numpy()"
   ]
  },
  {
   "cell_type": "code",
   "execution_count": null,
   "metadata": {
    "hidden": true
   },
   "outputs": [],
   "source": []
  },
  {
   "cell_type": "markdown",
   "metadata": {},
   "source": [
    "## Композиция"
   ]
  },
  {
   "cell_type": "code",
   "execution_count": 50,
   "metadata": {
    "ExecuteTime": {
     "end_time": "2020-04-11T11:24:20.930545Z",
     "start_time": "2020-04-11T11:24:20.918327Z"
    }
   },
   "outputs": [],
   "source": [
    "class Composition:\n",
    "    def __init__(self, trend, resid):\n",
    "        self.trend = trend\n",
    "        self.resid = resid\n",
    "        self.linear = trend.linear\n",
    "        \n",
    "    def forecast(self, X, size):\n",
    "        return self.trend.forecast(X, size) + self.resid.forecast(X, size)\n",
    "    \n",
    "    def reset_states(self):\n",
    "        self.trend.reset_states()\n",
    "        self.resid.reset_states()\n",
    "    "
   ]
  },
  {
   "cell_type": "code",
   "execution_count": 51,
   "metadata": {
    "ExecuteTime": {
     "end_time": "2020-04-11T11:24:36.051585Z",
     "start_time": "2020-04-11T11:24:21.687644Z"
    }
   },
   "outputs": [
    {
     "name": "stderr",
     "output_type": "stream",
     "text": [
      "  0%|          | 0/1 [00:00<?, ?it/s]/home/rosneft_user_2500/anomaly-detection/src/models/prediction/models.py:61: UserWarning:\n",
      "\n",
      "To copy construct from a tensor, it is recommended to use sourceTensor.clone().detach() or sourceTensor.clone().detach().requires_grad_(True), rather than torch.tensor(sourceTensor).\n",
      "\n",
      "100%|██████████| 1/1 [00:00<00:00, 20.29it/s]\n",
      "100%|██████████| 1/1 [00:00<00:00, 28.82it/s]\n",
      "  0%|          | 0/139 [00:00<?, ?it/s]/home/rosneft_user_2500/anomaly-detection/src/models/prediction/models.py:47: UserWarning:\n",
      "\n",
      "To copy construct from a tensor, it is recommended to use sourceTensor.clone().detach() or sourceTensor.clone().detach().requires_grad_(True), rather than torch.tensor(sourceTensor).\n",
      "\n",
      "100%|██████████| 139/139 [00:05<00:00, 26.83it/s]\n",
      "100%|██████████| 139/139 [00:04<00:00, 27.81it/s]\n",
      "100%|██████████| 60/60 [00:02<00:00, 29.38it/s]\n",
      "100%|██████████| 60/60 [00:02<00:00, 29.53it/s]\n"
     ]
    }
   ],
   "source": [
    "composition = Composition(model, resid_model)\n",
    "\n",
    "train_pred, test_pred = forecast_tr_te(composition, X_tr, X_te, batch_size)"
   ]
  },
  {
   "cell_type": "code",
   "execution_count": 54,
   "metadata": {
    "ExecuteTime": {
     "end_time": "2020-04-11T11:27:27.024141Z",
     "start_time": "2020-04-11T11:27:27.015946Z"
    }
   },
   "outputs": [
    {
     "data": {
      "text/plain": [
       "torch.Size([8915, 41])"
      ]
     },
     "execution_count": 54,
     "metadata": {},
     "output_type": "execute_result"
    }
   ],
   "source": [
    "y_tr.size()"
   ]
  },
  {
   "cell_type": "code",
   "execution_count": 61,
   "metadata": {
    "ExecuteTime": {
     "end_time": "2020-04-11T11:31:11.729822Z",
     "start_time": "2020-04-11T11:31:11.208106Z"
    },
    "scrolled": false
   },
   "outputs": [
    {
     "data": {
      "application/vnd.jupyter.widget-view+json": {
       "model_id": "c65e83f88cd04f0b8c8a594b89adbe2b",
       "version_major": 2,
       "version_minor": 0
      },
      "text/plain": [
       "interactive(children=(IntSlider(value=20, description='component', max=40), Output()), _dom_classes=('widget-i…"
      ]
     },
     "metadata": {},
     "output_type": "display_data"
    }
   ],
   "source": [
    "interactive_plotter_by_component([\n",
    "    compare_plot_from_2d_wrapper(\n",
    "        data.values,\n",
    "        'Real data',\n",
    "        np.r_[train_pred.detach().numpy(\n",
    "        ), test_pred.detach().numpy()],\n",
    "        'Prediction of 2 LSTM (Trend + Resid)',\n",
    "        shift_pred=window_len),\n",
    "], ['Train', 'Test'], 'Resulting')"
   ]
  },
  {
   "cell_type": "code",
   "execution_count": 66,
   "metadata": {
    "ExecuteTime": {
     "end_time": "2020-04-11T11:35:00.971766Z",
     "start_time": "2020-04-11T11:35:00.680544Z"
    }
   },
   "outputs": [
    {
     "data": {
      "text/plain": [
       "[<matplotlib.lines.Line2D at 0x7fb704a433d0>]"
      ]
     },
     "execution_count": 66,
     "metadata": {},
     "output_type": "execute_result"
    },
    {
     "data": {
      "image/png": "[encoded data removed]",
      "text/plain": [
       "<Figure size 432x288 with 1 Axes>"
      ]
     },
     "metadata": {
      "needs_background": "light"
     },
     "output_type": "display_data"
    }
   ],
   "source": [
    "c = 4\n",
    "plt.plot(data.values[window_len:2000+window_len, 4])\n",
    "plt.plot(train_pred[:2000, 4].detach().numpy())"
   ]
  },
  {
   "cell_type": "code",
   "execution_count": null,
   "metadata": {},
   "outputs": [],
   "source": []
  },
  {
   "cell_type": "code",
   "execution_count": null,
   "metadata": {},
   "outputs": [],
   "source": []
  }
 ],
 "metadata": {
  "kernelspec": {
   "display_name": "Python 3",
   "language": "python",
   "name": "python3"
  },
  "language_info": {
   "codemirror_mode": {
    "name": "ipython",
    "version": 3
   },
   "file_extension": ".py",
   "mimetype": "text/x-python",
   "name": "python",
   "nbconvert_exporter": "python",
   "pygments_lexer": "ipython3",
   "version": "3.7.6"
  },
  "toc": {
   "base_numbering": 1,
   "nav_menu": {},
   "number_sections": true,
   "sideBar": true,
   "skip_h1_title": false,
   "title_cell": "Table of Contents",
   "title_sidebar": "Contents",
   "toc_cell": false,
   "toc_position": {
    "height": "calc(100% - 180px)",
    "left": "10px",
    "top": "150px",
    "width": "384px"
   },
   "toc_section_display": true,
   "toc_window_display": true
  },
  "varInspector": {
   "cols": {
    "lenName": 16,
    "lenType": 16,
    "lenVar": 40
   },
   "kernels_config": {
    "python": {
     "delete_cmd_postfix": "",
     "delete_cmd_prefix": "del ",
     "library": "var_list.py",
     "varRefreshCmd": "print(var_dic_list())"
    },
    "r": {
     "delete_cmd_postfix": ") ",
     "delete_cmd_prefix": "rm(",
     "library": "var_list.r",
     "varRefreshCmd": "cat(var_dic_list()) "
    }
   },
   "types_to_exclude": [
    "module",
    "function",
    "builtin_function_or_method",
    "instance",
    "_Feature"
   ],
   "window_display": false
  }
 },
 "nbformat": 4,
 "nbformat_minor": 4
}
