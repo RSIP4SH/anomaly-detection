{
 "cells": [
  {
   "cell_type": "code",
   "execution_count": 1,
   "metadata": {
    "ExecuteTime": {
     "end_time": "2020-03-18T11:11:08.877983Z",
     "start_time": "2020-03-18T11:11:04.367022Z"
    }
   },
   "outputs": [
    {
     "name": "stdout",
     "output_type": "stream",
     "text": [
      "D:\\anomaly-detection\n"
     ]
    },
    {
     "data": {
      "text/html": [
       "        <script type=\"text/javascript\">\n",
       "        window.PlotlyConfig = {MathJaxConfig: 'local'};\n",
       "        if (window.MathJax) {MathJax.Hub.Config({SVG: {font: \"STIX-Web\"}});}\n",
       "        if (typeof require !== 'undefined') {\n",
       "        require.undef(\"plotly\");\n",
       "        requirejs.config({\n",
       "            paths: {\n",
       "                'plotly': ['https://cdn.plot.ly/plotly-latest.min']\n",
       "            }\n",
       "        });\n",
       "        require(['plotly'], function(Plotly) {\n",
       "            window._Plotly = Plotly;\n",
       "        });\n",
       "        }\n",
       "        </script>\n",
       "        "
      ]
     },
     "metadata": {},
     "output_type": "display_data"
    },
    {
     "data": {
      "text/html": [
       "\n",
       "    <div class=\"bk-root\">\n",
       "        <a href=\"https://bokeh.org\" target=\"_blank\" class=\"bk-logo bk-logo-small bk-logo-notebook\"></a>\n",
       "        <span id=\"1001\">Loading BokehJS ...</span>\n",
       "    </div>"
      ]
     },
     "metadata": {},
     "output_type": "display_data"
    },
    {
     "data": {
      "application/javascript": [
       "\n",
       "(function(root) {\n",
       "  function now() {\n",
       "    return new Date();\n",
       "  }\n",
       "\n",
       "  var force = true;\n",
       "\n",
       "  if (typeof root._bokeh_onload_callbacks === \"undefined\" || force === true) {\n",
       "    root._bokeh_onload_callbacks = [];\n",
       "    root._bokeh_is_loading = undefined;\n",
       "  }\n",
       "\n",
       "  var JS_MIME_TYPE = 'application/javascript';\n",
       "  var HTML_MIME_TYPE = 'text/html';\n",
       "  var EXEC_MIME_TYPE = 'application/vnd.bokehjs_exec.v0+json';\n",
       "  var CLASS_NAME = 'output_bokeh rendered_html';\n",
       "\n",
       "  /**\n",
       "   * Render data to the DOM node\n",
       "   */\n",
       "  function render(props, node) {\n",
       "    var script = document.createElement(\"script\");\n",
       "    node.appendChild(script);\n",
       "  }\n",
       "\n",
       "  /**\n",
       "   * Handle when an output is cleared or removed\n",
       "   */\n",
       "  function handleClearOutput(event, handle) {\n",
       "    var cell = handle.cell;\n",
       "\n",
       "    var id = cell.output_area._bokeh_element_id;\n",
       "    var server_id = cell.output_area._bokeh_server_id;\n",
       "    // Clean up Bokeh references\n",
       "    if (id != null && id in Bokeh.index) {\n",
       "      Bokeh.index[id].model.document.clear();\n",
       "      delete Bokeh.index[id];\n",
       "    }\n",
       "\n",
       "    if (server_id !== undefined) {\n",
       "      // Clean up Bokeh references\n",
       "      var cmd = \"from bokeh.io.state import curstate; print(curstate().uuid_to_server['\" + server_id + \"'].get_sessions()[0].document.roots[0]._id)\";\n",
       "      cell.notebook.kernel.execute(cmd, {\n",
       "        iopub: {\n",
       "          output: function(msg) {\n",
       "            var id = msg.content.text.trim();\n",
       "            if (id in Bokeh.index) {\n",
       "              Bokeh.index[id].model.document.clear();\n",
       "              delete Bokeh.index[id];\n",
       "            }\n",
       "          }\n",
       "        }\n",
       "      });\n",
       "      // Destroy server and session\n",
       "      var cmd = \"import bokeh.io.notebook as ion; ion.destroy_server('\" + server_id + \"')\";\n",
       "      cell.notebook.kernel.execute(cmd);\n",
       "    }\n",
       "  }\n",
       "\n",
       "  /**\n",
       "   * Handle when a new output is added\n",
       "   */\n",
       "  function handleAddOutput(event, handle) {\n",
       "    var output_area = handle.output_area;\n",
       "    var output = handle.output;\n",
       "\n",
       "    // limit handleAddOutput to display_data with EXEC_MIME_TYPE content only\n",
       "    if ((output.output_type != \"display_data\") || (!output.data.hasOwnProperty(EXEC_MIME_TYPE))) {\n",
       "      return\n",
       "    }\n",
       "\n",
       "    var toinsert = output_area.element.find(\".\" + CLASS_NAME.split(' ')[0]);\n",
       "\n",
       "    if (output.metadata[EXEC_MIME_TYPE][\"id\"] !== undefined) {\n",
       "      toinsert[toinsert.length - 1].firstChild.textContent = output.data[JS_MIME_TYPE];\n",
       "      // store reference to embed id on output_area\n",
       "      output_area._bokeh_element_id = output.metadata[EXEC_MIME_TYPE][\"id\"];\n",
       "    }\n",
       "    if (output.metadata[EXEC_MIME_TYPE][\"server_id\"] !== undefined) {\n",
       "      var bk_div = document.createElement(\"div\");\n",
       "      bk_div.innerHTML = output.data[HTML_MIME_TYPE];\n",
       "      var script_attrs = bk_div.children[0].attributes;\n",
       "      for (var i = 0; i < script_attrs.length; i++) {\n",
       "        toinsert[toinsert.length - 1].firstChild.setAttribute(script_attrs[i].name, script_attrs[i].value);\n",
       "      }\n",
       "      // store reference to server id on output_area\n",
       "      output_area._bokeh_server_id = output.metadata[EXEC_MIME_TYPE][\"server_id\"];\n",
       "    }\n",
       "  }\n",
       "\n",
       "  function register_renderer(events, OutputArea) {\n",
       "\n",
       "    function append_mime(data, metadata, element) {\n",
       "      // create a DOM node to render to\n",
       "      var toinsert = this.create_output_subarea(\n",
       "        metadata,\n",
       "        CLASS_NAME,\n",
       "        EXEC_MIME_TYPE\n",
       "      );\n",
       "      this.keyboard_manager.register_events(toinsert);\n",
       "      // Render to node\n",
       "      var props = {data: data, metadata: metadata[EXEC_MIME_TYPE]};\n",
       "      render(props, toinsert[toinsert.length - 1]);\n",
       "      element.append(toinsert);\n",
       "      return toinsert\n",
       "    }\n",
       "\n",
       "    /* Handle when an output is cleared or removed */\n",
       "    events.on('clear_output.CodeCell', handleClearOutput);\n",
       "    events.on('delete.Cell', handleClearOutput);\n",
       "\n",
       "    /* Handle when a new output is added */\n",
       "    events.on('output_added.OutputArea', handleAddOutput);\n",
       "\n",
       "    /**\n",
       "     * Register the mime type and append_mime function with output_area\n",
       "     */\n",
       "    OutputArea.prototype.register_mime_type(EXEC_MIME_TYPE, append_mime, {\n",
       "      /* Is output safe? */\n",
       "      safe: true,\n",
       "      /* Index of renderer in `output_area.display_order` */\n",
       "      index: 0\n",
       "    });\n",
       "  }\n",
       "\n",
       "  // register the mime type if in Jupyter Notebook environment and previously unregistered\n",
       "  if (root.Jupyter !== undefined) {\n",
       "    var events = require('base/js/events');\n",
       "    var OutputArea = require('notebook/js/outputarea').OutputArea;\n",
       "\n",
       "    if (OutputArea.prototype.mime_types().indexOf(EXEC_MIME_TYPE) == -1) {\n",
       "      register_renderer(events, OutputArea);\n",
       "    }\n",
       "  }\n",
       "\n",
       "  \n",
       "  if (typeof (root._bokeh_timeout) === \"undefined\" || force === true) {\n",
       "    root._bokeh_timeout = Date.now() + 5000;\n",
       "    root._bokeh_failed_load = false;\n",
       "  }\n",
       "\n",
       "  var NB_LOAD_WARNING = {'data': {'text/html':\n",
       "     \"<div style='background-color: #fdd'>\\n\"+\n",
       "     \"<p>\\n\"+\n",
       "     \"BokehJS does not appear to have successfully loaded. If loading BokehJS from CDN, this \\n\"+\n",
       "     \"may be due to a slow or bad network connection. Possible fixes:\\n\"+\n",
       "     \"</p>\\n\"+\n",
       "     \"<ul>\\n\"+\n",
       "     \"<li>re-rerun `output_notebook()` to attempt to load from CDN again, or</li>\\n\"+\n",
       "     \"<li>use INLINE resources instead, as so:</li>\\n\"+\n",
       "     \"</ul>\\n\"+\n",
       "     \"<code>\\n\"+\n",
       "     \"from bokeh.resources import INLINE\\n\"+\n",
       "     \"output_notebook(resources=INLINE)\\n\"+\n",
       "     \"</code>\\n\"+\n",
       "     \"</div>\"}};\n",
       "\n",
       "  function display_loaded() {\n",
       "    var el = document.getElementById(\"1001\");\n",
       "    if (el != null) {\n",
       "      el.textContent = \"BokehJS is loading...\";\n",
       "    }\n",
       "    if (root.Bokeh !== undefined) {\n",
       "      if (el != null) {\n",
       "        el.textContent = \"BokehJS \" + root.Bokeh.version + \" successfully loaded.\";\n",
       "      }\n",
       "    } else if (Date.now() < root._bokeh_timeout) {\n",
       "      setTimeout(display_loaded, 100)\n",
       "    }\n",
       "  }\n",
       "\n",
       "\n",
       "  function run_callbacks() {\n",
       "    try {\n",
       "      root._bokeh_onload_callbacks.forEach(function(callback) {\n",
       "        if (callback != null)\n",
       "          callback();\n",
       "      });\n",
       "    } finally {\n",
       "      delete root._bokeh_onload_callbacks\n",
       "    }\n",
       "    console.debug(\"Bokeh: all callbacks have finished\");\n",
       "  }\n",
       "\n",
       "  function load_libs(css_urls, js_urls, callback) {\n",
       "    if (css_urls == null) css_urls = [];\n",
       "    if (js_urls == null) js_urls = [];\n",
       "\n",
       "    root._bokeh_onload_callbacks.push(callback);\n",
       "    if (root._bokeh_is_loading > 0) {\n",
       "      console.debug(\"Bokeh: BokehJS is being loaded, scheduling callback at\", now());\n",
       "      return null;\n",
       "    }\n",
       "    if (js_urls == null || js_urls.length === 0) {\n",
       "      run_callbacks();\n",
       "      return null;\n",
       "    }\n",
       "    console.debug(\"Bokeh: BokehJS not loaded, scheduling load and callback at\", now());\n",
       "    root._bokeh_is_loading = css_urls.length + js_urls.length;\n",
       "\n",
       "    function on_load() {\n",
       "      root._bokeh_is_loading--;\n",
       "      if (root._bokeh_is_loading === 0) {\n",
       "        console.debug(\"Bokeh: all BokehJS libraries/stylesheets loaded\");\n",
       "        run_callbacks()\n",
       "      }\n",
       "    }\n",
       "\n",
       "    function on_error() {\n",
       "      console.error(\"failed to load \" + url);\n",
       "    }\n",
       "\n",
       "    for (var i = 0; i < css_urls.length; i++) {\n",
       "      var url = css_urls[i];\n",
       "      const element = document.createElement(\"link\");\n",
       "      element.onload = on_load;\n",
       "      element.onerror = on_error;\n",
       "      element.rel = \"stylesheet\";\n",
       "      element.type = \"text/css\";\n",
       "      element.href = url;\n",
       "      console.debug(\"Bokeh: injecting link tag for BokehJS stylesheet: \", url);\n",
       "      document.body.appendChild(element);\n",
       "    }\n",
       "\n",
       "    for (var i = 0; i < js_urls.length; i++) {\n",
       "      var url = js_urls[i];\n",
       "      var element = document.createElement('script');\n",
       "      element.onload = on_load;\n",
       "      element.onerror = on_error;\n",
       "      element.async = false;\n",
       "      element.src = url;\n",
       "      console.debug(\"Bokeh: injecting script tag for BokehJS library: \", url);\n",
       "      document.head.appendChild(element);\n",
       "    }\n",
       "  };var element = document.getElementById(\"1001\");\n",
       "  if (element == null) {\n",
       "    console.error(\"Bokeh: ERROR: autoload.js configured with elementid '1001' but no matching script tag was found. \")\n",
       "    return false;\n",
       "  }\n",
       "\n",
       "  function inject_raw_css(css) {\n",
       "    const element = document.createElement(\"style\");\n",
       "    element.appendChild(document.createTextNode(css));\n",
       "    document.body.appendChild(element);\n",
       "  }\n",
       "\n",
       "  \n",
       "  var js_urls = [\"https://cdn.pydata.org/bokeh/release/bokeh-1.4.0.min.js\", \"https://cdn.pydata.org/bokeh/release/bokeh-widgets-1.4.0.min.js\", \"https://cdn.pydata.org/bokeh/release/bokeh-tables-1.4.0.min.js\", \"https://cdn.pydata.org/bokeh/release/bokeh-gl-1.4.0.min.js\"];\n",
       "  var css_urls = [];\n",
       "  \n",
       "\n",
       "  var inline_js = [\n",
       "    function(Bokeh) {\n",
       "      Bokeh.set_log_level(\"info\");\n",
       "    },\n",
       "    function(Bokeh) {\n",
       "    \n",
       "    \n",
       "    }\n",
       "  ];\n",
       "\n",
       "  function run_inline_js() {\n",
       "    \n",
       "    if (root.Bokeh !== undefined || force === true) {\n",
       "      \n",
       "    for (var i = 0; i < inline_js.length; i++) {\n",
       "      inline_js[i].call(root, root.Bokeh);\n",
       "    }\n",
       "    if (force === true) {\n",
       "        display_loaded();\n",
       "      }} else if (Date.now() < root._bokeh_timeout) {\n",
       "      setTimeout(run_inline_js, 100);\n",
       "    } else if (!root._bokeh_failed_load) {\n",
       "      console.log(\"Bokeh: BokehJS failed to load within specified timeout.\");\n",
       "      root._bokeh_failed_load = true;\n",
       "    } else if (force !== true) {\n",
       "      var cell = $(document.getElementById(\"1001\")).parents('.cell').data().cell;\n",
       "      cell.output_area.append_execute_result(NB_LOAD_WARNING)\n",
       "    }\n",
       "\n",
       "  }\n",
       "\n",
       "  if (root._bokeh_is_loading === 0) {\n",
       "    console.debug(\"Bokeh: BokehJS loaded, going straight to plotting\");\n",
       "    run_inline_js();\n",
       "  } else {\n",
       "    load_libs(css_urls, js_urls, function() {\n",
       "      console.debug(\"Bokeh: BokehJS plotting callback run at\", now());\n",
       "      run_inline_js();\n",
       "    });\n",
       "  }\n",
       "}(window));"
      ],
      "application/vnd.bokehjs_load.v0+json": "\n(function(root) {\n  function now() {\n    return new Date();\n  }\n\n  var force = true;\n\n  if (typeof root._bokeh_onload_callbacks === \"undefined\" || force === true) {\n    root._bokeh_onload_callbacks = [];\n    root._bokeh_is_loading = undefined;\n  }\n\n  \n\n  \n  if (typeof (root._bokeh_timeout) === \"undefined\" || force === true) {\n    root._bokeh_timeout = Date.now() + 5000;\n    root._bokeh_failed_load = false;\n  }\n\n  var NB_LOAD_WARNING = {'data': {'text/html':\n     \"<div style='background-color: #fdd'>\\n\"+\n     \"<p>\\n\"+\n     \"BokehJS does not appear to have successfully loaded. If loading BokehJS from CDN, this \\n\"+\n     \"may be due to a slow or bad network connection. Possible fixes:\\n\"+\n     \"</p>\\n\"+\n     \"<ul>\\n\"+\n     \"<li>re-rerun `output_notebook()` to attempt to load from CDN again, or</li>\\n\"+\n     \"<li>use INLINE resources instead, as so:</li>\\n\"+\n     \"</ul>\\n\"+\n     \"<code>\\n\"+\n     \"from bokeh.resources import INLINE\\n\"+\n     \"output_notebook(resources=INLINE)\\n\"+\n     \"</code>\\n\"+\n     \"</div>\"}};\n\n  function display_loaded() {\n    var el = document.getElementById(\"1001\");\n    if (el != null) {\n      el.textContent = \"BokehJS is loading...\";\n    }\n    if (root.Bokeh !== undefined) {\n      if (el != null) {\n        el.textContent = \"BokehJS \" + root.Bokeh.version + \" successfully loaded.\";\n      }\n    } else if (Date.now() < root._bokeh_timeout) {\n      setTimeout(display_loaded, 100)\n    }\n  }\n\n\n  function run_callbacks() {\n    try {\n      root._bokeh_onload_callbacks.forEach(function(callback) {\n        if (callback != null)\n          callback();\n      });\n    } finally {\n      delete root._bokeh_onload_callbacks\n    }\n    console.debug(\"Bokeh: all callbacks have finished\");\n  }\n\n  function load_libs(css_urls, js_urls, callback) {\n    if (css_urls == null) css_urls = [];\n    if (js_urls == null) js_urls = [];\n\n    root._bokeh_onload_callbacks.push(callback);\n    if (root._bokeh_is_loading > 0) {\n      console.debug(\"Bokeh: BokehJS is being loaded, scheduling callback at\", now());\n      return null;\n    }\n    if (js_urls == null || js_urls.length === 0) {\n      run_callbacks();\n      return null;\n    }\n    console.debug(\"Bokeh: BokehJS not loaded, scheduling load and callback at\", now());\n    root._bokeh_is_loading = css_urls.length + js_urls.length;\n\n    function on_load() {\n      root._bokeh_is_loading--;\n      if (root._bokeh_is_loading === 0) {\n        console.debug(\"Bokeh: all BokehJS libraries/stylesheets loaded\");\n        run_callbacks()\n      }\n    }\n\n    function on_error() {\n      console.error(\"failed to load \" + url);\n    }\n\n    for (var i = 0; i < css_urls.length; i++) {\n      var url = css_urls[i];\n      const element = document.createElement(\"link\");\n      element.onload = on_load;\n      element.onerror = on_error;\n      element.rel = \"stylesheet\";\n      element.type = \"text/css\";\n      element.href = url;\n      console.debug(\"Bokeh: injecting link tag for BokehJS stylesheet: \", url);\n      document.body.appendChild(element);\n    }\n\n    for (var i = 0; i < js_urls.length; i++) {\n      var url = js_urls[i];\n      var element = document.createElement('script');\n      element.onload = on_load;\n      element.onerror = on_error;\n      element.async = false;\n      element.src = url;\n      console.debug(\"Bokeh: injecting script tag for BokehJS library: \", url);\n      document.head.appendChild(element);\n    }\n  };var element = document.getElementById(\"1001\");\n  if (element == null) {\n    console.error(\"Bokeh: ERROR: autoload.js configured with elementid '1001' but no matching script tag was found. \")\n    return false;\n  }\n\n  function inject_raw_css(css) {\n    const element = document.createElement(\"style\");\n    element.appendChild(document.createTextNode(css));\n    document.body.appendChild(element);\n  }\n\n  \n  var js_urls = [\"https://cdn.pydata.org/bokeh/release/bokeh-1.4.0.min.js\", \"https://cdn.pydata.org/bokeh/release/bokeh-widgets-1.4.0.min.js\", \"https://cdn.pydata.org/bokeh/release/bokeh-tables-1.4.0.min.js\", \"https://cdn.pydata.org/bokeh/release/bokeh-gl-1.4.0.min.js\"];\n  var css_urls = [];\n  \n\n  var inline_js = [\n    function(Bokeh) {\n      Bokeh.set_log_level(\"info\");\n    },\n    function(Bokeh) {\n    \n    \n    }\n  ];\n\n  function run_inline_js() {\n    \n    if (root.Bokeh !== undefined || force === true) {\n      \n    for (var i = 0; i < inline_js.length; i++) {\n      inline_js[i].call(root, root.Bokeh);\n    }\n    if (force === true) {\n        display_loaded();\n      }} else if (Date.now() < root._bokeh_timeout) {\n      setTimeout(run_inline_js, 100);\n    } else if (!root._bokeh_failed_load) {\n      console.log(\"Bokeh: BokehJS failed to load within specified timeout.\");\n      root._bokeh_failed_load = true;\n    } else if (force !== true) {\n      var cell = $(document.getElementById(\"1001\")).parents('.cell').data().cell;\n      cell.output_area.append_execute_result(NB_LOAD_WARNING)\n    }\n\n  }\n\n  if (root._bokeh_is_loading === 0) {\n    console.debug(\"Bokeh: BokehJS loaded, going straight to plotting\");\n    run_inline_js();\n  } else {\n    load_libs(css_urls, js_urls, function() {\n      console.debug(\"Bokeh: BokehJS plotting callback run at\", now());\n      run_inline_js();\n    });\n  }\n}(window));"
     },
     "metadata": {},
     "output_type": "display_data"
    }
   ],
   "source": [
    "%cd ..\n",
    "\n",
    "import numpy as np\n",
    "import pandas as pd\n",
    "from matplotlib import pyplot as plt\n",
    "from ipywidgets import interact\n",
    "\n",
    "import cufflinks as cf\n",
    "cf.go_offline(connected=True)\n",
    "\n",
    "import bokeh.io\n",
    "bokeh.io.output_notebook()\n",
    "\n",
    "np.random.seed(42)"
   ]
  },
  {
   "cell_type": "markdown",
   "metadata": {},
   "source": [
    "# Загрузка данных"
   ]
  },
  {
   "cell_type": "code",
   "execution_count": 2,
   "metadata": {
    "ExecuteTime": {
     "end_time": "2020-03-18T11:11:09.114295Z",
     "start_time": "2020-03-18T11:11:08.877983Z"
    }
   },
   "outputs": [
    {
     "name": "stdout",
     "output_type": "stream",
     "text": [
      "Len of dataset: 12801\n"
     ]
    }
   ],
   "source": [
    "from sklearn.model_selection import train_test_split\n",
    "from src.features.build_features import rolling_window\n",
    "\n",
    "prediction_len = 1\n",
    "window_len = 32\n",
    "batch_size = 32\n",
    "\n",
    "data = pd.read_csv('data/processed/tep_data.csv', index_col='Index')\n",
    "print(f'Len of dataset: {data.shape[0]}')"
   ]
  },
  {
   "cell_type": "markdown",
   "metadata": {},
   "source": [
    "## Decomposition"
   ]
  },
  {
   "cell_type": "code",
   "execution_count": 3,
   "metadata": {
    "ExecuteTime": {
     "end_time": "2020-03-18T11:11:09.650595Z",
     "start_time": "2020-03-18T11:11:09.114295Z"
    }
   },
   "outputs": [
    {
     "data": {
      "application/vnd.jupyter.widget-view+json": {
       "model_id": "10d5cc1296a14568a950808244e2c454",
       "version_major": 2,
       "version_minor": 0
      },
      "text/plain": [
       "interactive(children=(IntSlider(value=20, description='component', max=40), Output()), _dom_classes=('widget-i…"
      ]
     },
     "metadata": {},
     "output_type": "display_data"
    }
   ],
   "source": [
    "from statsmodels.graphics.tsaplots import plot_pacf, plot_acf\n",
    "from statsmodels.tsa.stattools import acf, pacf\n",
    "\n",
    "@interact(component=(0, 40))\n",
    "def myacf(component):\n",
    "    plot_acf(data.values[:, component], lags=np.arange(0, 2000))"
   ]
  },
  {
   "cell_type": "code",
   "execution_count": 4,
   "metadata": {
    "ExecuteTime": {
     "end_time": "2020-03-18T11:11:10.273578Z",
     "start_time": "2020-03-18T11:11:09.650595Z"
    },
    "scrolled": false
   },
   "outputs": [
    {
     "data": {
      "application/vnd.jupyter.widget-view+json": {
       "model_id": "a00e83762b0540139f1d7701376d1b68",
       "version_major": 2,
       "version_minor": 0
      },
      "text/plain": [
       "interactive(children=(IntSlider(value=20, description='comp', max=40), Output()), _dom_classes=('widget-intera…"
      ]
     },
     "metadata": {},
     "output_type": "display_data"
    }
   ],
   "source": [
    "import statsmodels.tsa.seasonal as seasonal\n",
    "period = 750\n",
    "decomposed = seasonal.seasonal_decompose(data.values,\n",
    "                                         period=period,\n",
    "                                         extrapolate_trend='freq')\n",
    "\n",
    "\n",
    "@interact(comp=(0, 40))\n",
    "def f(comp):\n",
    "    plt.figure(figsize=(20, 10))\n",
    "    plt.subplot(1, 2, 1)\n",
    "    plt.title('Trend')\n",
    "    plt.plot(decomposed.trend[:, comp])\n",
    "    plt.subplot(1, 2, 2)\n",
    "    plt.title('Seasonal')\n",
    "    plt.plot(decomposed.seasonal[:, comp])"
   ]
  },
  {
   "cell_type": "markdown",
   "metadata": {},
   "source": [
    "## Train/test split"
   ]
  },
  {
   "cell_type": "code",
   "execution_count": 5,
   "metadata": {
    "ExecuteTime": {
     "end_time": "2020-03-18T11:11:10.294574Z",
     "start_time": "2020-03-18T11:11:10.275573Z"
    }
   },
   "outputs": [],
   "source": [
    "X_trend = rolling_window(decomposed.trend, window_len)[:-prediction_len]\n",
    "y_trend = rolling_window(decomposed.trend, prediction_len, window_len)"
   ]
  },
  {
   "cell_type": "code",
   "execution_count": 6,
   "metadata": {
    "ExecuteTime": {
     "end_time": "2020-03-18T10:45:47.624515Z",
     "start_time": "2020-03-18T10:45:47.556259Z"
    }
   },
   "outputs": [],
   "source": [
    "X_tr, X_te, y_tr, y_te = train_test_split(X_trend, y_trend, train_size=0.7, shuffle=False)"
   ]
  },
  {
   "cell_type": "markdown",
   "metadata": {},
   "source": [
    "# Обучение"
   ]
  },
  {
   "cell_type": "markdown",
   "metadata": {},
   "source": [
    "## Тренд"
   ]
  },
  {
   "cell_type": "code",
   "execution_count": 7,
   "metadata": {
    "ExecuteTime": {
     "end_time": "2020-03-12T14:10:47.673658Z",
     "start_time": "2020-03-12T14:10:44.469299Z"
    }
   },
   "outputs": [],
   "source": [
    "from src.models.torch.models import LSTM, Trainer\n",
    "from src.models.torch.utils import to_dataloader, get_prev_states\n",
    "import torch\n",
    "\n",
    "train_set = to_dataloader(X_tr, y_tr, dict(batch_size=batch_size))\n",
    "test_set = to_dataloader(X_te, y_te, dict(batch_size=batch_size))"
   ]
  },
  {
   "cell_type": "markdown",
   "metadata": {},
   "source": [
    "### Обучение"
   ]
  },
  {
   "cell_type": "code",
   "execution_count": 8,
   "metadata": {
    "ExecuteTime": {
     "end_time": "2020-03-12T14:10:47.682659Z",
     "start_time": "2020-03-12T14:10:47.676659Z"
    }
   },
   "outputs": [],
   "source": [
    "from datetime import datetime\n",
    "def get_log_path(name):\n",
    "    return name + '_' + datetime.now().strftime('%Y-%m-%d-%H-%M')"
   ]
  },
  {
   "cell_type": "code",
   "execution_count": 9,
   "metadata": {
    "ExecuteTime": {
     "end_time": "2020-03-12T14:10:49.858696Z",
     "start_time": "2020-03-12T14:10:47.684658Z"
    }
   },
   "outputs": [],
   "source": [
    "config = dict(\n",
    "    input_size=X_tr[0].shape[1],\n",
    "    hidden_size=16,\n",
    "    num_layers=1,\n",
    "    batch_first=True,\n",
    "    bidirectional=True,\n",
    ")\n",
    "\n",
    "device = torch.device('cpu')\n",
    "model = LSTM(**config).to(device)\n",
    "criterion = torch.nn.MSELoss()\n",
    "optim = torch.optim.Adam(model.parameters(), lr=0.001, weight_decay=0.001)\n",
    "scheduler = torch.optim.lr_scheduler.ReduceLROnPlateau(optim,\n",
    "                                                       patience=3,\n",
    "                                                       threshold=0.01)\n",
    "\n",
    "trainer = Trainer(\n",
    "    model,\n",
    "    criterion,\n",
    "    optim,\n",
    "    scheduler,\n",
    "    device,\n",
    "    get_log_path(\n",
    "        f'logs/trend-{config[\"num_layers\"]}-layers-{config[\"hidden_size\"]}-hidden-{window_len}-len'\n",
    "    ),\n",
    "    stateful=True)"
   ]
  },
  {
   "cell_type": "code",
   "execution_count": 10,
   "metadata": {
    "ExecuteTime": {
     "end_time": "2020-03-12T14:10:49.866660Z",
     "start_time": "2020-03-12T14:10:49.862696Z"
    },
    "scrolled": true
   },
   "outputs": [],
   "source": [
    "# # for test purpouses\n",
    "# sz = 200\n",
    "# xx = torch.rand(sz, window_len, data.shape[1])\n",
    "# yy = torch.rand(sz, data.shape[1])\n",
    "# xxdatayy = to_dataloader(xx, yy, dict(batch_size=batch_size))\n",
    "# trainer.train(xxdatayy, xxdatayy, 5)"
   ]
  },
  {
   "cell_type": "code",
   "execution_count": 11,
   "metadata": {
    "ExecuteTime": {
     "end_time": "2020-03-12T14:13:42.066418Z",
     "start_time": "2020-03-12T14:10:49.869667Z"
    },
    "scrolled": true
   },
   "outputs": [
    {
     "name": "stderr",
     "output_type": "stream",
     "text": [
      "Epoch 0 of train: :   0%|                                                                                                                           | 0/280 [00:00<?, ?it/s, loss=0.701]D:\\anomaly-detection\\src\\models\\torch\\utils.py:25: UserWarning:\n",
      "\n",
      "To copy construct from a tensor, it is recommended to use sourceTensor.clone().detach() or sourceTensor.clone().detach().requires_grad_(True), rather than torch.tensor(sourceTensor).\n",
      "\n",
      "Epoch 0 of train: :   1%|▊                                                                                                                   | 2/280 [00:00<00:17, 15.88it/s, loss=0.54]"
     ]
    },
    {
     "name": "stdout",
     "output_type": "stream",
     "text": [
      "Epoch 0/9\n",
      "----------\n"
     ]
    },
    {
     "name": "stderr",
     "output_type": "stream",
     "text": [
      "Epoch 0 of train: : 100%|████████████████████████████████████████████████████████████████████████████████████████████████████████████████| 280/280 [00:11<00:00, 23.35it/s, loss=0.0187]\n",
      "Epoch 0 of val: : 100%|███████████████████████████████████████████████████████████████████████████████████████████████████████████████████| 120/120 [00:05<00:00, 23.62it/s, loss=0.298]\n",
      "Epoch 1 of train: :   1%|█▋                                                                                                                | 4/280 [00:00<00:07, 38.83it/s, loss=0.0903]"
     ]
    },
    {
     "name": "stdout",
     "output_type": "stream",
     "text": [
      "Loss: 0.0592\n",
      "\n",
      "Epoch 1/9\n",
      "----------\n"
     ]
    },
    {
     "name": "stderr",
     "output_type": "stream",
     "text": [
      "Epoch 1 of train: : 100%|█████████████████████████████████████████████████████████████████████████████████████████████████████████████████| 280/280 [00:10<00:00, 26.97it/s, loss=0.014]\n",
      "Epoch 1 of val: : 100%|███████████████████████████████████████████████████████████████████████████████████████████████████████████████████| 120/120 [00:04<00:00, 25.80it/s, loss=0.293]\n",
      "Epoch 2 of train: :   1%|█▏                                                                                                                | 3/280 [00:00<00:10, 25.21it/s, loss=0.0722]"
     ]
    },
    {
     "name": "stdout",
     "output_type": "stream",
     "text": [
      "Loss: 0.0451\n",
      "\n",
      "Epoch 2/9\n",
      "----------\n"
     ]
    },
    {
     "name": "stderr",
     "output_type": "stream",
     "text": [
      "Epoch 2 of train: : 100%|████████████████████████████████████████████████████████████████████████████████████████████████████████████████| 280/280 [00:11<00:00, 24.34it/s, loss=0.0125]\n",
      "Epoch 2 of val: : 100%|███████████████████████████████████████████████████████████████████████████████████████████████████████████████████| 120/120 [00:05<00:00, 23.28it/s, loss=0.226]\n",
      "Epoch 3 of train: :   1%|█▏                                                                                                                | 3/280 [00:00<00:11, 23.81it/s, loss=0.0288]"
     ]
    },
    {
     "name": "stdout",
     "output_type": "stream",
     "text": [
      "Loss: 0.0358\n",
      "\n",
      "Epoch 3/9\n",
      "----------\n"
     ]
    },
    {
     "name": "stderr",
     "output_type": "stream",
     "text": [
      "Epoch 3 of train: : 100%|████████████████████████████████████████████████████████████████████████████████████████████████████████████████| 280/280 [00:11<00:00, 23.58it/s, loss=0.0118]\n",
      "Epoch 3 of val: : 100%|███████████████████████████████████████████████████████████████████████████████████████████████████████████████████| 120/120 [00:05<00:00, 23.40it/s, loss=0.234]\n",
      "Epoch 4 of train: :   1%|█▏                                                                                                                | 3/280 [00:00<00:11, 24.79it/s, loss=0.0242]"
     ]
    },
    {
     "name": "stdout",
     "output_type": "stream",
     "text": [
      "Loss: 0.0340\n",
      "\n",
      "Epoch 4/9\n",
      "----------\n"
     ]
    },
    {
     "name": "stderr",
     "output_type": "stream",
     "text": [
      "Epoch 4 of train: : 100%|████████████████████████████████████████████████████████████████████████████████████████████████████████████████| 280/280 [00:11<00:00, 23.67it/s, loss=0.0116]\n",
      "Epoch 4 of val: : 100%|████████████████████████████████████████████████████████████████████████████████████████████████████████████████████| 120/120 [00:05<00:00, 23.83it/s, loss=0.19]\n",
      "Epoch 5 of train: :   1%|█▏                                                                                                                | 3/280 [00:00<00:11, 24.79it/s, loss=0.0173]"
     ]
    },
    {
     "name": "stdout",
     "output_type": "stream",
     "text": [
      "Loss: 0.0297\n",
      "\n",
      "Epoch 5/9\n",
      "----------\n"
     ]
    },
    {
     "name": "stderr",
     "output_type": "stream",
     "text": [
      "Epoch 5 of train: : 100%|████████████████████████████████████████████████████████████████████████████████████████████████████████████████| 280/280 [00:11<00:00, 23.65it/s, loss=0.0102]\n",
      "Epoch 5 of val: : 100%|███████████████████████████████████████████████████████████████████████████████████████████████████████████████████| 120/120 [00:05<00:00, 22.91it/s, loss=0.173]\n",
      "Epoch 6 of train: :   1%|█▏                                                                                                                | 3/280 [00:00<00:10, 25.21it/s, loss=0.0137]"
     ]
    },
    {
     "name": "stdout",
     "output_type": "stream",
     "text": [
      "Loss: 0.0280\n",
      "\n",
      "Epoch 6/9\n",
      "----------\n"
     ]
    },
    {
     "name": "stderr",
     "output_type": "stream",
     "text": [
      "Epoch 6 of train: : 100%|███████████████████████████████████████████████████████████████████████████████████████████████████████████████| 280/280 [00:11<00:00, 23.67it/s, loss=0.00984]\n",
      "Epoch 6 of val: : 100%|███████████████████████████████████████████████████████████████████████████████████████████████████████████████████| 120/120 [00:05<00:00, 23.21it/s, loss=0.224]\n",
      "Epoch 7 of train: :   1%|█▏                                                                                                               | 3/280 [00:00<00:10, 25.42it/s, loss=0.00634]"
     ]
    },
    {
     "name": "stdout",
     "output_type": "stream",
     "text": [
      "Loss: 0.0304\n",
      "\n",
      "Epoch 7/9\n",
      "----------\n"
     ]
    },
    {
     "name": "stderr",
     "output_type": "stream",
     "text": [
      "Epoch 7 of train: : 100%|███████████████████████████████████████████████████████████████████████████████████████████████████████████████| 280/280 [00:11<00:00, 23.64it/s, loss=0.00986]\n",
      "Epoch 7 of val: : 100%|███████████████████████████████████████████████████████████████████████████████████████████████████████████████████| 120/120 [00:05<00:00, 23.72it/s, loss=0.186]\n",
      "Epoch 8 of train: :   1%|█▏                                                                                                                | 3/280 [00:00<00:12, 22.73it/s, loss=0.0136]"
     ]
    },
    {
     "name": "stdout",
     "output_type": "stream",
     "text": [
      "Loss: 0.0273\n",
      "\n",
      "Epoch 8/9\n",
      "----------\n"
     ]
    },
    {
     "name": "stderr",
     "output_type": "stream",
     "text": [
      "Epoch 8 of train: : 100%|███████████████████████████████████████████████████████████████████████████████████████████████████████████████| 280/280 [00:11<00:00, 23.51it/s, loss=0.00894]\n",
      "Epoch 8 of val: : 100%|████████████████████████████████████████████████████████████████████████████████████████████████████████████████████| 120/120 [00:05<00:00, 23.51it/s, loss=0.23]\n",
      "Epoch 9 of train: :   1%|█▏                                                                                                                | 3/280 [00:00<00:12, 21.74it/s, loss=0.0165]"
     ]
    },
    {
     "name": "stdout",
     "output_type": "stream",
     "text": [
      "Loss: 0.0311\n",
      "\n",
      "Epoch 9/9\n",
      "----------\n"
     ]
    },
    {
     "name": "stderr",
     "output_type": "stream",
     "text": [
      "Epoch 9 of train: : 100%|███████████████████████████████████████████████████████████████████████████████████████████████████████████████| 280/280 [00:11<00:00, 23.43it/s, loss=0.00994]\n",
      "Epoch 9 of val: : 100%|███████████████████████████████████████████████████████████████████████████████████████████████████████████████████| 120/120 [00:05<00:00, 23.62it/s, loss=0.231]\n"
     ]
    },
    {
     "name": "stdout",
     "output_type": "stream",
     "text": [
      "Loss: 0.0295\n",
      "\n"
     ]
    }
   ],
   "source": [
    "trainer.train(train_set, test_set, 10)"
   ]
  },
  {
   "cell_type": "markdown",
   "metadata": {},
   "source": [
    "### Предсказание"
   ]
  },
  {
   "cell_type": "code",
   "execution_count": 12,
   "metadata": {
    "ExecuteTime": {
     "end_time": "2020-03-12T14:13:42.073416Z",
     "start_time": "2020-03-12T14:13:42.069416Z"
    }
   },
   "outputs": [],
   "source": [
    "import matplotlib.pyplot as plt"
   ]
  },
  {
   "cell_type": "code",
   "execution_count": 13,
   "metadata": {
    "ExecuteTime": {
     "end_time": "2020-03-12T14:13:42.133417Z",
     "start_time": "2020-03-12T14:13:42.074414Z"
    },
    "scrolled": false
   },
   "outputs": [],
   "source": [
    "# from __future__ import print_function\n",
    "# from ipywidgets import interact, interactive, fixed, interact_manual\n",
    "# import ipywidgets as widgets\n",
    "\n",
    "\n",
    "# @interact(component=(0, data.shape[1] - 1), prediction_len=(1, 32))\n",
    "# def plot(component, prediction_len):\n",
    "#     model.eval()\n",
    "#     plt.figure(figsize=(12, 12))\n",
    "#     amount = 4  # need to be a square\n",
    "#     idxs = np.random.randint(len(X_te), size=amount)\n",
    "#     sample = torch.tensor(np.array(np.take(X_te, idxs, axis=0))).float()\n",
    "\n",
    "#     for i in range(prediction_len):\n",
    "#         predicted = model(sample[:, -window_len:])\n",
    "#         sample = torch.cat((sample, predicted.view(amount, 1, -1)), dim=1)\n",
    "\n",
    "#     for i in range(amount):\n",
    "#         plt.subplot(amount // 2, amount // 2, i + 1)\n",
    "#         plt.plot(list(range(window_len)),\n",
    "#                  sample[i, :window_len, component].detach().numpy(),\n",
    "#                  c='r')\n",
    "#         plt.plot(list(range(window_len, window_len + prediction_len)),\n",
    "#                  sample[i, window_len:, component].detach().numpy(),\n",
    "#                  c='b')"
   ]
  },
  {
   "cell_type": "code",
   "execution_count": 14,
   "metadata": {
    "ExecuteTime": {
     "end_time": "2020-03-12T14:13:42.192419Z",
     "start_time": "2020-03-12T14:13:42.135416Z"
    }
   },
   "outputs": [],
   "source": [
    "from tqdm import tqdm\n",
    "\n",
    "def next_value_prediction(model, data, window_len):\n",
    "    model.eval()\n",
    "    pred = torch.zeros((1, data.shape[1]))\n",
    "    for i in tqdm(range(window_len, data.shape[0]-1)):\n",
    "        inp = torch.tensor(data[i - window_len:i]).float()\n",
    "        inp = inp.view(1, *inp.size())\n",
    "        states = get_prev_states(model, 1)\n",
    "        pred = torch.cat((pred, model(inp, states)), dim=0)\n",
    "    return pred\n",
    "\n",
    "def forecast(model, prior, window_len, n):\n",
    "    model.eval()\n",
    "    inp = prior.view(1, window_len, -1)\n",
    "    for i in tqdm(range(n)):\n",
    "        states = get_prev_states(model, 1)\n",
    "        out = model(inp[:, -window_len:], states)\n",
    "        inp = torch.cat((inp, out.view(1, 1, -1)), dim=1)\n",
    "    return inp"
   ]
  },
  {
   "cell_type": "code",
   "execution_count": 16,
   "metadata": {
    "ExecuteTime": {
     "end_time": "2020-03-12T14:16:50.786858Z",
     "start_time": "2020-03-12T14:13:57.552474Z"
    }
   },
   "outputs": [
    {
     "name": "stderr",
     "output_type": "stream",
     "text": [
      "100%|██████████████████████████████████████████████████████████████████████████████████████████████████████████████████████████████████████████████| 8936/8936 [01:07<00:00, 132.26it/s]\n",
      "100%|███████████████████████████████████████████████████████████████████████████████████████████████████████████████████████████████████████████████| 3799/3799 [00:41<00:00, 91.21it/s]\n"
     ]
    }
   ],
   "source": [
    "model.reset_states()\n",
    "split_point = len(X_tr) + window_len\n",
    "train_pred = next_value_prediction(model, decomposed.trend[:split_point],\n",
    "                                   window_len)\n",
    "test_pred = next_value_prediction(model, decomposed.trend[split_point:],\n",
    "                                  window_len)\n",
    "\n",
    "train_pred = train_pred.detach().numpy()\n",
    "test_pred = test_pred.detach().numpy()"
   ]
  },
  {
   "cell_type": "code",
   "execution_count": null,
   "metadata": {
    "ExecuteTime": {
     "start_time": "2020-03-12T14:10:40.428Z"
    }
   },
   "outputs": [],
   "source": [
    "# np.save('tr-pred.npy', train_pred)\n",
    "# np.save('te-pred.npy', test_pred)\n",
    "\n",
    "# train_pred = np.load('tr-pred.npy', )\n",
    "# test_pred = np.load('te-pred.npy',)"
   ]
  },
  {
   "cell_type": "markdown",
   "metadata": {
    "ExecuteTime": {
     "end_time": "2020-03-12T13:32:19.685055Z",
     "start_time": "2020-03-12T13:32:19.680078Z"
    }
   },
   "source": [
    "На некоторых компонентах плохое предсказание, поэтому им нужно получить больше веса"
   ]
  },
  {
   "cell_type": "code",
   "execution_count": 18,
   "metadata": {
    "ExecuteTime": {
     "end_time": "2020-03-12T14:16:53.367878Z",
     "start_time": "2020-03-12T14:16:53.294876Z"
    }
   },
   "outputs": [],
   "source": [
    "from sklearn.metrics import mean_squared_error\n",
    "\n",
    "width = 3000\n",
    "err = mean_squared_error(test_pred[:width], decomposed.trend[split_point:split_point+width], multioutput='raw_values')\n",
    "plt.bar(np.arange(len(err)), err)"
   ]
  },
  {
   "cell_type": "code",
   "execution_count": 19,
   "metadata": {
    "ExecuteTime": {
     "end_time": "2020-03-12T14:16:53.467269Z",
     "start_time": "2020-03-12T14:16:53.373880Z"
    }
   },
   "outputs": [],
   "source": [
    "# def weighted_mse_loss(weights):\n",
    "#     weights = torch.tensor(weights)\n",
    "#     criterion = torch.nn.MSELoss(reduction='none')\n",
    "#     def mse(input, target):\n",
    "#         nonlocal weights, criterion\n",
    "#         loss = criterion(input, target)\n",
    "#         loss = loss * weights.expand_as(loss)\n",
    "#         return loss.mean()\n",
    "#     return mse\n",
    "\n",
    "# criterion = weighted_mse_loss(err / err.sum())\n",
    "# optim = torch.optim.Adam(model.parameters(), lr=0.001, weight_decay=0.001)\n",
    "# scheduler = torch.optim.lr_scheduler.ReduceLROnPlateau(optim,\n",
    "#                                                        patience=3,\n",
    "#                                                        threshold=0.01)\n",
    "\n",
    "# trainer = Trainer(\n",
    "#     model,\n",
    "#     criterion,\n",
    "#     optim,\n",
    "#     scheduler,\n",
    "#     device,\n",
    "#     get_log_path(\n",
    "#         f'logs/trend-retraining-{config[\"num_layers\"]}-layers-{config[\"hidden_size\"]}-hidden-{window_len}-len'\n",
    "#     ),\n",
    "#     stateful=True)\n",
    "\n",
    "\n",
    "\n",
    "# model.reset_states()\n",
    "# trainer.train(train_set, test_set, 10)\n",
    "\n",
    "# model.reset_states()\n",
    "# split_point = len(X_tr) + window_len\n",
    "# train_pred = next_value_prediction(model, decomposed.trend[:split_point],\n",
    "#                                    window_len)\n",
    "# test_pred = next_value_prediction(model, decomposed.trend[split_point:],\n",
    "#                                   window_len)\n",
    "\n",
    "# train_pred = train_pred.detach().numpy()\n",
    "# test_pred = test_pred.detach().numpy()"
   ]
  },
  {
   "cell_type": "code",
   "execution_count": 25,
   "metadata": {
    "ExecuteTime": {
     "end_time": "2020-03-12T14:26:48.410299Z",
     "start_time": "2020-03-12T14:26:47.341223Z"
    }
   },
   "outputs": [
    {
     "data": {
      "application/vnd.jupyter.widget-view+json": {
       "model_id": "44c1d00f230740a4adcb7db7f7bb6900",
       "version_major": 2,
       "version_minor": 0
      },
      "text/plain": [
       "interactive(children=(IntSlider(value=20, description='component', max=40), Output()), _dom_classes=('widget-i…"
      ]
     },
     "metadata": {},
     "output_type": "display_data"
    }
   ],
   "source": [
    "from ipywidgets import interact\n",
    "\n",
    "@interact(component=(0, 40))\n",
    "def plot(component):\n",
    "    width = 3000\n",
    "    global split_point\n",
    "    plt.figure(figsize=(18, 8))\n",
    "    plt.suptitle('Next value prediction of trend')\n",
    "    \n",
    "    plt.subplot(1, 2, 1)\n",
    "    plt.title('Train')\n",
    "    plt.plot(decomposed.trend[:width + window_len, component],\n",
    "             label='real',\n",
    "             alpha=0.7)\n",
    "    plt.plot(list(range(window_len, window_len + width)),\n",
    "             train_pred[:width, component],\n",
    "             label='pred',\n",
    "             alpha=0.8)\n",
    "\n",
    "    plt.subplot(1, 2, 2)\n",
    "    plt.title('Test')\n",
    "    plt.plot(decomposed.trend[split_point:split_point + width, component],\n",
    "             label='real',\n",
    "             alpha=0.7)\n",
    "    plt.plot(list(range(window_len, window_len + width)),\n",
    "             test_pred[:width, component],\n",
    "             label='pred',\n",
    "             alpha=0.8)\n",
    "    plt.legend()"
   ]
  },
  {
   "cell_type": "code",
   "execution_count": null,
   "metadata": {
    "ExecuteTime": {
     "end_time": "2020-03-12T14:13:48.426421Z",
     "start_time": "2020-03-12T14:10:40.443Z"
    }
   },
   "outputs": [],
   "source": [
    "# inp = torch.cat(\n",
    "#     (torch.tensor(decomposed.trend[len(X_tr) + 1 - window_len:len(X_tr)]).float(), torch.tensor(train_pred[-1, None, :])),\n",
    "#     axis=0).view(1, window_len, data.shape[1])\n",
    "# for i in tqdm(range(len(X_te))):\n",
    "#     states = get_prev_states(model, 1)\n",
    "#     out = model(inp[:, -window_len:], states)\n",
    "#     inp = torch.cat((inp, out.view(1, 1, -1)), axis=1)\n",
    "    \n",
    "# pred = inp.squeeze().detach().numpy()[window_len:]\n",
    "\n",
    "# @interact(component=(0, 40))\n",
    "# def f(component):\n",
    "#     sz = 100\n",
    "#     plt.title(f'Next {sz} values prediction of trend')\n",
    "#     plt.plot(pred[:sz, component], label='pred')\n",
    "#     plt.plot(decomposed.trend[len(X_tr):len(X_tr)+sz, component], label='ground truth')\n",
    "#     plt.legend()"
   ]
  },
  {
   "cell_type": "markdown",
   "metadata": {},
   "source": [
    "## Сезонная "
   ]
  },
  {
   "cell_type": "markdown",
   "metadata": {},
   "source": [
    "### Преобразование фурье"
   ]
  },
  {
   "cell_type": "code",
   "execution_count": 6,
   "metadata": {
    "ExecuteTime": {
     "end_time": "2020-03-18T11:11:12.343953Z",
     "start_time": "2020-03-18T11:11:12.332876Z"
    }
   },
   "outputs": [],
   "source": [
    "X_seasonal = decomposed.seasonal"
   ]
  },
  {
   "cell_type": "code",
   "execution_count": 7,
   "metadata": {
    "ExecuteTime": {
     "end_time": "2020-03-18T11:11:12.705776Z",
     "start_time": "2020-03-18T11:11:12.688090Z"
    }
   },
   "outputs": [],
   "source": [
    "from scipy.fftpack import rfft\n",
    "from scipy.signal import spectrogram"
   ]
  },
  {
   "cell_type": "code",
   "execution_count": 8,
   "metadata": {
    "ExecuteTime": {
     "end_time": "2020-03-18T11:11:14.431797Z",
     "start_time": "2020-03-18T11:11:13.717346Z"
    }
   },
   "outputs": [],
   "source": [
    "f, t, Sxx = spectrogram(X_seasonal, axis=0, nperseg=window_len, noverlap=window_len-1)"
   ]
  },
  {
   "cell_type": "code",
   "execution_count": 15,
   "metadata": {
    "ExecuteTime": {
     "end_time": "2020-03-18T10:50:22.976006Z",
     "start_time": "2020-03-18T10:50:22.959623Z"
    }
   },
   "outputs": [
    {
     "data": {
      "text/plain": [
       "(17, 41, 12770)"
      ]
     },
     "execution_count": 15,
     "metadata": {},
     "output_type": "execute_result"
    }
   ],
   "source": [
    "Sxx.shape"
   ]
  },
  {
   "cell_type": "code",
   "execution_count": 15,
   "metadata": {
    "ExecuteTime": {
     "end_time": "2020-03-18T11:14:42.894665Z",
     "start_time": "2020-03-18T11:13:29.398361Z"
    }
   },
   "outputs": [
    {
     "ename": "KeyboardInterrupt",
     "evalue": "",
     "output_type": "error",
     "traceback": [
      "\u001b[1;31m---------------------------------------------------------------------------\u001b[0m",
      "\u001b[1;31mKeyboardInterrupt\u001b[0m                         Traceback (most recent call last)",
      "\u001b[1;32m<ipython-input-15-1033d9f24ea6>\u001b[0m in \u001b[0;36m<module>\u001b[1;34m\u001b[0m\n\u001b[0;32m      1\u001b[0m \u001b[1;32mfrom\u001b[0m \u001b[0mskimage\u001b[0m\u001b[1;33m.\u001b[0m\u001b[0mtransform\u001b[0m \u001b[1;32mimport\u001b[0m \u001b[0mresize\u001b[0m\u001b[1;33m\u001b[0m\u001b[1;33m\u001b[0m\u001b[0m\n\u001b[1;32m----> 2\u001b[1;33m \u001b[0mSxx_resized\u001b[0m \u001b[1;33m=\u001b[0m \u001b[0mresize\u001b[0m\u001b[1;33m(\u001b[0m\u001b[0mSxx\u001b[0m\u001b[1;33m,\u001b[0m \u001b[1;33m(\u001b[0m\u001b[1;36m1170\u001b[0m\u001b[1;33m,\u001b[0m \u001b[0mSxx\u001b[0m\u001b[1;33m.\u001b[0m\u001b[0mshape\u001b[0m\u001b[1;33m[\u001b[0m\u001b[1;33m-\u001b[0m\u001b[1;36m1\u001b[0m\u001b[1;33m]\u001b[0m\u001b[1;33m)\u001b[0m\u001b[1;33m)\u001b[0m\u001b[1;33m.\u001b[0m\u001b[0mshape\u001b[0m\u001b[1;33m\u001b[0m\u001b[1;33m\u001b[0m\u001b[0m\n\u001b[0m",
      "\u001b[1;32mC:\\Anaconda3\\envs\\anom-det\\lib\\site-packages\\skimage\\transform\\_warps.py\u001b[0m in \u001b[0;36mresize\u001b[1;34m(image, output_shape, order, mode, cval, clip, preserve_range, anti_aliasing, anti_aliasing_sigma)\u001b[0m\n\u001b[0;32m    164\u001b[0m         out = warp(image, tform, output_shape=output_shape, order=order,\n\u001b[0;32m    165\u001b[0m                    \u001b[0mmode\u001b[0m\u001b[1;33m=\u001b[0m\u001b[0mmode\u001b[0m\u001b[1;33m,\u001b[0m \u001b[0mcval\u001b[0m\u001b[1;33m=\u001b[0m\u001b[0mcval\u001b[0m\u001b[1;33m,\u001b[0m \u001b[0mclip\u001b[0m\u001b[1;33m=\u001b[0m\u001b[0mclip\u001b[0m\u001b[1;33m,\u001b[0m\u001b[1;33m\u001b[0m\u001b[1;33m\u001b[0m\u001b[0m\n\u001b[1;32m--> 166\u001b[1;33m                    preserve_range=preserve_range)\n\u001b[0m\u001b[0;32m    167\u001b[0m \u001b[1;33m\u001b[0m\u001b[0m\n\u001b[0;32m    168\u001b[0m     \u001b[1;32melse\u001b[0m\u001b[1;33m:\u001b[0m  \u001b[1;31m# n-dimensional interpolation\u001b[0m\u001b[1;33m\u001b[0m\u001b[1;33m\u001b[0m\u001b[0m\n",
      "\u001b[1;32mC:\\Anaconda3\\envs\\anom-det\\lib\\site-packages\\skimage\\transform\\_warps.py\u001b[0m in \u001b[0;36mwarp\u001b[1;34m(image, inverse_map, map_args, output_shape, order, mode, cval, clip, preserve_range)\u001b[0m\n\u001b[0;32m    861\u001b[0m                                                   \u001b[0moutput_shape\u001b[0m\u001b[1;33m=\u001b[0m\u001b[0moutput_shape\u001b[0m\u001b[1;33m,\u001b[0m\u001b[1;33m\u001b[0m\u001b[1;33m\u001b[0m\u001b[0m\n\u001b[0;32m    862\u001b[0m                                                   \u001b[0morder\u001b[0m\u001b[1;33m=\u001b[0m\u001b[0morder\u001b[0m\u001b[1;33m,\u001b[0m \u001b[0mmode\u001b[0m\u001b[1;33m=\u001b[0m\u001b[0mmode\u001b[0m\u001b[1;33m,\u001b[0m\u001b[1;33m\u001b[0m\u001b[1;33m\u001b[0m\u001b[0m\n\u001b[1;32m--> 863\u001b[1;33m                                                   cval=cval))\n\u001b[0m\u001b[0;32m    864\u001b[0m                 \u001b[0mwarped\u001b[0m \u001b[1;33m=\u001b[0m \u001b[0mnp\u001b[0m\u001b[1;33m.\u001b[0m\u001b[0mdstack\u001b[0m\u001b[1;33m(\u001b[0m\u001b[0mdims\u001b[0m\u001b[1;33m)\u001b[0m\u001b[1;33m\u001b[0m\u001b[1;33m\u001b[0m\u001b[0m\n\u001b[0;32m    865\u001b[0m \u001b[1;33m\u001b[0m\u001b[0m\n",
      "\u001b[1;32mskimage\\transform\\_warps_cy.pyx\u001b[0m in \u001b[0;36mskimage.transform._warps_cy._warp_fast\u001b[1;34m()\u001b[0m\n",
      "\u001b[1;32mC:\\Anaconda3\\envs\\anom-det\\lib\\site-packages\\numpy\\core\\_asarray.py\u001b[0m in \u001b[0;36masarray\u001b[1;34m(a, dtype, order)\u001b[0m\n\u001b[0;32m     14\u001b[0m ]\n\u001b[0;32m     15\u001b[0m \u001b[1;33m\u001b[0m\u001b[0m\n\u001b[1;32m---> 16\u001b[1;33m \u001b[1;33m@\u001b[0m\u001b[0mset_module\u001b[0m\u001b[1;33m(\u001b[0m\u001b[1;34m'numpy'\u001b[0m\u001b[1;33m)\u001b[0m\u001b[1;33m\u001b[0m\u001b[1;33m\u001b[0m\u001b[0m\n\u001b[0m\u001b[0;32m     17\u001b[0m \u001b[1;32mdef\u001b[0m \u001b[0masarray\u001b[0m\u001b[1;33m(\u001b[0m\u001b[0ma\u001b[0m\u001b[1;33m,\u001b[0m \u001b[0mdtype\u001b[0m\u001b[1;33m=\u001b[0m\u001b[1;32mNone\u001b[0m\u001b[1;33m,\u001b[0m \u001b[0morder\u001b[0m\u001b[1;33m=\u001b[0m\u001b[1;32mNone\u001b[0m\u001b[1;33m)\u001b[0m\u001b[1;33m:\u001b[0m\u001b[1;33m\u001b[0m\u001b[1;33m\u001b[0m\u001b[0m\n\u001b[0;32m     18\u001b[0m     \"\"\"Convert the input to an array.\n",
      "\u001b[1;31mKeyboardInterrupt\u001b[0m: "
     ]
    }
   ],
   "source": [
    "from cv2"
   ]
  },
  {
   "cell_type": "code",
   "execution_count": 17,
   "metadata": {
    "ExecuteTime": {
     "end_time": "2020-03-18T10:55:00.540148Z",
     "start_time": "2020-03-18T10:55:00.364989Z"
    }
   },
   "outputs": [
    {
     "data": {
      "image/png": "[encoded data removed]",
      "text/plain": [
       "<Figure size 720x720 with 1 Axes>"
      ]
     },
     "metadata": {
      "needs_background": "light"
     },
     "output_type": "display_data"
    }
   ],
   "source": [
    "plt.imshow(Sxx_resized[:, 0]);"
   ]
  },
  {
   "cell_type": "code",
   "execution_count": 14,
   "metadata": {
    "ExecuteTime": {
     "end_time": "2020-03-18T10:48:21.222996Z",
     "start_time": "2020-03-18T10:48:21.216639Z"
    }
   },
   "outputs": [
    {
     "data": {
      "text/plain": [
       "(12801, 41)"
      ]
     },
     "execution_count": 14,
     "metadata": {},
     "output_type": "execute_result"
    }
   ],
   "source": [
    "X_seasonal.shape"
   ]
  },
  {
   "cell_type": "code",
   "execution_count": 12,
   "metadata": {
    "ExecuteTime": {
     "end_time": "2020-03-18T10:48:11.174981Z",
     "start_time": "2020-03-18T10:48:11.161099Z"
    }
   },
   "outputs": [
    {
     "data": {
      "text/plain": [
       "(17, 41, 12770)"
      ]
     },
     "execution_count": 12,
     "metadata": {},
     "output_type": "execute_result"
    }
   ],
   "source": [
    "Sxx.shape"
   ]
  },
  {
   "cell_type": "code",
   "execution_count": 100,
   "metadata": {
    "ExecuteTime": {
     "end_time": "2020-03-12T16:51:30.505707Z",
     "start_time": "2020-03-12T16:51:30.499705Z"
    }
   },
   "outputs": [
    {
     "data": {
      "text/plain": [
       "array([2.30345769e-05, 3.20222291e-03, 6.30967680e-04, 9.42865103e-05,\n",
       "       4.34554664e-05, 5.06664176e-06, 6.72567668e-05, 6.70077685e-06,\n",
       "       2.11745408e-05, 3.15101170e-05, 1.56907679e-05, 2.39217437e-05,\n",
       "       5.24528467e-07, 1.34942375e-05, 3.25980259e-05, 1.53004846e-05,\n",
       "       1.50333276e-06])"
      ]
     },
     "execution_count": 100,
     "metadata": {},
     "output_type": "execute_result"
    }
   ],
   "source": [
    "Sxx[:, 0, 0]"
   ]
  },
  {
   "cell_type": "code",
   "execution_count": 95,
   "metadata": {
    "ExecuteTime": {
     "end_time": "2020-03-12T16:47:41.552569Z",
     "start_time": "2020-03-12T16:47:41.375566Z"
    }
   },
   "outputs": [
    {
     "data": {
      "application/vnd.jupyter.widget-view+json": {
       "model_id": "77e503cd58e343fda79c774d36d08c58",
       "version_major": 2,
       "version_minor": 0
      },
      "text/plain": [
       "interactive(children=(IntSlider(value=20, description='component', max=40), Output()), _dom_classes=('widget-i…"
      ]
     },
     "metadata": {},
     "output_type": "display_data"
    }
   ],
   "source": [
    "@interact(component=(0, 40))\n",
    "def spec_plot(component):\n",
    "    plt.figure(figsize=(10, 10))\n",
    "    plt.imshow(Sxx[:, component])"
   ]
  },
  {
   "cell_type": "code",
   "execution_count": 92,
   "metadata": {
    "ExecuteTime": {
     "end_time": "2020-03-12T16:46:00.873622Z",
     "start_time": "2020-03-12T16:46:00.868630Z"
    }
   },
   "outputs": [
    {
     "data": {
      "text/plain": [
       "(17, 41, 12770)"
      ]
     },
     "execution_count": 92,
     "metadata": {},
     "output_type": "execute_result"
    }
   ],
   "source": [
    "Sxx.shape"
   ]
  },
  {
   "cell_type": "code",
   "execution_count": 41,
   "metadata": {
    "ExecuteTime": {
     "end_time": "2020-03-12T15:29:29.971800Z",
     "start_time": "2020-03-12T15:29:29.741797Z"
    }
   },
   "outputs": [],
   "source": [
    "seas_ft = fftn(X_seasonal, axes=0)"
   ]
  },
  {
   "cell_type": "code",
   "execution_count": 43,
   "metadata": {
    "ExecuteTime": {
     "end_time": "2020-03-12T15:29:40.618822Z",
     "start_time": "2020-03-12T15:29:40.611845Z"
    }
   },
   "outputs": [
    {
     "data": {
      "text/plain": [
       "array([[  1.23573732+0.j        ,   1.588518  +0.j        ,\n",
       "         -6.44147849+0.j        , ..., -12.40553047+0.j        ,\n",
       "         -7.1484488 +0.j        ,  -5.6909314 +0.j        ],\n",
       "       [  1.22648815+0.02314375j,   1.58541202+0.316872j  ,\n",
       "         -6.45867291+0.01457022j, ..., -12.41383152-0.01902549j,\n",
       "         -7.15294842-0.57270851j,  -5.6885082 +0.04292401j],\n",
       "       [  1.19836428+0.04561675j,   1.57592163+0.6393423j ,\n",
       "         -6.51096875+0.02840595j, ..., -12.4390653 -0.03956507j,\n",
       "         -7.16660117-1.1552281j ,  -5.6811895 +0.0878923j ],\n",
       "       ...,\n",
       "       [  1.15019754-0.06669384j,   1.55951028-0.97339003j,\n",
       "         -6.60057958-0.04070791j, ..., -12.48225956+0.06323416j,\n",
       "         -7.18988527+1.75804362j,  -5.66882554-0.13710544j],\n",
       "       [  1.19836428-0.04561675j,   1.57592163-0.6393423j ,\n",
       "         -6.51096875-0.02840595j, ..., -12.4390653 +0.03956507j,\n",
       "         -7.16660117+1.1552281j ,  -5.6811895 -0.0878923j ],\n",
       "       [  1.22648815-0.02314375j,   1.58541202-0.316872j  ,\n",
       "         -6.45867291-0.01457022j, ..., -12.41383152+0.01902549j,\n",
       "         -7.15294842+0.57270851j,  -5.6885082 -0.04292401j]])"
      ]
     },
     "execution_count": 43,
     "metadata": {},
     "output_type": "execute_result"
    }
   ],
   "source": []
  },
  {
   "cell_type": "code",
   "execution_count": null,
   "metadata": {},
   "outputs": [],
   "source": [
    "X_seasonal = rolling_window(decomposed.seasonal, window_len)[:-prediction_len]\n",
    "y_seasonal = rolling_window(decomposed.seasonal, prediction_len, window_len)\n",
    "\n",
    "X_seas_tr, X_seas_te, y_seas_tr, y_seas_te = train_test_split(X_seasonal, y_seasonal, train_size=0.7, shuffle=False)"
   ]
  },
  {
   "cell_type": "markdown",
   "metadata": {},
   "source": [
    "### Train/test"
   ]
  },
  {
   "cell_type": "code",
   "execution_count": 30,
   "metadata": {
    "ExecuteTime": {
     "end_time": "2020-03-12T15:08:32.806429Z",
     "start_time": "2020-03-12T15:08:30.498420Z"
    }
   },
   "outputs": [],
   "source": [
    "from src.models.torch.models import LSTM, Trainer\n",
    "from src.models.torch.utils import to_dataloader, get_prev_states\n",
    "import torch\n",
    "\n",
    "seas_train_set = to_dataloader(X_seas_tr, y_seas_tr, dict(batch_size=batch_size))\n",
    "seas_test_set = to_dataloader(X_seas_te, y_seas_te, dict(batch_size=batch_size))"
   ]
  },
  {
   "cell_type": "markdown",
   "metadata": {},
   "source": [
    "### Обучение"
   ]
  },
  {
   "cell_type": "code",
   "execution_count": 9,
   "metadata": {
    "ExecuteTime": {
     "end_time": "2020-03-12T14:10:49.858696Z",
     "start_time": "2020-03-12T14:10:47.684658Z"
    }
   },
   "outputs": [],
   "source": [
    "config = dict(\n",
    "    input_size=X_tr[0].shape[1],\n",
    "    hidden_size=16,\n",
    "    num_layers=1,\n",
    "    batch_first=True,\n",
    "    bidirectional=True,\n",
    ")\n",
    "\n",
    "seas_model = LSTM(**config).to(device)\n",
    "criterion = torch.nn.MSELoss()\n",
    "optim = torch.optim.Adam(seas_model.parameters(), lr=0.001, weight_decay=0.001)\n",
    "scheduler = torch.optim.lr_scheduler.ReduceLROnPlateau(optim,\n",
    "                                                       patience=3,\n",
    "                                                       threshold=0.01)\n",
    "\n",
    "trainer = Trainer(\n",
    "    seas_model,\n",
    "    criterion,\n",
    "    optim,\n",
    "    scheduler,\n",
    "    device,\n",
    "    get_log_path(\n",
    "        f'logs/seas-{config[\"num_layers\"]}-layers-{config[\"hidden_size\"]}-hidden-{window_len}-len'\n",
    "    ),\n",
    "    stateful=True)"
   ]
  },
  {
   "cell_type": "code",
   "execution_count": 11,
   "metadata": {
    "ExecuteTime": {
     "end_time": "2020-03-12T14:13:42.066418Z",
     "start_time": "2020-03-12T14:10:49.869667Z"
    },
    "scrolled": true
   },
   "outputs": [
    {
     "name": "stderr",
     "output_type": "stream",
     "text": [
      "Epoch 0 of train: :   0%|                                                                                                                           | 0/280 [00:00<?, ?it/s, loss=0.701]D:\\anomaly-detection\\src\\models\\torch\\utils.py:25: UserWarning:\n",
      "\n",
      "To copy construct from a tensor, it is recommended to use sourceTensor.clone().detach() or sourceTensor.clone().detach().requires_grad_(True), rather than torch.tensor(sourceTensor).\n",
      "\n",
      "Epoch 0 of train: :   1%|▊                                                                                                                   | 2/280 [00:00<00:17, 15.88it/s, loss=0.54]"
     ]
    },
    {
     "name": "stdout",
     "output_type": "stream",
     "text": [
      "Epoch 0/9\n",
      "----------\n"
     ]
    },
    {
     "name": "stderr",
     "output_type": "stream",
     "text": [
      "Epoch 0 of train: : 100%|████████████████████████████████████████████████████████████████████████████████████████████████████████████████| 280/280 [00:11<00:00, 23.35it/s, loss=0.0187]\n",
      "Epoch 0 of val: : 100%|███████████████████████████████████████████████████████████████████████████████████████████████████████████████████| 120/120 [00:05<00:00, 23.62it/s, loss=0.298]\n",
      "Epoch 1 of train: :   1%|█▋                                                                                                                | 4/280 [00:00<00:07, 38.83it/s, loss=0.0903]"
     ]
    },
    {
     "name": "stdout",
     "output_type": "stream",
     "text": [
      "Loss: 0.0592\n",
      "\n",
      "Epoch 1/9\n",
      "----------\n"
     ]
    },
    {
     "name": "stderr",
     "output_type": "stream",
     "text": [
      "Epoch 1 of train: : 100%|█████████████████████████████████████████████████████████████████████████████████████████████████████████████████| 280/280 [00:10<00:00, 26.97it/s, loss=0.014]\n",
      "Epoch 1 of val: : 100%|███████████████████████████████████████████████████████████████████████████████████████████████████████████████████| 120/120 [00:04<00:00, 25.80it/s, loss=0.293]\n",
      "Epoch 2 of train: :   1%|█▏                                                                                                                | 3/280 [00:00<00:10, 25.21it/s, loss=0.0722]"
     ]
    },
    {
     "name": "stdout",
     "output_type": "stream",
     "text": [
      "Loss: 0.0451\n",
      "\n",
      "Epoch 2/9\n",
      "----------\n"
     ]
    },
    {
     "name": "stderr",
     "output_type": "stream",
     "text": [
      "Epoch 2 of train: : 100%|████████████████████████████████████████████████████████████████████████████████████████████████████████████████| 280/280 [00:11<00:00, 24.34it/s, loss=0.0125]\n",
      "Epoch 2 of val: : 100%|███████████████████████████████████████████████████████████████████████████████████████████████████████████████████| 120/120 [00:05<00:00, 23.28it/s, loss=0.226]\n",
      "Epoch 3 of train: :   1%|█▏                                                                                                                | 3/280 [00:00<00:11, 23.81it/s, loss=0.0288]"
     ]
    },
    {
     "name": "stdout",
     "output_type": "stream",
     "text": [
      "Loss: 0.0358\n",
      "\n",
      "Epoch 3/9\n",
      "----------\n"
     ]
    },
    {
     "name": "stderr",
     "output_type": "stream",
     "text": [
      "Epoch 3 of train: : 100%|████████████████████████████████████████████████████████████████████████████████████████████████████████████████| 280/280 [00:11<00:00, 23.58it/s, loss=0.0118]\n",
      "Epoch 3 of val: : 100%|███████████████████████████████████████████████████████████████████████████████████████████████████████████████████| 120/120 [00:05<00:00, 23.40it/s, loss=0.234]\n",
      "Epoch 4 of train: :   1%|█▏                                                                                                                | 3/280 [00:00<00:11, 24.79it/s, loss=0.0242]"
     ]
    },
    {
     "name": "stdout",
     "output_type": "stream",
     "text": [
      "Loss: 0.0340\n",
      "\n",
      "Epoch 4/9\n",
      "----------\n"
     ]
    },
    {
     "name": "stderr",
     "output_type": "stream",
     "text": [
      "Epoch 4 of train: : 100%|████████████████████████████████████████████████████████████████████████████████████████████████████████████████| 280/280 [00:11<00:00, 23.67it/s, loss=0.0116]\n",
      "Epoch 4 of val: : 100%|████████████████████████████████████████████████████████████████████████████████████████████████████████████████████| 120/120 [00:05<00:00, 23.83it/s, loss=0.19]\n",
      "Epoch 5 of train: :   1%|█▏                                                                                                                | 3/280 [00:00<00:11, 24.79it/s, loss=0.0173]"
     ]
    },
    {
     "name": "stdout",
     "output_type": "stream",
     "text": [
      "Loss: 0.0297\n",
      "\n",
      "Epoch 5/9\n",
      "----------\n"
     ]
    },
    {
     "name": "stderr",
     "output_type": "stream",
     "text": [
      "Epoch 5 of train: : 100%|████████████████████████████████████████████████████████████████████████████████████████████████████████████████| 280/280 [00:11<00:00, 23.65it/s, loss=0.0102]\n",
      "Epoch 5 of val: : 100%|███████████████████████████████████████████████████████████████████████████████████████████████████████████████████| 120/120 [00:05<00:00, 22.91it/s, loss=0.173]\n",
      "Epoch 6 of train: :   1%|█▏                                                                                                                | 3/280 [00:00<00:10, 25.21it/s, loss=0.0137]"
     ]
    },
    {
     "name": "stdout",
     "output_type": "stream",
     "text": [
      "Loss: 0.0280\n",
      "\n",
      "Epoch 6/9\n",
      "----------\n"
     ]
    },
    {
     "name": "stderr",
     "output_type": "stream",
     "text": [
      "Epoch 6 of train: : 100%|███████████████████████████████████████████████████████████████████████████████████████████████████████████████| 280/280 [00:11<00:00, 23.67it/s, loss=0.00984]\n",
      "Epoch 6 of val: : 100%|███████████████████████████████████████████████████████████████████████████████████████████████████████████████████| 120/120 [00:05<00:00, 23.21it/s, loss=0.224]\n",
      "Epoch 7 of train: :   1%|█▏                                                                                                               | 3/280 [00:00<00:10, 25.42it/s, loss=0.00634]"
     ]
    },
    {
     "name": "stdout",
     "output_type": "stream",
     "text": [
      "Loss: 0.0304\n",
      "\n",
      "Epoch 7/9\n",
      "----------\n"
     ]
    },
    {
     "name": "stderr",
     "output_type": "stream",
     "text": [
      "Epoch 7 of train: : 100%|███████████████████████████████████████████████████████████████████████████████████████████████████████████████| 280/280 [00:11<00:00, 23.64it/s, loss=0.00986]\n",
      "Epoch 7 of val: : 100%|███████████████████████████████████████████████████████████████████████████████████████████████████████████████████| 120/120 [00:05<00:00, 23.72it/s, loss=0.186]\n",
      "Epoch 8 of train: :   1%|█▏                                                                                                                | 3/280 [00:00<00:12, 22.73it/s, loss=0.0136]"
     ]
    },
    {
     "name": "stdout",
     "output_type": "stream",
     "text": [
      "Loss: 0.0273\n",
      "\n",
      "Epoch 8/9\n",
      "----------\n"
     ]
    },
    {
     "name": "stderr",
     "output_type": "stream",
     "text": [
      "Epoch 8 of train: : 100%|███████████████████████████████████████████████████████████████████████████████████████████████████████████████| 280/280 [00:11<00:00, 23.51it/s, loss=0.00894]\n",
      "Epoch 8 of val: : 100%|████████████████████████████████████████████████████████████████████████████████████████████████████████████████████| 120/120 [00:05<00:00, 23.51it/s, loss=0.23]\n",
      "Epoch 9 of train: :   1%|█▏                                                                                                                | 3/280 [00:00<00:12, 21.74it/s, loss=0.0165]"
     ]
    },
    {
     "name": "stdout",
     "output_type": "stream",
     "text": [
      "Loss: 0.0311\n",
      "\n",
      "Epoch 9/9\n",
      "----------\n"
     ]
    },
    {
     "name": "stderr",
     "output_type": "stream",
     "text": [
      "Epoch 9 of train: : 100%|███████████████████████████████████████████████████████████████████████████████████████████████████████████████| 280/280 [00:11<00:00, 23.43it/s, loss=0.00994]\n",
      "Epoch 9 of val: : 100%|███████████████████████████████████████████████████████████████████████████████████████████████████████████████████| 120/120 [00:05<00:00, 23.62it/s, loss=0.231]\n"
     ]
    },
    {
     "name": "stdout",
     "output_type": "stream",
     "text": [
      "Loss: 0.0295\n",
      "\n"
     ]
    }
   ],
   "source": [
    "trainer.train(seas_train_set, seas_test_set, 10)"
   ]
  },
  {
   "cell_type": "code",
   "execution_count": null,
   "metadata": {},
   "outputs": [],
   "source": []
  },
  {
   "cell_type": "code",
   "execution_count": null,
   "metadata": {},
   "outputs": [],
   "source": []
  },
  {
   "cell_type": "code",
   "execution_count": null,
   "metadata": {},
   "outputs": [],
   "source": []
  },
  {
   "cell_type": "code",
   "execution_count": null,
   "metadata": {},
   "outputs": [],
   "source": []
  }
 ],
 "metadata": {
  "kernelspec": {
   "display_name": "Python 3.7.6 64-bit ('anom-det': conda)",
   "language": "python",
   "name": "python37664bitanomdetconda901567ba3683465d80172ad25f1690ac"
  },
  "language_info": {
   "codemirror_mode": {
    "name": "ipython",
    "version": 3
   },
   "file_extension": ".py",
   "mimetype": "text/x-python",
   "name": "python",
   "nbconvert_exporter": "python",
   "pygments_lexer": "ipython3",
   "version": "3.7.6"
  },
  "toc": {
   "base_numbering": 1,
   "nav_menu": {},
   "number_sections": true,
   "sideBar": true,
   "skip_h1_title": false,
   "title_cell": "Table of Contents",
   "title_sidebar": "Contents",
   "toc_cell": false,
   "toc_position": {},
   "toc_section_display": true,
   "toc_window_display": true
  },
  "varInspector": {
   "cols": {
    "lenName": 16,
    "lenType": 16,
    "lenVar": 40
   },
   "kernels_config": {
    "python": {
     "delete_cmd_postfix": "",
     "delete_cmd_prefix": "del ",
     "library": "var_list.py",
     "varRefreshCmd": "print(var_dic_list())"
    },
    "r": {
     "delete_cmd_postfix": ") ",
     "delete_cmd_prefix": "rm(",
     "library": "var_list.r",
     "varRefreshCmd": "cat(var_dic_list()) "
    }
   },
   "types_to_exclude": [
    "module",
    "function",
    "builtin_function_or_method",
    "instance",
    "_Feature"
   ],
   "window_display": false
  }
 },
 "nbformat": 4,
 "nbformat_minor": 4
}
