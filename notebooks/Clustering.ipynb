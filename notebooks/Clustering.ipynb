{
 "cells": [
  {
   "cell_type": "code",
   "execution_count": 1,
   "metadata": {
    "Collapsed": "false",
    "ExecuteTime": {
     "end_time": "2020-02-27T11:23:50.088001Z",
     "start_time": "2020-02-27T11:23:50.080997Z"
    },
    "scrolled": true
   },
   "outputs": [
    {
     "name": "stdout",
     "output_type": "stream",
     "text": [
      "D:\\anomaly-detection\n"
     ]
    }
   ],
   "source": [
    "%cd .."
   ]
  },
  {
   "cell_type": "code",
   "execution_count": 2,
   "metadata": {
    "Collapsed": "false",
    "ExecuteTime": {
     "end_time": "2020-02-27T11:23:58.068147Z",
     "start_time": "2020-02-27T11:23:51.160953Z"
    }
   },
   "outputs": [
    {
     "data": {
      "text/html": [
       "        <script type=\"text/javascript\">\n",
       "        window.PlotlyConfig = {MathJaxConfig: 'local'};\n",
       "        if (window.MathJax) {MathJax.Hub.Config({SVG: {font: \"STIX-Web\"}});}\n",
       "        if (typeof require !== 'undefined') {\n",
       "        require.undef(\"plotly\");\n",
       "        requirejs.config({\n",
       "            paths: {\n",
       "                'plotly': ['https://cdn.plot.ly/plotly-latest.min']\n",
       "            }\n",
       "        });\n",
       "        require(['plotly'], function(Plotly) {\n",
       "            window._Plotly = Plotly;\n",
       "        });\n",
       "        }\n",
       "        </script>\n",
       "        "
      ]
     },
     "metadata": {},
     "output_type": "display_data"
    },
    {
     "data": {
      "text/html": [
       "\n",
       "    <div class=\"bk-root\">\n",
       "        <a href=\"https://bokeh.org\" target=\"_blank\" class=\"bk-logo bk-logo-small bk-logo-notebook\"></a>\n",
       "        <span id=\"1001\">Loading BokehJS ...</span>\n",
       "    </div>"
      ]
     },
     "metadata": {},
     "output_type": "display_data"
    },
    {
     "data": {
      "application/javascript": [
       "\n",
       "(function(root) {\n",
       "  function now() {\n",
       "    return new Date();\n",
       "  }\n",
       "\n",
       "  var force = true;\n",
       "\n",
       "  if (typeof root._bokeh_onload_callbacks === \"undefined\" || force === true) {\n",
       "    root._bokeh_onload_callbacks = [];\n",
       "    root._bokeh_is_loading = undefined;\n",
       "  }\n",
       "\n",
       "  var JS_MIME_TYPE = 'application/javascript';\n",
       "  var HTML_MIME_TYPE = 'text/html';\n",
       "  var EXEC_MIME_TYPE = 'application/vnd.bokehjs_exec.v0+json';\n",
       "  var CLASS_NAME = 'output_bokeh rendered_html';\n",
       "\n",
       "  /**\n",
       "   * Render data to the DOM node\n",
       "   */\n",
       "  function render(props, node) {\n",
       "    var script = document.createElement(\"script\");\n",
       "    node.appendChild(script);\n",
       "  }\n",
       "\n",
       "  /**\n",
       "   * Handle when an output is cleared or removed\n",
       "   */\n",
       "  function handleClearOutput(event, handle) {\n",
       "    var cell = handle.cell;\n",
       "\n",
       "    var id = cell.output_area._bokeh_element_id;\n",
       "    var server_id = cell.output_area._bokeh_server_id;\n",
       "    // Clean up Bokeh references\n",
       "    if (id != null && id in Bokeh.index) {\n",
       "      Bokeh.index[id].model.document.clear();\n",
       "      delete Bokeh.index[id];\n",
       "    }\n",
       "\n",
       "    if (server_id !== undefined) {\n",
       "      // Clean up Bokeh references\n",
       "      var cmd = \"from bokeh.io.state import curstate; print(curstate().uuid_to_server['\" + server_id + \"'].get_sessions()[0].document.roots[0]._id)\";\n",
       "      cell.notebook.kernel.execute(cmd, {\n",
       "        iopub: {\n",
       "          output: function(msg) {\n",
       "            var id = msg.content.text.trim();\n",
       "            if (id in Bokeh.index) {\n",
       "              Bokeh.index[id].model.document.clear();\n",
       "              delete Bokeh.index[id];\n",
       "            }\n",
       "          }\n",
       "        }\n",
       "      });\n",
       "      // Destroy server and session\n",
       "      var cmd = \"import bokeh.io.notebook as ion; ion.destroy_server('\" + server_id + \"')\";\n",
       "      cell.notebook.kernel.execute(cmd);\n",
       "    }\n",
       "  }\n",
       "\n",
       "  /**\n",
       "   * Handle when a new output is added\n",
       "   */\n",
       "  function handleAddOutput(event, handle) {\n",
       "    var output_area = handle.output_area;\n",
       "    var output = handle.output;\n",
       "\n",
       "    // limit handleAddOutput to display_data with EXEC_MIME_TYPE content only\n",
       "    if ((output.output_type != \"display_data\") || (!output.data.hasOwnProperty(EXEC_MIME_TYPE))) {\n",
       "      return\n",
       "    }\n",
       "\n",
       "    var toinsert = output_area.element.find(\".\" + CLASS_NAME.split(' ')[0]);\n",
       "\n",
       "    if (output.metadata[EXEC_MIME_TYPE][\"id\"] !== undefined) {\n",
       "      toinsert[toinsert.length - 1].firstChild.textContent = output.data[JS_MIME_TYPE];\n",
       "      // store reference to embed id on output_area\n",
       "      output_area._bokeh_element_id = output.metadata[EXEC_MIME_TYPE][\"id\"];\n",
       "    }\n",
       "    if (output.metadata[EXEC_MIME_TYPE][\"server_id\"] !== undefined) {\n",
       "      var bk_div = document.createElement(\"div\");\n",
       "      bk_div.innerHTML = output.data[HTML_MIME_TYPE];\n",
       "      var script_attrs = bk_div.children[0].attributes;\n",
       "      for (var i = 0; i < script_attrs.length; i++) {\n",
       "        toinsert[toinsert.length - 1].firstChild.setAttribute(script_attrs[i].name, script_attrs[i].value);\n",
       "      }\n",
       "      // store reference to server id on output_area\n",
       "      output_area._bokeh_server_id = output.metadata[EXEC_MIME_TYPE][\"server_id\"];\n",
       "    }\n",
       "  }\n",
       "\n",
       "  function register_renderer(events, OutputArea) {\n",
       "\n",
       "    function append_mime(data, metadata, element) {\n",
       "      // create a DOM node to render to\n",
       "      var toinsert = this.create_output_subarea(\n",
       "        metadata,\n",
       "        CLASS_NAME,\n",
       "        EXEC_MIME_TYPE\n",
       "      );\n",
       "      this.keyboard_manager.register_events(toinsert);\n",
       "      // Render to node\n",
       "      var props = {data: data, metadata: metadata[EXEC_MIME_TYPE]};\n",
       "      render(props, toinsert[toinsert.length - 1]);\n",
       "      element.append(toinsert);\n",
       "      return toinsert\n",
       "    }\n",
       "\n",
       "    /* Handle when an output is cleared or removed */\n",
       "    events.on('clear_output.CodeCell', handleClearOutput);\n",
       "    events.on('delete.Cell', handleClearOutput);\n",
       "\n",
       "    /* Handle when a new output is added */\n",
       "    events.on('output_added.OutputArea', handleAddOutput);\n",
       "\n",
       "    /**\n",
       "     * Register the mime type and append_mime function with output_area\n",
       "     */\n",
       "    OutputArea.prototype.register_mime_type(EXEC_MIME_TYPE, append_mime, {\n",
       "      /* Is output safe? */\n",
       "      safe: true,\n",
       "      /* Index of renderer in `output_area.display_order` */\n",
       "      index: 0\n",
       "    });\n",
       "  }\n",
       "\n",
       "  // register the mime type if in Jupyter Notebook environment and previously unregistered\n",
       "  if (root.Jupyter !== undefined) {\n",
       "    var events = require('base/js/events');\n",
       "    var OutputArea = require('notebook/js/outputarea').OutputArea;\n",
       "\n",
       "    if (OutputArea.prototype.mime_types().indexOf(EXEC_MIME_TYPE) == -1) {\n",
       "      register_renderer(events, OutputArea);\n",
       "    }\n",
       "  }\n",
       "\n",
       "  \n",
       "  if (typeof (root._bokeh_timeout) === \"undefined\" || force === true) {\n",
       "    root._bokeh_timeout = Date.now() + 5000;\n",
       "    root._bokeh_failed_load = false;\n",
       "  }\n",
       "\n",
       "  var NB_LOAD_WARNING = {'data': {'text/html':\n",
       "     \"<div style='background-color: #fdd'>\\n\"+\n",
       "     \"<p>\\n\"+\n",
       "     \"BokehJS does not appear to have successfully loaded. If loading BokehJS from CDN, this \\n\"+\n",
       "     \"may be due to a slow or bad network connection. Possible fixes:\\n\"+\n",
       "     \"</p>\\n\"+\n",
       "     \"<ul>\\n\"+\n",
       "     \"<li>re-rerun `output_notebook()` to attempt to load from CDN again, or</li>\\n\"+\n",
       "     \"<li>use INLINE resources instead, as so:</li>\\n\"+\n",
       "     \"</ul>\\n\"+\n",
       "     \"<code>\\n\"+\n",
       "     \"from bokeh.resources import INLINE\\n\"+\n",
       "     \"output_notebook(resources=INLINE)\\n\"+\n",
       "     \"</code>\\n\"+\n",
       "     \"</div>\"}};\n",
       "\n",
       "  function display_loaded() {\n",
       "    var el = document.getElementById(\"1001\");\n",
       "    if (el != null) {\n",
       "      el.textContent = \"BokehJS is loading...\";\n",
       "    }\n",
       "    if (root.Bokeh !== undefined) {\n",
       "      if (el != null) {\n",
       "        el.textContent = \"BokehJS \" + root.Bokeh.version + \" successfully loaded.\";\n",
       "      }\n",
       "    } else if (Date.now() < root._bokeh_timeout) {\n",
       "      setTimeout(display_loaded, 100)\n",
       "    }\n",
       "  }\n",
       "\n",
       "\n",
       "  function run_callbacks() {\n",
       "    try {\n",
       "      root._bokeh_onload_callbacks.forEach(function(callback) {\n",
       "        if (callback != null)\n",
       "          callback();\n",
       "      });\n",
       "    } finally {\n",
       "      delete root._bokeh_onload_callbacks\n",
       "    }\n",
       "    console.debug(\"Bokeh: all callbacks have finished\");\n",
       "  }\n",
       "\n",
       "  function load_libs(css_urls, js_urls, callback) {\n",
       "    if (css_urls == null) css_urls = [];\n",
       "    if (js_urls == null) js_urls = [];\n",
       "\n",
       "    root._bokeh_onload_callbacks.push(callback);\n",
       "    if (root._bokeh_is_loading > 0) {\n",
       "      console.debug(\"Bokeh: BokehJS is being loaded, scheduling callback at\", now());\n",
       "      return null;\n",
       "    }\n",
       "    if (js_urls == null || js_urls.length === 0) {\n",
       "      run_callbacks();\n",
       "      return null;\n",
       "    }\n",
       "    console.debug(\"Bokeh: BokehJS not loaded, scheduling load and callback at\", now());\n",
       "    root._bokeh_is_loading = css_urls.length + js_urls.length;\n",
       "\n",
       "    function on_load() {\n",
       "      root._bokeh_is_loading--;\n",
       "      if (root._bokeh_is_loading === 0) {\n",
       "        console.debug(\"Bokeh: all BokehJS libraries/stylesheets loaded\");\n",
       "        run_callbacks()\n",
       "      }\n",
       "    }\n",
       "\n",
       "    function on_error() {\n",
       "      console.error(\"failed to load \" + url);\n",
       "    }\n",
       "\n",
       "    for (var i = 0; i < css_urls.length; i++) {\n",
       "      var url = css_urls[i];\n",
       "      const element = document.createElement(\"link\");\n",
       "      element.onload = on_load;\n",
       "      element.onerror = on_error;\n",
       "      element.rel = \"stylesheet\";\n",
       "      element.type = \"text/css\";\n",
       "      element.href = url;\n",
       "      console.debug(\"Bokeh: injecting link tag for BokehJS stylesheet: \", url);\n",
       "      document.body.appendChild(element);\n",
       "    }\n",
       "\n",
       "    for (var i = 0; i < js_urls.length; i++) {\n",
       "      var url = js_urls[i];\n",
       "      var element = document.createElement('script');\n",
       "      element.onload = on_load;\n",
       "      element.onerror = on_error;\n",
       "      element.async = false;\n",
       "      element.src = url;\n",
       "      console.debug(\"Bokeh: injecting script tag for BokehJS library: \", url);\n",
       "      document.head.appendChild(element);\n",
       "    }\n",
       "  };var element = document.getElementById(\"1001\");\n",
       "  if (element == null) {\n",
       "    console.error(\"Bokeh: ERROR: autoload.js configured with elementid '1001' but no matching script tag was found. \")\n",
       "    return false;\n",
       "  }\n",
       "\n",
       "  function inject_raw_css(css) {\n",
       "    const element = document.createElement(\"style\");\n",
       "    element.appendChild(document.createTextNode(css));\n",
       "    document.body.appendChild(element);\n",
       "  }\n",
       "\n",
       "  \n",
       "  var js_urls = [\"https://cdn.pydata.org/bokeh/release/bokeh-1.4.0.min.js\", \"https://cdn.pydata.org/bokeh/release/bokeh-widgets-1.4.0.min.js\", \"https://cdn.pydata.org/bokeh/release/bokeh-tables-1.4.0.min.js\", \"https://cdn.pydata.org/bokeh/release/bokeh-gl-1.4.0.min.js\"];\n",
       "  var css_urls = [];\n",
       "  \n",
       "\n",
       "  var inline_js = [\n",
       "    function(Bokeh) {\n",
       "      Bokeh.set_log_level(\"info\");\n",
       "    },\n",
       "    function(Bokeh) {\n",
       "    \n",
       "    \n",
       "    }\n",
       "  ];\n",
       "\n",
       "  function run_inline_js() {\n",
       "    \n",
       "    if (root.Bokeh !== undefined || force === true) {\n",
       "      \n",
       "    for (var i = 0; i < inline_js.length; i++) {\n",
       "      inline_js[i].call(root, root.Bokeh);\n",
       "    }\n",
       "    if (force === true) {\n",
       "        display_loaded();\n",
       "      }} else if (Date.now() < root._bokeh_timeout) {\n",
       "      setTimeout(run_inline_js, 100);\n",
       "    } else if (!root._bokeh_failed_load) {\n",
       "      console.log(\"Bokeh: BokehJS failed to load within specified timeout.\");\n",
       "      root._bokeh_failed_load = true;\n",
       "    } else if (force !== true) {\n",
       "      var cell = $(document.getElementById(\"1001\")).parents('.cell').data().cell;\n",
       "      cell.output_area.append_execute_result(NB_LOAD_WARNING)\n",
       "    }\n",
       "\n",
       "  }\n",
       "\n",
       "  if (root._bokeh_is_loading === 0) {\n",
       "    console.debug(\"Bokeh: BokehJS loaded, going straight to plotting\");\n",
       "    run_inline_js();\n",
       "  } else {\n",
       "    load_libs(css_urls, js_urls, function() {\n",
       "      console.debug(\"Bokeh: BokehJS plotting callback run at\", now());\n",
       "      run_inline_js();\n",
       "    });\n",
       "  }\n",
       "}(window));"
      ],
      "application/vnd.bokehjs_load.v0+json": "\n(function(root) {\n  function now() {\n    return new Date();\n  }\n\n  var force = true;\n\n  if (typeof root._bokeh_onload_callbacks === \"undefined\" || force === true) {\n    root._bokeh_onload_callbacks = [];\n    root._bokeh_is_loading = undefined;\n  }\n\n  \n\n  \n  if (typeof (root._bokeh_timeout) === \"undefined\" || force === true) {\n    root._bokeh_timeout = Date.now() + 5000;\n    root._bokeh_failed_load = false;\n  }\n\n  var NB_LOAD_WARNING = {'data': {'text/html':\n     \"<div style='background-color: #fdd'>\\n\"+\n     \"<p>\\n\"+\n     \"BokehJS does not appear to have successfully loaded. If loading BokehJS from CDN, this \\n\"+\n     \"may be due to a slow or bad network connection. Possible fixes:\\n\"+\n     \"</p>\\n\"+\n     \"<ul>\\n\"+\n     \"<li>re-rerun `output_notebook()` to attempt to load from CDN again, or</li>\\n\"+\n     \"<li>use INLINE resources instead, as so:</li>\\n\"+\n     \"</ul>\\n\"+\n     \"<code>\\n\"+\n     \"from bokeh.resources import INLINE\\n\"+\n     \"output_notebook(resources=INLINE)\\n\"+\n     \"</code>\\n\"+\n     \"</div>\"}};\n\n  function display_loaded() {\n    var el = document.getElementById(\"1001\");\n    if (el != null) {\n      el.textContent = \"BokehJS is loading...\";\n    }\n    if (root.Bokeh !== undefined) {\n      if (el != null) {\n        el.textContent = \"BokehJS \" + root.Bokeh.version + \" successfully loaded.\";\n      }\n    } else if (Date.now() < root._bokeh_timeout) {\n      setTimeout(display_loaded, 100)\n    }\n  }\n\n\n  function run_callbacks() {\n    try {\n      root._bokeh_onload_callbacks.forEach(function(callback) {\n        if (callback != null)\n          callback();\n      });\n    } finally {\n      delete root._bokeh_onload_callbacks\n    }\n    console.debug(\"Bokeh: all callbacks have finished\");\n  }\n\n  function load_libs(css_urls, js_urls, callback) {\n    if (css_urls == null) css_urls = [];\n    if (js_urls == null) js_urls = [];\n\n    root._bokeh_onload_callbacks.push(callback);\n    if (root._bokeh_is_loading > 0) {\n      console.debug(\"Bokeh: BokehJS is being loaded, scheduling callback at\", now());\n      return null;\n    }\n    if (js_urls == null || js_urls.length === 0) {\n      run_callbacks();\n      return null;\n    }\n    console.debug(\"Bokeh: BokehJS not loaded, scheduling load and callback at\", now());\n    root._bokeh_is_loading = css_urls.length + js_urls.length;\n\n    function on_load() {\n      root._bokeh_is_loading--;\n      if (root._bokeh_is_loading === 0) {\n        console.debug(\"Bokeh: all BokehJS libraries/stylesheets loaded\");\n        run_callbacks()\n      }\n    }\n\n    function on_error() {\n      console.error(\"failed to load \" + url);\n    }\n\n    for (var i = 0; i < css_urls.length; i++) {\n      var url = css_urls[i];\n      const element = document.createElement(\"link\");\n      element.onload = on_load;\n      element.onerror = on_error;\n      element.rel = \"stylesheet\";\n      element.type = \"text/css\";\n      element.href = url;\n      console.debug(\"Bokeh: injecting link tag for BokehJS stylesheet: \", url);\n      document.body.appendChild(element);\n    }\n\n    for (var i = 0; i < js_urls.length; i++) {\n      var url = js_urls[i];\n      var element = document.createElement('script');\n      element.onload = on_load;\n      element.onerror = on_error;\n      element.async = false;\n      element.src = url;\n      console.debug(\"Bokeh: injecting script tag for BokehJS library: \", url);\n      document.head.appendChild(element);\n    }\n  };var element = document.getElementById(\"1001\");\n  if (element == null) {\n    console.error(\"Bokeh: ERROR: autoload.js configured with elementid '1001' but no matching script tag was found. \")\n    return false;\n  }\n\n  function inject_raw_css(css) {\n    const element = document.createElement(\"style\");\n    element.appendChild(document.createTextNode(css));\n    document.body.appendChild(element);\n  }\n\n  \n  var js_urls = [\"https://cdn.pydata.org/bokeh/release/bokeh-1.4.0.min.js\", \"https://cdn.pydata.org/bokeh/release/bokeh-widgets-1.4.0.min.js\", \"https://cdn.pydata.org/bokeh/release/bokeh-tables-1.4.0.min.js\", \"https://cdn.pydata.org/bokeh/release/bokeh-gl-1.4.0.min.js\"];\n  var css_urls = [];\n  \n\n  var inline_js = [\n    function(Bokeh) {\n      Bokeh.set_log_level(\"info\");\n    },\n    function(Bokeh) {\n    \n    \n    }\n  ];\n\n  function run_inline_js() {\n    \n    if (root.Bokeh !== undefined || force === true) {\n      \n    for (var i = 0; i < inline_js.length; i++) {\n      inline_js[i].call(root, root.Bokeh);\n    }\n    if (force === true) {\n        display_loaded();\n      }} else if (Date.now() < root._bokeh_timeout) {\n      setTimeout(run_inline_js, 100);\n    } else if (!root._bokeh_failed_load) {\n      console.log(\"Bokeh: BokehJS failed to load within specified timeout.\");\n      root._bokeh_failed_load = true;\n    } else if (force !== true) {\n      var cell = $(document.getElementById(\"1001\")).parents('.cell').data().cell;\n      cell.output_area.append_execute_result(NB_LOAD_WARNING)\n    }\n\n  }\n\n  if (root._bokeh_is_loading === 0) {\n    console.debug(\"Bokeh: BokehJS loaded, going straight to plotting\");\n    run_inline_js();\n  } else {\n    load_libs(css_urls, js_urls, function() {\n      console.debug(\"Bokeh: BokehJS plotting callback run at\", now());\n      run_inline_js();\n    });\n  }\n}(window));"
     },
     "metadata": {},
     "output_type": "display_data"
    }
   ],
   "source": [
    "import numpy as np\n",
    "import pandas as pd\n",
    "from matplotlib import pyplot as plt\n",
    "from scipy.signal import find_peaks\n",
    "\n",
    "import cufflinks as cf\n",
    "cf.go_offline(connected=True)\n",
    "\n",
    "import bokeh.io\n",
    "bokeh.io.output_notebook()\n",
    "\n",
    "from src.visualization.visualize import ratios_plot\n",
    "\n",
    "np.random.seed(42)"
   ]
  },
  {
   "cell_type": "markdown",
   "metadata": {},
   "source": [
    "# Preparing data"
   ]
  },
  {
   "cell_type": "code",
   "execution_count": 3,
   "metadata": {
    "ExecuteTime": {
     "end_time": "2020-02-27T11:23:58.673998Z",
     "start_time": "2020-02-27T11:23:58.651998Z"
    }
   },
   "outputs": [],
   "source": [
    "ratios = np.load('result/TEP_small-ratios.npy')\n",
    "\n",
    "peaksP, _ = find_peaks(ratios, distance=100, prominence=1)\n",
    "peaksN, _ = find_peaks(-ratios, distance=100, prominence=1.5)\n",
    "peaks = sorted(np.concatenate((peaksP, peaksN), axis=0))"
   ]
  },
  {
   "cell_type": "code",
   "execution_count": 4,
   "metadata": {
    "ExecuteTime": {
     "end_time": "2020-02-27T11:23:58.872583Z",
     "start_time": "2020-02-27T11:23:58.865607Z"
    }
   },
   "outputs": [],
   "source": [
    "to_remove = []\n",
    "for i, peak in enumerate(peaks):\n",
    "    if np.isclose(ratios[peak + 100], ratios[peak - 100]) and np.isclose(\n",
    "            ratios[peak + 100], ratios[peak]):\n",
    "        to_remove.append(i)\n",
    "\n",
    "for i in reversed(to_remove):\n",
    "    peaks.pop(i)\n",
    "\n",
    "peaks = np.array(peaks)"
   ]
  },
  {
   "cell_type": "code",
   "execution_count": 5,
   "metadata": {
    "ExecuteTime": {
     "end_time": "2020-02-27T11:23:59.305923Z",
     "start_time": "2020-02-27T11:23:59.197948Z"
    }
   },
   "outputs": [
    {
     "data": {
      "text/html": [
       "\n",
       "\n",
       "\n",
       "\n",
       "\n",
       "\n",
       "  <div class=\"bk-root\" id=\"825703f0-fb54-4eaf-a10a-6f208e8122d3\" data-root-id=\"1002\"></div>\n"
      ]
     },
     "metadata": {},
     "output_type": "display_data"
    },
    {
     "data": {
      "application/javascript": [
       "(function(root) {\n",
       "  function embed_document(root) {\n",
       "    \n",
       "  var docs_json = {\"2dda0d65-0dd3-41a6-aa8d-9bd09673e79a\":{\"roots\":{\"references\":[{\"attributes\":{\"below\":[{\"id\":\"1011\",\"type\":\"LinearAxis\"}],\"center\":[{\"id\":\"1015\",\"type\":\"Grid\"},{\"id\":\"1020\",\"type\":\"Grid\"}],\"left\":[{\"id\":\"1016\",\"type\":\"LinearAxis\"}],\"plot_width\":800,\"renderers\":[{\"id\":\"1033\",\"type\":\"GlyphRenderer\"},{\"id\":\"1038\",\"type\":\"GlyphRenderer\"}],\"title\":{\"id\":\"1041\",\"type\":\"Title\"},\"toolbar\":{\"id\":\"1025\",\"type\":\"Toolbar\"},\"x_range\":{\"id\":\"1003\",\"type\":\"DataRange1d\"},\"x_scale\":{\"id\":\"1007\",\"type\":\"LinearScale\"},\"y_range\":{\"id\":\"1005\",\"type\":\"DataRange1d\"},\"y_scale\":{\"id\":\"1009\",\"type\":\"LinearScale\"}},\"id\":\"1002\",\"subtype\":\"Figure\",\"type\":\"Plot\"},{\"attributes\":{\"formatter\":{\"id\":\"1043\",\"type\":\"BasicTickFormatter\"},\"ticker\":{\"id\":\"1017\",\"type\":\"BasicTicker\"}},\"id\":\"1016\",\"type\":\"LinearAxis\"},{\"attributes\":{\"fill_color\":{\"value\":\"red\"},\"line_color\":{\"value\":\"#1f77b4\"},\"size\":{\"units\":\"screen\",\"value\":15},\"x\":{\"field\":\"x\"},\"y\":{\"field\":\"y\"}},\"id\":\"1036\",\"type\":\"Scatter\"},{\"attributes\":{\"line_color\":\"#1f77b4\",\"line_width\":2,\"x\":{\"field\":\"x\"},\"y\":{\"field\":\"y\"}},\"id\":\"1031\",\"type\":\"Line\"},{\"attributes\":{},\"id\":\"1022\",\"type\":\"PanTool\"},{\"attributes\":{\"active_drag\":\"auto\",\"active_inspect\":\"auto\",\"active_multi\":null,\"active_scroll\":\"auto\",\"active_tap\":\"auto\",\"tools\":[{\"id\":\"1021\",\"type\":\"WheelZoomTool\"},{\"id\":\"1022\",\"type\":\"PanTool\"},{\"id\":\"1023\",\"type\":\"BoxZoomTool\"},{\"id\":\"1024\",\"type\":\"ResetTool\"}]},\"id\":\"1025\",\"type\":\"Toolbar\"},{\"attributes\":{\"source\":{\"id\":\"1035\",\"type\":\"ColumnDataSource\"}},\"id\":\"1039\",\"type\":\"CDSView\"},{\"attributes\":{\"overlay\":{\"id\":\"1046\",\"type\":\"BoxAnnotation\"}},\"id\":\"1023\",\"type\":\"BoxZoomTool\"},{\"attributes\":{},\"id\":\"1045\",\"type\":\"BasicTickFormatter\"},{\"attributes\":{},\"id\":\"1024\",\"type\":\"ResetTool\"},{\"attributes\":{},\"id\":\"1043\",\"type\":\"BasicTickFormatter\"},{\"attributes\":{},\"id\":\"1017\",\"type\":\"BasicTicker\"},{\"attributes\":{\"dimension\":1,\"ticker\":{\"id\":\"1017\",\"type\":\"BasicTicker\"}},\"id\":\"1020\",\"type\":\"Grid\"},{\"attributes\":{},\"id\":\"1050\",\"type\":\"Selection\"},{\"attributes\":{},\"id\":\"1049\",\"type\":\"UnionRenderers\"},{\"attributes\":{},\"id\":\"1047\",\"type\":\"UnionRenderers\"},{\"attributes\":{\"callback\":null,\"data\":{\"x\":{\"__ndarray__\":\"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\",\"dtype\":\"int32\",\"shape\":[12801]},\"y\":{\"__ndarray__\":\"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\",\"dtype\":\"float64\",\"shape\":[12801]}},\"selected\":{\"id\":\"1048\",\"type\":\"Selection\"},\"selection_policy\":{\"id\":\"1047\",\"type\":\"UnionRenderers\"}},\"id\":\"1030\",\"type\":\"ColumnDataSource\"},{\"attributes\":{\"callback\":null},\"id\":\"1003\",\"type\":\"DataRange1d\"},{\"attributes\":{},\"id\":\"1048\",\"type\":\"Selection\"},{\"attributes\":{\"data_source\":{\"id\":\"1035\",\"type\":\"ColumnDataSource\"},\"glyph\":{\"id\":\"1036\",\"type\":\"Scatter\"},\"hover_glyph\":null,\"muted_glyph\":null,\"nonselection_glyph\":{\"id\":\"1037\",\"type\":\"Scatter\"},\"selection_glyph\":null,\"view\":{\"id\":\"1039\",\"type\":\"CDSView\"}},\"id\":\"1038\",\"type\":\"GlyphRenderer\"},{\"attributes\":{\"dimensions\":\"width\"},\"id\":\"1021\",\"type\":\"WheelZoomTool\"},{\"attributes\":{\"formatter\":{\"id\":\"1045\",\"type\":\"BasicTickFormatter\"},\"ticker\":{\"id\":\"1012\",\"type\":\"BasicTicker\"}},\"id\":\"1011\",\"type\":\"LinearAxis\"},{\"attributes\":{\"bottom_units\":\"screen\",\"fill_alpha\":{\"value\":0.5},\"fill_color\":{\"value\":\"lightgrey\"},\"left_units\":\"screen\",\"level\":\"overlay\",\"line_alpha\":{\"value\":1.0},\"line_color\":{\"value\":\"black\"},\"line_dash\":[4,4],\"line_width\":{\"value\":2},\"render_mode\":\"css\",\"right_units\":\"screen\",\"top_units\":\"screen\"},\"id\":\"1046\",\"type\":\"BoxAnnotation\"},{\"attributes\":{\"line_alpha\":0.1,\"line_color\":\"#1f77b4\",\"line_width\":2,\"x\":{\"field\":\"x\"},\"y\":{\"field\":\"y\"}},\"id\":\"1032\",\"type\":\"Line\"},{\"attributes\":{},\"id\":\"1007\",\"type\":\"LinearScale\"},{\"attributes\":{},\"id\":\"1009\",\"type\":\"LinearScale\"},{\"attributes\":{\"source\":{\"id\":\"1030\",\"type\":\"ColumnDataSource\"}},\"id\":\"1034\",\"type\":\"CDSView\"},{\"attributes\":{\"ticker\":{\"id\":\"1012\",\"type\":\"BasicTicker\"}},\"id\":\"1015\",\"type\":\"Grid\"},{\"attributes\":{\"callback\":null,\"data\":{\"x\":[712,931,1445,1606,2051,2634,2854,3394,3771,3959,4153,4265,4598,4688,4898,4972,5041,5453,5651,5904,6277,6872,7497,7904,9004,9305,9624,9851,10187,10426,11200,11393,11614,11893,12032,12351,12673],\"y\":{\"__ndarray__\":\"IWQubNRK6T/otVwd8ysRQB/jYqWpkug/Dwuct77XGEB2kp31QEnnP7lBgP/5UB5A/ub9tc2M8D+AgRSnh5cZQBA9UOgvwvM/5ExgXwZpF0Bew4bzIWIFQLD51tcwJxpA82tQzeyCHUB85No1OXUXQDYGkSoMmi1A0f6/nNcEKUCl/+H21mosQKKPYmnCX/w/o9JJNrOZFEA6bDaQPnYGQH1fn3T2yeE/JBSHH9v1IUDSJ4f/36AMQOk96k7iP/s/UEGb89QAyz8ReW5Xui4AQB52p5Jq/wtAPwqgd/B/4z8ougKXs+cGQDW++sEly+U/RlOK3ziB/z+FhzD7eXXgP+MN5gJffhtA5ijXrDEG9D/75+xvgPcHQFL3kvlFRN4/miyhyJBoIUA=\",\"dtype\":\"float64\",\"shape\":[37]}},\"selected\":{\"id\":\"1050\",\"type\":\"Selection\"},\"selection_policy\":{\"id\":\"1049\",\"type\":\"UnionRenderers\"}},\"id\":\"1035\",\"type\":\"ColumnDataSource\"},{\"attributes\":{\"fill_alpha\":{\"value\":0.1},\"fill_color\":{\"value\":\"#1f77b4\"},\"line_alpha\":{\"value\":0.1},\"line_color\":{\"value\":\"#1f77b4\"},\"size\":{\"units\":\"screen\",\"value\":15},\"x\":{\"field\":\"x\"},\"y\":{\"field\":\"y\"}},\"id\":\"1037\",\"type\":\"Scatter\"},{\"attributes\":{\"data_source\":{\"id\":\"1030\",\"type\":\"ColumnDataSource\"},\"glyph\":{\"id\":\"1031\",\"type\":\"Line\"},\"hover_glyph\":null,\"muted_glyph\":null,\"nonselection_glyph\":{\"id\":\"1032\",\"type\":\"Line\"},\"selection_glyph\":null,\"view\":{\"id\":\"1034\",\"type\":\"CDSView\"}},\"id\":\"1033\",\"type\":\"GlyphRenderer\"},{\"attributes\":{\"text\":\"\"},\"id\":\"1041\",\"type\":\"Title\"},{\"attributes\":{},\"id\":\"1012\",\"type\":\"BasicTicker\"},{\"attributes\":{\"callback\":null},\"id\":\"1005\",\"type\":\"DataRange1d\"}],\"root_ids\":[\"1002\"]},\"title\":\"Bokeh Application\",\"version\":\"1.4.0\"}};\n",
       "  var render_items = [{\"docid\":\"2dda0d65-0dd3-41a6-aa8d-9bd09673e79a\",\"roots\":{\"1002\":\"825703f0-fb54-4eaf-a10a-6f208e8122d3\"}}];\n",
       "  root.Bokeh.embed.embed_items_notebook(docs_json, render_items);\n",
       "\n",
       "  }\n",
       "  if (root.Bokeh !== undefined) {\n",
       "    embed_document(root);\n",
       "  } else {\n",
       "    var attempts = 0;\n",
       "    var timer = setInterval(function(root) {\n",
       "      if (root.Bokeh !== undefined) {\n",
       "        clearInterval(timer);\n",
       "        embed_document(root);\n",
       "      } else {\n",
       "        attempts++;\n",
       "        if (attempts > 100) {\n",
       "          clearInterval(timer);\n",
       "          console.log(\"Bokeh: ERROR: Unable to run BokehJS code because BokehJS library is missing\");\n",
       "        }\n",
       "      }\n",
       "    }, 10, root)\n",
       "  }\n",
       "})(window);"
      ],
      "application/vnd.bokehjs_exec.v0+json": ""
     },
     "metadata": {
      "application/vnd.bokehjs_exec.v0+json": {
       "id": "1002"
      }
     },
     "output_type": "display_data"
    }
   ],
   "source": [
    "ratios_plot(ratios, peaks)"
   ]
  },
  {
   "cell_type": "code",
   "execution_count": 6,
   "metadata": {
    "ExecuteTime": {
     "end_time": "2020-02-27T11:24:00.485808Z",
     "start_time": "2020-02-27T11:24:00.161999Z"
    },
    "scrolled": true
   },
   "outputs": [
    {
     "name": "stdout",
     "output_type": "stream",
     "text": [
      "Len of dataset: 12801\n"
     ]
    }
   ],
   "source": [
    "data = pd.read_csv('data/processed/tep_data.csv', index_col='Index')\n",
    "print(f'Len of dataset: {data.shape[0]}')"
   ]
  },
  {
   "cell_type": "code",
   "execution_count": 7,
   "metadata": {
    "ExecuteTime": {
     "end_time": "2020-02-27T11:24:01.214973Z",
     "start_time": "2020-02-27T11:24:01.201974Z"
    }
   },
   "outputs": [],
   "source": [
    "boundaries = [0, *list(peaks), ratios.shape[0]]\n",
    "\n",
    "X = []\n",
    "for left, right in zip(boundaries[:-1], boundaries[1:]):\n",
    "    X.append(data.iloc[left:right].values)"
   ]
  },
  {
   "cell_type": "code",
   "execution_count": 8,
   "metadata": {
    "ExecuteTime": {
     "end_time": "2020-02-27T11:24:03.219047Z",
     "start_time": "2020-02-27T11:24:02.434001Z"
    }
   },
   "outputs": [],
   "source": [
    "from sklearn.model_selection import train_test_split\n",
    "from tslearn.utils import to_time_series_dataset\n",
    "\n",
    "class Dataset:\n",
    "    def __init__(self, X_tr, X_val):\n",
    "        self.__dict__.update(locals())\n",
    "        self.tslearn = to_time_series_dataset(self.X_tr + self.X_val)\n",
    "        self.tr_labels = None\n",
    "        self.val_labels = None\n",
    "    \n",
    "    def get(self):\n",
    "        return self.X_tr, self.X_val\n",
    "    \n",
    "    def get_tslearn(self):\n",
    "        return self.tslearn[:len(self.X_tr)], self.tslearn[len(self.X_tr):]"
   ]
  },
  {
   "cell_type": "code",
   "execution_count": 9,
   "metadata": {
    "ExecuteTime": {
     "end_time": "2020-02-27T11:24:03.899066Z",
     "start_time": "2020-02-27T11:24:03.875001Z"
    }
   },
   "outputs": [],
   "source": [
    "X_tr, X_te = train_test_split(X, train_size=0.75)\n",
    "dataset = Dataset(X_tr, X_te)"
   ]
  },
  {
   "cell_type": "markdown",
   "metadata": {},
   "source": [
    "# Clustering"
   ]
  },
  {
   "cell_type": "code",
   "execution_count": 12,
   "metadata": {
    "ExecuteTime": {
     "end_time": "2020-02-20T10:50:24.671718Z",
     "start_time": "2020-02-20T10:50:24.660516Z"
    }
   },
   "outputs": [],
   "source": [
    "def cluster_plot(labels):\n",
    "    mx_row = np.max(np.bincount(labels))\n",
    "    mx_col = np.max(labels) + 1\n",
    "\n",
    "    plt.figure(figsize=(8 * mx_col, 6 * mx_row))\n",
    "    for col in range(mx_col):\n",
    "        idxs = np.where(labels == col)[0]\n",
    "        for i in range(len(idxs)):\n",
    "            plt.subplot(mx_row, mx_col, mx_col * i + col + 1)\n",
    "            if i == 0:\n",
    "                plt.title(str(col))\n",
    "            plt.plot(data.iloc[boundaries[idxs[i]]:boundaries[idxs[i] + 1]])\n",
    "            rng = list(range(boundaries[idxs[i]], boundaries[idxs[i] + 1]))\n",
    "            step = len(rng) // 6\n",
    "            plt.xticks(rng[::step])"
   ]
  },
  {
   "cell_type": "markdown",
   "metadata": {},
   "source": [
    "## GlobalAlignmentKernelKMeans"
   ]
  },
  {
   "cell_type": "code",
   "execution_count": 11,
   "metadata": {
    "Collapsed": "false",
    "ExecuteTime": {
     "end_time": "2020-02-20T10:06:46.164076Z",
     "start_time": "2020-02-20T10:06:36.938306Z"
    },
    "scrolled": true
   },
   "outputs": [
    {
     "name": "stderr",
     "output_type": "stream",
     "text": [
      "C:\\Anaconda3\\envs\\anom-det\\lib\\site-packages\\sklearn\\utils\\deprecation.py:144: FutureWarning:\n",
      "\n",
      "The sklearn.cluster.k_means_ module is  deprecated in version 0.22 and will be removed in version 0.24. The corresponding classes / functions should instead be imported from sklearn.cluster. Anything that cannot be imported from sklearn.cluster is now part of the private API.\n",
      "\n"
     ]
    }
   ],
   "source": [
    "from tslearn.clustering import GlobalAlignmentKernelKMeans\n",
    "gak_km = GlobalAlignmentKernelKMeans(n_clusters=4)\n",
    "labels_gak = gak_km.fit_predict(dataset.get_tslearn()[0])"
   ]
  },
  {
   "cell_type": "code",
   "execution_count": null,
   "metadata": {
    "ExecuteTime": {
     "end_time": "2020-02-19T15:26:27.435159Z",
     "start_time": "2020-02-19T15:26:20.725231Z"
    },
    "scrolled": true
   },
   "outputs": [],
   "source": [
    "cluster_plot(labels_gak)"
   ]
  },
  {
   "cell_type": "code",
   "execution_count": 15,
   "metadata": {
    "ExecuteTime": {
     "end_time": "2020-02-19T15:26:28.311582Z",
     "start_time": "2020-02-19T15:26:28.302991Z"
    }
   },
   "outputs": [
    {
     "data": {
      "text/plain": [
       "array([ 8, 10,  3,  7], dtype=int64)"
      ]
     },
     "execution_count": 15,
     "metadata": {},
     "output_type": "execute_result"
    }
   ],
   "source": [
    "np.bincount(labels_gak)"
   ]
  },
  {
   "cell_type": "markdown",
   "metadata": {},
   "source": [
    "## TSKMeans with dtw"
   ]
  },
  {
   "cell_type": "code",
   "execution_count": 10,
   "metadata": {
    "Collapsed": "false",
    "ExecuteTime": {
     "end_time": "2020-02-25T15:21:15.156412Z",
     "start_time": "2020-02-25T15:21:03.282158Z"
    }
   },
   "outputs": [
    {
     "name": "stderr",
     "output_type": "stream",
     "text": [
      "C:\\Anaconda3\\envs\\anom-det\\lib\\site-packages\\sklearn\\utils\\deprecation.py:144: FutureWarning:\n",
      "\n",
      "The sklearn.cluster.k_means_ module is  deprecated in version 0.22 and will be removed in version 0.24. The corresponding classes / functions should instead be imported from sklearn.cluster. Anything that cannot be imported from sklearn.cluster is now part of the private API.\n",
      "\n"
     ]
    },
    {
     "data": {
      "text/plain": [
       "0.08011042619146981"
      ]
     },
     "execution_count": 10,
     "metadata": {},
     "output_type": "execute_result"
    }
   ],
   "source": [
    "from tslearn.clustering import TimeSeriesKMeans, silhouette_score\n",
    "km = TimeSeriesKMeans(n_clusters=4, metric=\"dtw\")\n",
    "labels_ts_km = km.fit_predict(dataset.get_tslearn()[0])\n",
    "silhouette_score(dataset.get_tslearn()[0], labels_ts_km, metric=\"dtw\")"
   ]
  },
  {
   "cell_type": "code",
   "execution_count": null,
   "metadata": {
    "ExecuteTime": {
     "end_time": "2020-02-19T15:28:10.124649Z",
     "start_time": "2020-02-19T15:28:03.869256Z"
    }
   },
   "outputs": [],
   "source": [
    "cluster_plot(labels_ts_km)"
   ]
  },
  {
   "cell_type": "code",
   "execution_count": 20,
   "metadata": {
    "ExecuteTime": {
     "end_time": "2020-02-19T15:28:10.974771Z",
     "start_time": "2020-02-19T15:28:10.968551Z"
    }
   },
   "outputs": [
    {
     "data": {
      "text/plain": [
       "array([15, 13], dtype=int64)"
      ]
     },
     "execution_count": 20,
     "metadata": {},
     "output_type": "execute_result"
    }
   ],
   "source": [
    "np.bincount(labels_ts_km)"
   ]
  },
  {
   "cell_type": "markdown",
   "metadata": {
    "Collapsed": "false"
   },
   "source": [
    "# Compare"
   ]
  },
  {
   "cell_type": "markdown",
   "metadata": {},
   "source": [
    "## Clusterization"
   ]
  },
  {
   "cell_type": "code",
   "execution_count": 15,
   "metadata": {
    "ExecuteTime": {
     "end_time": "2020-02-25T15:40:54.655121Z",
     "start_time": "2020-02-25T15:40:54.646120Z"
    },
    "scrolled": true
   },
   "outputs": [],
   "source": [
    "from sklearn.model_selection import train_test_split\n",
    "import keras\n",
    "\n",
    "from src.models.anomalies import build_lstm, fit_generator\n",
    "from src.features.build_features import rolling_window\n",
    "\n",
    "\n",
    "prediction_len = 1\n",
    "window_len = 128\n",
    "batch_size = 32"
   ]
  },
  {
   "cell_type": "code",
   "execution_count": 16,
   "metadata": {
    "ExecuteTime": {
     "end_time": "2020-02-25T15:40:54.875141Z",
     "start_time": "2020-02-25T15:40:54.870139Z"
    }
   },
   "outputs": [],
   "source": [
    "def validation_generator(X, y, batch_size=64):\n",
    "    assert len(X) == len(y)\n",
    "    while True:\n",
    "        for i in range(0, len(X), batch_size):\n",
    "            yield np.array(X[i:i+batch_size]), np.array(y[i:i+batch_size])"
   ]
  },
  {
   "cell_type": "code",
   "execution_count": 17,
   "metadata": {
    "ExecuteTime": {
     "end_time": "2020-02-25T15:40:55.087141Z",
     "start_time": "2020-02-25T15:40:55.081120Z"
    }
   },
   "outputs": [],
   "source": [
    "class Clusterization:\n",
    "    \"\"\"\n",
    "    Clusterization followed by classifier (Direct prediction clusterization is not working)\n",
    "    \"\"\"\n",
    "    def __init__(self, cluster_model, classifier_model):\n",
    "        self.cluster_model = cluster_model\n",
    "        self.classifier_model = classifier_model\n",
    "        \n",
    "    def fit(self, X):\n",
    "        self.train_labels = self.cluster_model.fit_predict(X)\n",
    "        self.classifier_model.fit(X, self.train_labels)\n",
    "        \n",
    "    def predict(self, X):\n",
    "        return self.classifier_model.predict(X)\n",
    "        \n",
    "    def fit_predict(self, X):\n",
    "        self.fit(X)\n",
    "        return self.predict(X)"
   ]
  },
  {
   "cell_type": "code",
   "execution_count": 18,
   "metadata": {
    "ExecuteTime": {
     "end_time": "2020-02-25T15:40:55.819672Z",
     "start_time": "2020-02-25T15:40:55.798651Z"
    },
    "code_folding": [
     21,
     41
    ]
   },
   "outputs": [],
   "source": [
    "from datetime import datetime\n",
    "from copy import deepcopy\n",
    "import os\n",
    "\n",
    "\n",
    "class LSTMPerCluster:\n",
    "    \"\"\"\n",
    "    Accepts variable length X\n",
    "    \"\"\"\n",
    "    def __init__(self,\n",
    "                 clusterization_model,\n",
    "                 lstm_model_fn,\n",
    "                 window_len,\n",
    "                 name,\n",
    "                 prediction_len,\n",
    "                 logs_dir='logs',\n",
    "                 models_dir='models'):\n",
    "        self.__dict__.update(locals())\n",
    "        self.models = []\n",
    "        self.creation_time = datetime.now().strftime('%Y-%m-%d-%H-%M')\n",
    "\n",
    "    def _rolling_windows_from_cluster(self, X_cluster):\n",
    "        \"\"\"\n",
    "        Returns shuffled rolling windows from cluster samples\n",
    "        \"\"\"\n",
    "        X_samples, y_samples = [], []\n",
    "        prediction_len = self.prediction_len\n",
    "        window_len = self.window_len\n",
    "\n",
    "        for sample in X_cluster:\n",
    "            X_samples.extend(\n",
    "                rolling_window(sample[:-prediction_len], window_len))\n",
    "            y_samples.extend(rolling_window(sample, prediction_len,\n",
    "                                            window_len))\n",
    "\n",
    "#         idxs = list(range(len(X_samples)))\n",
    "#         np.random.shuffle(idxs)\n",
    "#         X_samples = np.take(X_samples, idxs, axis=0)\n",
    "#         y_samples = np.take(y_samples, idxs, axis=0)\n",
    "        return np.array(X_samples), np.array(y_samples)\n",
    "\n",
    "    def _cluster_rolling_windows(self, data, labels, label):\n",
    "        X_cluster = np.take(data, np.nonzero(labels == label)[0], axis=0)\n",
    "\n",
    "        return self._rolling_windows_from_cluster(X_cluster)\n",
    "\n",
    "    def _add_tb_and_checkpoint_callbacks(self, params, cluster_n):\n",
    "        params['callbacks'] = params.get('callbacks', [])\n",
    "\n",
    "        directory = '/' + self.name + '_clusters_' + self.creation_time\n",
    "        suffix = directory + '/' + str(cluster_n)\n",
    "\n",
    "        params['callbacks'].append(\n",
    "            keras.callbacks.TensorBoard(log_dir=self.logs_dir + suffix,\n",
    "                                        histogram_freq=1,\n",
    "                                        write_grads=True,\n",
    "                                        update_freq='epoch'))\n",
    "\n",
    "        if not os.path.exists(self.models_dir):\n",
    "            os.mkdir(self.models_dir)\n",
    "\n",
    "        if not os.path.exists(self.models_dir + directory):\n",
    "            os.mkdir(self.models_dir + directory)\n",
    "\n",
    "        params['callbacks'].append(\n",
    "            keras.callbacks.ModelCheckpoint(filepath=self.models_dir + suffix +\n",
    "                                            '.h5',\n",
    "                                            save_best_only=True))\n",
    "\n",
    "    def fit(self, dataset, lstm_fit_params, batch_size=64):\n",
    "        \"\"\"\n",
    "        Accepts (X, y) pairs of different length\n",
    "        \"\"\"\n",
    "        tr_labels = self.clusterization_model.fit_predict(\n",
    "            dataset.get_tslearn()[0])\n",
    "        val_labels = self.clusterization_model.predict(\n",
    "            dataset.get_tslearn()[1])\n",
    "\n",
    "        dataset.tr_labels = tr_labels\n",
    "        dataset.val_labels = val_labels\n",
    "\n",
    "        print(np.bincount(tr_labels))\n",
    "        print(np.bincount(val_labels))\n",
    "\n",
    "        for cluster in np.unique(tr_labels):\n",
    "            X_tr_samples, y_tr_samples = self._cluster_rolling_windows(\n",
    "                dataset.get()[0], tr_labels, cluster)\n",
    "\n",
    "            if np.nonzero(val_labels == cluster)[0].shape[0] == 0:\n",
    "                validation_data = None\n",
    "                validation_steps = None\n",
    "            else:\n",
    "                X_val_samples, y_val_samples = self._cluster_rolling_windows(\n",
    "                    dataset.get()[1], val_labels, cluster)\n",
    "\n",
    "                #                 validation_data = validation_generator(X_val_samples,\n",
    "                #                                                        y_val_samples,\n",
    "                #                                                        batch_size)\n",
    "                #                 validation_steps = (len(X_val_samples) + batch_size -\n",
    "                #                                     1) // batch_size\n",
    "                validation_data = (X_val_samples, y_val_samples)\n",
    "                validation_steps = None\n",
    "            \n",
    "            model = self.lstm_model_fn()\n",
    "            lstm_params_cpy = deepcopy(lstm_fit_params)\n",
    "            self._add_tb_and_checkpoint_callbacks(lstm_params_cpy, cluster)\n",
    "\n",
    "            model.fit_generator(\n",
    "                generator=fit_generator(X_tr_samples, y_tr_samples,\n",
    "                                        batch_size),\n",
    "                steps_per_epoch=len(X_tr_samples) // batch_size,\n",
    "                validation_data=validation_data,\n",
    "                validation_steps=validation_steps,\n",
    "                **lstm_params_cpy)\n",
    "\n",
    "            self.models.append(model)\n",
    "            keras.backend.clear_session()"
   ]
  },
  {
   "cell_type": "code",
   "execution_count": 30,
   "metadata": {
    "ExecuteTime": {
     "end_time": "2020-02-25T15:50:13.120812Z",
     "start_time": "2020-02-25T15:50:13.111812Z"
    },
    "code_folding": []
   },
   "outputs": [],
   "source": [
    "from keras import Sequential\n",
    "from keras.layers import LSTM, Dropout, Dense, TimeDistributed, Bidirectional, Reshape\n",
    "from keras.regularizers import l2\n",
    "\n",
    "\n",
    "def lstm_model(input_length,\n",
    "               input_shape,\n",
    "               prediction_len,\n",
    "               lstm_layers_size,\n",
    "               optimizer,\n",
    "               reg_strength=0.01,\n",
    "               dropout_coeff=0.1,\n",
    "               **compile_attrs):\n",
    "    \"\"\"\n",
    "    Builds lstm model with hidden layers of size `layers_size`.\n",
    "    Returns values with shape (input_length, input_shape).\n",
    "    Loss by default is `mae` and added to compile_attrs\n",
    "    \"\"\"\n",
    "    model = Sequential()\n",
    "\n",
    "    model.add(LSTM(lstm_layers_size[0],\n",
    "                           return_sequences=True if len(lstm_layers_size) > 1 else False,\n",
    "                           kernel_regularizer=l2(reg_strength),\n",
    "                   activation='softsign',\n",
    "                   input_shape=(input_length, input_shape)))\n",
    "\n",
    "    for i, size in enumerate(lstm_layers_size[1:]):\n",
    "        if 0 < dropout_coeff < 1:\n",
    "            model.add(Dropout(dropout_coeff))\n",
    "\n",
    "        model.add(\n",
    "                LSTM(\n",
    "                    size,\n",
    "                    return_sequences=False if i == len(lstm_layers_size) - 2 else True,\n",
    "                    kernel_regularizer=l2(reg_strength),\n",
    "                    activation='softsign',\n",
    "                ))\n",
    "    \n",
    "    model.add(Dense(prediction_len * input_shape, kernel_regularizer=l2(reg_strength)))\n",
    "    model.add(Reshape((prediction_len, input_shape)))\n",
    "\n",
    "    compile_attrs['optimizer'] = optimizer()\n",
    "    compile_attrs['loss'] = compile_attrs.get('loss', 'mae')\n",
    "    model.compile(**compile_attrs)\n",
    "\n",
    "    return model"
   ]
  },
  {
   "cell_type": "code",
   "execution_count": 20,
   "metadata": {
    "ExecuteTime": {
     "end_time": "2020-02-25T15:40:57.330639Z",
     "start_time": "2020-02-25T15:40:57.326639Z"
    }
   },
   "outputs": [],
   "source": [
    "# from tslearn.svm import TimeSeriesSVC\n",
    "# from tslearn.utils import to\n",
    "# clf = TimeSeriesSVC(C=1.0, kernel=\"gak\")\n",
    "# clf.fit(X_tr_dataset.copy(), labels_gak)\n",
    "\n",
    "# print(np.bincount(clf.predict(X_te_dataset.copy())))"
   ]
  },
  {
   "cell_type": "code",
   "execution_count": 27,
   "metadata": {
    "ExecuteTime": {
     "end_time": "2020-02-25T15:50:02.846698Z",
     "start_time": "2020-02-25T15:50:02.840724Z"
    }
   },
   "outputs": [],
   "source": [
    "config = dict(\n",
    "    input_length=window_len,\n",
    "    input_shape=data.shape[1],\n",
    "    prediction_len=prediction_len,\n",
    "    lstm_layers_size=[41],\n",
    "    loss='mse',\n",
    "    optimizer=lambda: keras.optimizers.Adam(lr=0.01),\n",
    "    reg_strength=0.05,\n",
    ")\n",
    "\n",
    "fit_params = dict(\n",
    "    epochs=20,\n",
    "    verbose=1,\n",
    "    callbacks=[\n",
    "        keras.callbacks.ReduceLROnPlateau(patience=3, min_delta=0.005, factor=0.5),\n",
    "        keras.callbacks.EarlyStopping(min_delta=0.01, patience=9),\n",
    "    ]\n",
    ")"
   ]
  },
  {
   "cell_type": "code",
   "execution_count": 33,
   "metadata": {
    "ExecuteTime": {
     "end_time": "2020-02-25T15:50:38.397845Z",
     "start_time": "2020-02-25T15:50:38.390868Z"
    }
   },
   "outputs": [],
   "source": [
    "from tslearn.neighbors import KNeighborsTimeSeriesClassifier\n",
    "from tslearn.clustering import GlobalAlignmentKernelKMeans\n",
    "\n",
    "np.random.seed(42)\n",
    "\n",
    "cl_model_1 = Clusterization(\n",
    "    GlobalAlignmentKernelKMeans(n_clusters=4, max_iter=100, n_jobs=2),\n",
    "    KNeighborsTimeSeriesClassifier(n_neighbors=3, n_jobs=2)\n",
    ")\n",
    "\n",
    "model = LSTMPerCluster(cl_model_1, \n",
    "                       lambda: lstm_model(**config), \n",
    "                       window_len, \n",
    "                       'gak-knn-reduced-softsign',\n",
    "                       prediction_len=prediction_len)"
   ]
  },
  {
   "cell_type": "code",
   "execution_count": 34,
   "metadata": {
    "ExecuteTime": {
     "end_time": "2020-02-25T15:57:41.797939Z",
     "start_time": "2020-02-25T15:50:39.530106Z"
    },
    "scrolled": false
   },
   "outputs": [
    {
     "name": "stdout",
     "output_type": "stream",
     "text": [
      "[8 9 4 7]\n",
      "[3 3 1 3]\n",
      "Epoch 1/20\n",
      "31/31 [==============================] - 4s 121ms/step - loss: 1.9485 - val_loss: 0.9912\n",
      "Epoch 2/20\n",
      "31/31 [==============================] - 3s 98ms/step - loss: 0.7335 - val_loss: 1.3997\n",
      "Epoch 3/20\n",
      "31/31 [==============================] - 3s 102ms/step - loss: 0.8816 - val_loss: 1.0104\n",
      "Epoch 4/20\n",
      "31/31 [==============================] - 3s 98ms/step - loss: 0.6959 - val_loss: 0.8589\n",
      "Epoch 5/20\n",
      "31/31 [==============================] - 3s 96ms/step - loss: 0.6516 - val_loss: 0.8778\n",
      "Epoch 6/20\n",
      "31/31 [==============================] - 3s 96ms/step - loss: 0.6090 - val_loss: 0.8642\n",
      "Epoch 7/20\n",
      "31/31 [==============================] - 3s 95ms/step - loss: 0.8189 - val_loss: 1.0802\n",
      "Epoch 8/20\n",
      "31/31 [==============================] - 3s 96ms/step - loss: 0.7214 - val_loss: 0.9874\n",
      "Epoch 9/20\n",
      "31/31 [==============================] - 3s 96ms/step - loss: 0.6480 - val_loss: 0.9080\n",
      "Epoch 10/20\n",
      "31/31 [==============================] - 3s 99ms/step - loss: 0.6199 - val_loss: 0.8786\n",
      "Epoch 11/20\n",
      "31/31 [==============================] - 3s 97ms/step - loss: 0.6224 - val_loss: 0.9000\n",
      "Epoch 12/20\n",
      "31/31 [==============================] - 3s 96ms/step - loss: 0.6075 - val_loss: 0.8729\n",
      "Epoch 13/20\n",
      "31/31 [==============================] - 3s 96ms/step - loss: 0.5872 - val_loss: 0.9169\n",
      "Epoch 1/20\n",
      "79/79 [==============================] - 8s 99ms/step - loss: 1.2149 - val_loss: 0.8511\n",
      "Epoch 2/20\n",
      "79/79 [==============================] - 7s 92ms/step - loss: 0.7076 - val_loss: 0.9268\n",
      "Epoch 3/20\n",
      "79/79 [==============================] - 7s 92ms/step - loss: 0.6745 - val_loss: 0.7852\n",
      "Epoch 4/20\n",
      "79/79 [==============================] - 7s 93ms/step - loss: 0.6492 - val_loss: 0.8161\n",
      "Epoch 5/20\n",
      "79/79 [==============================] - 7s 91ms/step - loss: 0.6330 - val_loss: 0.8141\n",
      "Epoch 6/20\n",
      "79/79 [==============================] - 7s 91ms/step - loss: 0.6269 - val_loss: 0.8809\n",
      "Epoch 7/20\n",
      "79/79 [==============================] - 7s 91ms/step - loss: 0.6733 - val_loss: 0.8000\n",
      "Epoch 8/20\n",
      "79/79 [==============================] - 7s 92ms/step - loss: 0.5867 - val_loss: 0.7682\n",
      "Epoch 9/20\n",
      "79/79 [==============================] - 7s 91ms/step - loss: 0.6434 - val_loss: 0.9175\n",
      "Epoch 10/20\n",
      "79/79 [==============================] - 7s 91ms/step - loss: 0.6081 - val_loss: 0.7857\n",
      "Epoch 11/20\n",
      "79/79 [==============================] - 7s 93ms/step - loss: 0.5860 - val_loss: 0.8387\n",
      "Epoch 12/20\n",
      "79/79 [==============================] - 8s 95ms/step - loss: 0.5662 - val_loss: 0.7693\n",
      "Epoch 13/20\n",
      "79/79 [==============================] - 7s 93ms/step - loss: 0.5693 - val_loss: 0.7655\n",
      "Epoch 14/20\n",
      "79/79 [==============================] - 8s 95ms/step - loss: 0.5466 - val_loss: 0.7675\n",
      "Epoch 15/20\n",
      "79/79 [==============================] - 8s 95ms/step - loss: 0.5502 - val_loss: 0.7496\n",
      "Epoch 16/20\n",
      "79/79 [==============================] - 7s 92ms/step - loss: 0.5398 - val_loss: 0.7486\n",
      "Epoch 17/20\n",
      "79/79 [==============================] - 7s 93ms/step - loss: 0.5454 - val_loss: 0.7492\n",
      "Epoch 18/20\n",
      "79/79 [==============================] - 7s 92ms/step - loss: 0.5420 - val_loss: 0.9524\n",
      "Epoch 19/20\n",
      "79/79 [==============================] - 7s 90ms/step - loss: 0.6574 - val_loss: 0.8508\n",
      "Epoch 20/20\n",
      "79/79 [==============================] - 7s 90ms/step - loss: 0.6148 - val_loss: 0.8060\n",
      "Epoch 1/20\n",
      "29/29 [==============================] - 4s 124ms/step - loss: 1.8198 - val_loss: 0.7019\n",
      "Epoch 2/20\n",
      "29/29 [==============================] - 3s 99ms/step - loss: 0.5725 - val_loss: 0.6009\n",
      "Epoch 3/20\n",
      "29/29 [==============================] - 3s 99ms/step - loss: 0.5357 - val_loss: 0.6258\n",
      "Epoch 4/20\n",
      "29/29 [==============================] - 3s 102ms/step - loss: 0.6252 - val_loss: 0.7731\n",
      "Epoch 5/20\n",
      "29/29 [==============================] - 3s 101ms/step - loss: 0.6392 - val_loss: 0.7675\n",
      "Epoch 6/20\n",
      "29/29 [==============================] - 3s 103ms/step - loss: 0.5903 - val_loss: 0.6923\n",
      "Epoch 7/20\n",
      "29/29 [==============================] - 3s 106ms/step - loss: 0.5293 - val_loss: 0.7051\n",
      "Epoch 8/20\n",
      "29/29 [==============================] - 3s 104ms/step - loss: 0.5090 - val_loss: 0.6691\n",
      "Epoch 9/20\n",
      "29/29 [==============================] - 3s 100ms/step - loss: 0.4808 - val_loss: 0.6599\n",
      "Epoch 10/20\n",
      "29/29 [==============================] - 3s 106ms/step - loss: 0.4683 - val_loss: 0.6686\n",
      "Epoch 11/20\n",
      "29/29 [==============================] - 3s 108ms/step - loss: 0.4723 - val_loss: 0.6846\n",
      "Epoch 1/20\n",
      "28/28 [==============================] - 3s 113ms/step - loss: 1.8521 - val_loss: 0.7597\n",
      "Epoch 2/20\n",
      "28/28 [==============================] - 3s 93ms/step - loss: 0.5557 - val_loss: 0.6606\n",
      "Epoch 3/20\n",
      "28/28 [==============================] - 3s 94ms/step - loss: 0.5172 - val_loss: 0.6291\n",
      "Epoch 4/20\n",
      "28/28 [==============================] - 3s 97ms/step - loss: 0.4647 - val_loss: 0.5950\n",
      "Epoch 5/20\n",
      "28/28 [==============================] - 3s 96ms/step - loss: 0.5256 - val_loss: 0.7248\n",
      "Epoch 6/20\n",
      "28/28 [==============================] - 3s 95ms/step - loss: 0.5029 - val_loss: 0.6227\n",
      "Epoch 7/20\n",
      "28/28 [==============================] - 3s 98ms/step - loss: 0.4555 - val_loss: 0.6214\n",
      "Epoch 8/20\n",
      "28/28 [==============================] - 3s 95ms/step - loss: 0.4303 - val_loss: 0.5979\n",
      "Epoch 9/20\n",
      "28/28 [==============================] - 3s 96ms/step - loss: 0.4210 - val_loss: 0.6029\n",
      "Epoch 10/20\n",
      "28/28 [==============================] - 3s 96ms/step - loss: 0.5256 - val_loss: 0.6621\n",
      "Epoch 11/20\n",
      "28/28 [==============================] - 3s 97ms/step - loss: 0.5342 - val_loss: 0.6162\n",
      "Epoch 12/20\n",
      "28/28 [==============================] - 3s 94ms/step - loss: 0.5001 - val_loss: 0.6028\n",
      "Epoch 13/20\n",
      "28/28 [==============================] - 3s 95ms/step - loss: 0.4870 - val_loss: 0.5951\n"
     ]
    }
   ],
   "source": [
    "model.fit(dataset, fit_params, batch_size=32)"
   ]
  },
  {
   "cell_type": "code",
   "execution_count": 1,
   "metadata": {
    "ExecuteTime": {
     "end_time": "2020-02-20T10:49:54.884900Z",
     "start_time": "2020-02-20T10:49:54.871844Z"
    },
    "scrolled": true
   },
   "outputs": [],
   "source": [
    "# evaluate_clusterization(\n",
    "#     Clusterization(TimeSeriesKMeans(n_clusters=4, metric=\"dtw\", max_iter=75, n_jobs=2),\n",
    "#         KNeighborsTimeSeriesClassifier(n_neighbors=5, n_jobs=2)), \n",
    "#     'ts_km-knn')"
   ]
  },
  {
   "cell_type": "code",
   "execution_count": 18,
   "metadata": {
    "ExecuteTime": {
     "end_time": "2020-02-19T13:54:57.818755Z",
     "start_time": "2020-02-19T13:54:57.810646Z"
    },
    "scrolled": true
   },
   "outputs": [],
   "source": [
    "# evaluate_clusterization(km, 'ts_km')"
   ]
  },
  {
   "cell_type": "markdown",
   "metadata": {},
   "source": [
    "## Without clusterization"
   ]
  },
  {
   "cell_type": "code",
   "execution_count": 39,
   "metadata": {
    "ExecuteTime": {
     "end_time": "2020-02-20T12:03:34.272959Z",
     "start_time": "2020-02-20T12:03:34.268323Z"
    }
   },
   "outputs": [],
   "source": [
    "class OneCluster:\n",
    "    def fit_predict(self, X):\n",
    "        return np.zeros(X.shape[0], dtype=int)\n",
    "    \n",
    "    def predict(self, X):\n",
    "        return self.fit_predict(X)"
   ]
  },
  {
   "cell_type": "code",
   "execution_count": 40,
   "metadata": {
    "ExecuteTime": {
     "end_time": "2020-02-20T12:03:50.224320Z",
     "start_time": "2020-02-20T12:03:50.209942Z"
    },
    "scrolled": true
   },
   "outputs": [],
   "source": [
    "one_lstm_model = LSTMPerCluster(OneCluster(), lambda: lstm_model(**config), window_len, 'pure-lstm')"
   ]
  },
  {
   "cell_type": "code",
   "execution_count": 41,
   "metadata": {
    "ExecuteTime": {
     "end_time": "2020-02-20T12:09:51.681146Z",
     "start_time": "2020-02-20T12:04:11.241933Z"
    },
    "collapsed": true
   },
   "outputs": [
    {
     "name": "stdout",
     "output_type": "stream",
     "text": [
      "[28]\n",
      "[10]\n",
      "Epoch 1/40\n",
      "110/110 [==============================] - 9s 84ms/step - loss: 1.8261 - val_loss: 1.3723\n",
      "Epoch 2/40\n",
      "110/110 [==============================] - 8s 74ms/step - loss: 1.5316 - val_loss: 1.2171\n",
      "Epoch 3/40\n",
      "110/110 [==============================] - 8s 73ms/step - loss: 1.3812 - val_loss: 1.1136\n",
      "Epoch 4/40\n",
      "110/110 [==============================] - 8s 73ms/step - loss: 1.2490 - val_loss: 1.0357\n",
      "Epoch 5/40\n",
      "110/110 [==============================] - 8s 72ms/step - loss: 1.1642 - val_loss: 0.9733\n",
      "Epoch 6/40\n",
      "110/110 [==============================] - 8s 74ms/step - loss: 1.1040 - val_loss: 0.9230\n",
      "Epoch 7/40\n",
      "110/110 [==============================] - 8s 70ms/step - loss: 1.0440 - val_loss: 0.8793\n",
      "Epoch 8/40\n",
      "110/110 [==============================] - 8s 72ms/step - loss: 0.9878 - val_loss: 0.8419\n",
      "Epoch 9/40\n",
      "110/110 [==============================] - 8s 74ms/step - loss: 0.9451 - val_loss: 0.8093\n",
      "Epoch 10/40\n",
      "110/110 [==============================] - 8s 74ms/step - loss: 0.9103 - val_loss: 0.7810\n",
      "Epoch 11/40\n",
      "110/110 [==============================] - 8s 69ms/step - loss: 0.8823 - val_loss: 0.7558\n",
      "Epoch 12/40\n",
      "110/110 [==============================] - 8s 74ms/step - loss: 0.8510 - val_loss: 0.7335\n",
      "Epoch 13/40\n",
      "110/110 [==============================] - 8s 69ms/step - loss: 0.8255 - val_loss: 0.7136\n",
      "Epoch 14/40\n",
      "110/110 [==============================] - 8s 70ms/step - loss: 0.8034 - val_loss: 0.6958\n",
      "Epoch 15/40\n",
      "110/110 [==============================] - 8s 69ms/step - loss: 0.7750 - val_loss: 0.6794\n",
      "Epoch 16/40\n",
      "110/110 [==============================] - 8s 73ms/step - loss: 0.7571 - val_loss: 0.6640\n",
      "Epoch 17/40\n",
      "110/110 [==============================] - 8s 70ms/step - loss: 0.7374 - val_loss: 0.6507\n",
      "Epoch 18/40\n",
      "110/110 [==============================] - 8s 72ms/step - loss: 0.7266 - val_loss: 0.6390\n",
      "Epoch 19/40\n",
      "110/110 [==============================] - 8s 72ms/step - loss: 0.7105 - val_loss: 0.6281\n",
      "Epoch 20/40\n",
      "110/110 [==============================] - 8s 72ms/step - loss: 0.7010 - val_loss: 0.6187\n",
      "Epoch 21/40\n",
      "110/110 [==============================] - 8s 72ms/step - loss: 0.6940 - val_loss: 0.6106\n",
      "Epoch 22/40\n",
      "110/110 [==============================] - 8s 74ms/step - loss: 0.6747 - val_loss: 0.6020\n",
      "Epoch 23/40\n",
      "110/110 [==============================] - 8s 72ms/step - loss: 0.6705 - val_loss: 0.5948\n",
      "Epoch 24/40\n",
      "110/110 [==============================] - 8s 73ms/step - loss: 0.6615 - val_loss: 0.5886\n",
      "Epoch 25/40\n",
      "110/110 [==============================] - 8s 72ms/step - loss: 0.6537 - val_loss: 0.5831\n",
      "Epoch 26/40\n",
      "110/110 [==============================] - 8s 71ms/step - loss: 0.6475 - val_loss: 0.5779\n",
      "Epoch 27/40\n",
      "110/110 [==============================] - 8s 71ms/step - loss: 0.6411 - val_loss: 0.5733\n",
      "Epoch 28/40\n",
      "110/110 [==============================] - 7s 68ms/step - loss: 0.6317 - val_loss: 0.5690\n",
      "Epoch 29/40\n",
      "110/110 [==============================] - 7s 68ms/step - loss: 0.6277 - val_loss: 0.5652\n",
      "Epoch 30/40\n",
      "110/110 [==============================] - 7s 68ms/step - loss: 0.6273 - val_loss: 0.5625\n",
      "Epoch 31/40\n",
      "110/110 [==============================] - 8s 70ms/step - loss: 0.6192 - val_loss: 0.5596\n",
      "Epoch 32/40\n",
      "110/110 [==============================] - 8s 68ms/step - loss: 0.6164 - val_loss: 0.5569\n",
      "Epoch 33/40\n",
      "110/110 [==============================] - 8s 70ms/step - loss: 0.6109 - val_loss: 0.5547\n",
      "Epoch 34/40\n",
      "110/110 [==============================] - 8s 72ms/step - loss: 0.6043 - val_loss: 0.5521\n",
      "Epoch 35/40\n",
      "110/110 [==============================] - 8s 74ms/step - loss: 0.6049 - val_loss: 0.5502\n",
      "Epoch 36/40\n",
      "110/110 [==============================] - 8s 72ms/step - loss: 0.5976 - val_loss: 0.5479\n",
      "Epoch 37/40\n",
      "110/110 [==============================] - 8s 73ms/step - loss: 0.5942 - val_loss: 0.5463\n",
      "Epoch 38/40\n",
      "110/110 [==============================] - 8s 70ms/step - loss: 0.5959 - val_loss: 0.5452\n",
      "Epoch 39/40\n",
      "110/110 [==============================] - 8s 73ms/step - loss: 0.5921 - val_loss: 0.5446\n",
      "Epoch 40/40\n",
      "110/110 [==============================] - 8s 73ms/step - loss: 0.5924 - val_loss: 0.5440\n"
     ]
    }
   ],
   "source": [
    "one_lstm_model.fit(dataset, fit_params)"
   ]
  },
  {
   "cell_type": "code",
   "execution_count": 43,
   "metadata": {
    "ExecuteTime": {
     "end_time": "2020-02-20T12:10:06.164073Z",
     "start_time": "2020-02-20T12:10:03.404790Z"
    }
   },
   "outputs": [],
   "source": [
    "X_te_labels = cl_model_1.predict(dataset.get_tslearn()[1])"
   ]
  },
  {
   "cell_type": "code",
   "execution_count": 44,
   "metadata": {
    "ExecuteTime": {
     "end_time": "2020-02-20T12:10:07.033985Z",
     "start_time": "2020-02-20T12:10:07.028984Z"
    }
   },
   "outputs": [],
   "source": [
    "pure_lstm = one_lstm_model.models[0]\n",
    "clusterization_lstms = model.models"
   ]
  },
  {
   "cell_type": "code",
   "execution_count": 47,
   "metadata": {
    "ExecuteTime": {
     "end_time": "2020-02-20T12:10:40.705880Z",
     "start_time": "2020-02-20T12:10:40.696966Z"
    }
   },
   "outputs": [],
   "source": [
    "# cl_model_1.cluster_model.to_hdf5('models/gak.h5')\n",
    "# cl_model_1.classifier_model.to_hdf5('models/classif-over-gak.h5')"
   ]
  },
  {
   "cell_type": "code",
   "execution_count": 48,
   "metadata": {
    "ExecuteTime": {
     "end_time": "2020-02-20T12:10:42.953460Z",
     "start_time": "2020-02-20T12:10:42.947893Z"
    }
   },
   "outputs": [],
   "source": [
    "X_plot = np.take(dataset.get()[1], [np.argmax(X_te_labels == i) for i in range(4)], axis=0)"
   ]
  },
  {
   "cell_type": "code",
   "execution_count": 49,
   "metadata": {
    "ExecuteTime": {
     "end_time": "2020-02-20T12:10:58.360915Z",
     "start_time": "2020-02-20T12:10:44.413307Z"
    }
   },
   "outputs": [
    {
     "data": {
      "application/vnd.jupyter.widget-view+json": {
       "model_id": "541858e5f0ae49d6bec0cd1efb86096f",
       "version_major": 2,
       "version_minor": 0
      },
      "text/plain": [
       "interactive(children=(IntSlider(value=20, description='component', max=40), Output()), _dom_classes=('widget-i…"
      ]
     },
     "metadata": {},
     "output_type": "display_data"
    }
   ],
   "source": [
    "\n",
    "from __future__ import print_function\n",
    "from ipywidgets import interact, interactive, fixed, interact_manual\n",
    "import ipywidgets as widgets\n",
    "\n",
    "@interact(component=(0, 40))\n",
    "def plot(component):\n",
    "    plt.figure(figsize=(12, 12))\n",
    "    for i in range(X_plot.shape[0]):\n",
    "        sample = X_plot[i]\n",
    "        plt.subplot(2, 2, i+1)\n",
    "        cur_lstm = clusterization_lstms[i]\n",
    "        \n",
    "        roll_wind_cl = sample[:window_len].copy()[None, ...]\n",
    "        roll_wind_full = sample[:window_len].copy()[None, ...]\n",
    "        \n",
    "        to_plot_cl = list(roll_wind_cl[0, :, component])\n",
    "        to_plot_full = list(roll_wind_full[0, :, component])\n",
    "        \n",
    "        steps = (sample.shape[0] - window_len) // prediction_len\n",
    "        for _ in range(steps):\n",
    "            roll_wind_cl = cur_lstm.predict(roll_wind_cl)\n",
    "            roll_wind_full = pure_lstm.predict(roll_wind_full)\n",
    "            \n",
    "            to_plot_cl.extend(roll_wind_cl[0, -prediction_len:, component])\n",
    "            to_plot_full.extend(roll_wind_full[0, -prediction_len:, component])\n",
    "        \n",
    "        plt.plot(sample[:, component], label='real')\n",
    "        plt.plot(to_plot_cl, label='cluster ' + str(i) + ' lstm')\n",
    "        plt.plot(to_plot_full, label='full lstm')\n",
    "        plt.legend()"
   ]
  },
  {
   "cell_type": "code",
   "execution_count": 51,
   "metadata": {
    "ExecuteTime": {
     "end_time": "2020-02-19T16:03:38.808407Z",
     "start_time": "2020-02-19T16:03:38.802229Z"
    }
   },
   "outputs": [],
   "source": [
    "# from sklearn.metrics import mean_squared_error\n",
    "# print(np.mean(((XY - ts_gak_lstm_prediction) ** 2).sum(axis=2).sum(axis=1)))"
   ]
  },
  {
   "cell_type": "code",
   "execution_count": 52,
   "metadata": {
    "ExecuteTime": {
     "end_time": "2020-02-19T16:03:39.711054Z",
     "start_time": "2020-02-19T16:03:39.701962Z"
    }
   },
   "outputs": [],
   "source": [
    "# print(np.mean(((XY - overall_lstm_prediction) ** 2).sum(axis=2).sum(axis=1)))"
   ]
  },
  {
   "cell_type": "code",
   "execution_count": null,
   "metadata": {},
   "outputs": [],
   "source": []
  }
 ],
 "metadata": {
  "kernelspec": {
   "display_name": "Python 3",
   "language": "python",
   "name": "python3"
  },
  "language_info": {
   "codemirror_mode": {
    "name": "ipython",
    "version": 3
   },
   "file_extension": ".py",
   "mimetype": "text/x-python",
   "name": "python",
   "nbconvert_exporter": "python",
   "pygments_lexer": "ipython3",
   "version": "3.7.6"
  },
  "toc": {
   "base_numbering": 1,
   "nav_menu": {},
   "number_sections": true,
   "sideBar": true,
   "skip_h1_title": false,
   "title_cell": "Table of Contents",
   "title_sidebar": "Contents",
   "toc_cell": false,
   "toc_position": {
    "height": "calc(100% - 180px)",
    "left": "10px",
    "top": "150px",
    "width": "384px"
   },
   "toc_section_display": true,
   "toc_window_display": true
  },
  "varInspector": {
   "cols": {
    "lenName": 16,
    "lenType": 16,
    "lenVar": 40
   },
   "kernels_config": {
    "python": {
     "delete_cmd_postfix": "",
     "delete_cmd_prefix": "del ",
     "library": "var_list.py",
     "varRefreshCmd": "print(var_dic_list())"
    },
    "r": {
     "delete_cmd_postfix": ") ",
     "delete_cmd_prefix": "rm(",
     "library": "var_list.r",
     "varRefreshCmd": "cat(var_dic_list()) "
    }
   },
   "types_to_exclude": [
    "module",
    "function",
    "builtin_function_or_method",
    "instance",
    "_Feature"
   ],
   "window_display": false
  },
  "widgets": {
   "application/vnd.jupyter.widget-state+json": {
    "state": {},
    "version_major": 2,
    "version_minor": 0
   }
  }
 },
 "nbformat": 4,
 "nbformat_minor": 4
}
