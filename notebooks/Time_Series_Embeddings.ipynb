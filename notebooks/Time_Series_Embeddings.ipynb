{
 "cells": [
  {
   "cell_type": "code",
   "execution_count": 1,
   "metadata": {
    "Collapsed": "false",
    "colab": {
     "base_uri": "https://localhost:8080/",
     "height": 164
    },
    "colab_type": "code",
    "id": "0HOse91yPbPl",
    "outputId": "dc9869f9-ea00-4163-bf70-4d2da958bd79"
   },
   "outputs": [
    {
     "name": "stdout",
     "output_type": "stream",
     "text": [
      "Cloning into 'anomaly-detection'...\n",
      "remote: Enumerating objects: 85, done.\u001b[K\n",
      "remote: Counting objects: 100% (85/85), done.\u001b[K\n",
      "remote: Compressing objects: 100% (56/56), done.\u001b[K\n",
      "remote: Total 494 (delta 50), reused 57 (delta 29), pack-reused 409\u001b[K\n",
      "Receiving objects: 100% (494/494), 59.66 MiB | 23.84 MiB/s, done.\n",
      "Resolving deltas: 100% (310/310), done.\n",
      "/content/anomaly-detection\n"
     ]
    }
   ],
   "source": [
    "# !pip install MulticoreTSNE\n",
    "# !git clone https://github.com/elch10/anomaly-detection.git\n",
    "# %cd anomaly-detection"
   ]
  },
  {
   "cell_type": "code",
   "execution_count": 2,
   "metadata": {
    "Collapsed": "false",
    "colab": {
     "base_uri": "https://localhost:8080/",
     "height": 83
    },
    "colab_type": "code",
    "id": "OkLMMNG-MOY0",
    "outputId": "ba91a712-b79c-4282-8bb3-82704c58906a"
   },
   "outputs": [
    {
     "name": "stderr",
     "output_type": "stream",
     "text": [
      "Using TensorFlow backend.\n"
     ]
    },
    {
     "data": {
      "text/html": [
       "<p style=\"color: red;\">\n",
       "The default version of TensorFlow in Colab will soon switch to TensorFlow 2.x.<br>\n",
       "We recommend you <a href=\"https://www.tensorflow.org/guide/migrate\" target=\"_blank\">upgrade</a> now \n",
       "or ensure your notebook will continue to use TensorFlow 1.x via the <code>%tensorflow_version 1.x</code> magic:\n",
       "<a href=\"https://colab.research.google.com/notebooks/tensorflow_version.ipynb\" target=\"_blank\">more info</a>.</p>\n"
      ],
      "text/plain": [
       "<IPython.core.display.HTML object>"
      ]
     },
     "metadata": {
      "tags": []
     },
     "output_type": "display_data"
    }
   ],
   "source": [
    "import numpy as np\n",
    "import pandas as pd\n",
    "import keras\n",
    "\n",
    "from src.features.build_features import rolling_window"
   ]
  },
  {
   "cell_type": "code",
   "execution_count": null,
   "metadata": {
    "Collapsed": "false",
    "colab": {},
    "colab_type": "code",
    "id": "JvI6fE9fM3Y8"
   },
   "outputs": [],
   "source": [
    "window_length = 64\n",
    "\n",
    "tep = pd.read_csv('../tep_data.csv', index_col='Index')\n",
    "prepared = rolling_window(tep, window_length)"
   ]
  },
  {
   "cell_type": "code",
   "execution_count": 6,
   "metadata": {
    "Collapsed": "false",
    "colab": {
     "base_uri": "https://localhost:8080/",
     "height": 184
    },
    "colab_type": "code",
    "id": "RZqkWhUNNEIy",
    "outputId": "d6ac846a-f008-4468-d9ea-8d3508d4cbf6"
   },
   "outputs": [
    {
     "name": "stdout",
     "output_type": "stream",
     "text": [
      "WARNING:tensorflow:From /usr/local/lib/python3.6/dist-packages/keras/backend/tensorflow_backend.py:66: The name tf.get_default_graph is deprecated. Please use tf.compat.v1.get_default_graph instead.\n",
      "\n",
      "WARNING:tensorflow:From /usr/local/lib/python3.6/dist-packages/keras/backend/tensorflow_backend.py:541: The name tf.placeholder is deprecated. Please use tf.compat.v1.placeholder instead.\n",
      "\n",
      "WARNING:tensorflow:From /usr/local/lib/python3.6/dist-packages/keras/backend/tensorflow_backend.py:4432: The name tf.random_uniform is deprecated. Please use tf.random.uniform instead.\n",
      "\n",
      "WARNING:tensorflow:From /usr/local/lib/python3.6/dist-packages/keras/optimizers.py:793: The name tf.train.Optimizer is deprecated. Please use tf.compat.v1.train.Optimizer instead.\n",
      "\n"
     ]
    }
   ],
   "source": [
    "M = 8\n",
    "\n",
    "model = keras.Sequential([\n",
    "  keras.layers.Conv1D(\n",
    "      input_shape=(window_length, tep.shape[1]),\n",
    "      filters=M,\n",
    "      kernel_size=window_length // 4 + 1,\n",
    "      strides=4,\n",
    "      activation='relu',\n",
    "  ), # output (batch, 12, M)\n",
    "  keras.layers.Reshape((-1, 1, M)), # output (batch, 12, 1, M)\n",
    "  keras.layers.Conv2DTranspose(\n",
    "      filters=tep.shape[1],\n",
    "      kernel_size=(20,1),\n",
    "      strides=(4, 1),\n",
    "      data_format=\"channels_last\"\n",
    "  ),\n",
    "  keras.layers.Reshape((-1, tep.shape[1]))\n",
    "])\n",
    "\n",
    "model.compile('adam', loss='mse')"
   ]
  },
  {
   "cell_type": "code",
   "execution_count": null,
   "metadata": {
    "Collapsed": "false",
    "colab": {},
    "colab_type": "code",
    "id": "XOc8zT3bqJKc"
   },
   "outputs": [],
   "source": [
    "def fit_generator(X, y, batch_size=64):\n",
    "    while True:\n",
    "        idxs = np.random.randint(len(X), size=batch_size)\n",
    "        yield np.take(X, idxs, axis=0), np.take(y, idxs, axis=0)\n",
    "\n",
    "def val_generator(X, y, batch_size=64):\n",
    "    while True:\n",
    "        for i in range(0, len(X), batch_size):\n",
    "            idxs = list(range(i, min(i+batch_size, len(X))))\n",
    "            yield np.take(X, idxs, axis=0), np.take(y, idxs, axis=0)"
   ]
  },
  {
   "cell_type": "code",
   "execution_count": null,
   "metadata": {
    "Collapsed": "false",
    "colab": {},
    "colab_type": "code",
    "id": "iuDSCpqV0wZg"
   },
   "outputs": [],
   "source": [
    "from sklearn.model_selection import train_test_split\n",
    "X_tr, X_te = train_test_split(prepared, train_size=0.7)"
   ]
  },
  {
   "cell_type": "code",
   "execution_count": 9,
   "metadata": {
    "Collapsed": "false",
    "colab": {
     "base_uri": "https://localhost:8080/",
     "height": 845
    },
    "colab_type": "code",
    "id": "QfzZKjTDlGJ3",
    "outputId": "d1dc4e4c-2632-42a5-d30d-86b6ba2aa170"
   },
   "outputs": [
    {
     "name": "stdout",
     "output_type": "stream",
     "text": [
      "WARNING:tensorflow:From /usr/local/lib/python3.6/dist-packages/keras/backend/tensorflow_backend.py:1033: The name tf.assign_add is deprecated. Please use tf.compat.v1.assign_add instead.\n",
      "\n",
      "WARNING:tensorflow:From /usr/local/lib/python3.6/dist-packages/keras/backend/tensorflow_backend.py:1020: The name tf.assign is deprecated. Please use tf.compat.v1.assign instead.\n",
      "\n",
      "WARNING:tensorflow:From /usr/local/lib/python3.6/dist-packages/keras/backend/tensorflow_backend.py:3005: The name tf.Session is deprecated. Please use tf.compat.v1.Session instead.\n",
      "\n",
      "Epoch 1/20\n",
      "WARNING:tensorflow:From /usr/local/lib/python3.6/dist-packages/keras/backend/tensorflow_backend.py:190: The name tf.get_default_session is deprecated. Please use tf.compat.v1.get_default_session instead.\n",
      "\n",
      "WARNING:tensorflow:From /usr/local/lib/python3.6/dist-packages/keras/backend/tensorflow_backend.py:197: The name tf.ConfigProto is deprecated. Please use tf.compat.v1.ConfigProto instead.\n",
      "\n",
      "WARNING:tensorflow:From /usr/local/lib/python3.6/dist-packages/keras/backend/tensorflow_backend.py:207: The name tf.global_variables is deprecated. Please use tf.compat.v1.global_variables instead.\n",
      "\n",
      "WARNING:tensorflow:From /usr/local/lib/python3.6/dist-packages/keras/backend/tensorflow_backend.py:216: The name tf.is_variable_initialized is deprecated. Please use tf.compat.v1.is_variable_initialized instead.\n",
      "\n",
      "WARNING:tensorflow:From /usr/local/lib/python3.6/dist-packages/keras/backend/tensorflow_backend.py:223: The name tf.variables_initializer is deprecated. Please use tf.compat.v1.variables_initializer instead.\n",
      "\n",
      "50/50 [==============================] - 20s 409ms/step - loss: 0.7355 - val_loss: 0.5532\n",
      "Epoch 2/20\n",
      "50/50 [==============================] - 6s 119ms/step - loss: 0.4992 - val_loss: 0.4621\n",
      "Epoch 3/20\n",
      "50/50 [==============================] - 6s 120ms/step - loss: 0.4491 - val_loss: 0.4348\n",
      "Epoch 4/20\n",
      "50/50 [==============================] - 6s 121ms/step - loss: 0.4275 - val_loss: 0.4199\n",
      "Epoch 5/20\n",
      "50/50 [==============================] - 6s 120ms/step - loss: 0.4154 - val_loss: 0.4104\n",
      "Epoch 6/20\n",
      "50/50 [==============================] - 6s 119ms/step - loss: 0.4059 - val_loss: 0.4031\n",
      "Epoch 7/20\n",
      "50/50 [==============================] - 6s 120ms/step - loss: 0.3989 - val_loss: 0.3971\n",
      "Epoch 8/20\n",
      "50/50 [==============================] - 6s 121ms/step - loss: 0.3936 - val_loss: 0.3920\n",
      "Epoch 9/20\n",
      "50/50 [==============================] - 6s 120ms/step - loss: 0.3870 - val_loss: 0.3875\n",
      "Epoch 10/20\n",
      "50/50 [==============================] - 6s 118ms/step - loss: 0.3832 - val_loss: 0.3841\n",
      "Epoch 11/20\n",
      "50/50 [==============================] - 6s 123ms/step - loss: 0.3838 - val_loss: 0.3810\n",
      "Epoch 12/20\n",
      "50/50 [==============================] - 6s 121ms/step - loss: 0.3785 - val_loss: 0.3772\n",
      "Epoch 13/20\n",
      "50/50 [==============================] - 6s 121ms/step - loss: 0.3744 - val_loss: 0.3742\n",
      "Epoch 14/20\n",
      "50/50 [==============================] - 6s 119ms/step - loss: 0.3714 - val_loss: 0.3720\n"
     ]
    }
   ],
   "source": [
    "batch_size = 128\n",
    "hist = model.fit_generator(\n",
    "    fit_generator(X_tr, X_tr, batch_size),\n",
    "    steps_per_epoch=50,\n",
    "    epochs=20,\n",
    "    validation_data=val_generator(X_te, X_te, batch_size),\n",
    "    validation_steps=(len(X_te) + batch_size - 1) // batch_size,\n",
    "    verbose=1,\n",
    "    callbacks=[keras.callbacks.ReduceLROnPlateau(patience=3),\n",
    "               keras.callbacks.EarlyStopping(min_delta=0.01, patience=3, restore_best_weights=True)]\n",
    ")"
   ]
  },
  {
   "cell_type": "code",
   "execution_count": null,
   "metadata": {
    "Collapsed": "false",
    "colab": {},
    "colab_type": "code",
    "id": "FV4z7P93yDuJ"
   },
   "outputs": [],
   "source": [
    "model.save('ts-autoencoder.h5')"
   ]
  }
 ],
 "metadata": {
  "accelerator": "GPU",
  "colab": {
   "collapsed_sections": [],
   "name": "Time-Series Embeddings.ipynb",
   "provenance": []
  },
  "kernelspec": {
   "display_name": "Python 3",
   "language": "python",
   "name": "python3"
  },
  "language_info": {
   "codemirror_mode": {
    "name": "ipython",
    "version": 3
   },
   "file_extension": ".py",
   "mimetype": "text/x-python",
   "name": "python",
   "nbconvert_exporter": "python",
   "pygments_lexer": "ipython3",
   "version": "3.7.6"
  },
  "widgets": {
   "application/vnd.jupyter.widget-state+json": {
    "state": {},
    "version_major": 2,
    "version_minor": 0
   }
  }
 },
 "nbformat": 4,
 "nbformat_minor": 4
}
